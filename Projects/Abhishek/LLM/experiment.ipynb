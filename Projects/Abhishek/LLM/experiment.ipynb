{
 "cells": [
  {
   "cell_type": "code",
   "execution_count": 4,
   "metadata": {},
   "outputs": [],
   "source": [
    "import boto3\n",
    "import os\n",
    "from transformers import AutoModelForCausalLM, AutoTokenizer\n",
    "from io import BytesIO"
   ]
  },
  {
   "cell_type": "code",
   "execution_count": 7,
   "metadata": {},
   "outputs": [],
   "source": [
    "s3 = boto3.resource('s3')\n",
    "\n",
    "bucket_name = 'factihealth'\n",
    "model_key_prefix = 'data/llm-models/asclepius/Asclepius-R-7B/'\n",
    "local_model_dir = '/tmp/model'"
   ]
  },
  {
   "cell_type": "code",
   "execution_count": 9,
   "metadata": {},
   "outputs": [],
   "source": [
    "required_files = ['config.json', 'pytorch_model-00001-of-00003.bin']\n",
    "\n",
    "if not os.path.exists(local_model_dir):\n",
    "    os.makedirs(local_model_dir)"
   ]
  },
  {
   "cell_type": "code",
   "execution_count": 10,
   "metadata": {},
   "outputs": [
    {
     "ename": "AttributeError",
     "evalue": "'s3.ServiceResource' object has no attribute 'download_fileobj'",
     "output_type": "error",
     "traceback": [
      "\u001b[1;31m---------------------------------------------------------------------------\u001b[0m",
      "\u001b[1;31mAttributeError\u001b[0m                            Traceback (most recent call last)",
      "Cell \u001b[1;32mIn[10], line 7\u001b[0m\n\u001b[0;32m      5\u001b[0m \u001b[38;5;66;03m# Download the file from S3 to a byte buffer\u001b[39;00m\n\u001b[0;32m      6\u001b[0m \u001b[38;5;28;01mwith\u001b[39;00m BytesIO() \u001b[38;5;28;01mas\u001b[39;00m buf:\n\u001b[1;32m----> 7\u001b[0m     \u001b[43ms3\u001b[49m\u001b[38;5;241;43m.\u001b[39;49m\u001b[43mdownload_fileobj\u001b[49m(Bucket\u001b[38;5;241m=\u001b[39mbucket_name, Key\u001b[38;5;241m=\u001b[39ms3_file_key, Fileobj\u001b[38;5;241m=\u001b[39mbuf)\n\u001b[0;32m      8\u001b[0m     buf\u001b[38;5;241m.\u001b[39mseek(\u001b[38;5;241m0\u001b[39m)  \u001b[38;5;66;03m# Move to the start of the byte buffer\u001b[39;00m\n\u001b[0;32m     10\u001b[0m     \u001b[38;5;66;03m# Write the buffer content to a local file (necessary if loading requires file paths)\u001b[39;00m\n",
      "\u001b[1;31mAttributeError\u001b[0m: 's3.ServiceResource' object has no attribute 'download_fileobj'"
     ]
    }
   ],
   "source": [
    "for file_name in required_files:\n",
    "    s3_file_key = f\"{model_key_prefix}/{file_name}\"\n",
    "    local_file_path = os.path.join(local_model_dir, file_name)\n",
    "\n",
    "    # Download the file from S3 to a byte buffer\n",
    "    with BytesIO() as buf:\n",
    "        s3.download_fileobj(Bucket=bucket_name, Key=s3_file_key, Fileobj=buf)\n",
    "        buf.seek(0)  # Move to the start of the byte buffer\n",
    "\n",
    "        # Write the buffer content to a local file (necessary if loading requires file paths)\n",
    "        with open(local_file_path, 'wb') as f_out:\n",
    "            f_out.write(buf.read())"
   ]
  },
  {
   "cell_type": "code",
   "execution_count": null,
   "metadata": {},
   "outputs": [],
   "source": []
  }
 ],
 "metadata": {
  "kernelspec": {
   "display_name": "Python 3",
   "language": "python",
   "name": "python3"
  },
  "language_info": {
   "codemirror_mode": {
    "name": "ipython",
    "version": 3
   },
   "file_extension": ".py",
   "mimetype": "text/x-python",
   "name": "python",
   "nbconvert_exporter": "python",
   "pygments_lexer": "ipython3",
   "version": "3.9.18"
  }
 },
 "nbformat": 4,
 "nbformat_minor": 2
}
