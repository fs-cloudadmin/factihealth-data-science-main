{
 "cells": [
  {
   "cell_type": "code",
   "execution_count": 1,
   "metadata": {},
   "outputs": [
    {
     "name": "stdout",
     "output_type": "stream",
     "text": [
      "sagemaker.config INFO - Not applying SDK defaults from location: /Library/Application Support/sagemaker/config.yaml\n",
      "sagemaker.config INFO - Not applying SDK defaults from location: /Users/abhishek/Library/Application Support/sagemaker/config.yaml\n"
     ]
    }
   ],
   "source": [
    "import sagemaker\n",
    "import boto3\n",
    "from sagemaker.amazon.amazon_estimator import get_image_uri\n",
    "from sagemaker.session import s3_input, Session\n",
    "\n",
    "import pandas as pd\n",
    "import numpy as np\n",
    "import matplotlib.pyplot as plt\n",
    "\n",
    "import warnings\n",
    "warnings.filterwarnings(\"ignore\")"
   ]
  },
  {
   "cell_type": "code",
   "execution_count": 2,
   "metadata": {},
   "outputs": [
    {
     "name": "stdout",
     "output_type": "stream",
     "text": [
      "Collecting scikit-learn\n",
      "  Using cached scikit_learn-1.4.1.post1-cp39-cp39-macosx_10_9_x86_64.whl.metadata (11 kB)\n",
      "Collecting numpy<2.0,>=1.19.5 (from scikit-learn)\n",
      "  Using cached numpy-1.26.4-cp39-cp39-macosx_10_9_x86_64.whl.metadata (61 kB)\n",
      "Collecting scipy>=1.6.0 (from scikit-learn)\n",
      "  Using cached scipy-1.12.0-cp39-cp39-macosx_10_9_x86_64.whl.metadata (60 kB)\n",
      "Collecting joblib>=1.2.0 (from scikit-learn)\n",
      "  Using cached joblib-1.3.2-py3-none-any.whl.metadata (5.4 kB)\n",
      "Collecting threadpoolctl>=2.0.0 (from scikit-learn)\n",
      "  Using cached threadpoolctl-3.3.0-py3-none-any.whl.metadata (13 kB)\n",
      "Using cached scikit_learn-1.4.1.post1-cp39-cp39-macosx_10_9_x86_64.whl (11.6 MB)\n",
      "Using cached joblib-1.3.2-py3-none-any.whl (302 kB)\n",
      "Using cached numpy-1.26.4-cp39-cp39-macosx_10_9_x86_64.whl (20.6 MB)\n",
      "Using cached scipy-1.12.0-cp39-cp39-macosx_10_9_x86_64.whl (38.9 MB)\n",
      "Using cached threadpoolctl-3.3.0-py3-none-any.whl (17 kB)\n",
      "Installing collected packages: threadpoolctl, numpy, joblib, scipy, scikit-learn\n",
      "  Attempting uninstall: threadpoolctl\n",
      "    Found existing installation: threadpoolctl 3.3.0\n",
      "    Uninstalling threadpoolctl-3.3.0:\n",
      "      Successfully uninstalled threadpoolctl-3.3.0\n",
      "  Attempting uninstall: numpy\n",
      "    Found existing installation: numpy 1.26.4\n",
      "    Uninstalling numpy-1.26.4:\n",
      "      Successfully uninstalled numpy-1.26.4\n",
      "  Attempting uninstall: joblib\n",
      "    Found existing installation: joblib 1.3.2\n",
      "    Uninstalling joblib-1.3.2:\n",
      "      Successfully uninstalled joblib-1.3.2\n",
      "  Attempting uninstall: scipy\n",
      "    Found existing installation: scipy 1.12.0\n",
      "    Uninstalling scipy-1.12.0:\n",
      "      Successfully uninstalled scipy-1.12.0\n",
      "  Attempting uninstall: scikit-learn\n",
      "    Found existing installation: scikit-learn 1.4.1.post1\n",
      "    Uninstalling scikit-learn-1.4.1.post1:\n",
      "      Successfully uninstalled scikit-learn-1.4.1.post1\n",
      "\u001b[31mERROR: pip's dependency resolver does not currently take into account all the packages that are installed. This behaviour is the source of the following dependency conflicts.\n",
      "auto-sklearn 0.15.0 requires scikit-learn<0.25.0,>=0.24.0, but you have scikit-learn 1.4.1.post1 which is incompatible.\n",
      "pycaret 3.2.0 requires scikit-learn<1.3.0,>=1.0, but you have scikit-learn 1.4.1.post1 which is incompatible.\n",
      "pycaret 3.2.0 requires scipy~=1.10.1, but you have scipy 1.12.0 which is incompatible.\n",
      "sktime 0.21.1 requires numpy<1.26,>=1.21.0, but you have numpy 1.26.4 which is incompatible.\n",
      "sktime 0.21.1 requires scikit-learn<1.4.0,>=0.24.0, but you have scikit-learn 1.4.1.post1 which is incompatible.\u001b[0m\u001b[31m\n",
      "\u001b[0mSuccessfully installed joblib-1.3.2 numpy-1.26.4 scikit-learn-1.4.1.post1 scipy-1.12.0 threadpoolctl-3.3.0\n"
     ]
    }
   ],
   "source": [
    "!pip install --upgrade --force-reinstall scikit-learn"
   ]
  },
  {
   "cell_type": "code",
   "execution_count": 3,
   "metadata": {},
   "outputs": [],
   "source": [
    "# Imports\n",
    "import pandas as pd\n",
    "import numpy as np\n",
    "import matplotlib.pyplot as plt\n",
    "import seaborn as sns\n",
    "from sklearn.model_selection import train_test_split\n",
    "from sklearn.metrics import r2_score, mean_squared_error\n",
    "from sklearn.preprocessing import MinMaxScaler\n",
    "from sklearn.neighbors import KNeighborsRegressor\n",
    "from sklearn.linear_model import LinearRegression\n",
    "from sklearn.svm import SVR\n",
    "from sklearn.ensemble import RandomForestRegressor\n",
    "from sklearn.tree import DecisionTreeRegressor\n",
    "from scipy.stats import pearsonr\n",
    "from sklearn.ensemble import GradientBoostingRegressor\n",
    "from sklearn.linear_model import SGDRegressor\n",
    "import statsmodels.api as sm\n",
    "from sklearn.model_selection import GridSearchCV\n",
    "import seaborn as sns"
   ]
  },
  {
   "cell_type": "code",
   "execution_count": 4,
   "metadata": {},
   "outputs": [],
   "source": [
    "import redshift_connector"
   ]
  },
  {
   "cell_type": "code",
   "execution_count": 5,
   "metadata": {},
   "outputs": [],
   "source": [
    "redshift_endpoint = 'redshift-cluster-factihealth.cuzgotkwtow6.ap-south-1.redshift.amazonaws.com'\n",
    "redshift_dbname = 'factihealth'\n",
    "redshift_port = 5439\n",
    "redshift_user = 'fh_user'\n",
    "redshift_pass = 'Facti@874'"
   ]
  },
  {
   "cell_type": "code",
   "execution_count": 6,
   "metadata": {},
   "outputs": [],
   "source": [
    "conn = redshift_connector.connect(\n",
    "     host=redshift_endpoint,\n",
    "     database=redshift_dbname,\n",
    "     port=int(redshift_port),\n",
    "     user=redshift_user,\n",
    "     password=redshift_pass\n",
    "  )"
   ]
  },
  {
   "cell_type": "code",
   "execution_count": 7,
   "metadata": {},
   "outputs": [],
   "source": [
    "def read_table(query):\n",
    "   \n",
    "    cursor = conn.cursor()\n",
    "    cursor.execute(query)\n",
    "    rows = cursor.fetchall()\n",
    "    column_names = [desc[0] for desc in cursor.description]\n",
    "    \n",
    "    dataframe = pd.DataFrame(rows, columns=column_names)\n",
    "    \n",
    "    cursor.close()\n",
    "\n",
    "    return dataframe"
   ]
  },
  {
   "cell_type": "code",
   "execution_count": 8,
   "metadata": {},
   "outputs": [],
   "source": [
    "admission_query = \"\"\"\n",
    "SELECT subject_id, hadm_id, admittime, dischtime, deathtime, admission_type, insurance, race\n",
    "FROM mimic.admissions\n",
    "\"\"\"\n",
    "\n",
    "patient_query = \"\"\"\n",
    "SELECT subject_id, gender, anchor_age, dod\n",
    "FROM mimic.patients\n",
    "\"\"\"\n",
    "\n",
    "diagnoses_icd_query = \"\"\"\n",
    "SELECT *\n",
    "FROM mimic.diagnosis_icd\n",
    "\"\"\"\n",
    "\n",
    "icustays_query = \"\"\"\n",
    "SELECT *\n",
    "FROM mimic.icustays\n",
    "\"\"\""
   ]
  },
  {
   "cell_type": "code",
   "execution_count": 9,
   "metadata": {},
   "outputs": [
    {
     "data": {
      "text/html": [
       "<div>\n",
       "<style scoped>\n",
       "    .dataframe tbody tr th:only-of-type {\n",
       "        vertical-align: middle;\n",
       "    }\n",
       "\n",
       "    .dataframe tbody tr th {\n",
       "        vertical-align: top;\n",
       "    }\n",
       "\n",
       "    .dataframe thead th {\n",
       "        text-align: right;\n",
       "    }\n",
       "</style>\n",
       "<table border=\"1\" class=\"dataframe\">\n",
       "  <thead>\n",
       "    <tr style=\"text-align: right;\">\n",
       "      <th></th>\n",
       "      <th>subject_id</th>\n",
       "      <th>hadm_id</th>\n",
       "      <th>admittime</th>\n",
       "      <th>dischtime</th>\n",
       "      <th>deathtime</th>\n",
       "      <th>admission_type</th>\n",
       "      <th>insurance</th>\n",
       "      <th>race</th>\n",
       "    </tr>\n",
       "  </thead>\n",
       "  <tbody>\n",
       "    <tr>\n",
       "      <th>0</th>\n",
       "      <td>12024697</td>\n",
       "      <td>20302177</td>\n",
       "      <td>2109-12-14 22:50:00</td>\n",
       "      <td>2110-01-15 14:53:00</td>\n",
       "      <td>NaT</td>\n",
       "      <td>EW EMER.</td>\n",
       "      <td>Other</td>\n",
       "      <td>WHITE</td>\n",
       "    </tr>\n",
       "    <tr>\n",
       "      <th>1</th>\n",
       "      <td>15350437</td>\n",
       "      <td>20383396</td>\n",
       "      <td>2110-01-11 08:02:00</td>\n",
       "      <td>2110-01-12 18:45:00</td>\n",
       "      <td>NaT</td>\n",
       "      <td>EU OBSERVATION</td>\n",
       "      <td>Other</td>\n",
       "      <td>WHITE</td>\n",
       "    </tr>\n",
       "    <tr>\n",
       "      <th>2</th>\n",
       "      <td>18106347</td>\n",
       "      <td>24305596</td>\n",
       "      <td>2110-01-11 10:14:00</td>\n",
       "      <td>2110-01-15 17:31:00</td>\n",
       "      <td>NaT</td>\n",
       "      <td>EW EMER.</td>\n",
       "      <td>Other</td>\n",
       "      <td>WHITE</td>\n",
       "    </tr>\n",
       "    <tr>\n",
       "      <th>3</th>\n",
       "      <td>17195991</td>\n",
       "      <td>23542772</td>\n",
       "      <td>2110-01-11 22:47:00</td>\n",
       "      <td>2110-01-18 10:25:00</td>\n",
       "      <td>NaT</td>\n",
       "      <td>EW EMER.</td>\n",
       "      <td>Other</td>\n",
       "      <td>UNABLE TO OBTAIN</td>\n",
       "    </tr>\n",
       "    <tr>\n",
       "      <th>4</th>\n",
       "      <td>11274131</td>\n",
       "      <td>28390257</td>\n",
       "      <td>2110-01-12 22:11:00</td>\n",
       "      <td>2110-01-14 15:31:00</td>\n",
       "      <td>NaT</td>\n",
       "      <td>EW EMER.</td>\n",
       "      <td>Other</td>\n",
       "      <td>WHITE</td>\n",
       "    </tr>\n",
       "  </tbody>\n",
       "</table>\n",
       "</div>"
      ],
      "text/plain": [
       "   subject_id   hadm_id           admittime           dischtime deathtime  \\\n",
       "0    12024697  20302177 2109-12-14 22:50:00 2110-01-15 14:53:00       NaT   \n",
       "1    15350437  20383396 2110-01-11 08:02:00 2110-01-12 18:45:00       NaT   \n",
       "2    18106347  24305596 2110-01-11 10:14:00 2110-01-15 17:31:00       NaT   \n",
       "3    17195991  23542772 2110-01-11 22:47:00 2110-01-18 10:25:00       NaT   \n",
       "4    11274131  28390257 2110-01-12 22:11:00 2110-01-14 15:31:00       NaT   \n",
       "\n",
       "   admission_type insurance              race  \n",
       "0        EW EMER.     Other             WHITE  \n",
       "1  EU OBSERVATION     Other             WHITE  \n",
       "2        EW EMER.     Other             WHITE  \n",
       "3        EW EMER.     Other  UNABLE TO OBTAIN  \n",
       "4        EW EMER.     Other             WHITE  "
      ]
     },
     "execution_count": 9,
     "metadata": {},
     "output_type": "execute_result"
    }
   ],
   "source": [
    "admits = read_table(admission_query)\n",
    "\n",
    "# Convert dates to a proper format\n",
    "admits.admittime = pd.to_datetime(admits.admittime)\n",
    "admits.dischtime = pd.to_datetime(admits.dischtime)\n",
    "admits.deathtime = pd.to_datetime(admits.deathtime)\n",
    "\n",
    "admits.head()"
   ]
  },
  {
   "cell_type": "code",
   "execution_count": 10,
   "metadata": {},
   "outputs": [],
   "source": [
    "admits['died_at_the_hospital'] = admits['deathtime'].notnull().map({True:1, False:0})"
   ]
  },
  {
   "cell_type": "code",
   "execution_count": 11,
   "metadata": {},
   "outputs": [],
   "source": [
    "# Compress the number of race categories\n",
    "admits['race'].replace(regex=r'^ASIAN\\D*', value = 'ASIAN', inplace = True)\n",
    "admits['race'].replace(regex=r'^WHITE\\D*', value = 'WHITE', inplace = True)\n",
    "admits['race'].replace(regex=r'^HISPANIC\\D*', value = 'HISPANIC/LATINO', inplace = True)\n",
    "admits['race'].replace(regex=r'^BLACK\\D*', value = 'BLACK/AFRICAN AMERICAN', inplace = True)\n",
    "admits['race'].replace(['UNABLE TO OBTAIN', 'OTHER', 'PATIENT DECLINED TO ANSWER', 'UNKNOWN/NOT SPECIFIED'], value = 'OTHER/UNKNOWN', inplace = True)\n",
    "\n",
    "# take into consideration just top-5 categories with biggest value count, the others will fall into OTHER category\n",
    "admits['race'].loc[~admits['race'].isin(admits['race'].value_counts().nlargest(5).index.tolist())] = 'OTHER/UNKNOWN'"
   ]
  },
  {
   "cell_type": "code",
   "execution_count": 12,
   "metadata": {},
   "outputs": [],
   "source": [
    "# Compress into EMERGENCY\n",
    "admits['admission_type'].replace(to_replace = 'EW EMER.', value = 'EMERGENCY', inplace = True)\n",
    "admits['admission_type'].replace(to_replace = 'DIRECT EMER.', value = 'EMERGENCY', inplace = True)\n",
    "admits['admission_type'].replace(to_replace = 'URGENT', value = 'EMERGENCY', inplace = True)"
   ]
  },
  {
   "cell_type": "code",
   "execution_count": 13,
   "metadata": {},
   "outputs": [],
   "source": [
    "# Compress into EMERGENCY\n",
    "admits['admission_type'].replace(to_replace = 'EU OBSERVATION', value = 'OBSERVATION', inplace = True)\n",
    "admits['admission_type'].replace(to_replace = 'OBSERVATION ADMIT', value = 'OBSERVATION', inplace = True)\n",
    "admits['admission_type'].replace(to_replace = 'DIRECT OBSERVATION', value = 'OBSERVATION', inplace = True)\n",
    "admits['admission_type'].replace(to_replace = 'AMBULATORY OBSERVATION', value = 'OBSERVATION', inplace = True)"
   ]
  },
  {
   "cell_type": "code",
   "execution_count": 14,
   "metadata": {},
   "outputs": [
    {
     "data": {
      "text/html": [
       "<div>\n",
       "<style scoped>\n",
       "    .dataframe tbody tr th:only-of-type {\n",
       "        vertical-align: middle;\n",
       "    }\n",
       "\n",
       "    .dataframe tbody tr th {\n",
       "        vertical-align: top;\n",
       "    }\n",
       "\n",
       "    .dataframe thead th {\n",
       "        text-align: right;\n",
       "    }\n",
       "</style>\n",
       "<table border=\"1\" class=\"dataframe\">\n",
       "  <thead>\n",
       "    <tr style=\"text-align: right;\">\n",
       "      <th></th>\n",
       "      <th>subject_id</th>\n",
       "      <th>gender</th>\n",
       "      <th>anchor_age</th>\n",
       "      <th>dod</th>\n",
       "    </tr>\n",
       "  </thead>\n",
       "  <tbody>\n",
       "    <tr>\n",
       "      <th>0</th>\n",
       "      <td>10000048</td>\n",
       "      <td>F</td>\n",
       "      <td>23</td>\n",
       "      <td>None</td>\n",
       "    </tr>\n",
       "    <tr>\n",
       "      <th>1</th>\n",
       "      <td>10000068</td>\n",
       "      <td>F</td>\n",
       "      <td>19</td>\n",
       "      <td>None</td>\n",
       "    </tr>\n",
       "    <tr>\n",
       "      <th>2</th>\n",
       "      <td>10000108</td>\n",
       "      <td>M</td>\n",
       "      <td>25</td>\n",
       "      <td>None</td>\n",
       "    </tr>\n",
       "    <tr>\n",
       "      <th>3</th>\n",
       "      <td>10000178</td>\n",
       "      <td>F</td>\n",
       "      <td>59</td>\n",
       "      <td>None</td>\n",
       "    </tr>\n",
       "    <tr>\n",
       "      <th>4</th>\n",
       "      <td>10000280</td>\n",
       "      <td>M</td>\n",
       "      <td>20</td>\n",
       "      <td>None</td>\n",
       "    </tr>\n",
       "  </tbody>\n",
       "</table>\n",
       "</div>"
      ],
      "text/plain": [
       "   subject_id gender  anchor_age   dod\n",
       "0    10000048      F          23  None\n",
       "1    10000068      F          19  None\n",
       "2    10000108      M          25  None\n",
       "3    10000178      F          59  None\n",
       "4    10000280      M          20  None"
      ]
     },
     "execution_count": 14,
     "metadata": {},
     "output_type": "execute_result"
    }
   ],
   "source": [
    "patients = read_table(patient_query)\n",
    "\n",
    "patients.head()"
   ]
  },
  {
   "cell_type": "code",
   "execution_count": 15,
   "metadata": {},
   "outputs": [],
   "source": [
    "admits_patients = pd.merge(admits, patients, how = 'inner', on = 'subject_id')"
   ]
  },
  {
   "cell_type": "code",
   "execution_count": 16,
   "metadata": {},
   "outputs": [
    {
     "data": {
      "text/html": [
       "<div>\n",
       "<style scoped>\n",
       "    .dataframe tbody tr th:only-of-type {\n",
       "        vertical-align: middle;\n",
       "    }\n",
       "\n",
       "    .dataframe tbody tr th {\n",
       "        vertical-align: top;\n",
       "    }\n",
       "\n",
       "    .dataframe thead th {\n",
       "        text-align: right;\n",
       "    }\n",
       "</style>\n",
       "<table border=\"1\" class=\"dataframe\">\n",
       "  <thead>\n",
       "    <tr style=\"text-align: right;\">\n",
       "      <th></th>\n",
       "      <th>subject_id</th>\n",
       "      <th>hadm_id</th>\n",
       "      <th>seq_num</th>\n",
       "      <th>icd_code</th>\n",
       "      <th>icd_version</th>\n",
       "    </tr>\n",
       "  </thead>\n",
       "  <tbody>\n",
       "    <tr>\n",
       "      <th>0</th>\n",
       "      <td>10158684</td>\n",
       "      <td>22072764</td>\n",
       "      <td>1</td>\n",
       "      <td>0020</td>\n",
       "      <td>9</td>\n",
       "    </tr>\n",
       "    <tr>\n",
       "      <th>1</th>\n",
       "      <td>10427677</td>\n",
       "      <td>23641430</td>\n",
       "      <td>1</td>\n",
       "      <td>0020</td>\n",
       "      <td>9</td>\n",
       "    </tr>\n",
       "    <tr>\n",
       "      <th>2</th>\n",
       "      <td>11088311</td>\n",
       "      <td>27128981</td>\n",
       "      <td>1</td>\n",
       "      <td>0020</td>\n",
       "      <td>9</td>\n",
       "    </tr>\n",
       "    <tr>\n",
       "      <th>3</th>\n",
       "      <td>12916672</td>\n",
       "      <td>24528914</td>\n",
       "      <td>1</td>\n",
       "      <td>0020</td>\n",
       "      <td>9</td>\n",
       "    </tr>\n",
       "    <tr>\n",
       "      <th>4</th>\n",
       "      <td>10284802</td>\n",
       "      <td>25193580</td>\n",
       "      <td>3</td>\n",
       "      <td>0030</td>\n",
       "      <td>9</td>\n",
       "    </tr>\n",
       "  </tbody>\n",
       "</table>\n",
       "</div>"
      ],
      "text/plain": [
       "   subject_id   hadm_id  seq_num icd_code icd_version\n",
       "0    10158684  22072764        1     0020           9\n",
       "1    10427677  23641430        1     0020           9\n",
       "2    11088311  27128981        1     0020           9\n",
       "3    12916672  24528914        1     0020           9\n",
       "4    10284802  25193580        3     0030           9"
      ]
     },
     "execution_count": 16,
     "metadata": {},
     "output_type": "execute_result"
    }
   ],
   "source": [
    "diag_icds = read_table(diagnoses_icd_query)\n",
    "diag_icds.head()"
   ]
  },
  {
   "cell_type": "code",
   "execution_count": 17,
   "metadata": {},
   "outputs": [
    {
     "data": {
      "text/plain": [
       "array(['9', '10'], dtype=object)"
      ]
     },
     "execution_count": 17,
     "metadata": {},
     "output_type": "execute_result"
    }
   ],
   "source": [
    "diag_icds['icd_version'].unique()"
   ]
  },
  {
   "cell_type": "code",
   "execution_count": 18,
   "metadata": {},
   "outputs": [
    {
     "data": {
      "text/html": [
       "<div>\n",
       "<style scoped>\n",
       "    .dataframe tbody tr th:only-of-type {\n",
       "        vertical-align: middle;\n",
       "    }\n",
       "\n",
       "    .dataframe tbody tr th {\n",
       "        vertical-align: top;\n",
       "    }\n",
       "\n",
       "    .dataframe thead th {\n",
       "        text-align: right;\n",
       "    }\n",
       "</style>\n",
       "<table border=\"1\" class=\"dataframe\">\n",
       "  <thead>\n",
       "    <tr style=\"text-align: right;\">\n",
       "      <th></th>\n",
       "      <th>subject_id</th>\n",
       "      <th>hadm_id</th>\n",
       "      <th>seq_num</th>\n",
       "      <th>icd_code</th>\n",
       "      <th>icd_version</th>\n",
       "    </tr>\n",
       "  </thead>\n",
       "  <tbody>\n",
       "    <tr>\n",
       "      <th>0</th>\n",
       "      <td>10158684</td>\n",
       "      <td>22072764</td>\n",
       "      <td>1</td>\n",
       "      <td>0020</td>\n",
       "      <td>9</td>\n",
       "    </tr>\n",
       "    <tr>\n",
       "      <th>1</th>\n",
       "      <td>10427677</td>\n",
       "      <td>23641430</td>\n",
       "      <td>1</td>\n",
       "      <td>0020</td>\n",
       "      <td>9</td>\n",
       "    </tr>\n",
       "    <tr>\n",
       "      <th>2</th>\n",
       "      <td>11088311</td>\n",
       "      <td>27128981</td>\n",
       "      <td>1</td>\n",
       "      <td>0020</td>\n",
       "      <td>9</td>\n",
       "    </tr>\n",
       "    <tr>\n",
       "      <th>3</th>\n",
       "      <td>12916672</td>\n",
       "      <td>24528914</td>\n",
       "      <td>1</td>\n",
       "      <td>0020</td>\n",
       "      <td>9</td>\n",
       "    </tr>\n",
       "    <tr>\n",
       "      <th>4</th>\n",
       "      <td>10284802</td>\n",
       "      <td>25193580</td>\n",
       "      <td>3</td>\n",
       "      <td>0030</td>\n",
       "      <td>9</td>\n",
       "    </tr>\n",
       "  </tbody>\n",
       "</table>\n",
       "</div>"
      ],
      "text/plain": [
       "   subject_id   hadm_id  seq_num icd_code icd_version\n",
       "0    10158684  22072764        1     0020           9\n",
       "1    10427677  23641430        1     0020           9\n",
       "2    11088311  27128981        1     0020           9\n",
       "3    12916672  24528914        1     0020           9\n",
       "4    10284802  25193580        3     0030           9"
      ]
     },
     "execution_count": 18,
     "metadata": {},
     "output_type": "execute_result"
    }
   ],
   "source": [
    "diag_icds = diag_icds[diag_icds['icd_version'] == '9']\n",
    "diag_icds.head()"
   ]
  },
  {
   "cell_type": "code",
   "execution_count": 19,
   "metadata": {},
   "outputs": [],
   "source": [
    "# Filter out E and V codes from ICD9 codes since processing will be done on the numeric first 3 values\n",
    "diag_icds['recode'] = diag_icds['icd_code']\n",
    "diag_icds['recode'] = diag_icds['recode'][~diag_icds['recode'].str.contains(\"[a-zA-Z]\").fillna(False)]\n",
    "diag_icds['recode'].fillna(value='999', inplace=True)\n",
    "\n",
    "# Take in consideration just the first 3 integers of the ICD9 code\n",
    "diag_icds['recode'] = diag_icds['recode'].str.slice(start=0, stop=3, step=1)\n",
    "diag_icds['recode'] = diag_icds['recode'].astype(int)"
   ]
  },
  {
   "cell_type": "code",
   "execution_count": 20,
   "metadata": {},
   "outputs": [],
   "source": [
    "# ICD-9 Main Category ranges\n",
    "icd9_ranges = [(1, 140), (140, 240), (240, 280), (280, 290), (290, 320), (320,390),\n",
    "               (390, 460), (460, 520), (520, 580), (580, 630), (630, 680),(680, 710),\n",
    "               (710, 740), (740, 760), (760, 780), (780, 800), (800, 1000),(1000, 2000)]\n",
    "\n",
    "# Associated category names\n",
    "diag_dict = {0: 'infectious', 1: 'neoplasms', 2: 'endocrine', 3: 'blood',\n",
    "             4: 'mental', 5: 'nervous', 6: 'circulatory', 7: 'respiratory',\n",
    "             8: 'digestive', 9: 'genitourinary', 10: 'pregnancy', 11: 'skin',\n",
    "             12: 'muscular', 13: 'congenital', 14: 'prenatal', 15: 'misc',\n",
    "             16: 'injury', 17: 'misc'}\n",
    "\n",
    "# Re-code in terms of integer\n",
    "for num, cat_range in enumerate(icd9_ranges):\n",
    "    diag_icds['recode'] = np.where(diag_icds['recode'].between(cat_range[0],cat_range[1]), num, diag_icds['recode'])\n",
    "    \n",
    "# Convert integer to category name using diag_dict\n",
    "diag_icds['super_category'] = diag_icds['recode'].replace(diag_dict)"
   ]
  },
  {
   "cell_type": "code",
   "execution_count": 21,
   "metadata": {},
   "outputs": [],
   "source": [
    "hadm_list = diag_icds.groupby('hadm_id')['super_category'].apply(list).reset_index()"
   ]
  },
  {
   "cell_type": "code",
   "execution_count": 22,
   "metadata": {},
   "outputs": [],
   "source": [
    "hadm_item = pd.get_dummies(hadm_list['super_category'].explode()).groupby(hadm_list['hadm_id']).sum()\n",
    "hadm_item.reset_index(inplace=True)"
   ]
  },
  {
   "cell_type": "code",
   "execution_count": 23,
   "metadata": {},
   "outputs": [
    {
     "data": {
      "text/plain": [
       "(276803, 18)"
      ]
     },
     "execution_count": 23,
     "metadata": {},
     "output_type": "execute_result"
    }
   ],
   "source": [
    "hadm_item.shape"
   ]
  },
  {
   "cell_type": "code",
   "execution_count": 24,
   "metadata": {},
   "outputs": [],
   "source": [
    "admits_patients_diag = pd.merge(admits_patients, hadm_item, how='inner', on='hadm_id')"
   ]
  },
  {
   "cell_type": "code",
   "execution_count": 25,
   "metadata": {},
   "outputs": [],
   "source": [
    "#convert dates\n",
    "admits_patients_diag.admittime = pd.to_datetime(admits_patients_diag.admittime)\n",
    "admits_patients_diag.dischtime = pd.to_datetime(admits_patients_diag.dischtime)\n",
    "admits_patients_diag.deathtime = pd.to_datetime(admits_patients_diag.deathtime)"
   ]
  },
  {
   "cell_type": "code",
   "execution_count": 26,
   "metadata": {},
   "outputs": [],
   "source": [
    "# Create LOS attribute converting timedelta type into float 'days', 86400 seconds in a day\n",
    "admits_patients_diag['los'] = (admits_patients_diag['dischtime'] - admits_patients_diag['admittime']).dt.total_seconds()/86400"
   ]
  },
  {
   "cell_type": "code",
   "execution_count": 27,
   "metadata": {},
   "outputs": [],
   "source": [
    "admits_patients_diag = admits_patients_diag[admits_patients_diag['los'] >= 0]"
   ]
  },
  {
   "cell_type": "code",
   "execution_count": 28,
   "metadata": {},
   "outputs": [
    {
     "data": {
      "text/plain": [
       "(553412, 30)"
      ]
     },
     "execution_count": 28,
     "metadata": {},
     "output_type": "execute_result"
    }
   ],
   "source": [
    "admits_patients_diag.shape"
   ]
  },
  {
   "cell_type": "code",
   "execution_count": 29,
   "metadata": {},
   "outputs": [
    {
     "name": "stdout",
     "output_type": "stream",
     "text": [
      "4.0477820533043944\n",
      "2.540277777777778\n"
     ]
    }
   ],
   "source": [
    "# Hospital LOS metrics for later comparison\n",
    "actual_mean_los = admits_patients_diag['los'].loc[admits_patients_diag['died_at_the_hospital'] == 0].mean()\n",
    "actual_median_los = admits_patients_diag['los'].loc[admits_patients_diag['died_at_the_hospital'] == 0].median()\n",
    "\n",
    "print(actual_mean_los)\n",
    "print(actual_median_los)"
   ]
  },
  {
   "cell_type": "code",
   "execution_count": 30,
   "metadata": {},
   "outputs": [],
   "source": [
    "age_ranges = [(0, 13), (14, 36), (37, 56), (57, 100)]\n",
    "for num, cat_range in enumerate(age_ranges):\n",
    "    admits_patients_diag['anchor_age'] = np.where(admits_patients_diag['anchor_age'].between(cat_range[0],cat_range[1]),num, admits_patients_diag['anchor_age'])\n",
    "\n",
    "age_dict = {0: 'NEWBORN', 1: 'YOUNG_ADULT', 2: 'MIDDLE_ADULT', 3: 'SENIOR'}\n",
    "admits_patients_diag['anchor_age'] = admits_patients_diag['anchor_age'].replace(age_dict)"
   ]
  },
  {
   "cell_type": "code",
   "execution_count": 31,
   "metadata": {},
   "outputs": [
    {
     "data": {
      "text/html": [
       "<div>\n",
       "<style scoped>\n",
       "    .dataframe tbody tr th:only-of-type {\n",
       "        vertical-align: middle;\n",
       "    }\n",
       "\n",
       "    .dataframe tbody tr th {\n",
       "        vertical-align: top;\n",
       "    }\n",
       "\n",
       "    .dataframe thead th {\n",
       "        text-align: right;\n",
       "    }\n",
       "</style>\n",
       "<table border=\"1\" class=\"dataframe\">\n",
       "  <thead>\n",
       "    <tr style=\"text-align: right;\">\n",
       "      <th></th>\n",
       "      <th>subject_id</th>\n",
       "      <th>hadm_id</th>\n",
       "      <th>stay_id</th>\n",
       "      <th>first_careunit</th>\n",
       "      <th>last_careunit</th>\n",
       "      <th>intime</th>\n",
       "      <th>outtime</th>\n",
       "      <th>los</th>\n",
       "    </tr>\n",
       "  </thead>\n",
       "  <tbody>\n",
       "    <tr>\n",
       "      <th>0</th>\n",
       "      <td>18106347</td>\n",
       "      <td>24305596</td>\n",
       "      <td>30588857</td>\n",
       "      <td>Cardiac Vascular Intensive Care Unit (CVICU)</td>\n",
       "      <td>Cardiac Vascular Intensive Care Unit (CVICU)</td>\n",
       "      <td>2110-01-11 10:16:06</td>\n",
       "      <td>2110-01-12 17:17:47</td>\n",
       "      <td>1.292836</td>\n",
       "    </tr>\n",
       "    <tr>\n",
       "      <th>1</th>\n",
       "      <td>17195991</td>\n",
       "      <td>23542772</td>\n",
       "      <td>38319097</td>\n",
       "      <td>Surgical Intensive Care Unit (SICU)</td>\n",
       "      <td>Surgical Intensive Care Unit (SICU)</td>\n",
       "      <td>2110-01-12 00:54:00</td>\n",
       "      <td>2110-01-14 22:07:39</td>\n",
       "      <td>2.884479</td>\n",
       "    </tr>\n",
       "    <tr>\n",
       "      <th>2</th>\n",
       "      <td>18780420</td>\n",
       "      <td>28977824</td>\n",
       "      <td>32140208</td>\n",
       "      <td>Neuro Surgical Intensive Care Unit (Neuro SICU)</td>\n",
       "      <td>Neuro Surgical Intensive Care Unit (Neuro SICU)</td>\n",
       "      <td>2110-01-17 00:28:00</td>\n",
       "      <td>2110-01-18 01:21:22</td>\n",
       "      <td>1.037060</td>\n",
       "    </tr>\n",
       "    <tr>\n",
       "      <th>3</th>\n",
       "      <td>15092543</td>\n",
       "      <td>28768907</td>\n",
       "      <td>38339174</td>\n",
       "      <td>Neuro Intermediate</td>\n",
       "      <td>Neuro Intermediate</td>\n",
       "      <td>2110-01-17 22:49:13</td>\n",
       "      <td>2110-01-18 17:18:51</td>\n",
       "      <td>0.770579</td>\n",
       "    </tr>\n",
       "    <tr>\n",
       "      <th>4</th>\n",
       "      <td>13201095</td>\n",
       "      <td>28453791</td>\n",
       "      <td>39953418</td>\n",
       "      <td>Coronary Care Unit (CCU)</td>\n",
       "      <td>Coronary Care Unit (CCU)</td>\n",
       "      <td>2110-01-18 14:46:27</td>\n",
       "      <td>2110-01-25 12:42:11</td>\n",
       "      <td>6.913704</td>\n",
       "    </tr>\n",
       "  </tbody>\n",
       "</table>\n",
       "</div>"
      ],
      "text/plain": [
       "   subject_id   hadm_id   stay_id  \\\n",
       "0    18106347  24305596  30588857   \n",
       "1    17195991  23542772  38319097   \n",
       "2    18780420  28977824  32140208   \n",
       "3    15092543  28768907  38339174   \n",
       "4    13201095  28453791  39953418   \n",
       "\n",
       "                                    first_careunit  \\\n",
       "0     Cardiac Vascular Intensive Care Unit (CVICU)   \n",
       "1              Surgical Intensive Care Unit (SICU)   \n",
       "2  Neuro Surgical Intensive Care Unit (Neuro SICU)   \n",
       "3                               Neuro Intermediate   \n",
       "4                         Coronary Care Unit (CCU)   \n",
       "\n",
       "                                     last_careunit              intime  \\\n",
       "0     Cardiac Vascular Intensive Care Unit (CVICU) 2110-01-11 10:16:06   \n",
       "1              Surgical Intensive Care Unit (SICU) 2110-01-12 00:54:00   \n",
       "2  Neuro Surgical Intensive Care Unit (Neuro SICU) 2110-01-17 00:28:00   \n",
       "3                               Neuro Intermediate 2110-01-17 22:49:13   \n",
       "4                         Coronary Care Unit (CCU) 2110-01-18 14:46:27   \n",
       "\n",
       "              outtime       los  \n",
       "0 2110-01-12 17:17:47  1.292836  \n",
       "1 2110-01-14 22:07:39  2.884479  \n",
       "2 2110-01-18 01:21:22  1.037060  \n",
       "3 2110-01-18 17:18:51  0.770579  \n",
       "4 2110-01-25 12:42:11  6.913704  "
      ]
     },
     "execution_count": 31,
     "metadata": {},
     "output_type": "execute_result"
    }
   ],
   "source": [
    "icustays = read_table(icustays_query)\n",
    "icustays.head()"
   ]
  },
  {
   "cell_type": "code",
   "execution_count": 32,
   "metadata": {},
   "outputs": [],
   "source": [
    "icustays['first_careunit'].replace({'Cardiac Vascular Intensive Care Unit (CVICU)': 'Other-ICU', 'Coronary Care Unit (CCU)': 'Other-ICU', \n",
    "                                    'Medical Intensive Care Unit (MICU)': 'Other-ICU','Medical/Surgical Intensive Care Unit (MICU/SICU)': 'Other-ICU',\n",
    "                                    'Neuro Stepdown': 'Other-ICU', 'Surgical Intensive Care Unit (SICU)': 'Other-ICU', \n",
    "                                    'Trauma SICU (TSICU)': 'Other-ICU'}, inplace=True)\n",
    "icustays['category'] = icustays['first_careunit']\n",
    "icu_list = icustays.groupby('hadm_id')['category'].apply(list).reset_index()"
   ]
  },
  {
   "cell_type": "code",
   "execution_count": 33,
   "metadata": {},
   "outputs": [],
   "source": [
    "icu_item = pd.get_dummies(icu_list['category'].explode()).groupby(icu_list['hadm_id']).sum()\n",
    "icu_item[icu_item >= 1] = 1\n",
    "icu_item.reset_index(inplace=True)"
   ]
  },
  {
   "cell_type": "code",
   "execution_count": 34,
   "metadata": {},
   "outputs": [],
   "source": [
    "# Merge ICU data with main dataFrame\n",
    "final_df = admits_patients_diag.merge(icu_item, how='outer', on='hadm_id')"
   ]
  },
  {
   "cell_type": "code",
   "execution_count": 35,
   "metadata": {},
   "outputs": [],
   "source": [
    "# Replace NaNs with 0\n",
    "final_df['Neuro Intermediate'].fillna(value=0, inplace=True)\n",
    "final_df['Neuro Surgical Intensive Care Unit (Neuro SICU)'].fillna(value=0, inplace=True)\n",
    "final_df['Other-ICU'].fillna(value=0, inplace=True)"
   ]
  },
  {
   "cell_type": "code",
   "execution_count": 36,
   "metadata": {},
   "outputs": [],
   "source": [
    "# Remove deceased persons as they will skew LOS result\n",
    "final_df = final_df[final_df['died_at_the_hospital'] == 0.0]"
   ]
  },
  {
   "cell_type": "code",
   "execution_count": 42,
   "metadata": {},
   "outputs": [
    {
     "data": {
      "text/plain": [
       "(543078, 33)"
      ]
     },
     "execution_count": 42,
     "metadata": {},
     "output_type": "execute_result"
    }
   ],
   "source": [
    "final_df.shape"
   ]
  },
  {
   "cell_type": "code",
   "execution_count": 44,
   "metadata": {},
   "outputs": [
    {
     "name": "stdout",
     "output_type": "stream",
     "text": [
      "(543078, 33)\n"
     ]
    }
   ],
   "source": [
    "final_df['hadm_id'].drop_duplicates(keep='first',inplace=True)\n",
    "print(final_df.shape)"
   ]
  },
  {
   "cell_type": "code",
   "execution_count": 47,
   "metadata": {},
   "outputs": [
    {
     "data": {
      "text/html": [
       "<div>\n",
       "<style scoped>\n",
       "    .dataframe tbody tr th:only-of-type {\n",
       "        vertical-align: middle;\n",
       "    }\n",
       "\n",
       "    .dataframe tbody tr th {\n",
       "        vertical-align: top;\n",
       "    }\n",
       "\n",
       "    .dataframe thead th {\n",
       "        text-align: right;\n",
       "    }\n",
       "</style>\n",
       "<table border=\"1\" class=\"dataframe\">\n",
       "  <thead>\n",
       "    <tr style=\"text-align: right;\">\n",
       "      <th></th>\n",
       "      <th>subject_id</th>\n",
       "      <th>hadm_id</th>\n",
       "      <th>admittime</th>\n",
       "      <th>dischtime</th>\n",
       "      <th>deathtime</th>\n",
       "      <th>admission_type</th>\n",
       "      <th>insurance</th>\n",
       "      <th>race</th>\n",
       "      <th>died_at_the_hospital</th>\n",
       "      <th>gender</th>\n",
       "      <th>...</th>\n",
       "      <th>neoplasms</th>\n",
       "      <th>nervous</th>\n",
       "      <th>pregnancy</th>\n",
       "      <th>prenatal</th>\n",
       "      <th>respiratory</th>\n",
       "      <th>skin</th>\n",
       "      <th>los</th>\n",
       "      <th>Neuro Intermediate</th>\n",
       "      <th>Neuro Surgical Intensive Care Unit (Neuro SICU)</th>\n",
       "      <th>Other-ICU</th>\n",
       "    </tr>\n",
       "  </thead>\n",
       "  <tbody>\n",
       "    <tr>\n",
       "      <th>312544</th>\n",
       "      <td>10467237.0</td>\n",
       "      <td>20000019</td>\n",
       "      <td>2159-03-20 21:08:00</td>\n",
       "      <td>2159-03-23 16:54:00</td>\n",
       "      <td>NaT</td>\n",
       "      <td>EMERGENCY</td>\n",
       "      <td>Other</td>\n",
       "      <td>HISPANIC/LATINO</td>\n",
       "      <td>0.0</td>\n",
       "      <td>F</td>\n",
       "      <td>...</td>\n",
       "      <td>0.0</td>\n",
       "      <td>0.0</td>\n",
       "      <td>0.0</td>\n",
       "      <td>0.0</td>\n",
       "      <td>1.0</td>\n",
       "      <td>0.0</td>\n",
       "      <td>2.823611</td>\n",
       "      <td>0.0</td>\n",
       "      <td>0.0</td>\n",
       "      <td>0.0</td>\n",
       "    </tr>\n",
       "    <tr>\n",
       "      <th>312545</th>\n",
       "      <td>10467237.0</td>\n",
       "      <td>20000019</td>\n",
       "      <td>2159-03-20 21:08:00</td>\n",
       "      <td>2159-03-23 16:54:00</td>\n",
       "      <td>NaT</td>\n",
       "      <td>EMERGENCY</td>\n",
       "      <td>Other</td>\n",
       "      <td>HISPANIC/LATINO</td>\n",
       "      <td>0.0</td>\n",
       "      <td>F</td>\n",
       "      <td>...</td>\n",
       "      <td>0.0</td>\n",
       "      <td>0.0</td>\n",
       "      <td>0.0</td>\n",
       "      <td>0.0</td>\n",
       "      <td>1.0</td>\n",
       "      <td>0.0</td>\n",
       "      <td>2.823611</td>\n",
       "      <td>0.0</td>\n",
       "      <td>0.0</td>\n",
       "      <td>0.0</td>\n",
       "    </tr>\n",
       "  </tbody>\n",
       "</table>\n",
       "<p>2 rows × 33 columns</p>\n",
       "</div>"
      ],
      "text/plain": [
       "        subject_id   hadm_id           admittime           dischtime  \\\n",
       "312544  10467237.0  20000019 2159-03-20 21:08:00 2159-03-23 16:54:00   \n",
       "312545  10467237.0  20000019 2159-03-20 21:08:00 2159-03-23 16:54:00   \n",
       "\n",
       "       deathtime admission_type insurance             race  \\\n",
       "312544       NaT      EMERGENCY     Other  HISPANIC/LATINO   \n",
       "312545       NaT      EMERGENCY     Other  HISPANIC/LATINO   \n",
       "\n",
       "        died_at_the_hospital gender  ... neoplasms nervous  pregnancy  \\\n",
       "312544                   0.0      F  ...       0.0     0.0        0.0   \n",
       "312545                   0.0      F  ...       0.0     0.0        0.0   \n",
       "\n",
       "        prenatal  respiratory  skin       los  Neuro Intermediate  \\\n",
       "312544       0.0          1.0   0.0  2.823611                 0.0   \n",
       "312545       0.0          1.0   0.0  2.823611                 0.0   \n",
       "\n",
       "        Neuro Surgical Intensive Care Unit (Neuro SICU)  Other-ICU  \n",
       "312544                                              0.0        0.0  \n",
       "312545                                              0.0        0.0  \n",
       "\n",
       "[2 rows x 33 columns]"
      ]
     },
     "execution_count": 47,
     "metadata": {},
     "output_type": "execute_result"
    }
   ],
   "source": [
    "final_df[final_df['hadm_id']==20000019]"
   ]
  },
  {
   "cell_type": "code",
   "execution_count": 37,
   "metadata": {},
   "outputs": [],
   "source": [
    "model_df = final_df.drop(columns=['subject_id', 'hadm_id', 'admittime', 'dischtime', 'deathtime', 'died_at_the_hospital', 'dod'])"
   ]
  },
  {
   "cell_type": "code",
   "execution_count": null,
   "metadata": {},
   "outputs": [],
   "source": []
  },
  {
   "cell_type": "code",
   "execution_count": 38,
   "metadata": {},
   "outputs": [],
   "source": [
    "# Convert gender into numeric boolean attribute\n",
    "model_df['gender'].replace({'M': 0, 'F':1}, inplace=True)"
   ]
  },
  {
   "cell_type": "code",
   "execution_count": 39,
   "metadata": {},
   "outputs": [],
   "source": [
    "# Create dummy columns for categorical variables\n",
    "prefix_cols = ['ADM', 'INS', 'RAC', 'AGE']\n",
    "dummy_cols = ['admission_type', 'insurance','race', 'anchor_age']\n",
    "model_df = pd.get_dummies(model_df, prefix=prefix_cols, columns=dummy_cols)"
   ]
  },
  {
   "cell_type": "code",
   "execution_count": 40,
   "metadata": {},
   "outputs": [],
   "source": [
    "# Target Variable (Length-of-Stay)\n",
    "LOS = model_df['los'].values\n",
    "# Prediction Features\n",
    "features = model_df.drop(columns=['los'])"
   ]
  },
  {
   "cell_type": "code",
   "execution_count": 41,
   "metadata": {},
   "outputs": [
    {
     "name": "stdout",
     "output_type": "stream",
     "text": [
      "Training set has 434462 samples.\n",
      "Testing set has 108616 samples.\n"
     ]
    }
   ],
   "source": [
    "# Split into train 80% and test 20%\n",
    "X_train, X_test, y_train, y_test = train_test_split(features, \n",
    "                                                    LOS, \n",
    "                                                    test_size = .20, \n",
    "                                                    random_state = 0)\n",
    "\n",
    "# Show the results of the split\n",
    "print(\"Training set has {} samples.\".format(X_train.shape[0]))\n",
    "print(\"Testing set has {} samples.\".format(X_test.shape[0]))"
   ]
  },
  {
   "cell_type": "code",
   "execution_count": null,
   "metadata": {},
   "outputs": [],
   "source": []
  }
 ],
 "metadata": {
  "kernelspec": {
   "display_name": "factihealth_env",
   "language": "python",
   "name": "python3"
  },
  "language_info": {
   "codemirror_mode": {
    "name": "ipython",
    "version": 3
   },
   "file_extension": ".py",
   "mimetype": "text/x-python",
   "name": "python",
   "nbconvert_exporter": "python",
   "pygments_lexer": "ipython3",
   "version": "3.9.18"
  }
 },
 "nbformat": 4,
 "nbformat_minor": 2
}
