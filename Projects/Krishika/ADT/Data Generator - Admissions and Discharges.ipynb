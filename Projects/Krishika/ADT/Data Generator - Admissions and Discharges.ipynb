{
 "cells": [
  {
   "cell_type": "markdown",
   "id": "2562dff1",
   "metadata": {},
   "source": [
    "## <Center> Data Generation for Admissions and Discharges</center>"
   ]
  },
  {
   "cell_type": "markdown",
   "id": "f04955c4",
   "metadata": {},
   "source": [
    "## Importing librabries"
   ]
  },
  {
   "cell_type": "code",
   "execution_count": 1,
   "id": "a5463cfa-20f2-4290-ac86-0b80907856c2",
   "metadata": {},
   "outputs": [],
   "source": [
    "import numpy as np\n",
    "import pandas as pd\n",
    "import random\n",
    "from datetime import datetime, timedelta\n",
    "import matplotlib.pyplot as plt"
   ]
  },
  {
   "cell_type": "markdown",
   "id": "4d9fd970",
   "metadata": {},
   "source": [
    "## Adding Scaling Factor"
   ]
  },
  {
   "cell_type": "code",
   "execution_count": 2,
   "id": "74468bc1",
   "metadata": {},
   "outputs": [
    {
     "name": "stdout",
     "output_type": "stream",
     "text": [
      "Scaling factor to achieve 22483 data points: 39.23734729493892\n"
     ]
    }
   ],
   "source": [
    "# List of values specifying the number of IDs to generate for each month\n",
    "original_num_ids_list = [55,41,50,44,45,55,41,40,47,53,50,52]\n",
    "\n",
    "# Calculate the total number of IDs generated in a year\n",
    "total_ids_in_year = sum(original_num_ids_list)\n",
    "\n",
    "# Desired total count of data\n",
    "desired_total_count = 22483\n",
    "\n",
    "# Calculate the scaling factor\n",
    "scaling_factor = desired_total_count / total_ids_in_year\n",
    "\n",
    "print(f\"Scaling factor to achieve {desired_total_count} data points: {scaling_factor}\")"
   ]
  },
  {
   "cell_type": "markdown",
   "id": "34deffb4",
   "metadata": {},
   "source": [
    "## Generating Data for:\n",
    " - Admission Date  \n",
    " - Discharge Date  \n",
    " - Patient ID  \n",
    " - Mode Of Arrival  \n",
    " - Disposition"
   ]
  },
  {
   "cell_type": "markdown",
   "id": "e8448e66",
   "metadata": {},
   "source": [
    "#### Initializing variables"
   ]
  },
  {
   "cell_type": "code",
   "execution_count": 3,
   "id": "2b4431ea",
   "metadata": {},
   "outputs": [
    {
     "name": "stdout",
     "output_type": "stream",
     "text": [
      "scaling_factor: 39.23734729493892\n"
     ]
    }
   ],
   "source": [
    "# Set a seed for reproducibility (optional)\n",
    "random.seed(2020)\n",
    "\n",
    "# List of values specifying the number of IDs to generate for each month\n",
    "original_num_ids_list = [55, 41, 50, 44, 45, 55, 41, 40, 47, 53, 50, 52]\n",
    "\n",
    "# Desired total count of data\n",
    "desired_total_count = 22483\n",
    "\n",
    "# Calculate the scaling factor\n",
    "scaling_factor = desired_total_count / total_ids_in_year\n",
    "print('scaling_factor:',scaling_factor)\n",
    "\n",
    "# Calculate the scaled number of IDs for each month\n",
    "num_ids_list = [int(original_num_ids * scaling_factor) for original_num_ids in original_num_ids_list]\n",
    "\n",
    "# Define the start and end years, including a leap year\n",
    "start_year = 2015\n",
    "end_year = 2020\n",
    "\n",
    "# Define the mode_of_arrival options\n",
    "mode_of_arrival_options = ['Ambulance', 'Own Vehicle', 'Walk In', 'Other']\n",
    "\n",
    "# Define the disposition options\n",
    "disposition_options = ['HOME', 'ADMITTED', 'ELOPED', 'TRANSFER', 'LEFT WITHOUT BEING SEEN', 'OTHER', 'LEFT AGAINST MEDICAL ADVICE', 'EXPIRED']\n"
   ]
  },
  {
   "cell_type": "code",
   "execution_count": 4,
   "id": "ccf7a02d",
   "metadata": {
    "scrolled": true
   },
   "outputs": [
    {
     "name": "stdout",
     "output_type": "stream",
     "text": [
      "2015 22477\n",
      "2016 44954\n",
      "2017 67431\n",
      "2018 89908\n",
      "2019 112385\n",
      "2020 134862\n",
      "DataFrame and CSV file saved successfully.\n"
     ]
    },
    {
     "data": {
      "text/html": [
       "<div>\n",
       "<style scoped>\n",
       "    .dataframe tbody tr th:only-of-type {\n",
       "        vertical-align: middle;\n",
       "    }\n",
       "\n",
       "    .dataframe tbody tr th {\n",
       "        vertical-align: top;\n",
       "    }\n",
       "\n",
       "    .dataframe thead th {\n",
       "        text-align: right;\n",
       "    }\n",
       "</style>\n",
       "<table border=\"1\" class=\"dataframe\">\n",
       "  <thead>\n",
       "    <tr style=\"text-align: right;\">\n",
       "      <th></th>\n",
       "      <th>Admission Date</th>\n",
       "      <th>Discharge Date</th>\n",
       "      <th>Patient ID</th>\n",
       "      <th>Mode of Arrival</th>\n",
       "      <th>Disposition</th>\n",
       "    </tr>\n",
       "  </thead>\n",
       "  <tbody>\n",
       "    <tr>\n",
       "      <th>0</th>\n",
       "      <td>2015-01-20</td>\n",
       "      <td>2015-02-09</td>\n",
       "      <td>24424196</td>\n",
       "      <td>Other</td>\n",
       "      <td>EXPIRED</td>\n",
       "    </tr>\n",
       "    <tr>\n",
       "      <th>1</th>\n",
       "      <td>2015-01-16</td>\n",
       "      <td>2015-01-28</td>\n",
       "      <td>57279250</td>\n",
       "      <td>Own Vehicle</td>\n",
       "      <td>ADMITTED</td>\n",
       "    </tr>\n",
       "    <tr>\n",
       "      <th>2</th>\n",
       "      <td>2015-01-15</td>\n",
       "      <td>2015-02-10</td>\n",
       "      <td>33220210</td>\n",
       "      <td>Own Vehicle</td>\n",
       "      <td>LEFT AGAINST MEDICAL ADVICE</td>\n",
       "    </tr>\n",
       "    <tr>\n",
       "      <th>3</th>\n",
       "      <td>2015-01-22</td>\n",
       "      <td>2015-01-29</td>\n",
       "      <td>82137812</td>\n",
       "      <td>Own Vehicle</td>\n",
       "      <td>EXPIRED</td>\n",
       "    </tr>\n",
       "    <tr>\n",
       "      <th>4</th>\n",
       "      <td>2015-01-15</td>\n",
       "      <td>2015-01-19</td>\n",
       "      <td>95712788</td>\n",
       "      <td>Own Vehicle</td>\n",
       "      <td>EXPIRED</td>\n",
       "    </tr>\n",
       "  </tbody>\n",
       "</table>\n",
       "</div>"
      ],
      "text/plain": [
       "  Admission Date Discharge Date  Patient ID Mode of Arrival  \\\n",
       "0     2015-01-20     2015-02-09    24424196           Other   \n",
       "1     2015-01-16     2015-01-28    57279250     Own Vehicle   \n",
       "2     2015-01-15     2015-02-10    33220210     Own Vehicle   \n",
       "3     2015-01-22     2015-01-29    82137812     Own Vehicle   \n",
       "4     2015-01-15     2015-01-19    95712788     Own Vehicle   \n",
       "\n",
       "                   Disposition  \n",
       "0                      EXPIRED  \n",
       "1                     ADMITTED  \n",
       "2  LEFT AGAINST MEDICAL ADVICE  \n",
       "3                      EXPIRED  \n",
       "4                      EXPIRED  "
      ]
     },
     "execution_count": 4,
     "metadata": {},
     "output_type": "execute_result"
    }
   ],
   "source": [
    "\n",
    "# Create an empty list to store data\n",
    "data = []\n",
    "\n",
    "# Loop through each year\n",
    "for year in range(start_year, end_year + 1):\n",
    "    # Determine if the current year is a leap year\n",
    "    is_leap_year = (year % 4 == 0 and year % 100 != 0) or (year % 400 == 0)\n",
    "\n",
    "    # Loop through each month\n",
    "    for month, num_ids in enumerate(num_ids_list, start=1):\n",
    "        # Determine the number of days in the current month\n",
    "        if month == 2 and is_leap_year:\n",
    "            last_day = 29  # February in a leap year\n",
    "        else:\n",
    "            last_day = 28  # Initialize with a safe value\n",
    "            try:\n",
    "                last_day = (datetime(year, month + 1, 1) - timedelta(days=1)).day\n",
    "            except ValueError:\n",
    "                pass\n",
    "\n",
    "        # Generate random IDs, start dates, end dates, mode_of_arrival, and disposition for the current month\n",
    "        for _ in range(num_ids):\n",
    "            day = random.randint(1, last_day)  # Generate a random day within the month\n",
    "            start_date = datetime(year, month, day)\n",
    "            end_date = start_date + timedelta(days=random.randint(1, 30))  # Generate a random end date within 30 days\n",
    "            id_value = random.randint(1000000, 99999999) ## Generate 8 digits Patient ID's \n",
    "            arrival_mode = random.choice(mode_of_arrival_options)\n",
    "            disposition = random.choice(disposition_options)\n",
    "            data.append([start_date, end_date, id_value, arrival_mode, disposition])\n",
    "    print(year,len(data))\n",
    "\n",
    "# Create a Pandas DataFrame from the data\n",
    "master_data = pd.DataFrame(data, columns=[\"Admission Date\", \"Discharge Date\", \"Patient ID\", \"Mode of Arrival\", \"Disposition\"])\n",
    "\n",
    "# Save the DataFrame to a CSV file\n",
    "master_data.to_csv(\"data_2015_to_2020_scaling_with_end_date_mode_of_arrival_disposition.csv\", index=False)\n",
    "\n",
    "print(\"DataFrame and CSV file saved successfully.\")\n",
    "\n",
    "# Print the first few rows of the DataFrame\n",
    "master_data.head()"
   ]
  },
  {
   "cell_type": "markdown",
   "id": "1b75dec6",
   "metadata": {},
   "source": [
    "### EDA on the dataset "
   ]
  },
  {
   "cell_type": "markdown",
   "id": "219ffdd9",
   "metadata": {},
   "source": [
    "##### Total count of Patient ID's"
   ]
  },
  {
   "cell_type": "code",
   "execution_count": 5,
   "id": "c252a86a",
   "metadata": {},
   "outputs": [
    {
     "name": "stdout",
     "output_type": "stream",
     "text": [
      "Total number of IDs: 134862\n",
      "Unique count of IDs: 134765\n"
     ]
    }
   ],
   "source": [
    "# Calculate the total count of IDs in the dataset\n",
    "total_id_count = master_data[\"Patient ID\"].count()\n",
    "\n",
    "# Group the data by \"ID\" and get the count of unique IDs\n",
    "unique_id_count = master_data.groupby(\"Patient ID\")[\"Patient ID\"].count().count()\n",
    "\n",
    "print(f\"Total number of IDs: {total_id_count}\")\n",
    "print(f\"Unique count of IDs: {unique_id_count}\")"
   ]
  },
  {
   "cell_type": "markdown",
   "id": "041ffdac",
   "metadata": {
    "tags": []
   },
   "source": [
    "#### Count of ID's at Year-Month level "
   ]
  },
  {
   "cell_type": "code",
   "execution_count": 6,
   "id": "6fe59221",
   "metadata": {},
   "outputs": [
    {
     "data": {
      "text/html": [
       "<div>\n",
       "<style scoped>\n",
       "    .dataframe tbody tr th:only-of-type {\n",
       "        vertical-align: middle;\n",
       "    }\n",
       "\n",
       "    .dataframe tbody tr th {\n",
       "        vertical-align: top;\n",
       "    }\n",
       "\n",
       "    .dataframe thead th {\n",
       "        text-align: right;\n",
       "    }\n",
       "</style>\n",
       "<table border=\"1\" class=\"dataframe\">\n",
       "  <thead>\n",
       "    <tr style=\"text-align: right;\">\n",
       "      <th></th>\n",
       "      <th>Admission Date Year Month</th>\n",
       "      <th>Patient ID Count</th>\n",
       "    </tr>\n",
       "  </thead>\n",
       "  <tbody>\n",
       "    <tr>\n",
       "      <th>0</th>\n",
       "      <td>2015-01</td>\n",
       "      <td>2158</td>\n",
       "    </tr>\n",
       "    <tr>\n",
       "      <th>1</th>\n",
       "      <td>2015-02</td>\n",
       "      <td>1608</td>\n",
       "    </tr>\n",
       "    <tr>\n",
       "      <th>2</th>\n",
       "      <td>2015-03</td>\n",
       "      <td>1961</td>\n",
       "    </tr>\n",
       "    <tr>\n",
       "      <th>3</th>\n",
       "      <td>2015-04</td>\n",
       "      <td>1726</td>\n",
       "    </tr>\n",
       "    <tr>\n",
       "      <th>4</th>\n",
       "      <td>2015-05</td>\n",
       "      <td>1765</td>\n",
       "    </tr>\n",
       "  </tbody>\n",
       "</table>\n",
       "</div>"
      ],
      "text/plain": [
       "  Admission Date Year Month  Patient ID Count\n",
       "0                   2015-01              2158\n",
       "1                   2015-02              1608\n",
       "2                   2015-03              1961\n",
       "3                   2015-04              1726\n",
       "4                   2015-05              1765"
      ]
     },
     "execution_count": 6,
     "metadata": {},
     "output_type": "execute_result"
    }
   ],
   "source": [
    "# Convert \"Start Date\" column to datetime\n",
    "master_data['Admission Date'] = pd.to_datetime(master_data['Admission Date'])\n",
    "\n",
    "# Extract the month from the \"Start Date\" and create a new column \"Start Month\"\n",
    "master_data['Admission Date Year Month'] = master_data['Admission Date'].dt.strftime('%Y-%m')\n",
    "\n",
    "# Group the data by \"Start Month\" and get the average count of IDs for each unique start month\n",
    "start_month_count_ids = master_data.groupby(\"Admission Date Year Month\")[\"Patient ID\"].count().reset_index()\n",
    "\n",
    "# Rename the columns for clarity\n",
    "start_month_count_ids.columns = [\"Admission Date Year Month\", \"Patient ID Count\"]\n",
    "\n",
    "# Print the resulting DataFrame\n",
    "start_month_count_ids.head()"
   ]
  },
  {
   "cell_type": "markdown",
   "id": "9df56ed5",
   "metadata": {},
   "source": [
    "#### Count of ID's at day level"
   ]
  },
  {
   "cell_type": "code",
   "execution_count": 7,
   "id": "7f8ca8fd",
   "metadata": {},
   "outputs": [
    {
     "data": {
      "text/html": [
       "<div>\n",
       "<style scoped>\n",
       "    .dataframe tbody tr th:only-of-type {\n",
       "        vertical-align: middle;\n",
       "    }\n",
       "\n",
       "    .dataframe tbody tr th {\n",
       "        vertical-align: top;\n",
       "    }\n",
       "\n",
       "    .dataframe thead th {\n",
       "        text-align: right;\n",
       "    }\n",
       "</style>\n",
       "<table border=\"1\" class=\"dataframe\">\n",
       "  <thead>\n",
       "    <tr style=\"text-align: right;\">\n",
       "      <th></th>\n",
       "      <th>Admission Date</th>\n",
       "      <th>Patient ID Count</th>\n",
       "    </tr>\n",
       "  </thead>\n",
       "  <tbody>\n",
       "    <tr>\n",
       "      <th>0</th>\n",
       "      <td>2015-01-01</td>\n",
       "      <td>61</td>\n",
       "    </tr>\n",
       "    <tr>\n",
       "      <th>1</th>\n",
       "      <td>2015-01-02</td>\n",
       "      <td>75</td>\n",
       "    </tr>\n",
       "    <tr>\n",
       "      <th>2</th>\n",
       "      <td>2015-01-03</td>\n",
       "      <td>81</td>\n",
       "    </tr>\n",
       "    <tr>\n",
       "      <th>3</th>\n",
       "      <td>2015-01-04</td>\n",
       "      <td>65</td>\n",
       "    </tr>\n",
       "    <tr>\n",
       "      <th>4</th>\n",
       "      <td>2015-01-05</td>\n",
       "      <td>71</td>\n",
       "    </tr>\n",
       "  </tbody>\n",
       "</table>\n",
       "</div>"
      ],
      "text/plain": [
       "  Admission Date  Patient ID Count\n",
       "0     2015-01-01                61\n",
       "1     2015-01-02                75\n",
       "2     2015-01-03                81\n",
       "3     2015-01-04                65\n",
       "4     2015-01-05                71"
      ]
     },
     "execution_count": 7,
     "metadata": {},
     "output_type": "execute_result"
    }
   ],
   "source": [
    "start_date_counts = master_data.groupby(\"Admission Date\")[\"Patient ID\"].count().reset_index()\n",
    "\n",
    "# Rename the columns for clarity\n",
    "start_date_counts.columns = [\"Admission Date\", \"Patient ID Count\"]\n",
    "\n",
    "# Print the resulting DataFrame\n",
    "start_date_counts.head()"
   ]
  },
  {
   "cell_type": "markdown",
   "id": "8985f527",
   "metadata": {},
   "source": [
    "### Graph to see Trend in data"
   ]
  },
  {
   "cell_type": "code",
   "execution_count": 8,
   "id": "80be7e68",
   "metadata": {},
   "outputs": [
    {
     "data": {
      "image/png": "[encoded data removed]",
      "text/plain": [
       "<Figure size 1000x500 with 1 Axes>"
      ]
     },
     "metadata": {},
     "output_type": "display_data"
    }
   ],
   "source": [
    "x= start_date_counts[\"Admission Date\"]\n",
    "y= start_date_counts[\"Patient ID Count\"]\n",
    "\n",
    "plt.figure(figsize=(10, 5))\n",
    "# Create a line graph\n",
    "plt.plot(x, y)\n",
    "\n",
    "\n",
    "# Add labels and a title\n",
    "plt.xlabel('Admission Date')\n",
    "plt.ylabel('Patient ID Count')\n",
    "plt.title('Line Graph')\n",
    "\n",
    "# Display the graph\n",
    "plt.show()"
   ]
  }
 ],
 "metadata": {
  "kernelspec": {
   "display_name": "Python 3 (ipykernel)",
   "language": "python",
   "name": "python3"
  },
  "language_info": {
   "codemirror_mode": {
    "name": "ipython",
    "version": 3
   },
   "file_extension": ".py",
   "mimetype": "text/x-python",
   "name": "python",
   "nbconvert_exporter": "python",
   "pygments_lexer": "ipython3",
   "version": "3.10.9"
  }
 },
 "nbformat": 4,
 "nbformat_minor": 5
}
