{
 "cells": [
  {
   "cell_type": "code",
   "execution_count": 2,
   "id": "9f8d6a01",
   "metadata": {},
   "outputs": [],
   "source": [
    "domain = 'http://localhost:8501'"
   ]
  },
  {
   "cell_type": "code",
   "execution_count": 11,
   "id": "432c4516",
   "metadata": {},
   "outputs": [
    {
     "data": {
      "text/plain": [
       "{'name': 'Length of Stay Prediction',\n",
       " 'description': 'Estimates the duration a patient is likely to spend in the hospital based on medical and demographic factors.',\n",
       " 'link': 'http://localhost:8501/Length_of_Stay'}"
      ]
     },
     "execution_count": 11,
     "metadata": {},
     "output_type": "execute_result"
    }
   ],
   "source": [
    "models = [\n",
    "    {\n",
    "        \"name\": \"Length of Stay Prediction\",\n",
    "        \"description\": \"Estimates the duration a patient is likely to spend in the hospital based on medical and demographic factors.\",\n",
    "        \"link\": \"{}/Length_of_Stay\".format(domain),\n",
    "    },\n",
    "    {\n",
    "        \"name\": \"Profitability Prediction\",\n",
    "        \"description\": \"Predicts the profitability of a patient based on medical and demographic factors.\",\n",
    "        \"link\": \"{}/Profitability_Prediction\".format(domain),\n",
    "    },\n",
    "    {\n",
    "        \"name\": \"Sepsis Alert System\",\n",
    "        \"description\": \"Predicts the likelihood of a patient developing sepsis based on medical and demographic factors.\",\n",
    "        \"link\": \"{}/Sepsis_Alert_System\".format(domain),\n",
    "    },\n",
    "    {\n",
    "        \"name\": \"Ventilator Duration Prediction\",\n",
    "        \"description\": \"Predicts the duration a patient is likely to be on a ventilator based on medical and demographic factors.\",\n",
    "        \"link\": \"{}/Ventilator_Duration_Prediction\".format(domain),\n",
    "    },\n",
    "    {\n",
    "        \"name\": \"ADT Prediction\",\n",
    "        \"description\": \"Predicts the likelihood of a patient being admitted, discharged, or transferred based on medical and demographic factors.\",\n",
    "        \"link\": \"{}/ADT_Prediction\".format(domain),\n",
    "    },\n",
    "    {\n",
    "        \"name\": \"Surgery Volume Prediction\",\n",
    "        \"description\": \"Predicts the demand for a particular surgery based on medical and demographic factors.\",\n",
    "        \"link\": \"{}/Surgery_Volume_Demand\".format(domain),\n",
    "    },\n",
    "    {\n",
    "        \"name\": \"Surgery TAT Prediction\",\n",
    "        \"description\": \"Predicts the turnaround time for a particular surgery based on medical and demographic factors.\",\n",
    "        \"link\": \"{}/Surgery_TAT\".format(domain),\n",
    "    },\n",
    "    {\n",
    "        \"name\": \"ED Patient Volume Prediction\",\n",
    "        \"description\": \"Predicts the volume of patient in Emergengy Department.\",\n",
    "        \"link\": \"{}/Emergency_Department\".format(domain),\n",
    "    },\n",
    "    {\n",
    "        \"name\": \"ADT Prediction V2\",\n",
    "        \"description\": \"Predicts the turnaround time for a particular surgery based on medical and demographic factors.\",\n",
    "        \"link\": \"{}/ADT_Forecast\".format(domain),\n",
    "    },\n",
    "]\n",
    "models[0]"
   ]
  },
  {
   "cell_type": "code",
   "execution_count": 12,
   "id": "1d918934",
   "metadata": {},
   "outputs": [
    {
     "data": {
      "text/plain": [
       "5"
      ]
     },
     "execution_count": 12,
     "metadata": {},
     "output_type": "execute_result"
    }
   ],
   "source": [
    "# Arrange the models in a 2x2 matrix\n",
    "rows = int(len(models) / 2) + (\n",
    "    len(models) % 2 > 0\n",
    ")  # Calculate the number of rows needed\n",
    "\n",
    "rows"
   ]
  },
  {
   "cell_type": "code",
   "execution_count": 22,
   "id": "e78fb53b",
   "metadata": {},
   "outputs": [
    {
     "name": "stdout",
     "output_type": "stream",
     "text": [
      "{'name': 'Length of Stay Prediction', 'description': 'Estimates the duration a patient is likely to spend in the hospital based on medical and demographic factors.', 'link': 'http://localhost:8501/Length_of_Stay'}\n",
      "Length of Stay Prediction\n",
      "http://localhost:8501/Length_of_Stay\n",
      "{'name': 'Sepsis Alert System', 'description': 'Predicts the likelihood of a patient developing sepsis based on medical and demographic factors.', 'link': 'http://localhost:8501/Sepsis_Alert_System'}\n",
      "Sepsis Alert System\n",
      "http://localhost:8501/Sepsis_Alert_System\n",
      "{'name': 'ADT Prediction', 'description': 'Predicts the likelihood of a patient being admitted, discharged, or transferred based on medical and demographic factors.', 'link': 'http://localhost:8501/ADT_Prediction'}\n",
      "ADT Prediction\n",
      "http://localhost:8501/ADT_Prediction\n",
      "{'name': 'Surgery TAT Prediction', 'description': 'Predicts the turnaround time for a particular surgery based on medical and demographic factors.', 'link': 'http://localhost:8501/Surgery_TAT'}\n",
      "Surgery TAT Prediction\n",
      "http://localhost:8501/Surgery_TAT\n",
      "{'name': 'ADT Prediction V2', 'description': 'Predicts the turnaround time for a particular surgery based on medical and demographic factors.', 'link': 'http://localhost:8501/ADT_Forecast'}\n",
      "ADT Prediction V2\n",
      "http://localhost:8501/ADT_Forecast\n"
     ]
    }
   ],
   "source": [
    "import streamlit as st\n",
    "for i in range(rows):\n",
    "    col1, col2 = st.columns(2)\n",
    "    with col1:\n",
    "        model = models[2 * i]\n",
    "        print(model)\n",
    "        expander = (model[\"name\"])\n",
    "        print(expander)\n",
    "        #with expander:\n",
    "         #   st.write(model[\"description\"])\n",
    "          #  st.markdown(\n",
    "          #      f'<a href=\"{model[\"link\"]}\" class=\"btn-link\">Go to {model[\"name\"]}</a>',\n",
    "          #      unsafe_allow_html=True,\n",
    "           # )\n",
    "        print(model[\"link\"])\n",
    "\n",
    "    if 2 * i + 1 < len(models):  # Check if there's a model for the next column\n",
    "        with col2:\n",
    "            model = models[2 * i + 1]\n",
    "            expander = st.expander(model[\"name\"])\n",
    "            with expander:\n",
    "                st.write(model[\"description\"])\n",
    "                st.markdown(\n",
    "                    f'<a href=\"{model[\"link\"]}\" class=\"btn-link\">Go to {model[\"name\"]}</a>',\n",
    "                    unsafe_allow_html=True,\n",
    "                )"
   ]
  },
  {
   "cell_type": "code",
   "execution_count": null,
   "id": "d4e5d322",
   "metadata": {},
   "outputs": [],
   "source": [
    "# Arrange the models in a 2x2 matrix\n",
    "rows = int(len(models) / 2) + (\n",
    "    len(models) % 2 > 0\n",
    ")  # Calculate the number of rows needed\n",
    "\n",
    "for i in range(rows):\n",
    "    col1, col2 = st.columns(2)\n",
    "    with col1:\n",
    "        model = models[2 * i]\n",
    "        expander = st.expander(model[\"name\"])\n",
    "        with expander:\n",
    "            st.write(model[\"description\"])\n",
    "            st.markdown(\n",
    "                f'<a href=\"{model[\"link\"]}\" class=\"btn-link\">Go to {model[\"name\"]}</a>',\n",
    "                unsafe_allow_html=True,\n",
    "            )\n",
    "\n",
    "    if 2 * i + 1 < len(models):  # Check if there's a model for the next column\n",
    "        with col2:\n",
    "            model = models[2 * i + 1]\n",
    "            expander = st.expander(model[\"name\"])\n",
    "            with expander:\n",
    "                st.write(model[\"description\"])\n",
    "                st.markdown(\n",
    "                    f'<a href=\"{model[\"link\"]}\" class=\"btn-link\">Go to {model[\"name\"]}</a>',\n",
    "                    unsafe_allow_html=True,\n",
    "                )"
   ]
  },
  {
   "cell_type": "code",
   "execution_count": 23,
   "id": "368c2f86",
   "metadata": {},
   "outputs": [
    {
     "name": "stdout",
     "output_type": "stream",
     "text": [
      "http://localhost:8503/ADT_Forecast\n"
     ]
    }
   ],
   "source": [
    "from urllib.parse import quote\n",
    "\n",
    "# Assuming 'domain' holds your base URL\n",
    "domain = \"http://localhost:8503\"\n",
    "\n",
    "endpoint = \"ADT_Forecast\"  # Adjust the endpoint accordingly\n",
    "\n",
    "# Use quote to handle any special characters in the endpoint\n",
    "encoded_endpoint = quote(endpoint, safe='')\n",
    "\n",
    "link = f\"{domain}/{encoded_endpoint}\"\n",
    "print(link)"
   ]
  },
  {
   "cell_type": "code",
   "execution_count": 24,
   "id": "bd46fc6f",
   "metadata": {},
   "outputs": [],
   "source": [
    "import os"
   ]
  },
  {
   "cell_type": "code",
   "execution_count": 27,
   "id": "f6575db8",
   "metadata": {},
   "outputs": [
    {
     "data": {
      "text/plain": [
       "'C:\\\\Users\\\\krishika.R\\\\Documents\\\\FactiHealth\\\\Gen_AI'"
      ]
     },
     "execution_count": 27,
     "metadata": {},
     "output_type": "execute_result"
    }
   ],
   "source": [
    "os.getcwd()"
   ]
  }
 ],
 "metadata": {
  "kernelspec": {
   "display_name": "Python 3 (ipykernel)",
   "language": "python",
   "name": "python3"
  },
  "language_info": {
   "codemirror_mode": {
    "name": "ipython",
    "version": 3
   },
   "file_extension": ".py",
   "mimetype": "text/x-python",
   "name": "python",
   "nbconvert_exporter": "python",
   "pygments_lexer": "ipython3",
   "version": "3.10.9"
  }
 },
 "nbformat": 4,
 "nbformat_minor": 5
}
