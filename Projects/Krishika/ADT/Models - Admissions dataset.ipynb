{
 "cells": [
  {
   "cell_type": "markdown",
   "id": "4fa26e8c",
   "metadata": {},
   "source": [
    "# <center>Admissions Forecasting </center>"
   ]
  },
  {
   "cell_type": "code",
   "execution_count": 1,
   "id": "072d0151",
   "metadata": {},
   "outputs": [],
   "source": [
    "import pandas as pd\n",
    "import numpy as np\n",
    "import datetime as dt\n",
    "import statsmodels.api as sm\n",
    "import matplotlib.pyplot as plt\n",
    "from statsmodels.tsa.stattools import adfuller\n",
    "from statsmodels.graphics.tsaplots import plot_acf, plot_pacf\n",
    "from sklearn.model_selection import TimeSeriesSplit\n",
    "from statsmodels.tsa.statespace.sarimax import SARIMAX\n",
    "import prophet\n",
    "from sklearn.metrics import mean_squared_error, mean_absolute_error, r2_score\n",
    "\n",
    "#from sklearn.model_selection import train_test_split"
   ]
  },
  {
   "cell_type": "code",
   "execution_count": 2,
   "id": "81ab2ba7",
   "metadata": {},
   "outputs": [
    {
     "data": {
      "text/html": [
       "<div>\n",
       "<style scoped>\n",
       "    .dataframe tbody tr th:only-of-type {\n",
       "        vertical-align: middle;\n",
       "    }\n",
       "\n",
       "    .dataframe tbody tr th {\n",
       "        vertical-align: top;\n",
       "    }\n",
       "\n",
       "    .dataframe thead th {\n",
       "        text-align: right;\n",
       "    }\n",
       "</style>\n",
       "<table border=\"1\" class=\"dataframe\">\n",
       "  <thead>\n",
       "    <tr style=\"text-align: right;\">\n",
       "      <th></th>\n",
       "      <th>Admission Date</th>\n",
       "      <th>Discharge Date</th>\n",
       "      <th>Patient ID</th>\n",
       "      <th>Mode of Arrival</th>\n",
       "      <th>Disposition</th>\n",
       "    </tr>\n",
       "  </thead>\n",
       "  <tbody>\n",
       "    <tr>\n",
       "      <th>0</th>\n",
       "      <td>2015-01-20</td>\n",
       "      <td>2015-02-09</td>\n",
       "      <td>24424196</td>\n",
       "      <td>Other</td>\n",
       "      <td>EXPIRED</td>\n",
       "    </tr>\n",
       "    <tr>\n",
       "      <th>1</th>\n",
       "      <td>2015-01-16</td>\n",
       "      <td>2015-01-28</td>\n",
       "      <td>57279250</td>\n",
       "      <td>Own Vehicle</td>\n",
       "      <td>ADMITTED</td>\n",
       "    </tr>\n",
       "    <tr>\n",
       "      <th>2</th>\n",
       "      <td>2015-01-15</td>\n",
       "      <td>2015-02-10</td>\n",
       "      <td>33220210</td>\n",
       "      <td>Own Vehicle</td>\n",
       "      <td>LEFT AGAINST MEDICAL ADVICE</td>\n",
       "    </tr>\n",
       "    <tr>\n",
       "      <th>3</th>\n",
       "      <td>2015-01-22</td>\n",
       "      <td>2015-01-29</td>\n",
       "      <td>82137812</td>\n",
       "      <td>Own Vehicle</td>\n",
       "      <td>EXPIRED</td>\n",
       "    </tr>\n",
       "    <tr>\n",
       "      <th>4</th>\n",
       "      <td>2015-01-15</td>\n",
       "      <td>2015-01-19</td>\n",
       "      <td>95712788</td>\n",
       "      <td>Own Vehicle</td>\n",
       "      <td>EXPIRED</td>\n",
       "    </tr>\n",
       "  </tbody>\n",
       "</table>\n",
       "</div>"
      ],
      "text/plain": [
       "  Admission Date Discharge Date  Patient ID Mode of Arrival  \\\n",
       "0     2015-01-20     2015-02-09    24424196           Other   \n",
       "1     2015-01-16     2015-01-28    57279250     Own Vehicle   \n",
       "2     2015-01-15     2015-02-10    33220210     Own Vehicle   \n",
       "3     2015-01-22     2015-01-29    82137812     Own Vehicle   \n",
       "4     2015-01-15     2015-01-19    95712788     Own Vehicle   \n",
       "\n",
       "                   Disposition  \n",
       "0                      EXPIRED  \n",
       "1                     ADMITTED  \n",
       "2  LEFT AGAINST MEDICAL ADVICE  \n",
       "3                      EXPIRED  \n",
       "4                      EXPIRED  "
      ]
     },
     "execution_count": 2,
     "metadata": {},
     "output_type": "execute_result"
    }
   ],
   "source": [
    "data = pd.read_csv('data_2015_to_2020_scaling_with_end_date_mode_of_arrival_disposition.csv')\n",
    "data['Admission Date']=pd.to_datetime(data['Admission Date'])\n",
    "data.head()"
   ]
  },
  {
   "cell_type": "code",
   "execution_count": 3,
   "id": "43123124",
   "metadata": {},
   "outputs": [
    {
     "data": {
      "text/html": [
       "<div>\n",
       "<style scoped>\n",
       "    .dataframe tbody tr th:only-of-type {\n",
       "        vertical-align: middle;\n",
       "    }\n",
       "\n",
       "    .dataframe tbody tr th {\n",
       "        vertical-align: top;\n",
       "    }\n",
       "\n",
       "    .dataframe thead th {\n",
       "        text-align: right;\n",
       "    }\n",
       "</style>\n",
       "<table border=\"1\" class=\"dataframe\">\n",
       "  <thead>\n",
       "    <tr style=\"text-align: right;\">\n",
       "      <th></th>\n",
       "      <th>year_admission_date</th>\n",
       "      <th>month_admission_date</th>\n",
       "    </tr>\n",
       "  </thead>\n",
       "  <tbody>\n",
       "    <tr>\n",
       "      <th>0</th>\n",
       "      <td>2015</td>\n",
       "      <td>1</td>\n",
       "    </tr>\n",
       "    <tr>\n",
       "      <th>1</th>\n",
       "      <td>2015</td>\n",
       "      <td>1</td>\n",
       "    </tr>\n",
       "    <tr>\n",
       "      <th>2</th>\n",
       "      <td>2015</td>\n",
       "      <td>1</td>\n",
       "    </tr>\n",
       "    <tr>\n",
       "      <th>3</th>\n",
       "      <td>2015</td>\n",
       "      <td>1</td>\n",
       "    </tr>\n",
       "    <tr>\n",
       "      <th>4</th>\n",
       "      <td>2015</td>\n",
       "      <td>1</td>\n",
       "    </tr>\n",
       "    <tr>\n",
       "      <th>...</th>\n",
       "      <td>...</td>\n",
       "      <td>...</td>\n",
       "    </tr>\n",
       "    <tr>\n",
       "      <th>134857</th>\n",
       "      <td>2020</td>\n",
       "      <td>12</td>\n",
       "    </tr>\n",
       "    <tr>\n",
       "      <th>134858</th>\n",
       "      <td>2020</td>\n",
       "      <td>12</td>\n",
       "    </tr>\n",
       "    <tr>\n",
       "      <th>134859</th>\n",
       "      <td>2020</td>\n",
       "      <td>12</td>\n",
       "    </tr>\n",
       "    <tr>\n",
       "      <th>134860</th>\n",
       "      <td>2020</td>\n",
       "      <td>12</td>\n",
       "    </tr>\n",
       "    <tr>\n",
       "      <th>134861</th>\n",
       "      <td>2020</td>\n",
       "      <td>12</td>\n",
       "    </tr>\n",
       "  </tbody>\n",
       "</table>\n",
       "<p>134862 rows × 2 columns</p>\n",
       "</div>"
      ],
      "text/plain": [
       "        year_admission_date  month_admission_date\n",
       "0                      2015                     1\n",
       "1                      2015                     1\n",
       "2                      2015                     1\n",
       "3                      2015                     1\n",
       "4                      2015                     1\n",
       "...                     ...                   ...\n",
       "134857                 2020                    12\n",
       "134858                 2020                    12\n",
       "134859                 2020                    12\n",
       "134860                 2020                    12\n",
       "134861                 2020                    12\n",
       "\n",
       "[134862 rows x 2 columns]"
      ]
     },
     "execution_count": 3,
     "metadata": {},
     "output_type": "execute_result"
    }
   ],
   "source": [
    "data['year_admission_date']=data['Admission Date'].dt.strftime('%Y').astype(int)\n",
    "data['month_admission_date']=data['Admission Date'].dt.strftime('%m').astype(int)\n",
    "data[['year_admission_date','month_admission_date']]"
   ]
  },
  {
   "cell_type": "code",
   "execution_count": 4,
   "id": "ace46bb2",
   "metadata": {},
   "outputs": [
    {
     "name": "stdout",
     "output_type": "stream",
     "text": [
      "year_admission_date\n",
      "2015    22477\n",
      "2016    22477\n",
      "2017    22477\n",
      "2018    22477\n",
      "2019    22477\n",
      "Name: Patient ID, dtype: int64\n"
     ]
    },
    {
     "data": {
      "text/html": [
       "<div>\n",
       "<style scoped>\n",
       "    .dataframe tbody tr th:only-of-type {\n",
       "        vertical-align: middle;\n",
       "    }\n",
       "\n",
       "    .dataframe tbody tr th {\n",
       "        vertical-align: top;\n",
       "    }\n",
       "\n",
       "    .dataframe thead th {\n",
       "        text-align: right;\n",
       "    }\n",
       "</style>\n",
       "<table border=\"1\" class=\"dataframe\">\n",
       "  <thead>\n",
       "    <tr style=\"text-align: right;\">\n",
       "      <th></th>\n",
       "      <th>Admission Date</th>\n",
       "      <th>Patient Count</th>\n",
       "    </tr>\n",
       "  </thead>\n",
       "  <tbody>\n",
       "    <tr>\n",
       "      <th>0</th>\n",
       "      <td>2015-01-01</td>\n",
       "      <td>61</td>\n",
       "    </tr>\n",
       "    <tr>\n",
       "      <th>1</th>\n",
       "      <td>2015-01-02</td>\n",
       "      <td>75</td>\n",
       "    </tr>\n",
       "    <tr>\n",
       "      <th>2</th>\n",
       "      <td>2015-01-03</td>\n",
       "      <td>81</td>\n",
       "    </tr>\n",
       "    <tr>\n",
       "      <th>3</th>\n",
       "      <td>2015-01-04</td>\n",
       "      <td>65</td>\n",
       "    </tr>\n",
       "    <tr>\n",
       "      <th>4</th>\n",
       "      <td>2015-01-05</td>\n",
       "      <td>71</td>\n",
       "    </tr>\n",
       "  </tbody>\n",
       "</table>\n",
       "</div>"
      ],
      "text/plain": [
       "  Admission Date  Patient Count\n",
       "0     2015-01-01             61\n",
       "1     2015-01-02             75\n",
       "2     2015-01-03             81\n",
       "3     2015-01-04             65\n",
       "4     2015-01-05             71"
      ]
     },
     "execution_count": 4,
     "metadata": {},
     "output_type": "execute_result"
    }
   ],
   "source": [
    "# Train dataset with 5 years data: 2015, 2016, 2017, 2018 & 2019 \n",
    "train_data = data[data['year_admission_date'].isin(range(2015, 2020))]\n",
    "print(train_data.groupby('year_admission_date')['Patient ID'].count())\n",
    "train_dataset = train_data.groupby('Admission Date')['Patient ID'].count().reset_index()\n",
    "train_dataset.columns = ['Admission Date', 'Patient Count']\n",
    "train_dataset.head()"
   ]
  },
  {
   "cell_type": "code",
   "execution_count": 5,
   "id": "b6e97c3c",
   "metadata": {},
   "outputs": [
    {
     "name": "stdout",
     "output_type": "stream",
     "text": [
      "month_admission_date\n",
      "1    2158\n",
      "2    1608\n",
      "3    1961\n",
      "4    1726\n",
      "5    1765\n",
      "6    2158\n",
      "Name: Patient ID, dtype: int64\n"
     ]
    },
    {
     "data": {
      "text/html": [
       "<div>\n",
       "<style scoped>\n",
       "    .dataframe tbody tr th:only-of-type {\n",
       "        vertical-align: middle;\n",
       "    }\n",
       "\n",
       "    .dataframe tbody tr th {\n",
       "        vertical-align: top;\n",
       "    }\n",
       "\n",
       "    .dataframe thead th {\n",
       "        text-align: right;\n",
       "    }\n",
       "</style>\n",
       "<table border=\"1\" class=\"dataframe\">\n",
       "  <thead>\n",
       "    <tr style=\"text-align: right;\">\n",
       "      <th></th>\n",
       "      <th>Admission Date</th>\n",
       "      <th>Patient Count</th>\n",
       "    </tr>\n",
       "  </thead>\n",
       "  <tbody>\n",
       "    <tr>\n",
       "      <th>0</th>\n",
       "      <td>2020-01-01</td>\n",
       "      <td>77</td>\n",
       "    </tr>\n",
       "    <tr>\n",
       "      <th>1</th>\n",
       "      <td>2020-01-02</td>\n",
       "      <td>72</td>\n",
       "    </tr>\n",
       "    <tr>\n",
       "      <th>2</th>\n",
       "      <td>2020-01-03</td>\n",
       "      <td>73</td>\n",
       "    </tr>\n",
       "    <tr>\n",
       "      <th>3</th>\n",
       "      <td>2020-01-04</td>\n",
       "      <td>75</td>\n",
       "    </tr>\n",
       "    <tr>\n",
       "      <th>4</th>\n",
       "      <td>2020-01-05</td>\n",
       "      <td>57</td>\n",
       "    </tr>\n",
       "  </tbody>\n",
       "</table>\n",
       "</div>"
      ],
      "text/plain": [
       "  Admission Date  Patient Count\n",
       "0     2020-01-01             77\n",
       "1     2020-01-02             72\n",
       "2     2020-01-03             73\n",
       "3     2020-01-04             75\n",
       "4     2020-01-05             57"
      ]
     },
     "execution_count": 5,
     "metadata": {},
     "output_type": "execute_result"
    }
   ],
   "source": [
    "# Validation dataset with 6 months: 2020-01-01 to '2020-06-30'\n",
    "validation_data = data[(data['year_admission_date'] == 2020) & (data['month_admission_date'] <= 6)]\n",
    "print(validation_data.groupby('month_admission_date')['Patient ID'].count())\n",
    "validation_dataset = (validation_data.groupby('Admission Date')['Patient ID'].count()).reset_index()\n",
    "validation_dataset.columns = ['Admission Date', 'Patient Count']\n",
    "validation_dataset.head()"
   ]
  },
  {
   "cell_type": "code",
   "execution_count": 6,
   "id": "60c29a84",
   "metadata": {},
   "outputs": [
    {
     "name": "stdout",
     "output_type": "stream",
     "text": [
      "year_admission_date\n",
      "2020    22477\n",
      "Name: Patient ID, dtype: int64\n"
     ]
    },
    {
     "data": {
      "text/html": [
       "<div>\n",
       "<style scoped>\n",
       "    .dataframe tbody tr th:only-of-type {\n",
       "        vertical-align: middle;\n",
       "    }\n",
       "\n",
       "    .dataframe tbody tr th {\n",
       "        vertical-align: top;\n",
       "    }\n",
       "\n",
       "    .dataframe thead th {\n",
       "        text-align: right;\n",
       "    }\n",
       "</style>\n",
       "<table border=\"1\" class=\"dataframe\">\n",
       "  <thead>\n",
       "    <tr style=\"text-align: right;\">\n",
       "      <th></th>\n",
       "      <th>Admissions Date</th>\n",
       "      <th>Patient Count</th>\n",
       "    </tr>\n",
       "  </thead>\n",
       "  <tbody>\n",
       "    <tr>\n",
       "      <th>0</th>\n",
       "      <td>2020-01-01</td>\n",
       "      <td>77</td>\n",
       "    </tr>\n",
       "    <tr>\n",
       "      <th>1</th>\n",
       "      <td>2020-01-02</td>\n",
       "      <td>72</td>\n",
       "    </tr>\n",
       "    <tr>\n",
       "      <th>2</th>\n",
       "      <td>2020-01-03</td>\n",
       "      <td>73</td>\n",
       "    </tr>\n",
       "    <tr>\n",
       "      <th>3</th>\n",
       "      <td>2020-01-04</td>\n",
       "      <td>75</td>\n",
       "    </tr>\n",
       "    <tr>\n",
       "      <th>4</th>\n",
       "      <td>2020-01-05</td>\n",
       "      <td>57</td>\n",
       "    </tr>\n",
       "  </tbody>\n",
       "</table>\n",
       "</div>"
      ],
      "text/plain": [
       "  Admissions Date  Patient Count\n",
       "0      2020-01-01             77\n",
       "1      2020-01-02             72\n",
       "2      2020-01-03             73\n",
       "3      2020-01-04             75\n",
       "4      2020-01-05             57"
      ]
     },
     "execution_count": 6,
     "metadata": {},
     "output_type": "execute_result"
    }
   ],
   "source": [
    "# Test dataset with 6 months: 2020-07-01 to '2020-12-31'\n",
    "test_data = data[data['year_admission_date'] >= 2020]\n",
    "print(test_data.groupby('year_admission_date')['Patient ID'].count())\n",
    "test_dataset = test_data.groupby('Admission Date')['Patient ID'].count().reset_index()\n",
    "test_dataset.columns = ['Admissions Date','Patient Count']\n",
    "test_dataset.head()"
   ]
  },
  {
   "cell_type": "markdown",
   "id": "960aa44a",
   "metadata": {},
   "source": [
    "### Auto Correlation Factor (ACF) and Partial Auto Correlation Factor (PACF)"
   ]
  },
  {
   "cell_type": "code",
   "execution_count": 7,
   "id": "3905c367",
   "metadata": {},
   "outputs": [
    {
     "data": {
      "image/png": "[encoded data removed]",
      "text/plain": [
       "<Figure size 640x480 with 1 Axes>"
      ]
     },
     "metadata": {},
     "output_type": "display_data"
    },
    {
     "name": "stderr",
     "output_type": "stream",
     "text": [
      "C:\\ProgramData\\anaconda3\\lib\\site-packages\\statsmodels\\graphics\\tsaplots.py:348: FutureWarning: The default method 'yw' can produce PACF values outside of the [-1,1] interval. After 0.13, the default will change tounadjusted Yule-Walker ('ywm'). You can use this method now by setting method='ywm'.\n",
      "  warnings.warn(\n"
     ]
    },
    {
     "data": {
      "image/png": "[encoded data removed]",
      "text/plain": [
       "<Figure size 640x480 with 1 Axes>"
      ]
     },
     "metadata": {},
     "output_type": "display_data"
    }
   ],
   "source": [
    "acf_plot = plot_acf(train_dataset['Patient Count'], lags=40)  \n",
    "\n",
    "# Display the ACF plot\n",
    "plt.title('ACF Plot')\n",
    "plt.show()\n",
    "\n",
    "pacf_plot = plot_pacf(train_dataset['Patient Count'], lags=40)  \n",
    "\n",
    "# Display the ACF plot\n",
    "plt.title('PACF Plot')\n",
    "plt.show()"
   ]
  },
  {
   "cell_type": "markdown",
   "id": "4e505f30",
   "metadata": {},
   "source": [
    "### Augmented Dicky Fuller Test"
   ]
  },
  {
   "cell_type": "code",
   "execution_count": 8,
   "id": "91b01106",
   "metadata": {},
   "outputs": [
    {
     "name": "stdout",
     "output_type": "stream",
     "text": [
      "ADF Statistic: -5.782832651765564\n",
      "P-Value: 5.078839994884668e-07\n"
     ]
    }
   ],
   "source": [
    "# Perform the ADF test\n",
    "result = adfuller(train_dataset['Patient Count'])\n",
    "adf_statistic = result[0]\n",
    "p_value = result[1]\n",
    "\n",
    "# Print ADF test results\n",
    "print(\"ADF Statistic:\", adf_statistic)\n",
    "print(\"P-Value:\", p_value)"
   ]
  },
  {
   "cell_type": "markdown",
   "id": "5fb5767f",
   "metadata": {},
   "source": [
    "### Determining values of p,d,q "
   ]
  },
  {
   "cell_type": "code",
   "execution_count": 9,
   "id": "84b551b7",
   "metadata": {},
   "outputs": [
    {
     "name": "stderr",
     "output_type": "stream",
     "text": [
      "C:\\ProgramData\\anaconda3\\lib\\site-packages\\statsmodels\\tsa\\statespace\\sarimax.py:966: UserWarning: Non-stationary starting autoregressive parameters found. Using zeros as starting parameters.\n",
      "  warn('Non-stationary starting autoregressive parameters'\n",
      "C:\\ProgramData\\anaconda3\\lib\\site-packages\\statsmodels\\tsa\\statespace\\sarimax.py:966: UserWarning: Non-stationary starting autoregressive parameters found. Using zeros as starting parameters.\n",
      "  warn('Non-stationary starting autoregressive parameters'\n"
     ]
    },
    {
     "name": "stdout",
     "output_type": "stream",
     "text": [
      "Best MSE: 112.65934065934066\n",
      "Best Order (p, d, q): (0, 1, 0)\n"
     ]
    }
   ],
   "source": [
    "best_mse = float('inf')\n",
    "best_order = None\n",
    "\n",
    "for p in range(3):\n",
    "    for d in range(2):\n",
    "        for q in range(3):\n",
    "            order = (p, d, q)\n",
    "            model = SARIMAX(train_dataset['Patient Count'], order=order)\n",
    "            model_fit = model.fit(disp=0)\n",
    "            predictions = model_fit.predict(start=len(train_dataset['Patient Count']), end=len(train_dataset['Patient Count']) + len(validation_dataset['Patient Count']) - 1)\n",
    "            mse = mean_squared_error(validation_dataset['Patient Count'], predictions)\n",
    "            if mse < best_mse:\n",
    "                best_mse = mse\n",
    "                best_order = order\n",
    "\n",
    "print(\"Best MSE:\", best_mse)\n",
    "print(\"Best Order (p, d, q):\", best_order)"
   ]
  },
  {
   "cell_type": "markdown",
   "id": "09836183",
   "metadata": {},
   "source": [
    "## Model: SARIMAX"
   ]
  },
  {
   "cell_type": "code",
   "execution_count": 10,
   "id": "0f23bc9a",
   "metadata": {},
   "outputs": [
    {
     "name": "stdout",
     "output_type": "stream",
     "text": [
      "Validation MSE: 112.65934065934066\n",
      "Validation MAE: 8.274725274725276\n",
      "Validation RMSE: 10.614110450685006\n",
      "Validation R-squared: -0.12243088365691279\n",
      "Validation MAPE: 12.898262285804806\n"
     ]
    }
   ],
   "source": [
    "# Fit ARIMA model to the training dataset\n",
    "order = (0,1,0)  \n",
    "model = SARIMAX(train_dataset['Patient Count'], order=order)\n",
    "model_fit = model.fit(disp=0)\n",
    "\n",
    "# Make predictions on the validation dataset\n",
    "validation_predictions = model_fit.predict(start=len(train_dataset['Patient Count']), end=len(train_dataset['Patient Count']) + len(validation_dataset['Patient Count']) - 1)\n",
    "\n",
    "# Define the MAPE function\n",
    "def mean_absolute_percentage_error(y_true, y_pred): \n",
    "    y_true, y_pred = np.array(y_true), np.array(y_pred)\n",
    "    return np.mean(np.abs((y_true - y_pred) / y_true)) * 100\n",
    "\n",
    "# Calculate performance metrics for the validation set\n",
    "mse = mean_squared_error(validation_dataset['Patient Count'], validation_predictions)\n",
    "mae = mean_absolute_error(validation_dataset['Patient Count'], validation_predictions)\n",
    "rmse = np.sqrt(mse)\n",
    "r2 = r2_score(validation_dataset['Patient Count'], validation_predictions)\n",
    "mape = mean_absolute_percentage_error(validation_dataset['Patient Count'], validation_predictions)\n",
    "\n",
    "print(\"Validation MSE:\", mse)\n",
    "print(\"Validation MAE:\", mae)\n",
    "print(\"Validation RMSE:\", rmse)\n",
    "print(\"Validation R-squared:\", r2)\n",
    "print(\"Validation MAPE:\", mape)"
   ]
  },
  {
   "cell_type": "code",
   "execution_count": 11,
   "id": "718a36b6",
   "metadata": {
    "scrolled": true
   },
   "outputs": [
    {
     "name": "stdout",
     "output_type": "stream",
     "text": [
      "Validation MSE: 127.93939393939394\n",
      "Validation MAE: 8.881542699724518\n",
      "Validation RMSE: 11.311029747082886\n",
      "Validation R-squared: -0.07140838874431932\n",
      "Validation MAPE: 12.898262285804806\n"
     ]
    }
   ],
   "source": [
    "# Now, fit the best model (e.g., with the lowest validation MSE) on the full training dataset\n",
    "best_model = SARIMAX(train_dataset['Patient Count'], order=best_order)\n",
    "best_model_fit = best_model.fit(disp=0)\n",
    "\n",
    "# Make predictions on the test dataset\n",
    "test_predictions = best_model_fit.predict(start=len(train_dataset['Patient Count']) + len(validation_dataset['Patient Count']), end=len(train_dataset['Patient Count']) + len(validation_dataset['Patient Count']) + len(test_dataset['Patient Count']) - 1)\n",
    "\n",
    "# Calculate performance metrics for the test set\n",
    "mse = mean_squared_error(test_dataset['Patient Count'], test_predictions)\n",
    "mae = mean_absolute_error(test_dataset['Patient Count'], test_predictions)\n",
    "rmse = np.sqrt(mse)\n",
    "r2 = r2_score(test_dataset['Patient Count'], test_predictions)\n",
    "mape = mean_absolute_percentage_error(validation_dataset['Patient Count'], validation_predictions)\n",
    "\n",
    "print(\"Validation MSE:\", mse)\n",
    "print(\"Validation MAE:\", mae)\n",
    "print(\"Validation RMSE:\", rmse)\n",
    "print(\"Validation R-squared:\", r2)\n",
    "print(\"Validation MAPE:\", mape)"
   ]
  },
  {
   "cell_type": "markdown",
   "id": "88657464",
   "metadata": {},
   "source": [
    "# To Be Worked On "
   ]
  },
  {
   "cell_type": "code",
   "execution_count": null,
   "id": "2a0cf9f7",
   "metadata": {},
   "outputs": [],
   "source": [
    "tscv = TimeSeriesSplit(n_splits=5)  # Specify the number of splits (folds)\n",
    "\n",
    "best_mse = float('inf')\n",
    "best_order = None\n",
    "\n",
    "for p in range(3):\n",
    "    for d in range(2):\n",
    "        for q in range(3):\n",
    "            order = (p, d, q)\n",
    "            mse_list = []\n",
    "\n",
    "            for train_index, validation_index in tscv.split(train_dataset):\n",
    "                train_fold = train_dataset.iloc[train_index]\n",
    "                validation_fold = train_dataset.iloc[validation_index]\n",
    "\n",
    "                # Define the SARIMAX model with the specific order\n",
    "                model = SARIMAX(train_fold, order=order)\n",
    "                model_fit = model.fit(disp=0)\n",
    "                \n",
    "                # Make predictions for the validation fold\n",
    "                predictions = model_fit.predict(start=len(train_fold), end=len(train_fold) + len(validation_fold) - 1)\n",
    "                \n",
    "                mse = mean_squared_error(validation_fold, predictions)\n",
    "                mse_list.append(mse)\n",
    "\n",
    "            average_mse = np.mean(mse_list)\n",
    "\n",
    "            if average_mse < best_mse:\n",
    "                best_mse = average_mse\n",
    "                best_order = order\n",
    "\n",
    "print(\"Best MSE:\", best_mse)\n",
    "print(\"Best Order (p, d, q):\", best_order)"
   ]
  },
  {
   "cell_type": "markdown",
   "id": "f82998f6",
   "metadata": {},
   "source": [
    "### Model: SARIMAX"
   ]
  },
  {
   "cell_type": "code",
   "execution_count": null,
   "id": "54c9139d",
   "metadata": {},
   "outputs": [],
   "source": [
    "# Fit ARIMA model to the training dataset\n",
    "order = (2,1,0)  \n",
    "model = SARIMAX(train_dataset, order=order)\n",
    "model_fit = model.fit(disp=0)\n",
    "\n",
    "# Make predictions on the validation dataset\n",
    "validation_predictions = model_fit.predict(start=len(train_dataset), end=len(train_dataset) + len(validation_dataset) - 1)\n",
    "\n",
    "# Calculate performance metrics for the validation set\n",
    "mse = mean_squared_error(validation_dataset, validation_predictions)\n",
    "mae = mean_absolute_error(validation_dataset, validation_predictions)\n",
    "rmse = np.sqrt(mse)\n",
    "r2 = r2_score(validation_dataset, validation_predictions)\n",
    "\n",
    "print(\"Validation MSE:\", mse)\n",
    "print(\"Validation MAE:\", mae)\n",
    "print(\"Validation RMSE:\", rmse)\n",
    "print(\"Validation R-squared:\", r2)\n",
    "\n",
    "# Now, fit the best model (e.g., with the lowest validation MSE) on the full training dataset\n",
    "best_model = SARIMAX(train_dataset, order=best_order)\n",
    "best_model_fit = best_model.fit(disp=0)\n",
    "\n",
    "# Make predictions on the test dataset\n",
    "test_predictions = best_model_fit.predict(start=len(train_dataset) + len(validation_dataset), end=len(train_dataset) + len(validation_dataset) + len(test_dataset) - 1)\n",
    "\n",
    "# Calculate performance metrics for the test set\n",
    "mse = mean_squared_error(test_dataset, test_predictions)\n",
    "mae = mean_absolute_error(test_dataset, test_predictions)\n",
    "rmse = np.sqrt(mse)\n",
    "r2 = r2_score(test_dataset, test_predictions)\n",
    "\n",
    "print(\"Test MSE:\", mse)\n",
    "print(\"Test MAE:\", mae)\n",
    "print(\"Test RMSE:\", rmse)\n",
    "print(\"Test R-squared:\", r2)"
   ]
  },
  {
   "cell_type": "code",
   "execution_count": null,
   "id": "3646d83d",
   "metadata": {},
   "outputs": [],
   "source": [
    "# Prepare a DataFrame with 'ds' for dates and 'y' for values\n",
    "data = train_dataset\n",
    "\n",
    "# Initialize the model\n",
    "model = Prophet()\n",
    "\n",
    "# Fit the model to the data\n",
    "model.fit(data)\n",
    "\n",
    "# Create a future DataFrame for forecasting\n",
    "future = model.test_dataset(periods=365)\n",
    "\n",
    "# Make predictions\n",
    "forecast = model.predict(future)\n",
    "\n",
    "# Plot the forecast\n",
    "fig = model.plot(forecast)"
   ]
  },
  {
   "cell_type": "code",
   "execution_count": null,
   "id": "6b2a4c5d",
   "metadata": {},
   "outputs": [],
   "source": [
    "from statsmodels.tsa.holtwinters import ExponentialSmoothing\n",
    "\n",
    "# Create the model\n",
    "model = ExponentialSmoothing(train_dataset, seasonal='add', seasonal_periods=12, trend='add', damped=True)\n",
    "\n",
    "# Fit the model\n",
    "model_fit = model.fit()\n",
    "\n",
    "# Make predictions\n",
    "predictions = model_fit.forecast(len(validation_dataset))\n",
    "\n",
    "# Evaluate the model\n",
    "mse = mean_squared_error(validation_dataset, predictions)\n",
    "print(mse)"
   ]
  },
  {
   "cell_type": "code",
   "execution_count": null,
   "id": "b2113bdd",
   "metadata": {},
   "outputs": [],
   "source": [
    "from tensorflow import keras\n",
    "\n",
    "# Define an LSTM model\n",
    "model = keras.Sequential()\n",
    "model.add(keras.layers.LSTM(50, input_shape=(n_steps, n_features)))\n",
    "model.add(keras.layers.Dense(1))\n",
    "\n",
    "# Compile the model\n",
    "model.compile(optimizer='adam', loss='mean_squared_error')\n",
    "\n",
    "# Fit the model with your time series data\n",
    "model.fit(train_dataset['Admission Date'], train_y, epochs=100, batch_size=64, verbose=1)\n",
    "\n",
    "# Make predictions\n",
    "predictions = model.predict(validation_X)\n",
    "\n",
    "# Evaluate the model\n",
    "mse = mean_squared_error(validation_y, predictions)\n",
    "print(mse)"
   ]
  },
  {
   "cell_type": "code",
   "execution_count": null,
   "id": "89f2d66d",
   "metadata": {},
   "outputs": [],
   "source": [
    "from sklearn.ensemble import RandomForestRegressor\n",
    "\n",
    "# Create lag features\n",
    "for lag in range(1, 4 + 1):\n",
    "    train_dataset[f'lag_{lag}'] = train_dataset['y'].shift(lag)\n",
    "\n",
    "# Drop missing values\n",
    "train_dataset = train_dataset.dropna()\n",
    "\n",
    "# Define features and target\n",
    "X = train_dataset['Admission Date']\n",
    "y = train_dataset['y']\n",
    "\n",
    "# Initialize and train the Random Forest model\n",
    "model = RandomForestRegressor(n_estimators=100)\n",
    "model.fit(X, y)\n",
    "\n",
    "# Create lag features for validation data\n",
    "for lag in range(1, n_lags + 1):\n",
    "    validation_dataset[f'lag_{lag}'] = validation_dataset['y'].shift(lag)\n",
    "\n",
    "# Drop missing values\n",
    "validation_dataset = validation_dataset.dropna()\n",
    "\n",
    "# Predict\n",
    "X_validation = validation_dataset[['lag_1', 'lag_2', ...]]\n",
    "predictions = model.predict(X_validation)\n",
    "\n",
    "# Evaluate the model\n",
    "mse = mean_squared_error(validation_dataset['y'], predictions)\n"
   ]
  }
 ],
 "metadata": {
  "kernelspec": {
   "display_name": "Python 3 (ipykernel)",
   "language": "python",
   "name": "python3"
  },
  "language_info": {
   "codemirror_mode": {
    "name": "ipython",
    "version": 3
   },
   "file_extension": ".py",
   "mimetype": "text/x-python",
   "name": "python",
   "nbconvert_exporter": "python",
   "pygments_lexer": "ipython3",
   "version": "3.10.9"
  }
 },
 "nbformat": 4,
 "nbformat_minor": 5
}
