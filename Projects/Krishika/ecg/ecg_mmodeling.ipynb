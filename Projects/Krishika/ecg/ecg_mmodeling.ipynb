{
 "cells": [
  {
   "cell_type": "code",
   "execution_count": 78,
   "id": "45cc361a",
   "metadata": {},
   "outputs": [],
   "source": [
    "import pandas as pd\n",
    "import numpy as np\n",
    "import psycopg2\n",
    "from pandas import DataFrame\n",
    "import seaborn as sns\n",
    "import matplotlib.pyplot as plt\n",
    "from sklearn.model_selection import train_test_split\n",
    "\n",
    "%matplotlib inline"
   ]
  },
  {
   "cell_type": "code",
   "execution_count": 85,
   "id": "971acc67",
   "metadata": {
    "scrolled": true
   },
   "outputs": [
    {
     "name": "stdout",
     "output_type": "stream",
     "text": [
      "Connected to the database successfully\n",
      "Dataframe shape: (63222, 19)\n"
     ]
    }
   ],
   "source": [
    "# Database connection parameters\n",
    "db_name = 'factihealth'   # Database name\n",
    "db_user = 'fh_user'  # Username\n",
    "db_password = 'Facti@874'  # Password\n",
    "db_host = 'redshift-cluster-factihealth.cuzgotkwtow6.ap-south-1.redshift.amazonaws.com'  # Cluster endpoint\n",
    "db_port = 5439  # Port\n",
    "# Connect to the database\n",
    "try:\n",
    "    conn = psycopg2.connect(\n",
    "        dbname=db_name,\n",
    "        user=db_user,\n",
    "        password=db_password,\n",
    "        host=db_host,\n",
    "        port=db_port\n",
    "    )\n",
    "    print(\"Connected to the database successfully\")\n",
    "    # Create a cursor object\n",
    "    cur = conn.cursor()\n",
    "    # Execute a query\n",
    "    cur.execute(\"select * from factihealth.mimic.ecg_model_dataset order by subject_id\")\n",
    "    # Fetch the result\n",
    "    rows = cur.fetchall()\n",
    "\n",
    "    # Get the column names\n",
    "    column_names = [desc[0] for desc in cur.description]\n",
    "\n",
    "    # Create a DataFrame\n",
    "    master_data = pd.DataFrame(rows, columns=column_names)\n",
    "\n",
    "    print('Dataframe shape:', master_data.shape)\n",
    "    # Fetch and print the result\n",
    "except Exception as e:\n",
    "    print(f\"Database connection failed due to {e}\")"
   ]
  },
  {
   "cell_type": "code",
   "execution_count": 3,
   "id": "ee18b684",
   "metadata": {},
   "outputs": [],
   "source": [
    "master_data.to_csv('ecg_raw_dataset.csv',index=False)"
   ]
  },
  {
   "cell_type": "code",
   "execution_count": 86,
   "id": "1c55f4d0",
   "metadata": {},
   "outputs": [
    {
     "data": {
      "text/html": [
       "<div>\n",
       "<style scoped>\n",
       "    .dataframe tbody tr th:only-of-type {\n",
       "        vertical-align: middle;\n",
       "    }\n",
       "\n",
       "    .dataframe tbody tr th {\n",
       "        vertical-align: top;\n",
       "    }\n",
       "\n",
       "    .dataframe thead th {\n",
       "        text-align: right;\n",
       "    }\n",
       "</style>\n",
       "<table border=\"1\" class=\"dataframe\">\n",
       "  <thead>\n",
       "    <tr style=\"text-align: right;\">\n",
       "      <th></th>\n",
       "      <th>subject_id</th>\n",
       "      <th>gender</th>\n",
       "      <th>anchor_age</th>\n",
       "      <th>dod</th>\n",
       "      <th>ecgtime</th>\n",
       "      <th>report_2</th>\n",
       "      <th>report_3</th>\n",
       "      <th>bandwidth</th>\n",
       "      <th>filtering</th>\n",
       "      <th>rr_interval</th>\n",
       "      <th>p_onset</th>\n",
       "      <th>p_end</th>\n",
       "      <th>qrs_onset</th>\n",
       "      <th>qrs_end</th>\n",
       "      <th>t_end</th>\n",
       "      <th>p_axis</th>\n",
       "      <th>qrs_axis</th>\n",
       "      <th>t_axis</th>\n",
       "      <th>target_variable</th>\n",
       "    </tr>\n",
       "  </thead>\n",
       "  <tbody>\n",
       "    <tr>\n",
       "      <th>0</th>\n",
       "      <td>10001217</td>\n",
       "      <td>F</td>\n",
       "      <td>55</td>\n",
       "      <td>None</td>\n",
       "      <td>2157-11-18</td>\n",
       "      <td>Normal ECG</td>\n",
       "      <td></td>\n",
       "      <td>0.005-150 Hz</td>\n",
       "      <td>60 Hz notch Baseline filter</td>\n",
       "      <td>895</td>\n",
       "      <td>40</td>\n",
       "      <td>156</td>\n",
       "      <td>204</td>\n",
       "      <td>298</td>\n",
       "      <td>622</td>\n",
       "      <td>67</td>\n",
       "      <td>15</td>\n",
       "      <td>48</td>\n",
       "      <td>Normal ECG</td>\n",
       "    </tr>\n",
       "    <tr>\n",
       "      <th>1</th>\n",
       "      <td>10001884</td>\n",
       "      <td>F</td>\n",
       "      <td>68</td>\n",
       "      <td>2131-01-20</td>\n",
       "      <td>2127-07-24</td>\n",
       "      <td></td>\n",
       "      <td>Abnormal ECG</td>\n",
       "      <td>0.005-150 Hz</td>\n",
       "      <td>60 Hz notch Baseline filter</td>\n",
       "      <td>882</td>\n",
       "      <td>40</td>\n",
       "      <td>154</td>\n",
       "      <td>188</td>\n",
       "      <td>328</td>\n",
       "      <td>626</td>\n",
       "      <td>48</td>\n",
       "      <td>-19</td>\n",
       "      <td>132</td>\n",
       "      <td>Abnormal ECG</td>\n",
       "    </tr>\n",
       "    <tr>\n",
       "      <th>2</th>\n",
       "      <td>10001884</td>\n",
       "      <td>F</td>\n",
       "      <td>68</td>\n",
       "      <td>2131-01-20</td>\n",
       "      <td>2131-01-10</td>\n",
       "      <td></td>\n",
       "      <td>Abnormal ECG</td>\n",
       "      <td>0.005-150 Hz</td>\n",
       "      <td>60 Hz notch Baseline filter</td>\n",
       "      <td>697</td>\n",
       "      <td>40</td>\n",
       "      <td>118</td>\n",
       "      <td>152</td>\n",
       "      <td>288</td>\n",
       "      <td>546</td>\n",
       "      <td>80</td>\n",
       "      <td>-18</td>\n",
       "      <td>119</td>\n",
       "      <td>Abnormal ECG</td>\n",
       "    </tr>\n",
       "    <tr>\n",
       "      <th>3</th>\n",
       "      <td>10001884</td>\n",
       "      <td>F</td>\n",
       "      <td>68</td>\n",
       "      <td>2131-01-20</td>\n",
       "      <td>2130-10-12</td>\n",
       "      <td></td>\n",
       "      <td>Abnormal ECG</td>\n",
       "      <td>0.005-150 Hz</td>\n",
       "      <td>60 Hz notch Baseline filter</td>\n",
       "      <td>882</td>\n",
       "      <td>40</td>\n",
       "      <td>112</td>\n",
       "      <td>152</td>\n",
       "      <td>292</td>\n",
       "      <td>590</td>\n",
       "      <td>-87</td>\n",
       "      <td>-22</td>\n",
       "      <td>126</td>\n",
       "      <td>Abnormal ECG</td>\n",
       "    </tr>\n",
       "    <tr>\n",
       "      <th>4</th>\n",
       "      <td>10001884</td>\n",
       "      <td>F</td>\n",
       "      <td>68</td>\n",
       "      <td>2131-01-20</td>\n",
       "      <td>2125-12-01</td>\n",
       "      <td></td>\n",
       "      <td>Abnormal ECG</td>\n",
       "      <td>0.005-150 Hz</td>\n",
       "      <td>60 Hz notch Baseline filter</td>\n",
       "      <td>923</td>\n",
       "      <td>40</td>\n",
       "      <td>144</td>\n",
       "      <td>180</td>\n",
       "      <td>322</td>\n",
       "      <td>614</td>\n",
       "      <td>71</td>\n",
       "      <td>-13</td>\n",
       "      <td>117</td>\n",
       "      <td>Abnormal ECG</td>\n",
       "    </tr>\n",
       "  </tbody>\n",
       "</table>\n",
       "</div>"
      ],
      "text/plain": [
       "   subject_id gender  anchor_age         dod     ecgtime    report_2  \\\n",
       "0    10001217      F          55        None  2157-11-18  Normal ECG   \n",
       "1    10001884      F          68  2131-01-20  2127-07-24               \n",
       "2    10001884      F          68  2131-01-20  2131-01-10               \n",
       "3    10001884      F          68  2131-01-20  2130-10-12               \n",
       "4    10001884      F          68  2131-01-20  2125-12-01               \n",
       "\n",
       "       report_3     bandwidth                    filtering  rr_interval  \\\n",
       "0                0.005-150 Hz  60 Hz notch Baseline filter          895   \n",
       "1  Abnormal ECG  0.005-150 Hz  60 Hz notch Baseline filter          882   \n",
       "2  Abnormal ECG  0.005-150 Hz  60 Hz notch Baseline filter          697   \n",
       "3  Abnormal ECG  0.005-150 Hz  60 Hz notch Baseline filter          882   \n",
       "4  Abnormal ECG  0.005-150 Hz  60 Hz notch Baseline filter          923   \n",
       "\n",
       "   p_onset  p_end  qrs_onset  qrs_end  t_end  p_axis  qrs_axis  t_axis  \\\n",
       "0       40    156        204      298    622      67        15      48   \n",
       "1       40    154        188      328    626      48       -19     132   \n",
       "2       40    118        152      288    546      80       -18     119   \n",
       "3       40    112        152      292    590     -87       -22     126   \n",
       "4       40    144        180      322    614      71       -13     117   \n",
       "\n",
       "  target_variable  \n",
       "0      Normal ECG  \n",
       "1    Abnormal ECG  \n",
       "2    Abnormal ECG  \n",
       "3    Abnormal ECG  \n",
       "4    Abnormal ECG  "
      ]
     },
     "execution_count": 86,
     "metadata": {},
     "output_type": "execute_result"
    }
   ],
   "source": [
    "master_data.head()"
   ]
  },
  {
   "cell_type": "code",
   "execution_count": 87,
   "id": "6d628d1b",
   "metadata": {},
   "outputs": [],
   "source": [
    "master_data.drop(columns= ['report_2','report_3'],inplace=True)"
   ]
  },
  {
   "cell_type": "code",
   "execution_count": 88,
   "id": "aa17ccc9",
   "metadata": {
    "scrolled": false
   },
   "outputs": [
    {
     "name": "stdout",
     "output_type": "stream",
     "text": [
      "<class 'pandas.core.frame.DataFrame'>\n",
      "RangeIndex: 63222 entries, 0 to 63221\n",
      "Data columns (total 17 columns):\n",
      " #   Column           Non-Null Count  Dtype \n",
      "---  ------           --------------  ----- \n",
      " 0   subject_id       63222 non-null  int64 \n",
      " 1   gender           63222 non-null  object\n",
      " 2   anchor_age       63222 non-null  int64 \n",
      " 3   dod              21153 non-null  object\n",
      " 4   ecgtime          63222 non-null  object\n",
      " 5   bandwidth        63222 non-null  object\n",
      " 6   filtering        63222 non-null  object\n",
      " 7   rr_interval      63222 non-null  int64 \n",
      " 8   p_onset          63222 non-null  int64 \n",
      " 9   p_end            63222 non-null  int64 \n",
      " 10  qrs_onset        63222 non-null  int64 \n",
      " 11  qrs_end          63222 non-null  int64 \n",
      " 12  t_end            63222 non-null  int64 \n",
      " 13  p_axis           63222 non-null  int64 \n",
      " 14  qrs_axis         63222 non-null  int64 \n",
      " 15  t_axis           63222 non-null  int64 \n",
      " 16  target_variable  63222 non-null  object\n",
      "dtypes: int64(11), object(6)\n",
      "memory usage: 8.2+ MB\n"
     ]
    }
   ],
   "source": [
    "master_data.info()"
   ]
  },
  {
   "cell_type": "code",
   "execution_count": 7,
   "id": "71ef73d5",
   "metadata": {
    "scrolled": true
   },
   "outputs": [
    {
     "data": {
      "text/plain": [
       "target_variable\n",
       "Abnormal ECG    28700\n",
       "Normal ECG      34522\n",
       "Name: subject_id, dtype: int64"
      ]
     },
     "execution_count": 7,
     "metadata": {},
     "output_type": "execute_result"
    }
   ],
   "source": [
    "master_data.groupby(['target_variable'])['subject_id'].count()"
   ]
  },
  {
   "cell_type": "code",
   "execution_count": 8,
   "id": "d1620acf",
   "metadata": {},
   "outputs": [
    {
     "data": {
      "text/plain": [
       "(63222, 17)"
      ]
     },
     "execution_count": 8,
     "metadata": {},
     "output_type": "execute_result"
    }
   ],
   "source": [
    "np.shape(master_data)"
   ]
  },
  {
   "cell_type": "code",
   "execution_count": 9,
   "id": "12b542ac",
   "metadata": {},
   "outputs": [
    {
     "data": {
      "text/plain": [
       "Normal ECG      34522\n",
       "Abnormal ECG    28700\n",
       "Name: target_variable, dtype: int64"
      ]
     },
     "execution_count": 9,
     "metadata": {},
     "output_type": "execute_result"
    }
   ],
   "source": [
    "master_data['target_variable'].value_counts()"
   ]
  },
  {
   "cell_type": "code",
   "execution_count": 73,
   "id": "36b36e9c",
   "metadata": {},
   "outputs": [
    {
     "data": {
      "text/plain": [
       "Normal ECG      54.60441\n",
       "Abnormal ECG    45.39559\n",
       "Name: target_variable, dtype: float64"
      ]
     },
     "execution_count": 73,
     "metadata": {},
     "output_type": "execute_result"
    }
   ],
   "source": [
    "(master_data['target_variable'].value_counts()/master_data['target_variable'].count())*100"
   ]
  },
  {
   "cell_type": "code",
   "execution_count": 12,
   "id": "e1618238",
   "metadata": {},
   "outputs": [
    {
     "data": {
      "text/html": [
       "<div>\n",
       "<style scoped>\n",
       "    .dataframe tbody tr th:only-of-type {\n",
       "        vertical-align: middle;\n",
       "    }\n",
       "\n",
       "    .dataframe tbody tr th {\n",
       "        vertical-align: top;\n",
       "    }\n",
       "\n",
       "    .dataframe thead th {\n",
       "        text-align: right;\n",
       "    }\n",
       "</style>\n",
       "<table border=\"1\" class=\"dataframe\">\n",
       "  <thead>\n",
       "    <tr style=\"text-align: right;\">\n",
       "      <th></th>\n",
       "      <th>subject_id</th>\n",
       "      <th>anchor_age</th>\n",
       "      <th>rr_interval</th>\n",
       "      <th>p_onset</th>\n",
       "      <th>p_end</th>\n",
       "      <th>qrs_onset</th>\n",
       "      <th>qrs_end</th>\n",
       "      <th>t_end</th>\n",
       "      <th>p_axis</th>\n",
       "      <th>qrs_axis</th>\n",
       "      <th>t_axis</th>\n",
       "    </tr>\n",
       "  </thead>\n",
       "  <tbody>\n",
       "    <tr>\n",
       "      <th>count</th>\n",
       "      <td>6.322200e+04</td>\n",
       "      <td>63222.000000</td>\n",
       "      <td>63222.000000</td>\n",
       "      <td>63222.000000</td>\n",
       "      <td>63222.000000</td>\n",
       "      <td>63222.000000</td>\n",
       "      <td>63222.000000</td>\n",
       "      <td>63222.000000</td>\n",
       "      <td>63222.000000</td>\n",
       "      <td>63222.000000</td>\n",
       "      <td>63222.000000</td>\n",
       "    </tr>\n",
       "    <tr>\n",
       "      <th>mean</th>\n",
       "      <td>1.501218e+07</td>\n",
       "      <td>60.722233</td>\n",
       "      <td>807.106735</td>\n",
       "      <td>39.998197</td>\n",
       "      <td>148.636551</td>\n",
       "      <td>202.404005</td>\n",
       "      <td>296.441998</td>\n",
       "      <td>594.437538</td>\n",
       "      <td>47.569485</td>\n",
       "      <td>25.028882</td>\n",
       "      <td>41.946111</td>\n",
       "    </tr>\n",
       "    <tr>\n",
       "      <th>std</th>\n",
       "      <td>2.878761e+06</td>\n",
       "      <td>15.459239</td>\n",
       "      <td>152.315109</td>\n",
       "      <td>0.202318</td>\n",
       "      <td>17.059174</td>\n",
       "      <td>30.961334</td>\n",
       "      <td>38.012425</td>\n",
       "      <td>54.423706</td>\n",
       "      <td>25.915806</td>\n",
       "      <td>29.307739</td>\n",
       "      <td>49.521580</td>\n",
       "    </tr>\n",
       "    <tr>\n",
       "      <th>min</th>\n",
       "      <td>1.000122e+07</td>\n",
       "      <td>18.000000</td>\n",
       "      <td>295.000000</td>\n",
       "      <td>8.000000</td>\n",
       "      <td>48.000000</td>\n",
       "      <td>70.000000</td>\n",
       "      <td>160.000000</td>\n",
       "      <td>390.000000</td>\n",
       "      <td>-179.000000</td>\n",
       "      <td>-178.000000</td>\n",
       "      <td>-180.000000</td>\n",
       "    </tr>\n",
       "    <tr>\n",
       "      <th>25%</th>\n",
       "      <td>1.254433e+07</td>\n",
       "      <td>51.000000</td>\n",
       "      <td>697.000000</td>\n",
       "      <td>40.000000</td>\n",
       "      <td>140.000000</td>\n",
       "      <td>182.000000</td>\n",
       "      <td>270.000000</td>\n",
       "      <td>558.000000</td>\n",
       "      <td>36.000000</td>\n",
       "      <td>2.000000</td>\n",
       "      <td>24.000000</td>\n",
       "    </tr>\n",
       "    <tr>\n",
       "      <th>50%</th>\n",
       "      <td>1.499349e+07</td>\n",
       "      <td>61.000000</td>\n",
       "      <td>800.000000</td>\n",
       "      <td>40.000000</td>\n",
       "      <td>150.000000</td>\n",
       "      <td>198.000000</td>\n",
       "      <td>290.000000</td>\n",
       "      <td>590.000000</td>\n",
       "      <td>53.000000</td>\n",
       "      <td>23.000000</td>\n",
       "      <td>44.000000</td>\n",
       "    </tr>\n",
       "    <tr>\n",
       "      <th>75%</th>\n",
       "      <td>1.751798e+07</td>\n",
       "      <td>72.000000</td>\n",
       "      <td>909.000000</td>\n",
       "      <td>40.000000</td>\n",
       "      <td>160.000000</td>\n",
       "      <td>216.000000</td>\n",
       "      <td>314.000000</td>\n",
       "      <td>626.000000</td>\n",
       "      <td>64.000000</td>\n",
       "      <td>48.000000</td>\n",
       "      <td>62.000000</td>\n",
       "    </tr>\n",
       "    <tr>\n",
       "      <th>max</th>\n",
       "      <td>1.999999e+07</td>\n",
       "      <td>91.000000</td>\n",
       "      <td>2857.000000</td>\n",
       "      <td>40.000000</td>\n",
       "      <td>228.000000</td>\n",
       "      <td>450.000000</td>\n",
       "      <td>544.000000</td>\n",
       "      <td>1024.000000</td>\n",
       "      <td>180.000000</td>\n",
       "      <td>177.000000</td>\n",
       "      <td>180.000000</td>\n",
       "    </tr>\n",
       "  </tbody>\n",
       "</table>\n",
       "</div>"
      ],
      "text/plain": [
       "         subject_id    anchor_age   rr_interval       p_onset         p_end  \\\n",
       "count  6.322200e+04  63222.000000  63222.000000  63222.000000  63222.000000   \n",
       "mean   1.501218e+07     60.722233    807.106735     39.998197    148.636551   \n",
       "std    2.878761e+06     15.459239    152.315109      0.202318     17.059174   \n",
       "min    1.000122e+07     18.000000    295.000000      8.000000     48.000000   \n",
       "25%    1.254433e+07     51.000000    697.000000     40.000000    140.000000   \n",
       "50%    1.499349e+07     61.000000    800.000000     40.000000    150.000000   \n",
       "75%    1.751798e+07     72.000000    909.000000     40.000000    160.000000   \n",
       "max    1.999999e+07     91.000000   2857.000000     40.000000    228.000000   \n",
       "\n",
       "          qrs_onset       qrs_end         t_end        p_axis      qrs_axis  \\\n",
       "count  63222.000000  63222.000000  63222.000000  63222.000000  63222.000000   \n",
       "mean     202.404005    296.441998    594.437538     47.569485     25.028882   \n",
       "std       30.961334     38.012425     54.423706     25.915806     29.307739   \n",
       "min       70.000000    160.000000    390.000000   -179.000000   -178.000000   \n",
       "25%      182.000000    270.000000    558.000000     36.000000      2.000000   \n",
       "50%      198.000000    290.000000    590.000000     53.000000     23.000000   \n",
       "75%      216.000000    314.000000    626.000000     64.000000     48.000000   \n",
       "max      450.000000    544.000000   1024.000000    180.000000    177.000000   \n",
       "\n",
       "             t_axis  \n",
       "count  63222.000000  \n",
       "mean      41.946111  \n",
       "std       49.521580  \n",
       "min     -180.000000  \n",
       "25%       24.000000  \n",
       "50%       44.000000  \n",
       "75%       62.000000  \n",
       "max      180.000000  "
      ]
     },
     "execution_count": 12,
     "metadata": {},
     "output_type": "execute_result"
    }
   ],
   "source": [
    "master_data.describe()"
   ]
  },
  {
   "cell_type": "code",
   "execution_count": 11,
   "id": "d558658b",
   "metadata": {},
   "outputs": [
    {
     "data": {
      "text/plain": [
       "subject_id             0\n",
       "gender                 0\n",
       "anchor_age             0\n",
       "dod                42069\n",
       "ecgtime                0\n",
       "bandwidth              0\n",
       "filtering              0\n",
       "rr_interval            0\n",
       "p_onset                0\n",
       "p_end                  0\n",
       "qrs_onset              0\n",
       "qrs_end                0\n",
       "t_end                  0\n",
       "p_axis                 0\n",
       "qrs_axis               0\n",
       "t_axis                 0\n",
       "target_variable        0\n",
       "dtype: int64"
      ]
     },
     "execution_count": 11,
     "metadata": {},
     "output_type": "execute_result"
    }
   ],
   "source": [
    "master_data.isna().sum()"
   ]
  },
  {
   "cell_type": "code",
   "execution_count": 13,
   "id": "e7ec7d31",
   "metadata": {
    "collapsed": true
   },
   "outputs": [
    {
     "data": {
      "text/plain": [
       "<Axes: >"
      ]
     },
     "execution_count": 13,
     "metadata": {},
     "output_type": "execute_result"
    },
    {
     "data": {
      "image/png": "[encoded data removed]",
      "text/plain": [
       "<Figure size 640x480 with 1 Axes>"
      ]
     },
     "metadata": {},
     "output_type": "display_data"
    }
   ],
   "source": [
    "sns.heatmap(master_data.isnull(), yticklabels = False, cbar = False, cmap='viridis')"
   ]
  },
  {
   "cell_type": "code",
   "execution_count": 74,
   "id": "0e6d0bee",
   "metadata": {},
   "outputs": [],
   "source": [
    "data=master_data.drop(columns=['subject_id'])"
   ]
  },
  {
   "cell_type": "code",
   "execution_count": 16,
   "id": "a68ac773",
   "metadata": {
    "collapsed": true
   },
   "outputs": [
    {
     "data": {
      "image/png": "[encoded data removed]",
      "text/plain": [
       "<Figure size 1200x800 with 1 Axes>"
      ]
     },
     "metadata": {},
     "output_type": "display_data"
    }
   ],
   "source": [
    "# Set up the figure size\n",
    "plt.figure(figsize=(12, 8))\n",
    "\n",
    "# Box plot for each column in the DataFrame\n",
    "sns.boxplot(data=data, orient='h')  # 'orient='h'' for horizontal orientation\n",
    "plt.title('Boxplot of Data Columns')\n",
    "plt.xlabel('Value')\n",
    "plt.show()"
   ]
  },
  {
   "cell_type": "code",
   "execution_count": 18,
   "id": "d9102285",
   "metadata": {
    "collapsed": true
   },
   "outputs": [
    {
     "data": {
      "image/png": "[encoded data removed]",
      "text/plain": [
       "<Figure size 800x600 with 1 Axes>"
      ]
     },
     "metadata": {},
     "output_type": "display_data"
    }
   ],
   "source": [
    "# Assuming 'data_df' is your DataFrame\n",
    "plt.figure(figsize=(8, 6))\n",
    "\n",
    "# Create the countplot\n",
    "ax = sns.countplot(x='target_variable', data=data)\n",
    "\n",
    "# Annotate each bar with its count value\n",
    "for p in ax.patches:\n",
    "    ax.annotate(f'{p.get_height()}', (p.get_x() + p.get_width() / 2, p.get_height()), ha='center', va='bottom')\n",
    "\n",
    "plt.title('ECG Count')\n",
    "plt.xlabel('ECG Flag')\n",
    "plt.ylabel('Count')\n",
    "plt.show()"
   ]
  },
  {
   "cell_type": "code",
   "execution_count": 19,
   "id": "abb8d5c0",
   "metadata": {
    "collapsed": true
   },
   "outputs": [
    {
     "name": "stderr",
     "output_type": "stream",
     "text": [
      "C:\\Users\\krishika.R\\AppData\\Local\\Temp\\ipykernel_29896\\3436237008.py:2: FutureWarning: The default value of numeric_only in DataFrame.corr is deprecated. In a future version, it will default to False. Select only valid columns or specify the value of numeric_only to silence this warning.\n",
      "  corr = data.corr()\n",
      "C:\\Users\\krishika.R\\AppData\\Local\\Temp\\ipykernel_29896\\3436237008.py:3: DeprecationWarning: `np.bool` is a deprecated alias for the builtin `bool`. To silence this warning, use `bool` by itself. Doing this will not modify any behavior and is safe. If you specifically wanted the numpy scalar type, use `np.bool_` here.\n",
      "Deprecated in NumPy 1.20; for more details and guidance: https://numpy.org/devdocs/release/1.20.0-notes.html#deprecations\n",
      "  mask = np.zeros_like(corr, dtype=np.bool)\n"
     ]
    },
    {
     "data": {
      "image/png": "[encoded data removed]",
      "text/plain": [
       "<Figure size 2000x2000 with 2 Axes>"
      ]
     },
     "metadata": {},
     "output_type": "display_data"
    }
   ],
   "source": [
    "sns.set(style=\"white\")\n",
    "corr = data.corr()\n",
    "mask = np.zeros_like(corr, dtype=np.bool)\n",
    "mask[np.triu_indices_from(mask)] = True\n",
    "f, ax = plt.subplots(figsize=(20,20))\n",
    "cmap = sns.diverging_palette(1000, 50, as_cmap=True)\n",
    "sns.heatmap(corr,annot=True, mask=mask,vmax =.8, cmap=cmap, center=0,fmt= '.2f',\n",
    "            square=True, linewidths=.1, cbar_kws={\"shrink\": .5});"
   ]
  },
  {
   "cell_type": "code",
   "execution_count": 28,
   "id": "a2b516be",
   "metadata": {},
   "outputs": [
    {
     "data": {
      "application/vnd.jupyter.widget-view+json": {
       "model_id": "17765f1fbbdd4fc5b4afca375d498c7f",
       "version_major": 2,
       "version_minor": 0
      },
      "text/plain": [
       "Summarize dataset:   0%|          | 0/5 [00:00<?, ?it/s]"
      ]
     },
     "metadata": {},
     "output_type": "display_data"
    },
    {
     "data": {
      "application/vnd.jupyter.widget-view+json": {
       "model_id": "2aec3ecaedfd4b55a7c2b1f2d02af663",
       "version_major": 2,
       "version_minor": 0
      },
      "text/plain": [
       "Generate report structure:   0%|          | 0/1 [00:00<?, ?it/s]"
      ]
     },
     "metadata": {},
     "output_type": "display_data"
    },
    {
     "data": {
      "application/vnd.jupyter.widget-view+json": {
       "model_id": "1280354d022d4e8c91fbf0195142d0b6",
       "version_major": 2,
       "version_minor": 0
      },
      "text/plain": [
       "Render HTML:   0%|          | 0/1 [00:00<?, ?it/s]"
      ]
     },
     "metadata": {},
     "output_type": "display_data"
    },
    {
     "data": {
      "application/vnd.jupyter.widget-view+json": {
       "model_id": "88b4d5ac453e4822b31ce31f8bd7f9f3",
       "version_major": 2,
       "version_minor": 0
      },
      "text/plain": [
       "Export report to file:   0%|          | 0/1 [00:00<?, ?it/s]"
      ]
     },
     "metadata": {},
     "output_type": "display_data"
    }
   ],
   "source": [
    "from ydata_profiling import ProfileReport\n",
    "from pydantic.v1 import BaseSettings\n",
    "\n",
    "columns_to_exclude = ['dod','ecgtime']\n",
    "df = selected_columns = master_data.loc[:, master_data.columns.difference(columns_to_exclude)]\n",
    "profile = ProfileReport(df, title=\"Profiling Report\")\n",
    "\n",
    "profile.to_file(output_file='report.html')"
   ]
  },
  {
   "cell_type": "code",
   "execution_count": 30,
   "id": "36228f1e",
   "metadata": {},
   "outputs": [
    {
     "data": {
      "application/vnd.jupyter.widget-view+json": {
       "model_id": "afe0353dcbd94f048f69a5a9f8f16c3d",
       "version_major": 2,
       "version_minor": 0
      },
      "text/plain": [
       "                                             |                                             | [  0%]   00:00 ->…"
      ]
     },
     "metadata": {},
     "output_type": "display_data"
    },
    {
     "name": "stdout",
     "output_type": "stream",
     "text": [
      "Report Sweetviz_Report.html was generated! NOTEBOOK/COLAB USERS: the web browser MAY not pop up, regardless, the report IS saved in your notebook/colab files.\n"
     ]
    }
   ],
   "source": [
    "import sweetviz as sv\n",
    "report = sv.analyze(df)\n",
    "report.show_html('Sweetviz_Report.html')"
   ]
  },
  {
   "cell_type": "code",
   "execution_count": 91,
   "id": "580f2d1b",
   "metadata": {},
   "outputs": [
    {
     "data": {
      "text/html": [
       "<div>\n",
       "<style scoped>\n",
       "    .dataframe tbody tr th:only-of-type {\n",
       "        vertical-align: middle;\n",
       "    }\n",
       "\n",
       "    .dataframe tbody tr th {\n",
       "        vertical-align: top;\n",
       "    }\n",
       "\n",
       "    .dataframe thead th {\n",
       "        text-align: right;\n",
       "    }\n",
       "</style>\n",
       "<table border=\"1\" class=\"dataframe\">\n",
       "  <thead>\n",
       "    <tr style=\"text-align: right;\">\n",
       "      <th></th>\n",
       "      <th>subject_id</th>\n",
       "      <th>anchor_age</th>\n",
       "      <th>dod</th>\n",
       "      <th>ecgtime</th>\n",
       "      <th>rr_interval</th>\n",
       "      <th>p_onset</th>\n",
       "      <th>p_end</th>\n",
       "      <th>qrs_onset</th>\n",
       "      <th>qrs_end</th>\n",
       "      <th>t_end</th>\n",
       "      <th>...</th>\n",
       "      <th>t_axis</th>\n",
       "      <th>target_variable</th>\n",
       "      <th>bandwidth_0.0005-150 Hz</th>\n",
       "      <th>bandwidth_0.005-150 Hz</th>\n",
       "      <th>bandwidth_0.05-150 Hz</th>\n",
       "      <th>filtering_50 Hz notch Baseline filter</th>\n",
       "      <th>filtering_60 Hz notch Baseline filter</th>\n",
       "      <th>filtering_Baseline filter</th>\n",
       "      <th>gender_F</th>\n",
       "      <th>gender_M</th>\n",
       "    </tr>\n",
       "  </thead>\n",
       "  <tbody>\n",
       "    <tr>\n",
       "      <th>0</th>\n",
       "      <td>10001217</td>\n",
       "      <td>55</td>\n",
       "      <td>None</td>\n",
       "      <td>2157-11-18</td>\n",
       "      <td>895</td>\n",
       "      <td>40</td>\n",
       "      <td>156</td>\n",
       "      <td>204</td>\n",
       "      <td>298</td>\n",
       "      <td>622</td>\n",
       "      <td>...</td>\n",
       "      <td>48</td>\n",
       "      <td>0</td>\n",
       "      <td>0</td>\n",
       "      <td>1</td>\n",
       "      <td>0</td>\n",
       "      <td>0</td>\n",
       "      <td>1</td>\n",
       "      <td>0</td>\n",
       "      <td>1</td>\n",
       "      <td>0</td>\n",
       "    </tr>\n",
       "    <tr>\n",
       "      <th>1</th>\n",
       "      <td>10001884</td>\n",
       "      <td>68</td>\n",
       "      <td>2131-01-20</td>\n",
       "      <td>2127-07-24</td>\n",
       "      <td>882</td>\n",
       "      <td>40</td>\n",
       "      <td>154</td>\n",
       "      <td>188</td>\n",
       "      <td>328</td>\n",
       "      <td>626</td>\n",
       "      <td>...</td>\n",
       "      <td>132</td>\n",
       "      <td>1</td>\n",
       "      <td>0</td>\n",
       "      <td>1</td>\n",
       "      <td>0</td>\n",
       "      <td>0</td>\n",
       "      <td>1</td>\n",
       "      <td>0</td>\n",
       "      <td>1</td>\n",
       "      <td>0</td>\n",
       "    </tr>\n",
       "    <tr>\n",
       "      <th>2</th>\n",
       "      <td>10001884</td>\n",
       "      <td>68</td>\n",
       "      <td>2131-01-20</td>\n",
       "      <td>2131-01-10</td>\n",
       "      <td>697</td>\n",
       "      <td>40</td>\n",
       "      <td>118</td>\n",
       "      <td>152</td>\n",
       "      <td>288</td>\n",
       "      <td>546</td>\n",
       "      <td>...</td>\n",
       "      <td>119</td>\n",
       "      <td>1</td>\n",
       "      <td>0</td>\n",
       "      <td>1</td>\n",
       "      <td>0</td>\n",
       "      <td>0</td>\n",
       "      <td>1</td>\n",
       "      <td>0</td>\n",
       "      <td>1</td>\n",
       "      <td>0</td>\n",
       "    </tr>\n",
       "    <tr>\n",
       "      <th>3</th>\n",
       "      <td>10001884</td>\n",
       "      <td>68</td>\n",
       "      <td>2131-01-20</td>\n",
       "      <td>2130-10-12</td>\n",
       "      <td>882</td>\n",
       "      <td>40</td>\n",
       "      <td>112</td>\n",
       "      <td>152</td>\n",
       "      <td>292</td>\n",
       "      <td>590</td>\n",
       "      <td>...</td>\n",
       "      <td>126</td>\n",
       "      <td>1</td>\n",
       "      <td>0</td>\n",
       "      <td>1</td>\n",
       "      <td>0</td>\n",
       "      <td>0</td>\n",
       "      <td>1</td>\n",
       "      <td>0</td>\n",
       "      <td>1</td>\n",
       "      <td>0</td>\n",
       "    </tr>\n",
       "    <tr>\n",
       "      <th>4</th>\n",
       "      <td>10001884</td>\n",
       "      <td>68</td>\n",
       "      <td>2131-01-20</td>\n",
       "      <td>2125-12-01</td>\n",
       "      <td>923</td>\n",
       "      <td>40</td>\n",
       "      <td>144</td>\n",
       "      <td>180</td>\n",
       "      <td>322</td>\n",
       "      <td>614</td>\n",
       "      <td>...</td>\n",
       "      <td>117</td>\n",
       "      <td>1</td>\n",
       "      <td>0</td>\n",
       "      <td>1</td>\n",
       "      <td>0</td>\n",
       "      <td>0</td>\n",
       "      <td>1</td>\n",
       "      <td>0</td>\n",
       "      <td>1</td>\n",
       "      <td>0</td>\n",
       "    </tr>\n",
       "  </tbody>\n",
       "</table>\n",
       "<p>5 rows × 22 columns</p>\n",
       "</div>"
      ],
      "text/plain": [
       "   subject_id  anchor_age         dod     ecgtime  rr_interval  p_onset  \\\n",
       "0    10001217          55        None  2157-11-18          895       40   \n",
       "1    10001884          68  2131-01-20  2127-07-24          882       40   \n",
       "2    10001884          68  2131-01-20  2131-01-10          697       40   \n",
       "3    10001884          68  2131-01-20  2130-10-12          882       40   \n",
       "4    10001884          68  2131-01-20  2125-12-01          923       40   \n",
       "\n",
       "   p_end  qrs_onset  qrs_end  t_end  ...  t_axis  target_variable  \\\n",
       "0    156        204      298    622  ...      48                0   \n",
       "1    154        188      328    626  ...     132                1   \n",
       "2    118        152      288    546  ...     119                1   \n",
       "3    112        152      292    590  ...     126                1   \n",
       "4    144        180      322    614  ...     117                1   \n",
       "\n",
       "   bandwidth_0.0005-150 Hz  bandwidth_0.005-150 Hz  bandwidth_0.05-150 Hz  \\\n",
       "0                        0                       1                      0   \n",
       "1                        0                       1                      0   \n",
       "2                        0                       1                      0   \n",
       "3                        0                       1                      0   \n",
       "4                        0                       1                      0   \n",
       "\n",
       "   filtering_50 Hz notch Baseline filter  \\\n",
       "0                                      0   \n",
       "1                                      0   \n",
       "2                                      0   \n",
       "3                                      0   \n",
       "4                                      0   \n",
       "\n",
       "   filtering_60 Hz notch Baseline filter  filtering_Baseline filter  gender_F  \\\n",
       "0                                      1                          0         1   \n",
       "1                                      1                          0         1   \n",
       "2                                      1                          0         1   \n",
       "3                                      1                          0         1   \n",
       "4                                      1                          0         1   \n",
       "\n",
       "   gender_M  \n",
       "0         0  \n",
       "1         0  \n",
       "2         0  \n",
       "3         0  \n",
       "4         0  \n",
       "\n",
       "[5 rows x 22 columns]"
      ]
     },
     "execution_count": 91,
     "metadata": {},
     "output_type": "execute_result"
    }
   ],
   "source": [
    "class_mapping = {'Normal ECG': 0, 'Abnormal ECG': 1}\n",
    "master_data['target_variable'].replace(class_mapping, inplace=True)\n",
    "# Apply one-hot encoding to 'admission_type' and 'first_careunit'\n",
    "df_encoded = pd.get_dummies(master_data, columns=['bandwidth','filtering','gender'])\n",
    "df_encoded.head()"
   ]
  },
  {
   "cell_type": "code",
   "execution_count": 92,
   "id": "961db125",
   "metadata": {},
   "outputs": [],
   "source": [
    "columns_to_exclude = ['dod','ecgtime','subject_id']\n",
    "data = selected_columns = df_encoded.loc[:, df_encoded.columns.difference(columns_to_exclude)]"
   ]
  },
  {
   "cell_type": "code",
   "execution_count": 95,
   "id": "3caacfb3",
   "metadata": {},
   "outputs": [],
   "source": [
    "data=data.sort_index(axis=1)"
   ]
  },
  {
   "cell_type": "markdown",
   "id": "19bc24aa",
   "metadata": {},
   "source": [
    "# Base models:"
   ]
  },
  {
   "cell_type": "code",
   "execution_count": 50,
   "id": "9245c66f",
   "metadata": {},
   "outputs": [],
   "source": [
    "from sklearn.model_selection import train_test_split\n",
    "from sklearn.ensemble import RandomForestClassifier\n",
    "from sklearn.metrics import classification_report, confusion_matrix, accuracy_score\n",
    "from sklearn.model_selection import GridSearchCV, train_test_split\n",
    "from sklearn.metrics import accuracy_score\n",
    "import xgboost as xgb"
   ]
  },
  {
   "cell_type": "code",
   "execution_count": 63,
   "id": "f55ee14d",
   "metadata": {},
   "outputs": [
    {
     "name": "stdout",
     "output_type": "stream",
     "text": [
      "Logistic Regression Accuracy: 0.7115856069592724\n"
     ]
    },
    {
     "name": "stderr",
     "output_type": "stream",
     "text": [
      "C:\\ProgramData\\anaconda3\\lib\\site-packages\\sklearn\\linear_model\\_logistic.py:458: ConvergenceWarning: lbfgs failed to converge (status=1):\n",
      "STOP: TOTAL NO. of ITERATIONS REACHED LIMIT.\n",
      "\n",
      "Increase the number of iterations (max_iter) or scale the data as shown in:\n",
      "    https://scikit-learn.org/stable/modules/preprocessing.html\n",
      "Please also refer to the documentation for alternative solver options:\n",
      "    https://scikit-learn.org/stable/modules/linear_model.html#logistic-regression\n",
      "  n_iter_i = _check_optimize_result(\n"
     ]
    }
   ],
   "source": [
    "from sklearn.linear_model import LogisticRegression\n",
    "\n",
    "# Instantiate the model\n",
    "logistic_regression = LogisticRegression(random_state=42)\n",
    "\n",
    "# Fit the model\n",
    "logistic_regression.fit(X_train, y_train)\n",
    "\n",
    "# Predictions\n",
    "y_pred_lr = logistic_regression.predict(X_test)\n",
    "\n",
    "# Evaluate the model\n",
    "accuracy_lr = accuracy_score(y_test, y_pred_lr)\n",
    "print(\"Logistic Regression Accuracy:\", accuracy_lr)\n"
   ]
  },
  {
   "cell_type": "code",
   "execution_count": 62,
   "id": "94f30a62",
   "metadata": {},
   "outputs": [
    {
     "name": "stdout",
     "output_type": "stream",
     "text": [
      "SVM Accuracy: 0.8124159746935548\n"
     ]
    }
   ],
   "source": [
    "from sklearn.svm import SVC\n",
    "\n",
    "# Instantiate the model\n",
    "svm_classifier = SVC(random_state=42)\n",
    "\n",
    "# Fit the model\n",
    "svm_classifier.fit(X_train, y_train)\n",
    "\n",
    "# Predictions\n",
    "y_pred_svm = svm_classifier.predict(X_test)\n",
    "\n",
    "# Evaluate the model\n",
    "accuracy_svm = accuracy_score(y_test, y_pred_svm)\n",
    "print(\"SVM Accuracy:\", accuracy_svm)\n"
   ]
  },
  {
   "cell_type": "code",
   "execution_count": 64,
   "id": "5f6fc88b",
   "metadata": {},
   "outputs": [
    {
     "name": "stdout",
     "output_type": "stream",
     "text": [
      "KNN Accuracy: 0.8409648082245947\n"
     ]
    }
   ],
   "source": [
    "from sklearn.neighbors import KNeighborsClassifier\n",
    "\n",
    "# Instantiate the model\n",
    "knn_classifier = KNeighborsClassifier()\n",
    "\n",
    "# Fit the model\n",
    "knn_classifier.fit(X_train, y_train)\n",
    "\n",
    "# Predictions\n",
    "y_pred_knn = knn_classifier.predict(X_test)\n",
    "\n",
    "# Evaluate the model\n",
    "accuracy_knn = accuracy_score(y_test, y_pred_knn)\n",
    "print(\"KNN Accuracy:\", accuracy_knn)\n"
   ]
  },
  {
   "cell_type": "markdown",
   "id": "ab31b75e",
   "metadata": {},
   "source": [
    "## Random Forest"
   ]
  },
  {
   "cell_type": "code",
   "execution_count": 51,
   "id": "6b394513",
   "metadata": {},
   "outputs": [],
   "source": [
    "X = data.drop('target_variable', axis=1)\n",
    "y = data['target_variable']"
   ]
  },
  {
   "cell_type": "code",
   "execution_count": 52,
   "id": "057e1640",
   "metadata": {},
   "outputs": [],
   "source": [
    "X_train, X_test, y_train, y_test = train_test_split(X, y, test_size=0.2, random_state=42)"
   ]
  },
  {
   "cell_type": "code",
   "execution_count": 53,
   "id": "3017ea01",
   "metadata": {},
   "outputs": [
    {
     "data": {
      "text/html": [
       "<style>#sk-container-id-2 {color: black;background-color: white;}#sk-container-id-2 pre{padding: 0;}#sk-container-id-2 div.sk-toggleable {background-color: white;}#sk-container-id-2 label.sk-toggleable__label {cursor: pointer;display: block;width: 100%;margin-bottom: 0;padding: 0.3em;box-sizing: border-box;text-align: center;}#sk-container-id-2 label.sk-toggleable__label-arrow:before {content: \"▸\";float: left;margin-right: 0.25em;color: #696969;}#sk-container-id-2 label.sk-toggleable__label-arrow:hover:before {color: black;}#sk-container-id-2 div.sk-estimator:hover label.sk-toggleable__label-arrow:before {color: black;}#sk-container-id-2 div.sk-toggleable__content {max-height: 0;max-width: 0;overflow: hidden;text-align: left;background-color: #f0f8ff;}#sk-container-id-2 div.sk-toggleable__content pre {margin: 0.2em;color: black;border-radius: 0.25em;background-color: #f0f8ff;}#sk-container-id-2 input.sk-toggleable__control:checked~div.sk-toggleable__content {max-height: 200px;max-width: 100%;overflow: auto;}#sk-container-id-2 input.sk-toggleable__control:checked~label.sk-toggleable__label-arrow:before {content: \"▾\";}#sk-container-id-2 div.sk-estimator input.sk-toggleable__control:checked~label.sk-toggleable__label {background-color: #d4ebff;}#sk-container-id-2 div.sk-label input.sk-toggleable__control:checked~label.sk-toggleable__label {background-color: #d4ebff;}#sk-container-id-2 input.sk-hidden--visually {border: 0;clip: rect(1px 1px 1px 1px);clip: rect(1px, 1px, 1px, 1px);height: 1px;margin: -1px;overflow: hidden;padding: 0;position: absolute;width: 1px;}#sk-container-id-2 div.sk-estimator {font-family: monospace;background-color: #f0f8ff;border: 1px dotted black;border-radius: 0.25em;box-sizing: border-box;margin-bottom: 0.5em;}#sk-container-id-2 div.sk-estimator:hover {background-color: #d4ebff;}#sk-container-id-2 div.sk-parallel-item::after {content: \"\";width: 100%;border-bottom: 1px solid gray;flex-grow: 1;}#sk-container-id-2 div.sk-label:hover label.sk-toggleable__label {background-color: #d4ebff;}#sk-container-id-2 div.sk-serial::before {content: \"\";position: absolute;border-left: 1px solid gray;box-sizing: border-box;top: 0;bottom: 0;left: 50%;z-index: 0;}#sk-container-id-2 div.sk-serial {display: flex;flex-direction: column;align-items: center;background-color: white;padding-right: 0.2em;padding-left: 0.2em;position: relative;}#sk-container-id-2 div.sk-item {position: relative;z-index: 1;}#sk-container-id-2 div.sk-parallel {display: flex;align-items: stretch;justify-content: center;background-color: white;position: relative;}#sk-container-id-2 div.sk-item::before, #sk-container-id-2 div.sk-parallel-item::before {content: \"\";position: absolute;border-left: 1px solid gray;box-sizing: border-box;top: 0;bottom: 0;left: 50%;z-index: -1;}#sk-container-id-2 div.sk-parallel-item {display: flex;flex-direction: column;z-index: 1;position: relative;background-color: white;}#sk-container-id-2 div.sk-parallel-item:first-child::after {align-self: flex-end;width: 50%;}#sk-container-id-2 div.sk-parallel-item:last-child::after {align-self: flex-start;width: 50%;}#sk-container-id-2 div.sk-parallel-item:only-child::after {width: 0;}#sk-container-id-2 div.sk-dashed-wrapped {border: 1px dashed gray;margin: 0 0.4em 0.5em 0.4em;box-sizing: border-box;padding-bottom: 0.4em;background-color: white;}#sk-container-id-2 div.sk-label label {font-family: monospace;font-weight: bold;display: inline-block;line-height: 1.2em;}#sk-container-id-2 div.sk-label-container {text-align: center;}#sk-container-id-2 div.sk-container {/* jupyter's `normalize.less` sets `[hidden] { display: none; }` but bootstrap.min.css set `[hidden] { display: none !important; }` so we also need the `!important` here to be able to override the default hidden behavior on the sphinx rendered scikit-learn.org. See: https://github.com/scikit-learn/scikit-learn/issues/21755 */display: inline-block !important;position: relative;}#sk-container-id-2 div.sk-text-repr-fallback {display: none;}</style><div id=\"sk-container-id-2\" class=\"sk-top-container\"><div class=\"sk-text-repr-fallback\"><pre>RandomForestClassifier(random_state=42)</pre><b>In a Jupyter environment, please rerun this cell to show the HTML representation or trust the notebook. <br />On GitHub, the HTML representation is unable to render, please try loading this page with nbviewer.org.</b></div><div class=\"sk-container\" hidden><div class=\"sk-item\"><div class=\"sk-estimator sk-toggleable\"><input class=\"sk-toggleable__control sk-hidden--visually\" id=\"sk-estimator-id-2\" type=\"checkbox\" checked><label for=\"sk-estimator-id-2\" class=\"sk-toggleable__label sk-toggleable__label-arrow\">RandomForestClassifier</label><div class=\"sk-toggleable__content\"><pre>RandomForestClassifier(random_state=42)</pre></div></div></div></div></div>"
      ],
      "text/plain": [
       "RandomForestClassifier(random_state=42)"
      ]
     },
     "execution_count": 53,
     "metadata": {},
     "output_type": "execute_result"
    }
   ],
   "source": [
    "rf_classifier = RandomForestClassifier(n_estimators=100, random_state=42)\n",
    "rf_classifier.fit(X_train, y_train)"
   ]
  },
  {
   "cell_type": "code",
   "execution_count": 54,
   "id": "24fcdc22",
   "metadata": {},
   "outputs": [],
   "source": [
    "y_pred = rf_classifier.predict(X_test)"
   ]
  },
  {
   "cell_type": "code",
   "execution_count": 55,
   "id": "819fc699",
   "metadata": {},
   "outputs": [
    {
     "name": "stdout",
     "output_type": "stream",
     "text": [
      "[[6698  231]\n",
      " [1371 4345]]\n",
      "              precision    recall  f1-score   support\n",
      "\n",
      "           0       0.83      0.97      0.89      6929\n",
      "           1       0.95      0.76      0.84      5716\n",
      "\n",
      "    accuracy                           0.87     12645\n",
      "   macro avg       0.89      0.86      0.87     12645\n",
      "weighted avg       0.88      0.87      0.87     12645\n",
      "\n",
      "Accuracy: 0.8733096085409253\n"
     ]
    },
    {
     "data": {
      "image/png": "[encoded data removed]",
      "text/plain": [
       "<Figure size 500x500 with 2 Axes>"
      ]
     },
     "metadata": {},
     "output_type": "display_data"
    }
   ],
   "source": [
    "# Evaluating the Algorithm\n",
    "print(confusion_matrix(y_test, y_pred))\n",
    "print(classification_report(y_test, y_pred))\n",
    "print(\"Accuracy:\", accuracy_score(y_test, y_pred))\n",
    "\n",
    "cm = confusion_matrix(y_test, y_pred)\n",
    "\n",
    "# Creating a heatmap from the confusion matrix\n",
    "plt.figure(figsize=(5, 5))\n",
    "sns.heatmap(cm, annot=True, fmt='g', cmap='Blues')\n",
    "plt.xlabel('Predicted labels')\n",
    "plt.ylabel('True labels')\n",
    "plt.title('Confusion Matrix')\n",
    "plt.show()"
   ]
  },
  {
   "cell_type": "code",
   "execution_count": 56,
   "id": "9b304169",
   "metadata": {},
   "outputs": [
    {
     "name": "stdout",
     "output_type": "stream",
     "text": [
      "                                  feature  importance\n",
      "16                                 t_axis    0.262459\n",
      "15                            rr_interval    0.142780\n",
      "13                                qrs_end    0.141437\n",
      "14                              qrs_onset    0.105661\n",
      "17                                  t_end    0.091694\n",
      "12                               qrs_axis    0.071618\n",
      "0                              anchor_age    0.061713\n",
      "9                                  p_axis    0.058157\n",
      "10                                  p_end    0.046075\n",
      "7                                gender_F    0.004566\n",
      "8                                gender_M    0.004501\n",
      "3                   bandwidth_0.05-150 Hz    0.003050\n",
      "2                  bandwidth_0.005-150 Hz    0.002824\n",
      "5   filtering_60 Hz notch Baseline filter    0.001178\n",
      "6               filtering_Baseline filter    0.001006\n",
      "1                 bandwidth_0.0005-150 Hz    0.000944\n",
      "4   filtering_50 Hz notch Baseline filter    0.000336\n",
      "11                                p_onset    0.000000\n"
     ]
    }
   ],
   "source": [
    "# Extract feature importances\n",
    "feature_importances = rf_classifier.feature_importances_\n",
    "\n",
    "# Convert the importances into a DataFrame\n",
    "feature_importances_df = pd.DataFrame({'feature': X.columns, 'importance': feature_importances})\n",
    "\n",
    "# Sort the DataFrame by importance\n",
    "feature_importances_df = feature_importances_df.sort_values(by='importance', ascending=False)\n",
    "\n",
    "# Display the feature importances\n",
    "print(feature_importances_df)"
   ]
  },
  {
   "cell_type": "code",
   "execution_count": 57,
   "id": "08a05822",
   "metadata": {},
   "outputs": [
    {
     "data": {
      "image/png": "[encoded data removed]",
      "text/plain": [
       "<Figure size 1200x800 with 1 Axes>"
      ]
     },
     "metadata": {},
     "output_type": "display_data"
    }
   ],
   "source": [
    "# Plotting feature importances\n",
    "plt.figure(figsize=(12, 8))\n",
    "sns.barplot(x='importance', y='feature', data=feature_importances_df)\n",
    "plt.title('Feature Importance in Random Forest Classifier')\n",
    "plt.xlabel('Importance')\n",
    "plt.ylabel('Feature')\n",
    "plt.show()"
   ]
  },
  {
   "cell_type": "markdown",
   "id": "da42c018",
   "metadata": {},
   "source": [
    "# Model: Random Forest - Hyper Tuned"
   ]
  },
  {
   "cell_type": "code",
   "execution_count": 58,
   "id": "6e492406",
   "metadata": {},
   "outputs": [
    {
     "name": "stdout",
     "output_type": "stream",
     "text": [
      "Fitting 3 folds for each of 108 candidates, totalling 324 fits\n",
      "Best parameters found:  {'max_depth': None, 'min_samples_leaf': 2, 'min_samples_split': 5, 'n_estimators': 300}\n",
      "Best accuracy found:  0.872175099353461\n",
      "Accuracy with best parameters: 0.8741004349545275\n"
     ]
    }
   ],
   "source": [
    "X = data.drop('target_variable', axis=1)\n",
    "y = data['target_variable']\n",
    "\n",
    "# Splitting the dataset into the Training set and Test set\n",
    "X_train, X_test, y_train, y_test = train_test_split(X, y, test_size=0.2, random_state=42)\n",
    "\n",
    "# Define the hyperparameter grid to search\n",
    "param_grid = {\n",
    "    'n_estimators': [100, 200, 300],\n",
    "    'max_depth': [None, 10, 20, 30],\n",
    "    'min_samples_split': [2, 5, 10],\n",
    "    'min_samples_leaf': [1, 2, 4]\n",
    "}\n",
    "\n",
    "# Create a base RandomForest model\n",
    "rf = RandomForestClassifier(random_state=42)\n",
    "\n",
    "# Instantiate the grid search model\n",
    "grid_search = GridSearchCV(estimator=rf, param_grid=param_grid, \n",
    "                           cv=3, n_jobs=-1, verbose=2, scoring='accuracy')\n",
    "\n",
    "# Fit the grid search to the data\n",
    "grid_search.fit(X_train, y_train)\n",
    "\n",
    "# Get the best parameters and best score from the grid search\n",
    "best_params = grid_search.best_params_\n",
    "best_score = grid_search.best_score_\n",
    "\n",
    "print(\"Best parameters found: \", best_params)\n",
    "print(\"Best accuracy found: \", best_score)\n",
    "\n",
    "# Use the best estimator to make predictions\n",
    "best_rf = grid_search.best_estimator_\n",
    "y_pred = best_rf.predict(X_test)\n",
    "\n",
    "# Evaluate the model\n",
    "accuracy = accuracy_score(y_test, y_pred)\n",
    "print(\"Accuracy with best parameters:\", accuracy)\n"
   ]
  },
  {
   "cell_type": "markdown",
   "id": "5215cecf",
   "metadata": {},
   "source": [
    "# Model: XG Boost model"
   ]
  },
  {
   "cell_type": "code",
   "execution_count": 59,
   "id": "fd88023f",
   "metadata": {},
   "outputs": [
    {
     "name": "stdout",
     "output_type": "stream",
     "text": [
      "Accuracy: 0.8733886911822855\n"
     ]
    }
   ],
   "source": [
    "X = data.drop('target_variable', axis=1)\n",
    "y = data['target_variable']\n",
    "\n",
    "# Splitting the dataset into the Training set and Test set\n",
    "X_train, X_test, y_train, y_test = train_test_split(X, y, test_size=0.2, random_state=42)\n",
    "\n",
    "# Instantiate an XGBoost classifier\n",
    "xgb_classifier = xgb.XGBClassifier(objective='binary:logistic', random_state=42)\n",
    "\n",
    "# Fit the classifier to the training set\n",
    "xgb_classifier.fit(X_train, y_train)\n",
    "\n",
    "# Predicting the Test set results\n",
    "y_pred = xgb_classifier.predict(X_test)\n",
    "\n",
    "# Evaluate the model\n",
    "accuracy = accuracy_score(y_test, y_pred)\n",
    "print(\"Accuracy:\", accuracy)"
   ]
  },
  {
   "cell_type": "markdown",
   "id": "da642d86",
   "metadata": {},
   "source": [
    "# Model: XG Boost - Hyper Tuned"
   ]
  },
  {
   "cell_type": "code",
   "execution_count": 96,
   "id": "623b3dad",
   "metadata": {
    "scrolled": true
   },
   "outputs": [
    {
     "name": "stdout",
     "output_type": "stream",
     "text": [
      "Fitting 5 folds for each of 36 candidates, totalling 180 fits\n",
      "Best parameters found:  {'learning_rate': 0.2, 'max_depth': 3, 'n_estimators': 200}\n",
      "Best accuracy found:  0.8753386353494716\n"
     ]
    }
   ],
   "source": [
    "X = data.drop('target_variable', axis=1)\n",
    "y = data['target_variable']\n",
    "\n",
    "# Splitting the dataset into the Training set and Test set\n",
    "X_train, X_test, y_train, y_test = train_test_split(X, y, test_size=0.2, random_state=42)\n",
    "\n",
    "# Define the parameter grid to search\n",
    "param_grid = {\n",
    "    'n_estimators': [100, 200, 300],\n",
    "    'learning_rate': [0.01, 0.1, 0.2],\n",
    "    'max_depth': [3, 4, 5,8],\n",
    "    # Add other parameters here\n",
    "}\n",
    "\n",
    "# Create a base model\n",
    "xgb_classifier = xgb.XGBClassifier(random_state=42)\n",
    "\n",
    "# Instantiate the grid search model\n",
    "grid_search = GridSearchCV(estimator=xgb_classifier, param_grid=param_grid, \n",
    "                           cv=5, n_jobs=-1, verbose=2, scoring='accuracy')\n",
    "\n",
    "# Fit the grid search to the data\n",
    "grid_search.fit(X_train, y_train)\n",
    "\n",
    "# Print the best parameters and the best score\n",
    "print(\"Best parameters found: \", grid_search.best_params_)\n",
    "print(\"Best accuracy found: \", grid_search.best_score_)"
   ]
  },
  {
   "cell_type": "code",
   "execution_count": 97,
   "id": "5bc8dbb0",
   "metadata": {},
   "outputs": [
    {
     "name": "stdout",
     "output_type": "stream",
     "text": [
      "Model saved to icu_patient_ecg_prediction.pkl\n"
     ]
    }
   ],
   "source": [
    "import pickle\n",
    "# Save the model to disk\n",
    "filename = 'icu_patient_ecg_prediction.pkl'  # Change this path if you need to save it elsewhere\n",
    "pickle.dump(grid_search.best_estimator_, open(filename, 'wb'))\n",
    "\n",
    "print(f\"Model saved to {filename}\")"
   ]
  },
  {
   "cell_type": "code",
   "execution_count": null,
   "id": "1b06ab5c",
   "metadata": {},
   "outputs": [],
   "source": []
  },
  {
   "cell_type": "code",
   "execution_count": null,
   "id": "35dbc2f7",
   "metadata": {},
   "outputs": [],
   "source": []
  },
  {
   "cell_type": "code",
   "execution_count": 98,
   "id": "e26f700c",
   "metadata": {},
   "outputs": [
    {
     "data": {
      "text/html": [
       "<div>\n",
       "<style scoped>\n",
       "    .dataframe tbody tr th:only-of-type {\n",
       "        vertical-align: middle;\n",
       "    }\n",
       "\n",
       "    .dataframe tbody tr th {\n",
       "        vertical-align: top;\n",
       "    }\n",
       "\n",
       "    .dataframe thead th {\n",
       "        text-align: right;\n",
       "    }\n",
       "</style>\n",
       "<table border=\"1\" class=\"dataframe\">\n",
       "  <thead>\n",
       "    <tr style=\"text-align: right;\">\n",
       "      <th></th>\n",
       "      <th>anchor_age</th>\n",
       "      <th>bandwidth_0.0005-150 Hz</th>\n",
       "      <th>bandwidth_0.005-150 Hz</th>\n",
       "      <th>bandwidth_0.05-150 Hz</th>\n",
       "      <th>filtering_50 Hz notch Baseline filter</th>\n",
       "      <th>filtering_60 Hz notch Baseline filter</th>\n",
       "      <th>filtering_Baseline filter</th>\n",
       "      <th>gender_F</th>\n",
       "      <th>gender_M</th>\n",
       "      <th>p_axis</th>\n",
       "      <th>p_end</th>\n",
       "      <th>p_onset</th>\n",
       "      <th>qrs_axis</th>\n",
       "      <th>qrs_end</th>\n",
       "      <th>qrs_onset</th>\n",
       "      <th>rr_interval</th>\n",
       "      <th>t_axis</th>\n",
       "      <th>t_end</th>\n",
       "    </tr>\n",
       "  </thead>\n",
       "  <tbody>\n",
       "    <tr>\n",
       "      <th>28352</th>\n",
       "      <td>68</td>\n",
       "      <td>0</td>\n",
       "      <td>1</td>\n",
       "      <td>0</td>\n",
       "      <td>0</td>\n",
       "      <td>1</td>\n",
       "      <td>0</td>\n",
       "      <td>1</td>\n",
       "      <td>0</td>\n",
       "      <td>37</td>\n",
       "      <td>142</td>\n",
       "      <td>40</td>\n",
       "      <td>-3</td>\n",
       "      <td>264</td>\n",
       "      <td>196</td>\n",
       "      <td>740</td>\n",
       "      <td>81</td>\n",
       "      <td>556</td>\n",
       "    </tr>\n",
       "    <tr>\n",
       "      <th>7822</th>\n",
       "      <td>62</td>\n",
       "      <td>0</td>\n",
       "      <td>1</td>\n",
       "      <td>0</td>\n",
       "      <td>0</td>\n",
       "      <td>1</td>\n",
       "      <td>0</td>\n",
       "      <td>0</td>\n",
       "      <td>1</td>\n",
       "      <td>39</td>\n",
       "      <td>150</td>\n",
       "      <td>40</td>\n",
       "      <td>38</td>\n",
       "      <td>356</td>\n",
       "      <td>218</td>\n",
       "      <td>582</td>\n",
       "      <td>-50</td>\n",
       "      <td>592</td>\n",
       "    </tr>\n",
       "    <tr>\n",
       "      <th>32595</th>\n",
       "      <td>77</td>\n",
       "      <td>0</td>\n",
       "      <td>1</td>\n",
       "      <td>0</td>\n",
       "      <td>0</td>\n",
       "      <td>1</td>\n",
       "      <td>0</td>\n",
       "      <td>1</td>\n",
       "      <td>0</td>\n",
       "      <td>71</td>\n",
       "      <td>188</td>\n",
       "      <td>40</td>\n",
       "      <td>29</td>\n",
       "      <td>350</td>\n",
       "      <td>270</td>\n",
       "      <td>740</td>\n",
       "      <td>56</td>\n",
       "      <td>630</td>\n",
       "    </tr>\n",
       "    <tr>\n",
       "      <th>52674</th>\n",
       "      <td>55</td>\n",
       "      <td>0</td>\n",
       "      <td>1</td>\n",
       "      <td>0</td>\n",
       "      <td>0</td>\n",
       "      <td>1</td>\n",
       "      <td>0</td>\n",
       "      <td>0</td>\n",
       "      <td>1</td>\n",
       "      <td>50</td>\n",
       "      <td>170</td>\n",
       "      <td>40</td>\n",
       "      <td>10</td>\n",
       "      <td>306</td>\n",
       "      <td>192</td>\n",
       "      <td>638</td>\n",
       "      <td>21</td>\n",
       "      <td>572</td>\n",
       "    </tr>\n",
       "    <tr>\n",
       "      <th>52631</th>\n",
       "      <td>61</td>\n",
       "      <td>0</td>\n",
       "      <td>1</td>\n",
       "      <td>0</td>\n",
       "      <td>0</td>\n",
       "      <td>1</td>\n",
       "      <td>0</td>\n",
       "      <td>1</td>\n",
       "      <td>0</td>\n",
       "      <td>34</td>\n",
       "      <td>150</td>\n",
       "      <td>40</td>\n",
       "      <td>0</td>\n",
       "      <td>322</td>\n",
       "      <td>180</td>\n",
       "      <td>731</td>\n",
       "      <td>33</td>\n",
       "      <td>598</td>\n",
       "    </tr>\n",
       "    <tr>\n",
       "      <th>...</th>\n",
       "      <td>...</td>\n",
       "      <td>...</td>\n",
       "      <td>...</td>\n",
       "      <td>...</td>\n",
       "      <td>...</td>\n",
       "      <td>...</td>\n",
       "      <td>...</td>\n",
       "      <td>...</td>\n",
       "      <td>...</td>\n",
       "      <td>...</td>\n",
       "      <td>...</td>\n",
       "      <td>...</td>\n",
       "      <td>...</td>\n",
       "      <td>...</td>\n",
       "      <td>...</td>\n",
       "      <td>...</td>\n",
       "      <td>...</td>\n",
       "      <td>...</td>\n",
       "    </tr>\n",
       "    <tr>\n",
       "      <th>17067</th>\n",
       "      <td>33</td>\n",
       "      <td>0</td>\n",
       "      <td>1</td>\n",
       "      <td>0</td>\n",
       "      <td>0</td>\n",
       "      <td>1</td>\n",
       "      <td>0</td>\n",
       "      <td>1</td>\n",
       "      <td>0</td>\n",
       "      <td>59</td>\n",
       "      <td>138</td>\n",
       "      <td>40</td>\n",
       "      <td>28</td>\n",
       "      <td>260</td>\n",
       "      <td>168</td>\n",
       "      <td>869</td>\n",
       "      <td>37</td>\n",
       "      <td>576</td>\n",
       "    </tr>\n",
       "    <tr>\n",
       "      <th>35890</th>\n",
       "      <td>71</td>\n",
       "      <td>0</td>\n",
       "      <td>1</td>\n",
       "      <td>0</td>\n",
       "      <td>0</td>\n",
       "      <td>1</td>\n",
       "      <td>0</td>\n",
       "      <td>1</td>\n",
       "      <td>0</td>\n",
       "      <td>56</td>\n",
       "      <td>128</td>\n",
       "      <td>40</td>\n",
       "      <td>-18</td>\n",
       "      <td>344</td>\n",
       "      <td>198</td>\n",
       "      <td>638</td>\n",
       "      <td>133</td>\n",
       "      <td>590</td>\n",
       "    </tr>\n",
       "    <tr>\n",
       "      <th>36503</th>\n",
       "      <td>58</td>\n",
       "      <td>0</td>\n",
       "      <td>1</td>\n",
       "      <td>0</td>\n",
       "      <td>0</td>\n",
       "      <td>1</td>\n",
       "      <td>0</td>\n",
       "      <td>1</td>\n",
       "      <td>0</td>\n",
       "      <td>55</td>\n",
       "      <td>170</td>\n",
       "      <td>40</td>\n",
       "      <td>-9</td>\n",
       "      <td>298</td>\n",
       "      <td>202</td>\n",
       "      <td>612</td>\n",
       "      <td>58</td>\n",
       "      <td>546</td>\n",
       "    </tr>\n",
       "    <tr>\n",
       "      <th>55553</th>\n",
       "      <td>77</td>\n",
       "      <td>0</td>\n",
       "      <td>1</td>\n",
       "      <td>0</td>\n",
       "      <td>0</td>\n",
       "      <td>1</td>\n",
       "      <td>0</td>\n",
       "      <td>1</td>\n",
       "      <td>0</td>\n",
       "      <td>30</td>\n",
       "      <td>118</td>\n",
       "      <td>40</td>\n",
       "      <td>21</td>\n",
       "      <td>308</td>\n",
       "      <td>236</td>\n",
       "      <td>895</td>\n",
       "      <td>-16</td>\n",
       "      <td>672</td>\n",
       "    </tr>\n",
       "    <tr>\n",
       "      <th>43256</th>\n",
       "      <td>63</td>\n",
       "      <td>0</td>\n",
       "      <td>1</td>\n",
       "      <td>0</td>\n",
       "      <td>0</td>\n",
       "      <td>1</td>\n",
       "      <td>0</td>\n",
       "      <td>1</td>\n",
       "      <td>0</td>\n",
       "      <td>-22</td>\n",
       "      <td>146</td>\n",
       "      <td>40</td>\n",
       "      <td>7</td>\n",
       "      <td>270</td>\n",
       "      <td>184</td>\n",
       "      <td>1176</td>\n",
       "      <td>33</td>\n",
       "      <td>628</td>\n",
       "    </tr>\n",
       "  </tbody>\n",
       "</table>\n",
       "<p>12645 rows × 18 columns</p>\n",
       "</div>"
      ],
      "text/plain": [
       "       anchor_age  bandwidth_0.0005-150 Hz  bandwidth_0.005-150 Hz  \\\n",
       "28352          68                        0                       1   \n",
       "7822           62                        0                       1   \n",
       "32595          77                        0                       1   \n",
       "52674          55                        0                       1   \n",
       "52631          61                        0                       1   \n",
       "...           ...                      ...                     ...   \n",
       "17067          33                        0                       1   \n",
       "35890          71                        0                       1   \n",
       "36503          58                        0                       1   \n",
       "55553          77                        0                       1   \n",
       "43256          63                        0                       1   \n",
       "\n",
       "       bandwidth_0.05-150 Hz  filtering_50 Hz notch Baseline filter  \\\n",
       "28352                      0                                      0   \n",
       "7822                       0                                      0   \n",
       "32595                      0                                      0   \n",
       "52674                      0                                      0   \n",
       "52631                      0                                      0   \n",
       "...                      ...                                    ...   \n",
       "17067                      0                                      0   \n",
       "35890                      0                                      0   \n",
       "36503                      0                                      0   \n",
       "55553                      0                                      0   \n",
       "43256                      0                                      0   \n",
       "\n",
       "       filtering_60 Hz notch Baseline filter  filtering_Baseline filter  \\\n",
       "28352                                      1                          0   \n",
       "7822                                       1                          0   \n",
       "32595                                      1                          0   \n",
       "52674                                      1                          0   \n",
       "52631                                      1                          0   \n",
       "...                                      ...                        ...   \n",
       "17067                                      1                          0   \n",
       "35890                                      1                          0   \n",
       "36503                                      1                          0   \n",
       "55553                                      1                          0   \n",
       "43256                                      1                          0   \n",
       "\n",
       "       gender_F  gender_M  p_axis  p_end  p_onset  qrs_axis  qrs_end  \\\n",
       "28352         1         0      37    142       40        -3      264   \n",
       "7822          0         1      39    150       40        38      356   \n",
       "32595         1         0      71    188       40        29      350   \n",
       "52674         0         1      50    170       40        10      306   \n",
       "52631         1         0      34    150       40         0      322   \n",
       "...         ...       ...     ...    ...      ...       ...      ...   \n",
       "17067         1         0      59    138       40        28      260   \n",
       "35890         1         0      56    128       40       -18      344   \n",
       "36503         1         0      55    170       40        -9      298   \n",
       "55553         1         0      30    118       40        21      308   \n",
       "43256         1         0     -22    146       40         7      270   \n",
       "\n",
       "       qrs_onset  rr_interval  t_axis  t_end  \n",
       "28352        196          740      81    556  \n",
       "7822         218          582     -50    592  \n",
       "32595        270          740      56    630  \n",
       "52674        192          638      21    572  \n",
       "52631        180          731      33    598  \n",
       "...          ...          ...     ...    ...  \n",
       "17067        168          869      37    576  \n",
       "35890        198          638     133    590  \n",
       "36503        202          612      58    546  \n",
       "55553        236          895     -16    672  \n",
       "43256        184         1176      33    628  \n",
       "\n",
       "[12645 rows x 18 columns]"
      ]
     },
     "execution_count": 98,
     "metadata": {},
     "output_type": "execute_result"
    }
   ],
   "source": [
    "X_test"
   ]
  },
  {
   "cell_type": "code",
   "execution_count": 67,
   "id": "d03a9124",
   "metadata": {},
   "outputs": [
    {
     "name": "stderr",
     "output_type": "stream",
     "text": [
      "C:\\Users\\krishika.R\\AppData\\Roaming\\Python\\Python310\\site-packages\\xgboost\\core.py:160: UserWarning: [14:46:08] WARNING: C:\\buildkite-agent\\builds\\buildkite-windows-cpu-autoscaling-group-i-0b3782d1791676daf-1\\xgboost\\xgboost-ci-windows\\src\\learner.cc:742: \n",
      "Parameters: { \"n_estimators\" } are not used.\n",
      "\n",
      "  warnings.warn(smsg, UserWarning)\n",
      "C:\\Users\\krishika.R\\AppData\\Roaming\\Python\\Python310\\site-packages\\xgboost\\core.py:160: UserWarning: [14:46:08] WARNING: C:\\buildkite-agent\\builds\\buildkite-windows-cpu-autoscaling-group-i-0b3782d1791676daf-1\\xgboost\\xgboost-ci-windows\\src\\c_api\\c_api.cc:1240: Saving into deprecated binary model format, please consider using `json` or `ubj`. Model format will default to JSON in XGBoost 2.2 if not specified.\n",
      "  warnings.warn(smsg, UserWarning)\n"
     ]
    }
   ],
   "source": [
    "import xgboost as xgb\n",
    "\n",
    "dtrain = xgb.DMatrix(X_train, label=y_train)\n",
    "params = {\n",
    "    'n_estimators': 300,\n",
    "    'learning_rate': 0.1,\n",
    "    'max_depth': 4\n",
    "}\n",
    "\n",
    "# Assume xgb_model is your trained model\n",
    "xgb_model = xgb.train(params, dtrain, 180)\n",
    "\n",
    "# Save the model\n",
    "model_file_path = \"xgboost_model_v2_2_file.model\"\n",
    "xgb_model.save_model(model_file_path)"
   ]
  },
  {
   "cell_type": "code",
   "execution_count": null,
   "id": "5c1a7b5d",
   "metadata": {},
   "outputs": [],
   "source": []
  },
  {
   "cell_type": "code",
   "execution_count": null,
   "id": "229dde48",
   "metadata": {},
   "outputs": [],
   "source": []
  },
  {
   "cell_type": "code",
   "execution_count": 61,
   "id": "fc36defc",
   "metadata": {},
   "outputs": [
    {
     "name": "stdout",
     "output_type": "stream",
     "text": [
      "Confusion Matrix:\n",
      "[[6725  204]\n",
      " [1379 4337]]\n"
     ]
    }
   ],
   "source": [
    "best_model = grid_search.best_estimator_\n",
    "\n",
    "# Predict the labels on the test set\n",
    "y_pred = best_model.predict(X_test)\n",
    "\n",
    "# Generate the confusion matrix\n",
    "conf_matrix = confusion_matrix(y_test, y_pred)\n",
    "\n",
    "print(\"Confusion Matrix:\")\n",
    "print(conf_matrix)"
   ]
  }
 ],
 "metadata": {
  "kernelspec": {
   "display_name": "Python 3 (ipykernel)",
   "language": "python",
   "name": "python3"
  },
  "language_info": {
   "codemirror_mode": {
    "name": "ipython",
    "version": 3
   },
   "file_extension": ".py",
   "mimetype": "text/x-python",
   "name": "python",
   "nbconvert_exporter": "python",
   "pygments_lexer": "ipython3",
   "version": "3.10.9"
  }
 },
 "nbformat": 4,
 "nbformat_minor": 5
}
