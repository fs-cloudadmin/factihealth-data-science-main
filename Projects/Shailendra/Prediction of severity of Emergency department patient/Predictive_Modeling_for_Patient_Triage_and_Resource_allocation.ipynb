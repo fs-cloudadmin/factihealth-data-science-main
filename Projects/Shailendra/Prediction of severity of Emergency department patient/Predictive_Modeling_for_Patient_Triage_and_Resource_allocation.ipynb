{
 "cells": [
  {
   "cell_type": "code",
   "execution_count": 2,
   "id": "baf38d91",
   "metadata": {},
   "outputs": [],
   "source": [
    "import warnings\n",
    "warnings.filterwarnings(\"ignore\")"
   ]
  },
  {
   "cell_type": "code",
   "execution_count": 43,
   "id": "3585b32d",
   "metadata": {
    "id": "3585b32d"
   },
   "outputs": [],
   "source": [
    "import pandas as pd\n",
    "import seaborn as sns\n",
    "import matplotlib.pyplot as plt\n",
    "import pickle\n",
    "from sklearn.preprocessing import StandardScaler\n",
    "from sklearn.preprocessing import LabelEncoder\n",
    "from sklearn.model_selection import train_test_split\n",
    "from sklearn.ensemble import RandomForestClassifier\n",
    "from sklearn.linear_model import LogisticRegression\n",
    "from sklearn.ensemble import GradientBoostingClassifier\n",
    "from xgboost import XGBClassifier\n",
    "from sklearn.metrics import accuracy_score, classification_report\n",
    "from sklearn.ensemble import AdaBoostClassifier\n",
    "from sklearn.ensemble import GradientBoostingClassifier"
   ]
  },
  {
   "cell_type": "markdown",
   "id": "41d25b4b",
   "metadata": {
    "id": "41d25b4b"
   },
   "source": [
    "# Loading data"
   ]
  },
  {
   "cell_type": "code",
   "execution_count": 4,
   "id": "3bdb220b",
   "metadata": {
    "id": "3bdb220b"
   },
   "outputs": [],
   "source": [
    "df=pd.read_csv(\"triage.csv.gz\")"
   ]
  },
  {
   "cell_type": "code",
   "execution_count": 5,
   "id": "ad6799ec",
   "metadata": {
    "colab": {
     "base_uri": "https://localhost:8080/",
     "height": 206
    },
    "id": "ad6799ec",
    "outputId": "e13c1499-ece7-4ea8-8951-31d690f59a3b"
   },
   "outputs": [
    {
     "data": {
      "text/html": [
       "<div>\n",
       "<style scoped>\n",
       "    .dataframe tbody tr th:only-of-type {\n",
       "        vertical-align: middle;\n",
       "    }\n",
       "\n",
       "    .dataframe tbody tr th {\n",
       "        vertical-align: top;\n",
       "    }\n",
       "\n",
       "    .dataframe thead th {\n",
       "        text-align: right;\n",
       "    }\n",
       "</style>\n",
       "<table border=\"1\" class=\"dataframe\">\n",
       "  <thead>\n",
       "    <tr style=\"text-align: right;\">\n",
       "      <th></th>\n",
       "      <th>subject_id</th>\n",
       "      <th>stay_id</th>\n",
       "      <th>temperature</th>\n",
       "      <th>heartrate</th>\n",
       "      <th>resprate</th>\n",
       "      <th>o2sat</th>\n",
       "      <th>sbp</th>\n",
       "      <th>dbp</th>\n",
       "      <th>pain</th>\n",
       "      <th>acuity</th>\n",
       "      <th>chiefcomplaint</th>\n",
       "    </tr>\n",
       "  </thead>\n",
       "  <tbody>\n",
       "    <tr>\n",
       "      <th>397743</th>\n",
       "      <td>19353810</td>\n",
       "      <td>31920651</td>\n",
       "      <td>98.4</td>\n",
       "      <td>70.0</td>\n",
       "      <td>18.0</td>\n",
       "      <td>99.0</td>\n",
       "      <td>188.0</td>\n",
       "      <td>80.0</td>\n",
       "      <td>0</td>\n",
       "      <td>3.0</td>\n",
       "      <td>N/V</td>\n",
       "    </tr>\n",
       "    <tr>\n",
       "      <th>348472</th>\n",
       "      <td>18193563</td>\n",
       "      <td>30847143</td>\n",
       "      <td>98.8</td>\n",
       "      <td>64.0</td>\n",
       "      <td>18.0</td>\n",
       "      <td>100.0</td>\n",
       "      <td>179.0</td>\n",
       "      <td>56.0</td>\n",
       "      <td>0</td>\n",
       "      <td>3.0</td>\n",
       "      <td>Dyspnea</td>\n",
       "    </tr>\n",
       "    <tr>\n",
       "      <th>157696</th>\n",
       "      <td>13735655</td>\n",
       "      <td>32513605</td>\n",
       "      <td>98.4</td>\n",
       "      <td>65.0</td>\n",
       "      <td>18.0</td>\n",
       "      <td>100.0</td>\n",
       "      <td>186.0</td>\n",
       "      <td>94.0</td>\n",
       "      <td>8</td>\n",
       "      <td>3.0</td>\n",
       "      <td>Abd pain, Headache</td>\n",
       "    </tr>\n",
       "    <tr>\n",
       "      <th>192700</th>\n",
       "      <td>14539981</td>\n",
       "      <td>38826214</td>\n",
       "      <td>97.1</td>\n",
       "      <td>109.0</td>\n",
       "      <td>18.0</td>\n",
       "      <td>96.0</td>\n",
       "      <td>150.0</td>\n",
       "      <td>90.0</td>\n",
       "      <td>10</td>\n",
       "      <td>2.0</td>\n",
       "      <td>LLQ abdominal pain</td>\n",
       "    </tr>\n",
       "    <tr>\n",
       "      <th>270888</th>\n",
       "      <td>16370759</td>\n",
       "      <td>31182627</td>\n",
       "      <td>98.8</td>\n",
       "      <td>91.0</td>\n",
       "      <td>18.0</td>\n",
       "      <td>97.0</td>\n",
       "      <td>98.0</td>\n",
       "      <td>52.0</td>\n",
       "      <td>4</td>\n",
       "      <td>2.0</td>\n",
       "      <td>FEVER</td>\n",
       "    </tr>\n",
       "  </tbody>\n",
       "</table>\n",
       "</div>"
      ],
      "text/plain": [
       "        subject_id   stay_id  temperature  heartrate  resprate  o2sat    sbp  \\\n",
       "397743    19353810  31920651         98.4       70.0      18.0   99.0  188.0   \n",
       "348472    18193563  30847143         98.8       64.0      18.0  100.0  179.0   \n",
       "157696    13735655  32513605         98.4       65.0      18.0  100.0  186.0   \n",
       "192700    14539981  38826214         97.1      109.0      18.0   96.0  150.0   \n",
       "270888    16370759  31182627         98.8       91.0      18.0   97.0   98.0   \n",
       "\n",
       "         dbp pain  acuity      chiefcomplaint  \n",
       "397743  80.0    0     3.0                 N/V  \n",
       "348472  56.0    0     3.0             Dyspnea  \n",
       "157696  94.0    8     3.0  Abd pain, Headache  \n",
       "192700  90.0   10     2.0  LLQ abdominal pain  \n",
       "270888  52.0    4     2.0               FEVER  "
      ]
     },
     "execution_count": 5,
     "metadata": {},
     "output_type": "execute_result"
    }
   ],
   "source": [
    "df.sample(5)"
   ]
  },
  {
   "cell_type": "code",
   "execution_count": 6,
   "id": "b2800fe1",
   "metadata": {
    "colab": {
     "base_uri": "https://localhost:8080/"
    },
    "id": "b2800fe1",
    "outputId": "80938eae-bddd-45d8-d30b-66dbd45ad55b"
   },
   "outputs": [
    {
     "data": {
      "text/plain": [
       "Index(['subject_id', 'stay_id', 'temperature', 'heartrate', 'resprate',\n",
       "       'o2sat', 'sbp', 'dbp', 'pain', 'acuity', 'chiefcomplaint'],\n",
       "      dtype='object')"
      ]
     },
     "execution_count": 6,
     "metadata": {},
     "output_type": "execute_result"
    }
   ],
   "source": [
    "df.columns"
   ]
  },
  {
   "cell_type": "markdown",
   "id": "f9b9d04e",
   "metadata": {
    "id": "f9b9d04e"
   },
   "source": [
    "# Basic data understanding"
   ]
  },
  {
   "cell_type": "code",
   "execution_count": 7,
   "id": "72d4ebe5",
   "metadata": {
    "colab": {
     "base_uri": "https://localhost:8080/"
    },
    "id": "72d4ebe5",
    "outputId": "506e96e7-be9d-45e0-f508-e8e518b69eb7"
   },
   "outputs": [
    {
     "data": {
      "text/plain": [
       "(425087, 11)"
      ]
     },
     "execution_count": 7,
     "metadata": {},
     "output_type": "execute_result"
    }
   ],
   "source": [
    "df.shape"
   ]
  },
  {
   "cell_type": "code",
   "execution_count": 8,
   "id": "9431eeb5",
   "metadata": {
    "colab": {
     "base_uri": "https://localhost:8080/"
    },
    "id": "9431eeb5",
    "outputId": "b18162fa-5cd5-46b7-ca35-6a56bfa5a9b4"
   },
   "outputs": [
    {
     "name": "stdout",
     "output_type": "stream",
     "text": [
      "<class 'pandas.core.frame.DataFrame'>\n",
      "RangeIndex: 425087 entries, 0 to 425086\n",
      "Data columns (total 11 columns):\n",
      " #   Column          Non-Null Count   Dtype  \n",
      "---  ------          --------------   -----  \n",
      " 0   subject_id      425087 non-null  int64  \n",
      " 1   stay_id         425087 non-null  int64  \n",
      " 2   temperature     401672 non-null  float64\n",
      " 3   heartrate       407997 non-null  float64\n",
      " 4   resprate        404734 non-null  float64\n",
      " 5   o2sat           404491 non-null  float64\n",
      " 6   sbp             406796 non-null  float64\n",
      " 7   dbp             405996 non-null  float64\n",
      " 8   pain            412154 non-null  object \n",
      " 9   acuity          418100 non-null  float64\n",
      " 10  chiefcomplaint  425064 non-null  object \n",
      "dtypes: float64(7), int64(2), object(2)\n",
      "memory usage: 35.7+ MB\n"
     ]
    }
   ],
   "source": [
    "df.info()"
   ]
  },
  {
   "cell_type": "markdown",
   "id": "c97387c1",
   "metadata": {
    "id": "c97387c1"
   },
   "source": [
    "## Duplicate"
   ]
  },
  {
   "cell_type": "code",
   "execution_count": 9,
   "id": "2f7d0b8d",
   "metadata": {
    "colab": {
     "base_uri": "https://localhost:8080/"
    },
    "id": "2f7d0b8d",
    "outputId": "bafe403c-bc92-41b0-c7b1-b533cc62baa1"
   },
   "outputs": [
    {
     "name": "stdout",
     "output_type": "stream",
     "text": [
      "0\n"
     ]
    }
   ],
   "source": [
    "print(df.duplicated().sum())"
   ]
  },
  {
   "cell_type": "markdown",
   "id": "10d00dbe",
   "metadata": {
    "id": "10d00dbe"
   },
   "source": [
    "### Droping columns\n",
    "Chiefcomplaint is drop"
   ]
  },
  {
   "cell_type": "code",
   "execution_count": 10,
   "id": "e8d77319",
   "metadata": {
    "colab": {
     "base_uri": "https://localhost:8080/",
     "height": 423
    },
    "id": "e8d77319",
    "outputId": "c7e3d0b5-9481-4112-d13c-7d90e8703b04"
   },
   "outputs": [
    {
     "data": {
      "text/html": [
       "<div>\n",
       "<style scoped>\n",
       "    .dataframe tbody tr th:only-of-type {\n",
       "        vertical-align: middle;\n",
       "    }\n",
       "\n",
       "    .dataframe tbody tr th {\n",
       "        vertical-align: top;\n",
       "    }\n",
       "\n",
       "    .dataframe thead th {\n",
       "        text-align: right;\n",
       "    }\n",
       "</style>\n",
       "<table border=\"1\" class=\"dataframe\">\n",
       "  <thead>\n",
       "    <tr style=\"text-align: right;\">\n",
       "      <th></th>\n",
       "      <th>subject_id</th>\n",
       "      <th>stay_id</th>\n",
       "      <th>temperature</th>\n",
       "      <th>heartrate</th>\n",
       "      <th>resprate</th>\n",
       "      <th>o2sat</th>\n",
       "      <th>sbp</th>\n",
       "      <th>dbp</th>\n",
       "      <th>pain</th>\n",
       "      <th>acuity</th>\n",
       "    </tr>\n",
       "  </thead>\n",
       "  <tbody>\n",
       "    <tr>\n",
       "      <th>0</th>\n",
       "      <td>10000032</td>\n",
       "      <td>32952584</td>\n",
       "      <td>97.8</td>\n",
       "      <td>87.0</td>\n",
       "      <td>14.0</td>\n",
       "      <td>97.0</td>\n",
       "      <td>71.0</td>\n",
       "      <td>43.0</td>\n",
       "      <td>7</td>\n",
       "      <td>2.0</td>\n",
       "    </tr>\n",
       "    <tr>\n",
       "      <th>1</th>\n",
       "      <td>10000032</td>\n",
       "      <td>33258284</td>\n",
       "      <td>98.4</td>\n",
       "      <td>70.0</td>\n",
       "      <td>16.0</td>\n",
       "      <td>97.0</td>\n",
       "      <td>106.0</td>\n",
       "      <td>63.0</td>\n",
       "      <td>0</td>\n",
       "      <td>3.0</td>\n",
       "    </tr>\n",
       "    <tr>\n",
       "      <th>2</th>\n",
       "      <td>10000032</td>\n",
       "      <td>35968195</td>\n",
       "      <td>99.4</td>\n",
       "      <td>105.0</td>\n",
       "      <td>18.0</td>\n",
       "      <td>96.0</td>\n",
       "      <td>106.0</td>\n",
       "      <td>57.0</td>\n",
       "      <td>10</td>\n",
       "      <td>3.0</td>\n",
       "    </tr>\n",
       "    <tr>\n",
       "      <th>3</th>\n",
       "      <td>10000032</td>\n",
       "      <td>38112554</td>\n",
       "      <td>98.9</td>\n",
       "      <td>88.0</td>\n",
       "      <td>18.0</td>\n",
       "      <td>97.0</td>\n",
       "      <td>116.0</td>\n",
       "      <td>88.0</td>\n",
       "      <td>10</td>\n",
       "      <td>3.0</td>\n",
       "    </tr>\n",
       "    <tr>\n",
       "      <th>4</th>\n",
       "      <td>10000032</td>\n",
       "      <td>39399961</td>\n",
       "      <td>98.7</td>\n",
       "      <td>77.0</td>\n",
       "      <td>16.0</td>\n",
       "      <td>98.0</td>\n",
       "      <td>96.0</td>\n",
       "      <td>50.0</td>\n",
       "      <td>13</td>\n",
       "      <td>2.0</td>\n",
       "    </tr>\n",
       "    <tr>\n",
       "      <th>...</th>\n",
       "      <td>...</td>\n",
       "      <td>...</td>\n",
       "      <td>...</td>\n",
       "      <td>...</td>\n",
       "      <td>...</td>\n",
       "      <td>...</td>\n",
       "      <td>...</td>\n",
       "      <td>...</td>\n",
       "      <td>...</td>\n",
       "      <td>...</td>\n",
       "    </tr>\n",
       "    <tr>\n",
       "      <th>425082</th>\n",
       "      <td>19999784</td>\n",
       "      <td>37972930</td>\n",
       "      <td>98.0</td>\n",
       "      <td>91.0</td>\n",
       "      <td>16.0</td>\n",
       "      <td>99.0</td>\n",
       "      <td>148.0</td>\n",
       "      <td>90.0</td>\n",
       "      <td>5</td>\n",
       "      <td>2.0</td>\n",
       "    </tr>\n",
       "    <tr>\n",
       "      <th>425083</th>\n",
       "      <td>19999828</td>\n",
       "      <td>30712109</td>\n",
       "      <td>98.1</td>\n",
       "      <td>83.0</td>\n",
       "      <td>18.0</td>\n",
       "      <td>100.0</td>\n",
       "      <td>107.0</td>\n",
       "      <td>75.0</td>\n",
       "      <td>8</td>\n",
       "      <td>2.0</td>\n",
       "    </tr>\n",
       "    <tr>\n",
       "      <th>425084</th>\n",
       "      <td>19999828</td>\n",
       "      <td>32917002</td>\n",
       "      <td>96.6</td>\n",
       "      <td>112.0</td>\n",
       "      <td>18.0</td>\n",
       "      <td>100.0</td>\n",
       "      <td>110.0</td>\n",
       "      <td>82.0</td>\n",
       "      <td>4</td>\n",
       "      <td>2.0</td>\n",
       "    </tr>\n",
       "    <tr>\n",
       "      <th>425085</th>\n",
       "      <td>19999914</td>\n",
       "      <td>32002659</td>\n",
       "      <td>99.5</td>\n",
       "      <td>81.0</td>\n",
       "      <td>10.0</td>\n",
       "      <td>100.0</td>\n",
       "      <td>93.0</td>\n",
       "      <td>55.0</td>\n",
       "      <td>0</td>\n",
       "      <td>2.0</td>\n",
       "    </tr>\n",
       "    <tr>\n",
       "      <th>425086</th>\n",
       "      <td>19999987</td>\n",
       "      <td>34731548</td>\n",
       "      <td>NaN</td>\n",
       "      <td>NaN</td>\n",
       "      <td>NaN</td>\n",
       "      <td>NaN</td>\n",
       "      <td>NaN</td>\n",
       "      <td>NaN</td>\n",
       "      <td>NaN</td>\n",
       "      <td>NaN</td>\n",
       "    </tr>\n",
       "  </tbody>\n",
       "</table>\n",
       "<p>425087 rows × 10 columns</p>\n",
       "</div>"
      ],
      "text/plain": [
       "        subject_id   stay_id  temperature  heartrate  resprate  o2sat    sbp  \\\n",
       "0         10000032  32952584         97.8       87.0      14.0   97.0   71.0   \n",
       "1         10000032  33258284         98.4       70.0      16.0   97.0  106.0   \n",
       "2         10000032  35968195         99.4      105.0      18.0   96.0  106.0   \n",
       "3         10000032  38112554         98.9       88.0      18.0   97.0  116.0   \n",
       "4         10000032  39399961         98.7       77.0      16.0   98.0   96.0   \n",
       "...            ...       ...          ...        ...       ...    ...    ...   \n",
       "425082    19999784  37972930         98.0       91.0      16.0   99.0  148.0   \n",
       "425083    19999828  30712109         98.1       83.0      18.0  100.0  107.0   \n",
       "425084    19999828  32917002         96.6      112.0      18.0  100.0  110.0   \n",
       "425085    19999914  32002659         99.5       81.0      10.0  100.0   93.0   \n",
       "425086    19999987  34731548          NaN        NaN       NaN    NaN    NaN   \n",
       "\n",
       "         dbp pain  acuity  \n",
       "0       43.0    7     2.0  \n",
       "1       63.0    0     3.0  \n",
       "2       57.0   10     3.0  \n",
       "3       88.0   10     3.0  \n",
       "4       50.0   13     2.0  \n",
       "...      ...  ...     ...  \n",
       "425082  90.0    5     2.0  \n",
       "425083  75.0    8     2.0  \n",
       "425084  82.0    4     2.0  \n",
       "425085  55.0    0     2.0  \n",
       "425086   NaN  NaN     NaN  \n",
       "\n",
       "[425087 rows x 10 columns]"
      ]
     },
     "execution_count": 10,
     "metadata": {},
     "output_type": "execute_result"
    }
   ],
   "source": [
    "column_to_drop = ['chiefcomplaint']\n",
    "df = df.drop(columns=column_to_drop)\n",
    "df"
   ]
  },
  {
   "cell_type": "markdown",
   "id": "jWXb_js3LI7E",
   "metadata": {
    "id": "jWXb_js3LI7E"
   },
   "source": [
    "## **Treating the pain attribute**"
   ]
  },
  {
   "cell_type": "code",
   "execution_count": 11,
   "id": "8aec6afa",
   "metadata": {
    "colab": {
     "base_uri": "https://localhost:8080/"
    },
    "id": "8aec6afa",
    "outputId": "9f4141e6-f470-435c-b3dd-4dc80c50fe57"
   },
   "outputs": [
    {
     "data": {
      "text/plain": [
       "(425087, 10)"
      ]
     },
     "execution_count": 11,
     "metadata": {},
     "output_type": "execute_result"
    }
   ],
   "source": [
    "df.shape"
   ]
  },
  {
   "cell_type": "code",
   "execution_count": 12,
   "id": "59cHnrj2G0y6",
   "metadata": {
    "colab": {
     "base_uri": "https://localhost:8080/"
    },
    "id": "59cHnrj2G0y6",
    "outputId": "efeea4a4-7388-4c0b-e0d0-8e55d2558c7e"
   },
   "outputs": [
    {
     "data": {
      "text/plain": [
       "pain    \n",
       "0           140719\n",
       "8            41730\n",
       "10           40914\n",
       "7            31423\n",
       "5            29210\n",
       "             ...  \n",
       "?10              1\n",
       "A little         1\n",
       "AMS              1\n",
       "ASLEEP           1\n",
       "yes.             1\n",
       "Length: 847, dtype: int64"
      ]
     },
     "execution_count": 12,
     "metadata": {},
     "output_type": "execute_result"
    }
   ],
   "source": [
    "pain_counts = df[['pain']].value_counts()\n",
    "pain_counts"
   ]
  },
  {
   "cell_type": "code",
   "execution_count": 13,
   "id": "0e102dde",
   "metadata": {},
   "outputs": [
    {
     "name": "stdout",
     "output_type": "stream",
     "text": [
      "               pain  counts\n",
      "0               6-9       1\n",
      "1                 0      11\n",
      "2                10       4\n",
      "3                 4       1\n",
      "4                 6       2\n",
      "..              ...     ...\n",
      "842             yes     109\n",
      "843            yes        1\n",
      "844     yes - R arm       1\n",
      "845  yes everywhere       1\n",
      "846            yes.       1\n",
      "\n",
      "[847 rows x 2 columns]\n"
     ]
    }
   ],
   "source": [
    "pain_counts = df.groupby(['pain']).size().reset_index(name='counts')\n",
    "print(pain_counts)"
   ]
  },
  {
   "cell_type": "code",
   "execution_count": 14,
   "id": "23f5e054",
   "metadata": {},
   "outputs": [
    {
     "name": "stdout",
     "output_type": "stream",
     "text": [
      "str      412154\n",
      "float     12933\n",
      "Name: pain, dtype: int64\n"
     ]
    }
   ],
   "source": [
    "# Assuming 'pain' column contains a mix of integers, strings, and null values\n",
    "pain_counts = df['pain'].apply(lambda x: type(x).__name__ if x is not None else 'null').value_counts()\n",
    "print(pain_counts)\n"
   ]
  },
  {
   "cell_type": "code",
   "execution_count": 15,
   "id": "iO5Q-c3KJfKU",
   "metadata": {
    "id": "iO5Q-c3KJfKU"
   },
   "outputs": [],
   "source": [
    "# Identify and handle non-numeric values\n",
    "non_numeric_values = pd.to_numeric(df['pain'], errors='coerce').isna()\n",
    "df.loc[non_numeric_values, 'pain'] = None  # Replace non-numeric values with NaN\n",
    "\n",
    "# Convert the 'pain' column to numeric\n",
    "df['pain'] = pd.to_numeric(df['pain'], errors='coerce')\n"
   ]
  },
  {
   "cell_type": "code",
   "execution_count": 16,
   "id": "oLXft3UUK0gY",
   "metadata": {
    "colab": {
     "base_uri": "https://localhost:8080/"
    },
    "id": "oLXft3UUK0gY",
    "outputId": "d3a44241-6b6f-42fc-c67a-c971ccbcdddc"
   },
   "outputs": [
    {
     "data": {
      "text/plain": [
       "(425087, 10)"
      ]
     },
     "execution_count": 16,
     "metadata": {},
     "output_type": "execute_result"
    }
   ],
   "source": [
    "df.shape"
   ]
  },
  {
   "cell_type": "code",
   "execution_count": 17,
   "id": "YZ6AT0THKMNG",
   "metadata": {
    "colab": {
     "base_uri": "https://localhost:8080/"
    },
    "id": "YZ6AT0THKMNG",
    "outputId": "bb7fde07-a34c-429f-8716-93ca253af95a"
   },
   "outputs": [
    {
     "data": {
      "text/plain": [
       "0.000     140811\n",
       "8.000      41748\n",
       "10.000     41008\n",
       "7.000      31428\n",
       "5.000      29220\n",
       "           ...  \n",
       "61.000         1\n",
       "7.235          1\n",
       "6.830          1\n",
       "27.000         1\n",
       "51.000         1\n",
       "Name: pain, Length: 85, dtype: int64"
      ]
     },
     "execution_count": 17,
     "metadata": {},
     "output_type": "execute_result"
    }
   ],
   "source": [
    "pain_counts = df['pain'].value_counts()\n",
    "pain_counts"
   ]
  },
  {
   "cell_type": "markdown",
   "id": "DpsHneWsKbOe",
   "metadata": {
    "id": "DpsHneWsKbOe"
   },
   "source": [
    "## **Checking the null value**"
   ]
  },
  {
   "cell_type": "code",
   "execution_count": 18,
   "id": "V0BpUnoWLWpR",
   "metadata": {
    "colab": {
     "base_uri": "https://localhost:8080/"
    },
    "id": "V0BpUnoWLWpR",
    "outputId": "7e82ce2b-5703-4f58-bfa0-003f94a72598"
   },
   "outputs": [
    {
     "data": {
      "text/plain": [
       "subject_id         0\n",
       "stay_id            0\n",
       "temperature    23415\n",
       "heartrate      17090\n",
       "resprate       20353\n",
       "o2sat          20596\n",
       "sbp            18291\n",
       "dbp            19091\n",
       "pain           28114\n",
       "acuity          6987\n",
       "dtype: int64"
      ]
     },
     "execution_count": 18,
     "metadata": {},
     "output_type": "execute_result"
    }
   ],
   "source": [
    "df.isnull().sum()"
   ]
  },
  {
   "cell_type": "code",
   "execution_count": 19,
   "id": "vdIRUjzBKxh3",
   "metadata": {
    "id": "vdIRUjzBKxh3"
   },
   "outputs": [],
   "source": [
    "df.dropna(inplace=True)"
   ]
  },
  {
   "cell_type": "code",
   "execution_count": 20,
   "id": "BbZiwwcOK1la",
   "metadata": {
    "colab": {
     "base_uri": "https://localhost:8080/"
    },
    "id": "BbZiwwcOK1la",
    "outputId": "9a9454fe-4ac9-44bb-80a3-f297ca657a74"
   },
   "outputs": [
    {
     "data": {
      "text/plain": [
       "(380155, 10)"
      ]
     },
     "execution_count": 20,
     "metadata": {},
     "output_type": "execute_result"
    }
   ],
   "source": [
    "df.shape"
   ]
  },
  {
   "cell_type": "markdown",
   "id": "41fe3718",
   "metadata": {
    "id": "41fe3718"
   },
   "source": [
    "###  Analysing Categorical data"
   ]
  },
  {
   "cell_type": "code",
   "execution_count": 21,
   "id": "237a68bc",
   "metadata": {},
   "outputs": [
    {
     "data": {
      "text/plain": [
       "3.0    213394\n",
       "2.0    125926\n",
       "4.0     27330\n",
       "1.0     12477\n",
       "5.0      1028\n",
       "Name: acuity, dtype: int64"
      ]
     },
     "execution_count": 21,
     "metadata": {},
     "output_type": "execute_result"
    }
   ],
   "source": [
    "acuity_counts=df['acuity'].value_counts()\n",
    "acuity_counts"
   ]
  },
  {
   "cell_type": "code",
   "execution_count": 22,
   "id": "7a3b8e41",
   "metadata": {},
   "outputs": [
    {
     "data": {
      "image/png": "[encoded data removed]",
      "text/plain": [
       "<Figure size 640x480 with 1 Axes>"
      ]
     },
     "metadata": {},
     "output_type": "display_data"
    }
   ],
   "source": [
    "# Plotting the histogram\n",
    "plt.hist(df['acuity'])\n",
    "plt.xlabel('Acuity')\n",
    "plt.ylabel('Frequency')\n",
    "plt.title('Frequency of Acuity')\n",
    "plt.show()"
   ]
  },
  {
   "cell_type": "markdown",
   "id": "85bd8bc4",
   "metadata": {},
   "source": [
    "### Statical summary"
   ]
  },
  {
   "cell_type": "code",
   "execution_count": 23,
   "id": "bf078114",
   "metadata": {
    "colab": {
     "base_uri": "https://localhost:8080/",
     "height": 363
    },
    "id": "bf078114",
    "outputId": "7ec94856-c6ab-4820-fa02-7f0a25cbb0a1"
   },
   "outputs": [
    {
     "data": {
      "text/html": [
       "<div>\n",
       "<style scoped>\n",
       "    .dataframe tbody tr th:only-of-type {\n",
       "        vertical-align: middle;\n",
       "    }\n",
       "\n",
       "    .dataframe tbody tr th {\n",
       "        vertical-align: top;\n",
       "    }\n",
       "\n",
       "    .dataframe thead th {\n",
       "        text-align: right;\n",
       "    }\n",
       "</style>\n",
       "<table border=\"1\" class=\"dataframe\">\n",
       "  <thead>\n",
       "    <tr style=\"text-align: right;\">\n",
       "      <th></th>\n",
       "      <th>count</th>\n",
       "      <th>mean</th>\n",
       "      <th>std</th>\n",
       "      <th>min</th>\n",
       "      <th>25%</th>\n",
       "      <th>50%</th>\n",
       "      <th>75%</th>\n",
       "      <th>max</th>\n",
       "    </tr>\n",
       "  </thead>\n",
       "  <tbody>\n",
       "    <tr>\n",
       "      <th>subject_id</th>\n",
       "      <td>380155.0</td>\n",
       "      <td>1.501128e+07</td>\n",
       "      <td>2.880685e+06</td>\n",
       "      <td>10000032.0</td>\n",
       "      <td>12521030.0</td>\n",
       "      <td>15018799.0</td>\n",
       "      <td>17509102.5</td>\n",
       "      <td>19999914.0</td>\n",
       "    </tr>\n",
       "    <tr>\n",
       "      <th>stay_id</th>\n",
       "      <td>380155.0</td>\n",
       "      <td>3.499820e+07</td>\n",
       "      <td>2.887829e+06</td>\n",
       "      <td>30000012.0</td>\n",
       "      <td>32499877.5</td>\n",
       "      <td>34995224.0</td>\n",
       "      <td>37504995.0</td>\n",
       "      <td>39999965.0</td>\n",
       "    </tr>\n",
       "    <tr>\n",
       "      <th>temperature</th>\n",
       "      <td>380155.0</td>\n",
       "      <td>9.801493e+01</td>\n",
       "      <td>3.801679e+00</td>\n",
       "      <td>0.1</td>\n",
       "      <td>97.5</td>\n",
       "      <td>98.0</td>\n",
       "      <td>98.6</td>\n",
       "      <td>986.0</td>\n",
       "    </tr>\n",
       "    <tr>\n",
       "      <th>heartrate</th>\n",
       "      <td>380155.0</td>\n",
       "      <td>8.490196e+01</td>\n",
       "      <td>1.763433e+01</td>\n",
       "      <td>1.0</td>\n",
       "      <td>72.0</td>\n",
       "      <td>84.0</td>\n",
       "      <td>96.0</td>\n",
       "      <td>1109.0</td>\n",
       "    </tr>\n",
       "    <tr>\n",
       "      <th>resprate</th>\n",
       "      <td>380155.0</td>\n",
       "      <td>1.751814e+01</td>\n",
       "      <td>5.556865e+00</td>\n",
       "      <td>0.0</td>\n",
       "      <td>16.0</td>\n",
       "      <td>18.0</td>\n",
       "      <td>18.0</td>\n",
       "      <td>1820.0</td>\n",
       "    </tr>\n",
       "    <tr>\n",
       "      <th>o2sat</th>\n",
       "      <td>380155.0</td>\n",
       "      <td>9.851136e+01</td>\n",
       "      <td>1.717918e+01</td>\n",
       "      <td>0.0</td>\n",
       "      <td>97.0</td>\n",
       "      <td>99.0</td>\n",
       "      <td>100.0</td>\n",
       "      <td>9322.0</td>\n",
       "    </tr>\n",
       "    <tr>\n",
       "      <th>sbp</th>\n",
       "      <td>380155.0</td>\n",
       "      <td>1.351376e+02</td>\n",
       "      <td>3.882060e+01</td>\n",
       "      <td>5.0</td>\n",
       "      <td>120.0</td>\n",
       "      <td>133.0</td>\n",
       "      <td>148.0</td>\n",
       "      <td>19734.0</td>\n",
       "    </tr>\n",
       "    <tr>\n",
       "      <th>dbp</th>\n",
       "      <td>380155.0</td>\n",
       "      <td>8.120994e+01</td>\n",
       "      <td>1.086728e+03</td>\n",
       "      <td>0.0</td>\n",
       "      <td>68.0</td>\n",
       "      <td>77.0</td>\n",
       "      <td>87.0</td>\n",
       "      <td>661672.0</td>\n",
       "    </tr>\n",
       "    <tr>\n",
       "      <th>pain</th>\n",
       "      <td>380155.0</td>\n",
       "      <td>4.422031e+00</td>\n",
       "      <td>4.051333e+00</td>\n",
       "      <td>-1.0</td>\n",
       "      <td>0.0</td>\n",
       "      <td>5.0</td>\n",
       "      <td>8.0</td>\n",
       "      <td>134.0</td>\n",
       "    </tr>\n",
       "    <tr>\n",
       "      <th>acuity</th>\n",
       "      <td>380155.0</td>\n",
       "      <td>2.680409e+00</td>\n",
       "      <td>6.656604e-01</td>\n",
       "      <td>1.0</td>\n",
       "      <td>2.0</td>\n",
       "      <td>3.0</td>\n",
       "      <td>3.0</td>\n",
       "      <td>5.0</td>\n",
       "    </tr>\n",
       "  </tbody>\n",
       "</table>\n",
       "</div>"
      ],
      "text/plain": [
       "                count          mean           std         min         25%  \\\n",
       "subject_id   380155.0  1.501128e+07  2.880685e+06  10000032.0  12521030.0   \n",
       "stay_id      380155.0  3.499820e+07  2.887829e+06  30000012.0  32499877.5   \n",
       "temperature  380155.0  9.801493e+01  3.801679e+00         0.1        97.5   \n",
       "heartrate    380155.0  8.490196e+01  1.763433e+01         1.0        72.0   \n",
       "resprate     380155.0  1.751814e+01  5.556865e+00         0.0        16.0   \n",
       "o2sat        380155.0  9.851136e+01  1.717918e+01         0.0        97.0   \n",
       "sbp          380155.0  1.351376e+02  3.882060e+01         5.0       120.0   \n",
       "dbp          380155.0  8.120994e+01  1.086728e+03         0.0        68.0   \n",
       "pain         380155.0  4.422031e+00  4.051333e+00        -1.0         0.0   \n",
       "acuity       380155.0  2.680409e+00  6.656604e-01         1.0         2.0   \n",
       "\n",
       "                    50%         75%         max  \n",
       "subject_id   15018799.0  17509102.5  19999914.0  \n",
       "stay_id      34995224.0  37504995.0  39999965.0  \n",
       "temperature        98.0        98.6       986.0  \n",
       "heartrate          84.0        96.0      1109.0  \n",
       "resprate           18.0        18.0      1820.0  \n",
       "o2sat              99.0       100.0      9322.0  \n",
       "sbp               133.0       148.0     19734.0  \n",
       "dbp                77.0        87.0    661672.0  \n",
       "pain                5.0         8.0       134.0  \n",
       "acuity              3.0         3.0         5.0  "
      ]
     },
     "execution_count": 23,
     "metadata": {},
     "output_type": "execute_result"
    }
   ],
   "source": [
    "df.describe().T"
   ]
  },
  {
   "cell_type": "markdown",
   "id": "GQi54TjxPhZP",
   "metadata": {
    "id": "GQi54TjxPhZP"
   },
   "source": [
    "#### Handling the outlier in data"
   ]
  },
  {
   "cell_type": "markdown",
   "id": "7Civrb05VqmJ",
   "metadata": {
    "id": "7Civrb05VqmJ"
   },
   "source": [
    "### using z-score"
   ]
  },
  {
   "cell_type": "code",
   "execution_count": 24,
   "id": "e1d82927",
   "metadata": {
    "id": "e1d82927"
   },
   "outputs": [],
   "source": [
    "# from scipy.stats import zscore\n",
    "# z_scores = zscore(df)\n",
    "# columnas = ['subject_id', 'stay_id', 'temperature', 'heartrate', 'resprate',\n",
    "#             'o2sat', 'sbp', 'dbp','pain']\n",
    "# # Set a threshold\n",
    "# threshold = 5\n",
    "\n",
    "# # Create a DataFrame of outliers (absolute Z-score greater than threshold)\n",
    "# outliers_df = pd.DataFrame((abs(z_scores) > threshold), columns=columnas)\n",
    "\n",
    "# outlier_counts = outliers_df.sum()\n",
    "# print(outlier_counts)\n",
    "\n",
    "# df= df[~outliers_df.any(axis=1)]\n",
    "\n",
    "# # # Reset the index of the filtered DataFrame\n",
    "# df.reset_index(drop=True, inplace=True)\n",
    "\n"
   ]
  },
  {
   "cell_type": "code",
   "execution_count": 25,
   "id": "f80b748d",
   "metadata": {
    "id": "f80b748d"
   },
   "outputs": [],
   "source": [
    "# df.shape"
   ]
  },
  {
   "cell_type": "markdown",
   "id": "2PoJQImSU_xd",
   "metadata": {
    "id": "2PoJQImSU_xd"
   },
   "source": [
    "### Outlier testing using IQR"
   ]
  },
  {
   "cell_type": "code",
   "execution_count": 26,
   "id": "-dx-lq7wQWFQ",
   "metadata": {
    "colab": {
     "base_uri": "https://localhost:8080/"
    },
    "id": "-dx-lq7wQWFQ",
    "outputId": "c8c3bde3-23a4-4138-bbce-0dcb500f9bf4"
   },
   "outputs": [
    {
     "name": "stdout",
     "output_type": "stream",
     "text": [
      "subject_id         0\n",
      "stay_id            0\n",
      "temperature    11300\n",
      "heartrate       3451\n",
      "resprate       18103\n",
      "o2sat           4069\n",
      "sbp             6798\n",
      "dbp             5284\n",
      "pain              52\n",
      "acuity          1028\n",
      "dtype: int64\n"
     ]
    }
   ],
   "source": [
    "\n",
    "Q1 = df.quantile(0.25)\n",
    "Q3 = df.quantile(0.75)\n",
    "IQR = Q3 - Q1\n",
    "\n",
    "# Define the lower and upper bounds for outliers\n",
    "lower_bound = Q1 - 1.5 * IQR\n",
    "upper_bound = Q3 + 1.5 * IQR\n",
    "\n",
    "# Create a DataFrame of outliers\n",
    "outliers_df = ((df < lower_bound) | (df > upper_bound))\n",
    "\n",
    "# Print the count of outliers for each column\n",
    "outlier_counts = outliers_df.sum()\n",
    "print(outlier_counts)\n",
    "\n",
    "# Filter the DataFrame to exclude outliers\n",
    "df = df[~outliers_df.any(axis=1)]\n",
    "\n",
    "# Reset the index of the filtered DataFrame\n",
    "df.reset_index(drop=True, inplace=True)\n"
   ]
  },
  {
   "cell_type": "code",
   "execution_count": 27,
   "id": "a58b80ff",
   "metadata": {
    "colab": {
     "base_uri": "https://localhost:8080/",
     "height": 615
    },
    "id": "a58b80ff",
    "outputId": "440fe9da-bdba-4aba-ff32-8d0f03ad9b0d"
   },
   "outputs": [
    {
     "data": {
      "image/png": "[encoded data removed]",
      "text/plain": [
       "<Figure size 1500x800 with 8 Axes>"
      ]
     },
     "metadata": {},
     "output_type": "display_data"
    }
   ],
   "source": [
    "columnas = ['stay_id', 'temperature', 'heartrate', 'resprate',\n",
    "            'o2sat', 'sbp', 'dbp','pain']\n",
    "\n",
    "f, axes = plt.subplots(3, 3, figsize=(15, 8))\n",
    "axes = axes.flatten()\n",
    "\n",
    "def create_boxplot_styled(column, ax, color):\n",
    "    sns.boxplot(y=column, data=df, ax=ax, color=color)\n",
    "    ax.set_title(column, fontsize=9)\n",
    "    ax.set_xlabel(\"\")\n",
    "\n",
    "colors = [\"#1f77b4\", \"#ff7f0e\", \"#2ca02c\", \"#d62728\", \"#9467bd\", \"#8c564b\",\n",
    "          \"#e377c2\", \"#7f7f7f\", \"#bcbd22\", \"#17becf\", \"#aec7e8\"]\n",
    "\n",
    "for i, col in enumerate(columnas):\n",
    "    create_boxplot_styled(col, axes[i], colors[i])\n",
    "\n",
    "for i in range(len(columnas), len(axes)):\n",
    "    f.delaxes(axes[i])\n",
    "\n",
    "plt.tight_layout(pad=2.5)\n",
    "\n",
    "plt.show()\n"
   ]
  },
  {
   "cell_type": "code",
   "execution_count": 28,
   "id": "B7DHqvJ9HnXf",
   "metadata": {
    "id": "B7DHqvJ9HnXf"
   },
   "outputs": [],
   "source": [
    "# sns.pairplot(x_vars=['temperature','pain'], y_vars='acuity', height=4, aspect=1, kind='reg', data=df)\n",
    "# plt.show()"
   ]
  },
  {
   "cell_type": "markdown",
   "id": "GJWc7mJp83am",
   "metadata": {
    "id": "GJWc7mJp83am"
   },
   "source": [
    "#### **Correlation**"
   ]
  },
  {
   "cell_type": "code",
   "execution_count": 29,
   "id": "Q8Ye2GLP9Lfw",
   "metadata": {
    "id": "Q8Ye2GLP9Lfw"
   },
   "outputs": [],
   "source": [
    "correlation_matrix = df.corr()"
   ]
  },
  {
   "cell_type": "code",
   "execution_count": 30,
   "id": "xJ69RezsG1cm",
   "metadata": {
    "colab": {
     "base_uri": "https://localhost:8080/",
     "height": 772
    },
    "id": "xJ69RezsG1cm",
    "outputId": "5ecdb6fd-0131-491b-977e-f32eeace8c4e"
   },
   "outputs": [
    {
     "data": {
      "image/png": "[encoded data removed]",
      "text/plain": [
       "<Figure size 1000x800 with 2 Axes>"
      ]
     },
     "metadata": {},
     "output_type": "display_data"
    }
   ],
   "source": [
    "plt.figure(figsize=(10, 8))\n",
    "sns.heatmap(correlation_matrix, annot=True, cmap='coolwarm', fmt=\".2f\", linewidths=0.5)\n",
    "plt.title('Correlation Matrix Heatmap')\n",
    "plt.show()"
   ]
  },
  {
   "cell_type": "code",
   "execution_count": 31,
   "id": "dXdexrYAJygH",
   "metadata": {
    "colab": {
     "base_uri": "https://localhost:8080/"
    },
    "id": "dXdexrYAJygH",
    "outputId": "17b342ef-2f80-4440-f315-739e501d0727"
   },
   "outputs": [
    {
     "data": {
      "text/plain": [
       "subject_id     0.001776\n",
       "stay_id        0.001188\n",
       "temperature   -0.009639\n",
       "heartrate     -0.021251\n",
       "resprate      -0.070564\n",
       "o2sat          0.129028\n",
       "sbp            0.007446\n",
       "dbp            0.053843\n",
       "pain           0.158339\n",
       "acuity         1.000000\n",
       "Name: acuity, dtype: float64"
      ]
     },
     "execution_count": 31,
     "metadata": {},
     "output_type": "execute_result"
    }
   ],
   "source": [
    "df.corr()['acuity']"
   ]
  },
  {
   "cell_type": "markdown",
   "id": "X5Aq1mp4Ngir",
   "metadata": {
    "id": "X5Aq1mp4Ngir"
   },
   "source": [
    "## **Normalization**"
   ]
  },
  {
   "cell_type": "code",
   "execution_count": 32,
   "id": "e391eb99",
   "metadata": {
    "colab": {
     "base_uri": "https://localhost:8080/"
    },
    "id": "e391eb99",
    "outputId": "1c1a53b4-5310-4564-ab1a-c025dbb80f10"
   },
   "outputs": [],
   "source": [
    "# Columns to normalize\n",
    "columns_to_scale = ['temperature', 'heartrate', 'resprate', 'o2sat', 'sbp', 'dbp','pain']\n",
    "\n",
    "# Extract the columns to be normalized\n",
    "data_to_scale = df[columns_to_scale]\n",
    "\n",
    "# Initialize the MinMaxScaler\n",
    "scaler = StandardScaler()\n",
    "\n",
    "# Fit and transform the data using the scaler\n",
    "scaled_data = scaler.fit_transform(data_to_scale)\n",
    "\n",
    "# Replace the original columns with the normalized ones\n",
    "df[columns_to_scale] = scaled_data\n",
    "\n"
   ]
  },
  {
   "cell_type": "code",
   "execution_count": 33,
   "id": "3ded9857",
   "metadata": {
    "colab": {
     "base_uri": "https://localhost:8080/",
     "height": 527
    },
    "id": "3ded9857",
    "outputId": "60415034-1925-4619-8b54-0ccdbb369022"
   },
   "outputs": [
    {
     "data": {
      "text/html": [
       "<div>\n",
       "<style scoped>\n",
       "    .dataframe tbody tr th:only-of-type {\n",
       "        vertical-align: middle;\n",
       "    }\n",
       "\n",
       "    .dataframe tbody tr th {\n",
       "        vertical-align: top;\n",
       "    }\n",
       "\n",
       "    .dataframe thead th {\n",
       "        text-align: right;\n",
       "    }\n",
       "</style>\n",
       "<table border=\"1\" class=\"dataframe\">\n",
       "  <thead>\n",
       "    <tr style=\"text-align: right;\">\n",
       "      <th></th>\n",
       "      <th>subject_id</th>\n",
       "      <th>stay_id</th>\n",
       "      <th>temperature</th>\n",
       "      <th>heartrate</th>\n",
       "      <th>resprate</th>\n",
       "      <th>o2sat</th>\n",
       "      <th>sbp</th>\n",
       "      <th>dbp</th>\n",
       "      <th>pain</th>\n",
       "      <th>acuity</th>\n",
       "    </tr>\n",
       "  </thead>\n",
       "  <tbody>\n",
       "    <tr>\n",
       "      <th>0</th>\n",
       "      <td>10000032</td>\n",
       "      <td>33258284</td>\n",
       "      <td>0.500523</td>\n",
       "      <td>-0.856084</td>\n",
       "      <td>-0.823727</td>\n",
       "      <td>-0.936774</td>\n",
       "      <td>-1.408989</td>\n",
       "      <td>-1.059368</td>\n",
       "      <td>-1.131208</td>\n",
       "      <td>3</td>\n",
       "    </tr>\n",
       "    <tr>\n",
       "      <th>1</th>\n",
       "      <td>10000032</td>\n",
       "      <td>35968195</td>\n",
       "      <td>1.808144</td>\n",
       "      <td>1.332381</td>\n",
       "      <td>0.516529</td>\n",
       "      <td>-1.533364</td>\n",
       "      <td>-1.408989</td>\n",
       "      <td>-1.505355</td>\n",
       "      <td>1.423408</td>\n",
       "      <td>3</td>\n",
       "    </tr>\n",
       "    <tr>\n",
       "      <th>2</th>\n",
       "      <td>10000032</td>\n",
       "      <td>38112554</td>\n",
       "      <td>1.154334</td>\n",
       "      <td>0.269412</td>\n",
       "      <td>0.516529</td>\n",
       "      <td>-0.936774</td>\n",
       "      <td>-0.906302</td>\n",
       "      <td>0.798911</td>\n",
       "      <td>1.423408</td>\n",
       "      <td>3</td>\n",
       "    </tr>\n",
       "    <tr>\n",
       "      <th>3</th>\n",
       "      <td>10000032</td>\n",
       "      <td>39399961</td>\n",
       "      <td>0.892809</td>\n",
       "      <td>-0.418391</td>\n",
       "      <td>-0.823727</td>\n",
       "      <td>-0.340185</td>\n",
       "      <td>-1.911676</td>\n",
       "      <td>-2.025673</td>\n",
       "      <td>2.189793</td>\n",
       "      <td>2</td>\n",
       "    </tr>\n",
       "    <tr>\n",
       "      <th>4</th>\n",
       "      <td>10000084</td>\n",
       "      <td>35203156</td>\n",
       "      <td>-0.676337</td>\n",
       "      <td>-0.355864</td>\n",
       "      <td>-0.823727</td>\n",
       "      <td>0.852995</td>\n",
       "      <td>-1.006839</td>\n",
       "      <td>-0.464719</td>\n",
       "      <td>-1.131208</td>\n",
       "      <td>2</td>\n",
       "    </tr>\n",
       "    <tr>\n",
       "      <th>...</th>\n",
       "      <td>...</td>\n",
       "      <td>...</td>\n",
       "      <td>...</td>\n",
       "      <td>...</td>\n",
       "      <td>...</td>\n",
       "      <td>...</td>\n",
       "      <td>...</td>\n",
       "      <td>...</td>\n",
       "      <td>...</td>\n",
       "      <td>...</td>\n",
       "    </tr>\n",
       "    <tr>\n",
       "      <th>336296</th>\n",
       "      <td>19999784</td>\n",
       "      <td>34149746</td>\n",
       "      <td>1.023571</td>\n",
       "      <td>0.519522</td>\n",
       "      <td>0.516529</td>\n",
       "      <td>0.852995</td>\n",
       "      <td>-0.604689</td>\n",
       "      <td>-0.018732</td>\n",
       "      <td>-1.131208</td>\n",
       "      <td>3</td>\n",
       "    </tr>\n",
       "    <tr>\n",
       "      <th>336297</th>\n",
       "      <td>19999784</td>\n",
       "      <td>35692999</td>\n",
       "      <td>0.762047</td>\n",
       "      <td>-0.230809</td>\n",
       "      <td>0.516529</td>\n",
       "      <td>0.852995</td>\n",
       "      <td>1.355791</td>\n",
       "      <td>1.690885</td>\n",
       "      <td>-1.131208</td>\n",
       "      <td>3</td>\n",
       "    </tr>\n",
       "    <tr>\n",
       "      <th>336298</th>\n",
       "      <td>19999784</td>\n",
       "      <td>37972930</td>\n",
       "      <td>-0.022526</td>\n",
       "      <td>0.456995</td>\n",
       "      <td>-0.823727</td>\n",
       "      <td>0.256405</td>\n",
       "      <td>0.702298</td>\n",
       "      <td>0.947573</td>\n",
       "      <td>0.146100</td>\n",
       "      <td>2</td>\n",
       "    </tr>\n",
       "    <tr>\n",
       "      <th>336299</th>\n",
       "      <td>19999828</td>\n",
       "      <td>30712109</td>\n",
       "      <td>0.108236</td>\n",
       "      <td>-0.043226</td>\n",
       "      <td>0.516529</td>\n",
       "      <td>0.852995</td>\n",
       "      <td>-1.358720</td>\n",
       "      <td>-0.167394</td>\n",
       "      <td>0.912485</td>\n",
       "      <td>2</td>\n",
       "    </tr>\n",
       "    <tr>\n",
       "      <th>336300</th>\n",
       "      <td>19999828</td>\n",
       "      <td>32917002</td>\n",
       "      <td>-1.853196</td>\n",
       "      <td>1.770074</td>\n",
       "      <td>0.516529</td>\n",
       "      <td>0.852995</td>\n",
       "      <td>-1.207914</td>\n",
       "      <td>0.352924</td>\n",
       "      <td>-0.109361</td>\n",
       "      <td>2</td>\n",
       "    </tr>\n",
       "  </tbody>\n",
       "</table>\n",
       "<p>336301 rows × 10 columns</p>\n",
       "</div>"
      ],
      "text/plain": [
       "        subject_id   stay_id  temperature  heartrate  resprate     o2sat  \\\n",
       "0         10000032  33258284     0.500523  -0.856084 -0.823727 -0.936774   \n",
       "1         10000032  35968195     1.808144   1.332381  0.516529 -1.533364   \n",
       "2         10000032  38112554     1.154334   0.269412  0.516529 -0.936774   \n",
       "3         10000032  39399961     0.892809  -0.418391 -0.823727 -0.340185   \n",
       "4         10000084  35203156    -0.676337  -0.355864 -0.823727  0.852995   \n",
       "...            ...       ...          ...        ...       ...       ...   \n",
       "336296    19999784  34149746     1.023571   0.519522  0.516529  0.852995   \n",
       "336297    19999784  35692999     0.762047  -0.230809  0.516529  0.852995   \n",
       "336298    19999784  37972930    -0.022526   0.456995 -0.823727  0.256405   \n",
       "336299    19999828  30712109     0.108236  -0.043226  0.516529  0.852995   \n",
       "336300    19999828  32917002    -1.853196   1.770074  0.516529  0.852995   \n",
       "\n",
       "             sbp       dbp      pain  acuity  \n",
       "0      -1.408989 -1.059368 -1.131208       3  \n",
       "1      -1.408989 -1.505355  1.423408       3  \n",
       "2      -0.906302  0.798911  1.423408       3  \n",
       "3      -1.911676 -2.025673  2.189793       2  \n",
       "4      -1.006839 -0.464719 -1.131208       2  \n",
       "...          ...       ...       ...     ...  \n",
       "336296 -0.604689 -0.018732 -1.131208       3  \n",
       "336297  1.355791  1.690885 -1.131208       3  \n",
       "336298  0.702298  0.947573  0.146100       2  \n",
       "336299 -1.358720 -0.167394  0.912485       2  \n",
       "336300 -1.207914  0.352924 -0.109361       2  \n",
       "\n",
       "[336301 rows x 10 columns]"
      ]
     },
     "execution_count": 33,
     "metadata": {},
     "output_type": "execute_result"
    }
   ],
   "source": [
    "df['acuity'] =df['acuity'].astype(int)\n",
    "df"
   ]
  },
  {
   "cell_type": "markdown",
   "id": "8bf327a8",
   "metadata": {},
   "source": [
    "#### Mapping the Target class"
   ]
  },
  {
   "cell_type": "code",
   "execution_count": 34,
   "id": "ff7a0335",
   "metadata": {},
   "outputs": [],
   "source": [
    "df['acuity']=df['acuity']-1"
   ]
  },
  {
   "cell_type": "code",
   "execution_count": 35,
   "id": "e4e16657",
   "metadata": {},
   "outputs": [
    {
     "data": {
      "text/html": [
       "<div>\n",
       "<style scoped>\n",
       "    .dataframe tbody tr th:only-of-type {\n",
       "        vertical-align: middle;\n",
       "    }\n",
       "\n",
       "    .dataframe tbody tr th {\n",
       "        vertical-align: top;\n",
       "    }\n",
       "\n",
       "    .dataframe thead th {\n",
       "        text-align: right;\n",
       "    }\n",
       "</style>\n",
       "<table border=\"1\" class=\"dataframe\">\n",
       "  <thead>\n",
       "    <tr style=\"text-align: right;\">\n",
       "      <th></th>\n",
       "      <th>subject_id</th>\n",
       "      <th>stay_id</th>\n",
       "      <th>temperature</th>\n",
       "      <th>heartrate</th>\n",
       "      <th>resprate</th>\n",
       "      <th>o2sat</th>\n",
       "      <th>sbp</th>\n",
       "      <th>dbp</th>\n",
       "      <th>pain</th>\n",
       "      <th>acuity</th>\n",
       "    </tr>\n",
       "  </thead>\n",
       "  <tbody>\n",
       "    <tr>\n",
       "      <th>0</th>\n",
       "      <td>10000032</td>\n",
       "      <td>33258284</td>\n",
       "      <td>0.500523</td>\n",
       "      <td>-0.856084</td>\n",
       "      <td>-0.823727</td>\n",
       "      <td>-0.936774</td>\n",
       "      <td>-1.408989</td>\n",
       "      <td>-1.059368</td>\n",
       "      <td>-1.131208</td>\n",
       "      <td>2</td>\n",
       "    </tr>\n",
       "    <tr>\n",
       "      <th>1</th>\n",
       "      <td>10000032</td>\n",
       "      <td>35968195</td>\n",
       "      <td>1.808144</td>\n",
       "      <td>1.332381</td>\n",
       "      <td>0.516529</td>\n",
       "      <td>-1.533364</td>\n",
       "      <td>-1.408989</td>\n",
       "      <td>-1.505355</td>\n",
       "      <td>1.423408</td>\n",
       "      <td>2</td>\n",
       "    </tr>\n",
       "    <tr>\n",
       "      <th>2</th>\n",
       "      <td>10000032</td>\n",
       "      <td>38112554</td>\n",
       "      <td>1.154334</td>\n",
       "      <td>0.269412</td>\n",
       "      <td>0.516529</td>\n",
       "      <td>-0.936774</td>\n",
       "      <td>-0.906302</td>\n",
       "      <td>0.798911</td>\n",
       "      <td>1.423408</td>\n",
       "      <td>2</td>\n",
       "    </tr>\n",
       "    <tr>\n",
       "      <th>3</th>\n",
       "      <td>10000032</td>\n",
       "      <td>39399961</td>\n",
       "      <td>0.892809</td>\n",
       "      <td>-0.418391</td>\n",
       "      <td>-0.823727</td>\n",
       "      <td>-0.340185</td>\n",
       "      <td>-1.911676</td>\n",
       "      <td>-2.025673</td>\n",
       "      <td>2.189793</td>\n",
       "      <td>1</td>\n",
       "    </tr>\n",
       "    <tr>\n",
       "      <th>4</th>\n",
       "      <td>10000084</td>\n",
       "      <td>35203156</td>\n",
       "      <td>-0.676337</td>\n",
       "      <td>-0.355864</td>\n",
       "      <td>-0.823727</td>\n",
       "      <td>0.852995</td>\n",
       "      <td>-1.006839</td>\n",
       "      <td>-0.464719</td>\n",
       "      <td>-1.131208</td>\n",
       "      <td>1</td>\n",
       "    </tr>\n",
       "    <tr>\n",
       "      <th>...</th>\n",
       "      <td>...</td>\n",
       "      <td>...</td>\n",
       "      <td>...</td>\n",
       "      <td>...</td>\n",
       "      <td>...</td>\n",
       "      <td>...</td>\n",
       "      <td>...</td>\n",
       "      <td>...</td>\n",
       "      <td>...</td>\n",
       "      <td>...</td>\n",
       "    </tr>\n",
       "    <tr>\n",
       "      <th>336296</th>\n",
       "      <td>19999784</td>\n",
       "      <td>34149746</td>\n",
       "      <td>1.023571</td>\n",
       "      <td>0.519522</td>\n",
       "      <td>0.516529</td>\n",
       "      <td>0.852995</td>\n",
       "      <td>-0.604689</td>\n",
       "      <td>-0.018732</td>\n",
       "      <td>-1.131208</td>\n",
       "      <td>2</td>\n",
       "    </tr>\n",
       "    <tr>\n",
       "      <th>336297</th>\n",
       "      <td>19999784</td>\n",
       "      <td>35692999</td>\n",
       "      <td>0.762047</td>\n",
       "      <td>-0.230809</td>\n",
       "      <td>0.516529</td>\n",
       "      <td>0.852995</td>\n",
       "      <td>1.355791</td>\n",
       "      <td>1.690885</td>\n",
       "      <td>-1.131208</td>\n",
       "      <td>2</td>\n",
       "    </tr>\n",
       "    <tr>\n",
       "      <th>336298</th>\n",
       "      <td>19999784</td>\n",
       "      <td>37972930</td>\n",
       "      <td>-0.022526</td>\n",
       "      <td>0.456995</td>\n",
       "      <td>-0.823727</td>\n",
       "      <td>0.256405</td>\n",
       "      <td>0.702298</td>\n",
       "      <td>0.947573</td>\n",
       "      <td>0.146100</td>\n",
       "      <td>1</td>\n",
       "    </tr>\n",
       "    <tr>\n",
       "      <th>336299</th>\n",
       "      <td>19999828</td>\n",
       "      <td>30712109</td>\n",
       "      <td>0.108236</td>\n",
       "      <td>-0.043226</td>\n",
       "      <td>0.516529</td>\n",
       "      <td>0.852995</td>\n",
       "      <td>-1.358720</td>\n",
       "      <td>-0.167394</td>\n",
       "      <td>0.912485</td>\n",
       "      <td>1</td>\n",
       "    </tr>\n",
       "    <tr>\n",
       "      <th>336300</th>\n",
       "      <td>19999828</td>\n",
       "      <td>32917002</td>\n",
       "      <td>-1.853196</td>\n",
       "      <td>1.770074</td>\n",
       "      <td>0.516529</td>\n",
       "      <td>0.852995</td>\n",
       "      <td>-1.207914</td>\n",
       "      <td>0.352924</td>\n",
       "      <td>-0.109361</td>\n",
       "      <td>1</td>\n",
       "    </tr>\n",
       "  </tbody>\n",
       "</table>\n",
       "<p>336301 rows × 10 columns</p>\n",
       "</div>"
      ],
      "text/plain": [
       "        subject_id   stay_id  temperature  heartrate  resprate     o2sat  \\\n",
       "0         10000032  33258284     0.500523  -0.856084 -0.823727 -0.936774   \n",
       "1         10000032  35968195     1.808144   1.332381  0.516529 -1.533364   \n",
       "2         10000032  38112554     1.154334   0.269412  0.516529 -0.936774   \n",
       "3         10000032  39399961     0.892809  -0.418391 -0.823727 -0.340185   \n",
       "4         10000084  35203156    -0.676337  -0.355864 -0.823727  0.852995   \n",
       "...            ...       ...          ...        ...       ...       ...   \n",
       "336296    19999784  34149746     1.023571   0.519522  0.516529  0.852995   \n",
       "336297    19999784  35692999     0.762047  -0.230809  0.516529  0.852995   \n",
       "336298    19999784  37972930    -0.022526   0.456995 -0.823727  0.256405   \n",
       "336299    19999828  30712109     0.108236  -0.043226  0.516529  0.852995   \n",
       "336300    19999828  32917002    -1.853196   1.770074  0.516529  0.852995   \n",
       "\n",
       "             sbp       dbp      pain  acuity  \n",
       "0      -1.408989 -1.059368 -1.131208       2  \n",
       "1      -1.408989 -1.505355  1.423408       2  \n",
       "2      -0.906302  0.798911  1.423408       2  \n",
       "3      -1.911676 -2.025673  2.189793       1  \n",
       "4      -1.006839 -0.464719 -1.131208       1  \n",
       "...          ...       ...       ...     ...  \n",
       "336296 -0.604689 -0.018732 -1.131208       2  \n",
       "336297  1.355791  1.690885 -1.131208       2  \n",
       "336298  0.702298  0.947573  0.146100       1  \n",
       "336299 -1.358720 -0.167394  0.912485       1  \n",
       "336300 -1.207914  0.352924 -0.109361       1  \n",
       "\n",
       "[336301 rows x 10 columns]"
      ]
     },
     "execution_count": 35,
     "metadata": {},
     "output_type": "execute_result"
    }
   ],
   "source": [
    "df"
   ]
  },
  {
   "cell_type": "markdown",
   "id": "46QMCml_T29R",
   "metadata": {
    "id": "46QMCml_T29R"
   },
   "source": [
    "## **Modeling**\n",
    "Creating the base model\n"
   ]
  },
  {
   "cell_type": "code",
   "execution_count": 36,
   "id": "l6H2jMYaysqk",
   "metadata": {
    "id": "l6H2jMYaysqk"
   },
   "outputs": [],
   "source": [
    "# Drop 'subject_id' and 'stay_id' columns\n",
    "df = df.drop(['subject_id', 'stay_id'], axis=1)"
   ]
  },
  {
   "cell_type": "code",
   "execution_count": 37,
   "id": "-dcWGoNc9Zq_",
   "metadata": {
    "colab": {
     "base_uri": "https://localhost:8080/"
    },
    "id": "-dcWGoNc9Zq_",
    "outputId": "8bd801df-4a30-4c0f-8271-67bf4e49f465"
   },
   "outputs": [
    {
     "name": "stdout",
     "output_type": "stream",
     "text": [
      "RandomForest Accuracy: 0.58190\n",
      "RandomForest Classification Report:\n",
      "              precision    recall  f1-score   support\n",
      "\n",
      "           0       0.65      0.17      0.27      1337\n",
      "           1       0.45      0.29      0.35     21109\n",
      "           2       0.62      0.83      0.71     39496\n",
      "           3       0.14      0.01      0.01      5319\n",
      "\n",
      "    accuracy                           0.58     67261\n",
      "   macro avg       0.46      0.32      0.34     67261\n",
      "weighted avg       0.53      0.58      0.53     67261\n",
      "\n",
      "**************************************************\n",
      "LogisticRegression Accuracy: 0.59205\n",
      "LogisticRegression Classification Report:\n",
      "              precision    recall  f1-score   support\n",
      "\n",
      "           0       1.00      0.00      0.00      1337\n",
      "           1       0.51      0.12      0.20     21109\n",
      "           2       0.60      0.94      0.73     39496\n",
      "           3       1.00      0.00      0.00      5319\n",
      "\n",
      "    accuracy                           0.59     67261\n",
      "   macro avg       0.78      0.27      0.23     67261\n",
      "weighted avg       0.61      0.59      0.49     67261\n",
      "\n",
      "**************************************************\n",
      "XGBoost Accuracy: 0.60158\n",
      "XGBoost Classification Report:\n",
      "              precision    recall  f1-score   support\n",
      "\n",
      "           0       0.69      0.17      0.28      1337\n",
      "           1       0.51      0.21      0.30     21109\n",
      "           2       0.61      0.90      0.73     39496\n",
      "           3       0.00      0.00      0.00      5319\n",
      "\n",
      "    accuracy                           0.60     67261\n",
      "   macro avg       0.45      0.32      0.33     67261\n",
      "weighted avg       0.54      0.60      0.53     67261\n",
      "\n",
      "**************************************************\n",
      "AdaBoost Accuracy: 0.60075\n",
      "AdaBoost Classification Report:\n",
      "              precision    recall  f1-score   support\n",
      "\n",
      "           0       0.64      0.19      0.30      1337\n",
      "           1       0.51      0.23      0.32     21109\n",
      "           2       0.62      0.89      0.73     39496\n",
      "           3       1.00      0.00      0.00      5319\n",
      "\n",
      "    accuracy                           0.60     67261\n",
      "   macro avg       0.69      0.33      0.34     67261\n",
      "weighted avg       0.61      0.60      0.53     67261\n",
      "\n",
      "**************************************************\n",
      "GradientBoosting Accuracy: 0.60288\n",
      "GradientBoosting Classification Report:\n",
      "              precision    recall  f1-score   support\n",
      "\n",
      "           0       0.69      0.19      0.30      1337\n",
      "           1       0.52      0.20      0.29     21109\n",
      "           2       0.61      0.91      0.73     39496\n",
      "           3       1.00      0.00      0.00      5319\n",
      "\n",
      "    accuracy                           0.60     67261\n",
      "   macro avg       0.71      0.33      0.33     67261\n",
      "weighted avg       0.62      0.60      0.53     67261\n",
      "\n",
      "**************************************************\n",
      "CPU times: total: 2min 44s\n",
      "Wall time: 2min 38s\n"
     ]
    }
   ],
   "source": [
    "%%time\n",
    "# Define features and target variable\n",
    "features = ['temperature', 'heartrate', 'resprate', 'o2sat', 'sbp', 'dbp','pain']\n",
    "target = 'acuity'\n",
    "\n",
    "# Split the data into features (X) and target variable (y)\n",
    "X = df[features]\n",
    "y = df[target]\n",
    "\n",
    "# Split the data into training and testing sets\n",
    "X_train, X_test, y_train, y_test = train_test_split(X, y, test_size=0.2, random_state=42)\n",
    "\n",
    "classifiers = {\n",
    "    'RandomForest': RandomForestClassifier(),\n",
    "    'LogisticRegression': LogisticRegression(),\n",
    "    'XGBoost': XGBClassifier(),\n",
    "    'AdaBoost': AdaBoostClassifier(),\n",
    "    'GradientBoosting': GradientBoostingClassifier(),\n",
    "}\n",
    "\n",
    "\n",
    "# Train and evaluate each classifier\n",
    "for clf_name, clf in classifiers.items():\n",
    "    # Fit the model to the training data\n",
    "    clf.fit(X_train, y_train)\n",
    "\n",
    "    # Make predictions on the test data\n",
    "    y_pred = clf.predict(X_test)\n",
    "\n",
    "\n",
    "\n",
    "    # Evaluate the model\n",
    "    accuracy = accuracy_score(y_test, y_pred)\n",
    "    print(f'{clf_name} Accuracy: {accuracy:.5f}')\n",
    "\n",
    "    # Display classification report\n",
    "    print(f'{clf_name} Classification Report:')\n",
    "    print(classification_report(y_test, y_pred, zero_division=1))\n",
    "    print('*' * 50)"
   ]
  },
  {
   "cell_type": "code",
   "execution_count": 46,
   "id": "1ded8365",
   "metadata": {},
   "outputs": [],
   "source": [
    "xgb_clf = classifiers['XGBoost']\n",
    "with open('pickel.pkl', 'wb') as file:\n",
    "    pickle.dump(xgb_clf, file)"
   ]
  },
  {
   "cell_type": "markdown",
   "id": "AN6YJirgytAW",
   "metadata": {
    "id": "AN6YJirgytAW"
   },
   "source": [
    "### **Hyperparameter Tunning**"
   ]
  },
  {
   "cell_type": "markdown",
   "id": "5f823459",
   "metadata": {},
   "source": [
    " xgboost= {'learning_rate': 0.1, 'max_depth': 3, 'n_estimators': 200}"
   ]
  },
  {
   "cell_type": "code",
   "execution_count": 37,
   "id": "oZsxpeyJByU9",
   "metadata": {
    "colab": {
     "base_uri": "https://localhost:8080/"
    },
    "id": "oZsxpeyJByU9",
    "outputId": "14ea3668-e723-42c0-a58c-492a6b6b488a"
   },
   "outputs": [
    {
     "name": "stdout",
     "output_type": "stream",
     "text": [
      "XGBoost Accuracy: 0.60316\n",
      "XGBoost Classification Report:\n",
      "              precision    recall  f1-score   support\n",
      "\n",
      "           0       0.70      0.19      0.29      1337\n",
      "           1       0.52      0.21      0.30     21109\n",
      "           2       0.61      0.91      0.73     39496\n",
      "           3       1.00      0.00      0.00      5319\n",
      "\n",
      "    accuracy                           0.60     67261\n",
      "   macro avg       0.71      0.33      0.33     67261\n",
      "weighted avg       0.62      0.60      0.53     67261\n",
      "\n",
      "Best Parameters: {'learning_rate': 0.1, 'max_depth': 3, 'n_estimators': 200}\n",
      "**************************************************\n",
      "GradientBoosting Accuracy: 0.60253\n",
      "GradientBoosting Classification Report:\n",
      "              precision    recall  f1-score   support\n",
      "\n",
      "           0       0.68      0.18      0.29      1337\n",
      "           1       0.52      0.21      0.30     21109\n",
      "           2       0.61      0.91      0.73     39496\n",
      "           3       0.00      0.00      0.00      5319\n",
      "\n",
      "    accuracy                           0.60     67261\n",
      "   macro avg       0.45      0.32      0.33     67261\n",
      "weighted avg       0.54      0.60      0.53     67261\n",
      "\n",
      "Best Parameters: {'learning_rate': 0.1, 'max_depth': 3, 'n_estimators': 200}\n",
      "**************************************************\n",
      "CPU times: total: 6min 4s\n",
      "Wall time: 22min 27s\n"
     ]
    }
   ],
   "source": [
    "%%time\n",
    "from sklearn.model_selection import GridSearchCV\n",
    "\n",
    "# Define hyperparameters grid \n",
    "params = {\n",
    "    'n_estimators': [ 200],\n",
    "    'max_depth': [3,],\n",
    "    'learning_rate': [0.1]\n",
    "}\n",
    "\n",
    "# Define classifiers with hyperparameter grids\n",
    "classifiers = {\n",
    "    'XGBoost': (XGBClassifier(), params),\n",
    "    'GradientBoosting': (GradientBoostingClassifier(), params)\n",
    "}\n",
    "\n",
    "# Train and evaluate each classifier\n",
    "for clf_name, (clf, params) in classifiers.items():\n",
    "    # Perform Grid Search for hyperparameter tuning\n",
    "    grid_search = GridSearchCV(clf, params, cv=5, n_jobs=-1, scoring='accuracy')\n",
    "    grid_search.fit(X_train, y_train)\n",
    "    \n",
    "    # Get the best model\n",
    "    best_clf = grid_search.best_estimator_\n",
    "\n",
    "    # Make predictions on the test data using the best model\n",
    "    y_pred = best_clf.predict(X_test)\n",
    "\n",
    "    # Evaluate the model\n",
    "    accuracy = accuracy_score(y_test, y_pred)\n",
    "    print(f'{clf_name} Accuracy: {accuracy:.5f}')\n",
    "\n",
    "    # Display classification report\n",
    "    print(f'{clf_name} Classification Report:')\n",
    "    print(classification_report(y_test, y_pred, zero_division=1))\n",
    "    print(f'Best Parameters: {grid_search.best_params_}')\n",
    "    print('*' * 50)\n"
   ]
  },
  {
   "cell_type": "markdown",
   "id": "R0gD1AIGtY3R",
   "metadata": {
    "id": "R0gD1AIGtY3R"
   },
   "source": [
    "### **Oversampling Target Class**"
   ]
  },
  {
   "cell_type": "code",
   "execution_count": 38,
   "id": "32eef5c2",
   "metadata": {},
   "outputs": [
    {
     "name": "stdout",
     "output_type": "stream",
     "text": [
      "Class distribution before oversampling: Counter({2: 157557, 1: 84995, 3: 21196, 0: 5292})\n"
     ]
    }
   ],
   "source": [
    "from imblearn.over_sampling import SMOTE\n",
    "from collections import Counter\n",
    "\n",
    "print(\"Class distribution before oversampling:\", Counter(y_train))"
   ]
  },
  {
   "cell_type": "code",
   "execution_count": 39,
   "id": "a421ecbd",
   "metadata": {},
   "outputs": [
    {
     "name": "stdout",
     "output_type": "stream",
     "text": [
      "Class distribution after oversampling: Counter({2: 157557, 3: 157557, 1: 157557, 0: 157557})\n"
     ]
    }
   ],
   "source": [
    "# Apply SMOTE to oversample the minority class\n",
    "smote = SMOTE(random_state=42)\n",
    "X_train_resampled, y_train_resampled = smote.fit_resample(X_train, y_train)\n",
    "\n",
    "# Check the class distribution after oversampling\n",
    "print(\"Class distribution after oversampling:\", Counter(y_train_resampled))"
   ]
  },
  {
   "cell_type": "code",
   "execution_count": 40,
   "id": "a02e8d2d",
   "metadata": {},
   "outputs": [
    {
     "name": "stdout",
     "output_type": "stream",
     "text": [
      "Accuracy: 0.60253\n",
      "Classification Report:\n",
      "              precision    recall  f1-score   support\n",
      "\n",
      "           0       0.68      0.18      0.29      1337\n",
      "           1       0.52      0.21      0.30     21109\n",
      "           2       0.61      0.91      0.73     39496\n",
      "           3       0.00      0.00      0.00      5319\n",
      "\n",
      "    accuracy                           0.60     67261\n",
      "   macro avg       0.45      0.32      0.33     67261\n",
      "weighted avg       0.54      0.60      0.53     67261\n",
      "\n",
      "--------------------------------------------------\n"
     ]
    }
   ],
   "source": [
    "for name, clf in classifiers.items():\n",
    "    if name == \"Gradient Boosting\":\n",
    "        clf.fit(X_train_resampled, y_train_resampled)\n",
    "        y_pred = clf.predict(X_test)\n",
    "        y_pred_original = label_encoder.inverse_transform(y_pred)\n",
    "\n",
    "# Evaluate the model\n",
    "accuracy = accuracy_score(y_test, y_pred)\n",
    "print(f'Accuracy: {accuracy:.5f}')\n",
    "\n",
    "# Display classification report\n",
    "print(f'Classification Report:')\n",
    "print(classification_report(y_test, y_pred, zero_division=1))\n",
    "print('-' * 50)"
   ]
  },
  {
   "cell_type": "markdown",
   "id": "5777024e",
   "metadata": {},
   "source": [
    "### Ensembling Logistic Regression, Xgboost, Gradient boosting"
   ]
  },
  {
   "cell_type": "code",
   "execution_count": 41,
   "id": "2b5e0f42",
   "metadata": {},
   "outputs": [
    {
     "name": "stdout",
     "output_type": "stream",
     "text": [
      "Bagging Classifier Accuracy: 0.60282\n",
      "Bagging Classifier Classification Report:\n",
      "              precision    recall  f1-score   support\n",
      "\n",
      "           0       0.68      0.19      0.29      1337\n",
      "           1       0.53      0.19      0.28     21109\n",
      "           2       0.61      0.92      0.73     39496\n",
      "           3       1.00      0.00      0.00      5319\n",
      "\n",
      "    accuracy                           0.60     67261\n",
      "   macro avg       0.71      0.32      0.33     67261\n",
      "weighted avg       0.62      0.60      0.52     67261\n",
      "\n"
     ]
    }
   ],
   "source": [
    "from sklearn.ensemble import VotingClassifier, BaggingClassifier, GradientBoostingClassifier\n",
    "from sklearn.linear_model import LogisticRegression\n",
    "from sklearn.model_selection import train_test_split\n",
    "from sklearn.preprocessing import LabelEncoder\n",
    "from sklearn.metrics import accuracy_score, classification_report\n",
    "from xgboost import XGBClassifier\n",
    "\n",
    "# Define features and target variable\n",
    "features = ['temperature', 'heartrate', 'resprate', 'o2sat', 'sbp', 'dbp', 'pain']\n",
    "target = 'acuity'\n",
    "\n",
    "# Split the data into features (X) and target variable (y)\n",
    "X = df[features]\n",
    "y = df[target]\n",
    "\n",
    "# Split the data into training and testing sets\n",
    "X_train, X_test, y_train, y_test = train_test_split(X, y, test_size=0.2, random_state=42)\n",
    "\n",
    "\n",
    "# Define individual classifiers\n",
    "logistic_classifier = LogisticRegression()\n",
    "xgboost_classifier = XGBClassifier()\n",
    "gradient_boosting_classifier = GradientBoostingClassifier()\n",
    "\n",
    "# Create a Bagging ensemble using VotingClassifier\n",
    "bagging_clf = VotingClassifier(\n",
    "    estimators=[\n",
    "        ('LogisticRegression', logistic_classifier),\n",
    "        ('XGBoost', xgboost_classifier),\n",
    "        ('GradientBoosting', gradient_boosting_classifier)\n",
    "    ],\n",
    "    voting='hard'  # 'hard' voting combines the predictions by majority voting\n",
    ")\n",
    "\n",
    "# Train and evaluate the BaggingClassifier\n",
    "bagging_clf.fit(X_train, y_train)\n",
    "y_pred_bagging = bagging_clf.predict(X_test)\n",
    "\n",
    "\n",
    "# Evaluate the BaggingClassifier\n",
    "accuracy_bagging = accuracy_score(y_test, y_pred_bagging)\n",
    "print(f'Bagging Classifier Accuracy: {accuracy_bagging:.5f}')\n",
    "\n",
    "# Display classification report for BaggingClassifier\n",
    "print('Bagging Classifier Classification Report:')\n",
    "print(classification_report(y_test, y_pred_bagging, zero_division=1))\n",
    "\n"
   ]
  },
  {
   "cell_type": "markdown",
   "id": "b643b540",
   "metadata": {},
   "source": [
    "#### Four classifier ensemble"
   ]
  },
  {
   "cell_type": "code",
   "execution_count": 49,
   "id": "0e4b7164",
   "metadata": {},
   "outputs": [
    {
     "ename": "NameError",
     "evalue": "name 'elapsed_time' is not defined",
     "output_type": "error",
     "traceback": [
      "\u001b[1;31m---------------------------------------------------------------------------\u001b[0m",
      "\u001b[1;31mNameError\u001b[0m                                 Traceback (most recent call last)",
      "Cell \u001b[1;32mIn[49], line 43\u001b[0m\n\u001b[0;32m     38\u001b[0m y_pred_bagging \u001b[38;5;241m=\u001b[39m bagging_clf\u001b[38;5;241m.\u001b[39mpredict(X_test)\n\u001b[0;32m     41\u001b[0m \u001b[38;5;66;03m# Calculate and print the time taken\u001b[39;00m\n\u001b[1;32m---> 43\u001b[0m \u001b[38;5;28mprint\u001b[39m(\u001b[38;5;124mf\u001b[39m\u001b[38;5;124m'\u001b[39m\u001b[38;5;124mCombination \u001b[39m\u001b[38;5;132;01m{\u001b[39;00mi\u001b[38;5;250m \u001b[39m\u001b[38;5;241m+\u001b[39m\u001b[38;5;250m \u001b[39m\u001b[38;5;241m1\u001b[39m\u001b[38;5;132;01m}\u001b[39;00m\u001b[38;5;124m - Time taken: \u001b[39m\u001b[38;5;132;01m{\u001b[39;00melapsed_time\u001b[38;5;132;01m:\u001b[39;00m\u001b[38;5;124m.2f\u001b[39m\u001b[38;5;132;01m}\u001b[39;00m\u001b[38;5;124m seconds\u001b[39m\u001b[38;5;124m'\u001b[39m)\n\u001b[0;32m     44\u001b[0m \u001b[38;5;28mprint\u001b[39m(\u001b[38;5;124mf\u001b[39m\u001b[38;5;124m'\u001b[39m\u001b[38;5;124mCombination \u001b[39m\u001b[38;5;132;01m{\u001b[39;00mi\u001b[38;5;250m \u001b[39m\u001b[38;5;241m+\u001b[39m\u001b[38;5;250m \u001b[39m\u001b[38;5;241m1\u001b[39m\u001b[38;5;132;01m}\u001b[39;00m\u001b[38;5;124m - Bagging Classifier Accuracy: \u001b[39m\u001b[38;5;132;01m{\u001b[39;00maccuracy_score(y_test,\u001b[38;5;250m \u001b[39my_pred_bagging)\u001b[38;5;132;01m:\u001b[39;00m\u001b[38;5;124m.5f\u001b[39m\u001b[38;5;132;01m}\u001b[39;00m\u001b[38;5;124m'\u001b[39m)\n\u001b[0;32m     45\u001b[0m \u001b[38;5;28mprint\u001b[39m(\u001b[38;5;124mf\u001b[39m\u001b[38;5;124m'\u001b[39m\u001b[38;5;124mCombination \u001b[39m\u001b[38;5;132;01m{\u001b[39;00mi\u001b[38;5;250m \u001b[39m\u001b[38;5;241m+\u001b[39m\u001b[38;5;250m \u001b[39m\u001b[38;5;241m1\u001b[39m\u001b[38;5;132;01m}\u001b[39;00m\u001b[38;5;124m - Bagging Classifier Classification Report:\u001b[39m\u001b[38;5;124m'\u001b[39m)\n",
      "\u001b[1;31mNameError\u001b[0m: name 'elapsed_time' is not defined"
     ]
    }
   ],
   "source": [
    "from sklearn.ensemble import VotingClassifier\n",
    "from sklearn.ensemble import BaggingClassifier\n",
    "# Define features and target variable\n",
    "features = ['temperature', 'heartrate', 'resprate', 'o2sat', 'sbp', 'dbp', 'pain']\n",
    "target = 'acuity'\n",
    "\n",
    "# Split the data into features (X) and target variable (y)\n",
    "X = df[features]\n",
    "y = df[target]\n",
    "\n",
    "# Split the data into training and testing sets\n",
    "X_train, X_test, y_train, y_test = train_test_split(X, y, test_size=0.2, random_state=42)\n",
    "\n",
    "\n",
    "\n",
    "# Define individual classifiers\n",
    "random_forest_classifier = RandomForestClassifier()\n",
    "logistic_classifier = LogisticRegression()\n",
    "xgboost_classifier = XGBClassifier()\n",
    "gradient_boosting_classifier = GradientBoostingClassifier()\n",
    "\n",
    "# Create different combinations of four classifiers\n",
    "classifiers_combinations = [\n",
    "    [('RandomForest', random_forest_classifier), ('LogisticRegression', logistic_classifier), ('XGBoost', xgboost_classifier), ('GradientBoosting', gradient_boosting_classifier)],\n",
    "]\n",
    "\n",
    "for i, combination in enumerate(classifiers_combinations):\n",
    "   \n",
    "\n",
    "    # Create a VotingClassifier with the specified combination\n",
    "    voting_clf = VotingClassifier(estimators=combination, voting='hard')\n",
    "\n",
    "    # Initialize BaggingClassifier with the VotingClassifier as the base estimator\n",
    "    bagging_clf = BaggingClassifier(estimator=voting_clf, n_estimators=10, random_state=42)\n",
    "\n",
    "    # Train and evaluate the BaggingClassifier\n",
    "    bagging_clf.fit(X_train, y_train)\n",
    "    y_pred_bagging = bagging_clf.predict(X_test)\n",
    "\n",
    "\n",
    "    # Calculate and print the time taken\n",
    "   \n",
    "    print(f'Combination {i + 1} - Time taken: {elapsed_time:.2f} seconds')\n",
    "    print(f'Combination {i + 1} - Bagging Classifier Accuracy: {accuracy_score(y_test, y_pred_bagging):.5f}')\n",
    "    print(f'Combination {i + 1} - Bagging Classifier Classification Report:')\n",
    "    print(classification_report(y_test, y_pred_bagging, zero_division=1))\n",
    "    print('-' * 50)\n"
   ]
  },
  {
   "cell_type": "code",
   "execution_count": null,
   "id": "1b64669a",
   "metadata": {},
   "outputs": [],
   "source": []
  }
 ],
 "metadata": {
  "colab": {
   "provenance": []
  },
  "kernelspec": {
   "display_name": "Python 3 (ipykernel)",
   "language": "python",
   "name": "python3"
  },
  "language_info": {
   "codemirror_mode": {
    "name": "ipython",
    "version": 3
   },
   "file_extension": ".py",
   "mimetype": "text/x-python",
   "name": "python",
   "nbconvert_exporter": "python",
   "pygments_lexer": "ipython3",
   "version": "3.10.9"
  }
 },
 "nbformat": 4,
 "nbformat_minor": 5
}
