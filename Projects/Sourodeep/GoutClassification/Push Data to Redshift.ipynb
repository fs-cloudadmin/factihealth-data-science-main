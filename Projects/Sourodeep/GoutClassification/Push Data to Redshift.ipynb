{
 "cells": [
  {
   "cell_type": "code",
   "execution_count": 1,
   "id": "8e0e8070",
   "metadata": {},
   "outputs": [],
   "source": [
    "import pandas as pd\n",
    "import psycopg2\n",
    "from sqlalchemy import create_engine\n",
    "from urllib.parse import quote\n"
   ]
  },
  {
   "cell_type": "code",
   "execution_count": 7,
   "id": "8db78ec0",
   "metadata": {},
   "outputs": [],
   "source": [
    "# Replace these values with your own Redshift credentials and connection details\n",
    "redshift_credentials = {\n",
    "    'dbname': 'factihealth',\n",
    "    'user': 'fh_user',\n",
    "    'password': 'Facti@874',\n",
    "    'host': 'redshift-cluster-factihealth.cuzgotkwtow6.ap-south-1.redshift.amazonaws.com',\n",
    "    'port': '5439'\n",
    "}\n",
    "\n",
    "table_name = 'mimic.gout_corpus'"
   ]
  },
  {
   "cell_type": "code",
   "execution_count": 3,
   "id": "063379f3",
   "metadata": {},
   "outputs": [
    {
     "data": {
      "text/html": [
       "<div>\n",
       "<style scoped>\n",
       "    .dataframe tbody tr th:only-of-type {\n",
       "        vertical-align: middle;\n",
       "    }\n",
       "\n",
       "    .dataframe tbody tr th {\n",
       "        vertical-align: top;\n",
       "    }\n",
       "\n",
       "    .dataframe thead th {\n",
       "        text-align: right;\n",
       "    }\n",
       "</style>\n",
       "<table border=\"1\" class=\"dataframe\">\n",
       "  <thead>\n",
       "    <tr style=\"text-align: right;\">\n",
       "      <th></th>\n",
       "      <th>Chief Complaint</th>\n",
       "      <th>Predict</th>\n",
       "      <th>Consensus</th>\n",
       "      <th>Year</th>\n",
       "    </tr>\n",
       "  </thead>\n",
       "  <tbody>\n",
       "    <tr>\n",
       "      <th>0</th>\n",
       "      <td>\"been feeling bad\" last 2 weeks &amp; switched BP ...</td>\n",
       "      <td>N</td>\n",
       "      <td>-</td>\n",
       "      <td>2019</td>\n",
       "    </tr>\n",
       "    <tr>\n",
       "      <th>1</th>\n",
       "      <td>\"can't walk\", reports onset at &lt;&lt;TIME&gt;&gt;. orien...</td>\n",
       "      <td>Y</td>\n",
       "      <td>N</td>\n",
       "      <td>2019</td>\n",
       "    </tr>\n",
       "    <tr>\n",
       "      <th>2</th>\n",
       "      <td>\"dehydration\" Chest hurts, hips hurt, cramps P...</td>\n",
       "      <td>Y</td>\n",
       "      <td>Y</td>\n",
       "      <td>2019</td>\n",
       "    </tr>\n",
       "    <tr>\n",
       "      <th>3</th>\n",
       "      <td>\"gout flare up\" L arm swelling x 1 week. denie...</td>\n",
       "      <td>Y</td>\n",
       "      <td>Y</td>\n",
       "      <td>2019</td>\n",
       "    </tr>\n",
       "    <tr>\n",
       "      <th>4</th>\n",
       "      <td>\"heart racing,\"dyspnea, and orthopnea that has...</td>\n",
       "      <td>N</td>\n",
       "      <td>-</td>\n",
       "      <td>2019</td>\n",
       "    </tr>\n",
       "  </tbody>\n",
       "</table>\n",
       "</div>"
      ],
      "text/plain": [
       "                                     Chief Complaint Predict Consensus  Year\n",
       "0  \"been feeling bad\" last 2 weeks & switched BP ...       N         -  2019\n",
       "1  \"can't walk\", reports onset at <<TIME>>. orien...       Y         N  2019\n",
       "2  \"dehydration\" Chest hurts, hips hurt, cramps P...       Y         Y  2019\n",
       "3  \"gout flare up\" L arm swelling x 1 week. denie...       Y         Y  2019\n",
       "4  \"heart racing,\"dyspnea, and orthopnea that has...       N         -  2019"
      ]
     },
     "execution_count": 3,
     "metadata": {},
     "output_type": "execute_result"
    }
   ],
   "source": [
    "# Replace this with the path to your CSV file\n",
    "csv_file_path_19 = 'Data/gout_ed_chief_complaint/GOUT-CC-2019-CORPUS-REDACTED.csv'\n",
    "\n",
    "# Read CSV file into a Pandas DataFrame\n",
    "csv_df_19 = pd.read_csv(csv_file_path_19)\n",
    "csv_df_19['Year'] = 2019\n",
    "csv_df_19.head()"
   ]
  },
  {
   "cell_type": "code",
   "execution_count": null,
   "id": "d51bd365",
   "metadata": {},
   "outputs": [],
   "source": []
  },
  {
   "cell_type": "code",
   "execution_count": 4,
   "id": "63e53be0",
   "metadata": {},
   "outputs": [
    {
     "data": {
      "text/html": [
       "<div>\n",
       "<style scoped>\n",
       "    .dataframe tbody tr th:only-of-type {\n",
       "        vertical-align: middle;\n",
       "    }\n",
       "\n",
       "    .dataframe tbody tr th {\n",
       "        vertical-align: top;\n",
       "    }\n",
       "\n",
       "    .dataframe thead th {\n",
       "        text-align: right;\n",
       "    }\n",
       "</style>\n",
       "<table border=\"1\" class=\"dataframe\">\n",
       "  <thead>\n",
       "    <tr style=\"text-align: right;\">\n",
       "      <th></th>\n",
       "      <th>Chief Complaint</th>\n",
       "      <th>Predict</th>\n",
       "      <th>Consensus</th>\n",
       "      <th>Year</th>\n",
       "    </tr>\n",
       "  </thead>\n",
       "  <tbody>\n",
       "    <tr>\n",
       "      <th>0</th>\n",
       "      <td>\"I dont know whats going on with my head, its ...</td>\n",
       "      <td>N</td>\n",
       "      <td>-</td>\n",
       "      <td>2020</td>\n",
       "    </tr>\n",
       "    <tr>\n",
       "      <th>1</th>\n",
       "      <td>\"i've been depressed for a few weeks now, i'm ...</td>\n",
       "      <td>N</td>\n",
       "      <td>-</td>\n",
       "      <td>2020</td>\n",
       "    </tr>\n",
       "    <tr>\n",
       "      <th>2</th>\n",
       "      <td>Altercation while making arrest, c/o R hand pa...</td>\n",
       "      <td>N</td>\n",
       "      <td>N</td>\n",
       "      <td>2020</td>\n",
       "    </tr>\n",
       "    <tr>\n",
       "      <th>3</th>\n",
       "      <td>Cut on L upper thigh wtih saw. Bleeding contro...</td>\n",
       "      <td>N</td>\n",
       "      <td>N</td>\n",
       "      <td>2020</td>\n",
       "    </tr>\n",
       "    <tr>\n",
       "      <th>4</th>\n",
       "      <td>Dysuria x1 week. hx: hysterectomy, gerd, bipolar</td>\n",
       "      <td>N</td>\n",
       "      <td>-</td>\n",
       "      <td>2020</td>\n",
       "    </tr>\n",
       "  </tbody>\n",
       "</table>\n",
       "</div>"
      ],
      "text/plain": [
       "                                     Chief Complaint Predict Consensus  Year\n",
       "0  \"I dont know whats going on with my head, its ...       N         -  2020\n",
       "1  \"i've been depressed for a few weeks now, i'm ...       N         -  2020\n",
       "2  Altercation while making arrest, c/o R hand pa...       N         N  2020\n",
       "3  Cut on L upper thigh wtih saw. Bleeding contro...       N         N  2020\n",
       "4   Dysuria x1 week. hx: hysterectomy, gerd, bipolar       N         -  2020"
      ]
     },
     "execution_count": 4,
     "metadata": {},
     "output_type": "execute_result"
    }
   ],
   "source": [
    "# Replace this with the path to your CSV file\n",
    "csv_file_path_20 = 'Data/gout_ed_chief_complaint/GOUT-CC-2020-CORPUS-REDACTED.csv'\n",
    "\n",
    "# Read CSV file into a Pandas DataFrame\n",
    "csv_df_20 = pd.read_csv(csv_file_path_20)\n",
    "csv_df_20['Year'] = 2020\n",
    "csv_df_20.head()"
   ]
  },
  {
   "cell_type": "code",
   "execution_count": 5,
   "id": "fe18a8da",
   "metadata": {},
   "outputs": [
    {
     "data": {
      "text/plain": [
       "(8437, 4)"
      ]
     },
     "execution_count": 5,
     "metadata": {},
     "output_type": "execute_result"
    }
   ],
   "source": [
    "dataset = pd.concat([csv_df_19, csv_df_20])\n",
    "dataset.shape"
   ]
  },
  {
   "cell_type": "code",
   "execution_count": 6,
   "id": "d84820f1",
   "metadata": {},
   "outputs": [
    {
     "name": "stdout",
     "output_type": "stream",
     "text": [
      "Index(['Chief_Complaint', 'Predict', 'Consensus', 'Year'], dtype='object')\n"
     ]
    }
   ],
   "source": [
    "dataset.rename(columns={'Chief Complaint': 'Chief_Complaint'}, inplace=True)\n",
    "# Now, your DataFrame has the updated column names\n",
    "print(dataset.columns)\n",
    "dataset.to_csv('gout_corpus.csv',index=False)"
   ]
  }
 ],
 "metadata": {
  "kernelspec": {
   "display_name": "Python 3 (ipykernel)",
   "language": "python",
   "name": "python3"
  },
  "language_info": {
   "codemirror_mode": {
    "name": "ipython",
    "version": 3
   },
   "file_extension": ".py",
   "mimetype": "text/x-python",
   "name": "python",
   "nbconvert_exporter": "python",
   "pygments_lexer": "ipython3",
   "version": "3.11.5"
  }
 },
 "nbformat": 4,
 "nbformat_minor": 5
}
