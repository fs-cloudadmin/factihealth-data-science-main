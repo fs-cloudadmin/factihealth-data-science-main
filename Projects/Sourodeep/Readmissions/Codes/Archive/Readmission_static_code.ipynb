{
 "cells": [
  {
   "cell_type": "markdown",
   "id": "7e4c1eca",
   "metadata": {},
   "source": [
    "# Imports\n"
   ]
  },
  {
   "cell_type": "code",
   "execution_count": 1,
   "id": "98758082",
   "metadata": {},
   "outputs": [],
   "source": [
    "import os\n",
    "import pandas as pd\n",
    "import pickle\n",
    "import time\n",
    "import numpy as np\n",
    "import matplotlib.pyplot as plt\n",
    "import seaborn as sns\n",
    "import psycopg2\n",
    "import time\n",
    "import shap\n",
    "import warnings\n",
    "pd.set_option('display.max_columns', None)\n",
    "# Suppress Matplotlib warnings\n",
    "warnings.filterwarnings(\"ignore\")"
   ]
  },
  {
   "cell_type": "code",
   "execution_count": 2,
   "id": "77bf3c01",
   "metadata": {},
   "outputs": [],
   "source": [
    "from sklearn.model_selection import GridSearchCV\n",
    "from sklearn.model_selection import train_test_split\n",
    "from sklearn.model_selection import GridSearchCV\n",
    "from sklearn.preprocessing import LabelEncoder\n",
    "from sklearn.ensemble import RandomForestClassifier\n",
    "from sklearn.metrics import accuracy_score\n",
    "from sklearn.metrics import confusion_matrix\n",
    "from sklearn.metrics import classification_report"
   ]
  },
  {
   "cell_type": "code",
   "execution_count": 3,
   "id": "5cb7a380",
   "metadata": {},
   "outputs": [
    {
     "data": {
      "text/plain": [
       "150"
      ]
     },
     "execution_count": 3,
     "metadata": {},
     "output_type": "execute_result"
    }
   ],
   "source": [
    "demo_data = pd.read_csv('Data/Admissions_Data.csv')\n",
    "hadm_id_list = tuple(demo_data['hadm_id'].unique())\n",
    "len(hadm_id_list)"
   ]
  },
  {
   "cell_type": "code",
   "execution_count": 4,
   "id": "a5aa6230",
   "metadata": {},
   "outputs": [
    {
     "data": {
      "text/html": [
       "<div>\n",
       "<style scoped>\n",
       "    .dataframe tbody tr th:only-of-type {\n",
       "        vertical-align: middle;\n",
       "    }\n",
       "\n",
       "    .dataframe tbody tr th {\n",
       "        vertical-align: top;\n",
       "    }\n",
       "\n",
       "    .dataframe thead th {\n",
       "        text-align: right;\n",
       "    }\n",
       "</style>\n",
       "<table border=\"1\" class=\"dataframe\">\n",
       "  <thead>\n",
       "    <tr style=\"text-align: right;\">\n",
       "      <th></th>\n",
       "      <th>subject_id</th>\n",
       "      <th>hadm_id</th>\n",
       "      <th>admittime</th>\n",
       "      <th>dischtime</th>\n",
       "      <th>transtime</th>\n",
       "      <th>admission_type</th>\n",
       "      <th>admission_location</th>\n",
       "      <th>discharge_location</th>\n",
       "      <th>marital_status</th>\n",
       "      <th>race</th>\n",
       "    </tr>\n",
       "  </thead>\n",
       "  <tbody>\n",
       "    <tr>\n",
       "      <th>0</th>\n",
       "      <td>12202842</td>\n",
       "      <td>26238645</td>\n",
       "      <td>2/2/2024</td>\n",
       "      <td>2/5/2024</td>\n",
       "      <td>NaN</td>\n",
       "      <td>SURGICAL SAME DAY ADMISSION</td>\n",
       "      <td>PHYSICIAN REFERRAL</td>\n",
       "      <td>SKILLED NURSING FACILITY</td>\n",
       "      <td>MARRIED</td>\n",
       "      <td>OTHER</td>\n",
       "    </tr>\n",
       "    <tr>\n",
       "      <th>1</th>\n",
       "      <td>13700862</td>\n",
       "      <td>26342274</td>\n",
       "      <td>2/2/2024</td>\n",
       "      <td>2/6/2024</td>\n",
       "      <td>NaN</td>\n",
       "      <td>ELECTIVE</td>\n",
       "      <td>PHYSICIAN REFERRAL</td>\n",
       "      <td>HOME HEALTH CARE</td>\n",
       "      <td>MARRIED</td>\n",
       "      <td>WHITE</td>\n",
       "    </tr>\n",
       "    <tr>\n",
       "      <th>2</th>\n",
       "      <td>12827707</td>\n",
       "      <td>28832353</td>\n",
       "      <td>2/2/2024</td>\n",
       "      <td>2/3/2024</td>\n",
       "      <td>NaN</td>\n",
       "      <td>DIRECT OBSERVATION</td>\n",
       "      <td>PHYSICIAN REFERRAL</td>\n",
       "      <td>NaN</td>\n",
       "      <td>SINGLE</td>\n",
       "      <td>WHITE</td>\n",
       "    </tr>\n",
       "    <tr>\n",
       "      <th>3</th>\n",
       "      <td>13662342</td>\n",
       "      <td>23248569</td>\n",
       "      <td>2/2/2024</td>\n",
       "      <td>2/8/2024</td>\n",
       "      <td>NaN</td>\n",
       "      <td>ELECTIVE</td>\n",
       "      <td>PHYSICIAN REFERRAL</td>\n",
       "      <td>HOME</td>\n",
       "      <td>MARRIED</td>\n",
       "      <td>ASIAN - CHINESE</td>\n",
       "    </tr>\n",
       "    <tr>\n",
       "      <th>4</th>\n",
       "      <td>17467543</td>\n",
       "      <td>20514821</td>\n",
       "      <td>2/3/2024</td>\n",
       "      <td>2/7/2024</td>\n",
       "      <td>NaN</td>\n",
       "      <td>SURGICAL SAME DAY ADMISSION</td>\n",
       "      <td>PHYSICIAN REFERRAL</td>\n",
       "      <td>HOME HEALTH CARE</td>\n",
       "      <td>SINGLE</td>\n",
       "      <td>ASIAN - CHINESE</td>\n",
       "    </tr>\n",
       "  </tbody>\n",
       "</table>\n",
       "</div>"
      ],
      "text/plain": [
       "   subject_id   hadm_id admittime dischtime transtime  \\\n",
       "0    12202842  26238645  2/2/2024  2/5/2024       NaN   \n",
       "1    13700862  26342274  2/2/2024  2/6/2024       NaN   \n",
       "2    12827707  28832353  2/2/2024  2/3/2024       NaN   \n",
       "3    13662342  23248569  2/2/2024  2/8/2024       NaN   \n",
       "4    17467543  20514821  2/3/2024  2/7/2024       NaN   \n",
       "\n",
       "                admission_type  admission_location        discharge_location  \\\n",
       "0  SURGICAL SAME DAY ADMISSION  PHYSICIAN REFERRAL  SKILLED NURSING FACILITY   \n",
       "1                     ELECTIVE  PHYSICIAN REFERRAL          HOME HEALTH CARE   \n",
       "2           DIRECT OBSERVATION  PHYSICIAN REFERRAL                       NaN   \n",
       "3                     ELECTIVE  PHYSICIAN REFERRAL                      HOME   \n",
       "4  SURGICAL SAME DAY ADMISSION  PHYSICIAN REFERRAL          HOME HEALTH CARE   \n",
       "\n",
       "  marital_status             race  \n",
       "0        MARRIED            OTHER  \n",
       "1        MARRIED            WHITE  \n",
       "2         SINGLE            WHITE  \n",
       "3        MARRIED  ASIAN - CHINESE  \n",
       "4         SINGLE  ASIAN - CHINESE  "
      ]
     },
     "execution_count": 4,
     "metadata": {},
     "output_type": "execute_result"
    }
   ],
   "source": [
    "demo_data.head()"
   ]
  },
  {
   "cell_type": "code",
   "execution_count": null,
   "id": "f3fa84ea",
   "metadata": {},
   "outputs": [],
   "source": []
  },
  {
   "cell_type": "code",
   "execution_count": 5,
   "id": "cfd397e7",
   "metadata": {},
   "outputs": [],
   "source": [
    "def db_connection(query):\n",
    "    # Database connection parameters\n",
    "    db_name = 'factihealth'   # Database name\n",
    "    db_user = 'fh_user'  # Username\n",
    "    db_password = 'Facti@874'  # Password\n",
    "    db_host = 'redshift-cluster-factihealth.cuzgotkwtow6.ap-south-1.redshift.amazonaws.com'  # Cluster endpoint\n",
    "    db_port = 5439  # Port\n",
    "    # Connect to the database\n",
    "    try:\n",
    "        conn = psycopg2.connect(\n",
    "            dbname=db_name,\n",
    "            user=db_user,\n",
    "            password=db_password,\n",
    "            host=db_host,\n",
    "            port=db_port\n",
    "        )\n",
    "        print(\"Connected to the database successfully\")\n",
    "        # Create a cursor object\n",
    "        cur = conn.cursor()\n",
    "        # Execute a query\n",
    "        cur.execute(query)\n",
    "        rows = cur.fetchall()\n",
    "        \n",
    "        # Get column names from the cursor description\n",
    "        col_names = [desc[0] for desc in cur.description]\n",
    "        \n",
    "        # Create a DataFrame from the fetched rows and column names\n",
    "        df = pd.DataFrame(rows, columns=col_names)\n",
    "        # Close the cursor and connection\n",
    "        cur.close()\n",
    "        conn.close()\n",
    "        \n",
    "        return df\n",
    "    except Exception as e:\n",
    "        print(f\"Database connection failed due to {e}\")\n",
    "        \n",
    "# Get Table Data based on table name\n",
    "def get_db_data(table_name, patients_ids=()):\n",
    "    ''' Get Data based on the table name provided '''\n",
    "    # query = f\"\"\"SELECT * FROM factihealth.mimic.{table_name} \n",
    "    #             WHERE subject_id in {patients_ids}\n",
    "    #             \"\"\"\n",
    "    query = f\"SELECT * FROM factihealth.mimic.{table_name}\"\n",
    "    if patients_ids:\n",
    "        query += f\" WHERE hadm_id IN {patients_ids}\"\n",
    "#     print(query)\n",
    "    df = db_connection(query)\n",
    "    return df"
   ]
  },
  {
   "cell_type": "code",
   "execution_count": 6,
   "id": "ae50129d",
   "metadata": {},
   "outputs": [
    {
     "name": "stdout",
     "output_type": "stream",
     "text": [
      "Connected to the database successfully\n"
     ]
    },
    {
     "data": {
      "text/plain": [
       "(300, 17)"
      ]
     },
     "execution_count": 6,
     "metadata": {},
     "output_type": "execute_result"
    }
   ],
   "source": [
    "admissions_df = get_db_data('admissions', hadm_id_list)\n",
    "admissions_df['date'] = admissions_df['admittime'].dt.date\n",
    "# admissions_df = admissions_df[admissions_df['hadm_id'].isin(hadm_id_list)]\n",
    "admissions_df.shape"
   ]
  },
  {
   "cell_type": "code",
   "execution_count": 7,
   "id": "d1dc1cd3",
   "metadata": {},
   "outputs": [
    {
     "name": "stdout",
     "output_type": "stream",
     "text": [
      "Connected to the database successfully\n"
     ]
    },
    {
     "data": {
      "text/plain": [
       "(1530, 5)"
      ]
     },
     "execution_count": 7,
     "metadata": {},
     "output_type": "execute_result"
    }
   ],
   "source": [
    "diagnosis_icd_df = get_db_data('diagnosis_icd', hadm_id_list)\n",
    "diagnosis_icd_df.shape"
   ]
  },
  {
   "cell_type": "code",
   "execution_count": 8,
   "id": "04fc6b22",
   "metadata": {},
   "outputs": [
    {
     "name": "stdout",
     "output_type": "stream",
     "text": [
      "Connected to the database successfully\n"
     ]
    },
    {
     "data": {
      "text/plain": [
       "(29, 8)"
      ]
     },
     "execution_count": 8,
     "metadata": {},
     "output_type": "execute_result"
    }
   ],
   "source": [
    "icustays_df = get_db_data('icustays', hadm_id_list)\n",
    "icustays_df.shape"
   ]
  },
  {
   "cell_type": "code",
   "execution_count": 9,
   "id": "d5a1d86b",
   "metadata": {},
   "outputs": [
    {
     "name": "stdout",
     "output_type": "stream",
     "text": [
      "Connected to the database successfully\n"
     ]
    },
    {
     "data": {
      "text/plain": [
       "(98641, 11)"
      ]
     },
     "execution_count": 9,
     "metadata": {},
     "output_type": "execute_result"
    }
   ],
   "source": [
    "chartevents_df = get_db_data('chartevents', hadm_id_list)\n",
    "chartevents_df.shape"
   ]
  },
  {
   "cell_type": "code",
   "execution_count": 10,
   "id": "3bb55736",
   "metadata": {},
   "outputs": [
    {
     "name": "stdout",
     "output_type": "stream",
     "text": [
      "Connected to the database successfully\n"
     ]
    },
    {
     "data": {
      "text/plain": [
       "(299712, 6)"
      ]
     },
     "execution_count": 10,
     "metadata": {},
     "output_type": "execute_result"
    }
   ],
   "source": [
    "patients_df = get_db_data('patients')\n",
    "patients_df.shape"
   ]
  },
  {
   "cell_type": "code",
   "execution_count": 11,
   "id": "262a2a1e",
   "metadata": {},
   "outputs": [],
   "source": [
    "def load_data():\n",
    "    ## Admissions\n",
    "    admissions_df = get_db_data('admissions', hadm_id_list)\n",
    "    admissions_df['date'] = admissions_df['admittime'].dt.date\n",
    "    \n",
    "    ## Diagnosis ICD\n",
    "    diagnosis_icd_df = get_db_data('diagnosis_icd', hadm_id_list)\n",
    "    \n",
    "    ## ICU Stays\n",
    "    icustays_df = get_db_data('icustays', hadm_id_list)\n",
    "    ## Chart Events\n",
    "    chartevents_df = get_db_data('chartevents', hadm_id_list)\n",
    "    ## Patient Data\n",
    "    patients_df = get_db_data('patients')\n",
    "    \n",
    "    return admissions_df, diagnosis_icd_df, icustays_df, chartevents_df, patients_df\n",
    "    "
   ]
  },
  {
   "cell_type": "code",
   "execution_count": 12,
   "id": "166e1e89",
   "metadata": {},
   "outputs": [
    {
     "name": "stdout",
     "output_type": "stream",
     "text": [
      "Connected to the database successfully\n",
      "Connected to the database successfully\n",
      "Connected to the database successfully\n",
      "Connected to the database successfully\n",
      "Connected to the database successfully\n"
     ]
    }
   ],
   "source": [
    "admissions_df, diagnosis_icd_df, icustays_df, chartevents_df, patients_df = load_data()"
   ]
  },
  {
   "cell_type": "code",
   "execution_count": 13,
   "id": "49f47083",
   "metadata": {},
   "outputs": [
    {
     "data": {
      "text/plain": [
       "((300, 17), (1530, 5), (29, 8), (98641, 11), (299712, 6))"
      ]
     },
     "execution_count": 13,
     "metadata": {},
     "output_type": "execute_result"
    }
   ],
   "source": [
    "admissions_df.shape, diagnosis_icd_df.shape, icustays_df.shape, chartevents_df.shape, patients_df.shape"
   ]
  },
  {
   "cell_type": "code",
   "execution_count": 14,
   "id": "7a2610bb",
   "metadata": {},
   "outputs": [],
   "source": [
    "\n",
    "\n",
    "def categorize_race(admin_diag):\n",
    "    ## Recategorize Race\n",
    "    admin_diag['race'] = np.where(admin_diag['race'].isin(['AMERICAN INDIAN/ALASKA NATIVE']), 'AMERICAN INDIAN/ALASKA NATIVE',\n",
    "                            np.where(admin_diag['race'].isin(['ASIAN', 'ASIAN - ASIAN INDIAN', 'ASIAN - CHINESE',\n",
    "                                                                           'ASIAN - KOREAN', 'ASIAN - SOUTH EAST ASIAN']),\n",
    "                                     'ASIAN',\n",
    "                            np.where(admin_diag['race'].isin(['BLACK/AFRICAN', 'BLACK/AFRICAN AMERICAN', \n",
    "                                                                           'BLACK/CAPE VERDEAN', 'BLACK/CARIBBEAN ISLAND']),\n",
    "                                     'BLACK/AFRICAN',\n",
    "                            np.where(admin_diag['race'].isin(['HISPANIC OR LATINO', 'HISPANIC/LATINO - CENTRAL AMERICAN',\n",
    "                                                                           'HISPANIC/LATINO - COLUMBIAN', 'HISPANIC/LATINO - CUBAN',\n",
    "                                                                           'HISPANIC/LATINO - DOMINICAN', 'HISPANIC/LATINO - GUATEMALAN', \n",
    "                                                                           'HISPANIC/LATINO - HONDURAN', 'HISPANIC/LATINO - MEXICAN', \n",
    "                                                                           'HISPANIC/LATINO - PUERTO RICAN','HISPANIC/LATINO - SALVADORAN']), \n",
    "                                     'HISPANIC OR LATINO',\n",
    "                            np.where(admin_diag['race'].isin(['NATIVE HAWAIIAN OR OTHER PACIFIC ISLANDER']), \n",
    "                                     'NATIVE HAWAIIAN OR OTHER PACIFIC ISLANDER',\n",
    "                            np.where(admin_diag['race'].isin(['MULTIPLE RACE/race', 'OTHER', \n",
    "                                                                      'PATIENT DECLINED TO ANSWER', 'UNABLE TO OBTAIN', 'UNKNOWN']), \n",
    "                                     'OTHER',\n",
    "                            np.where(admin_diag['race'].isin(['PORTUGUESE']), 'PORTUGUESE',\n",
    "                            np.where(admin_diag['race'].isin(['SOUTH AMERICAN']), 'SOUTH AMERICAN',\n",
    "                            np.where(admin_diag['race'].isin(['WHITE', 'WHITE - BRAZILIAN', 'WHITE - EASTERN EUROPEAN',\n",
    "                                                                           'WHITE - OTHER EUROPEAN', 'WHITE - RUSSIAN']), \n",
    "                                     'WHITE',\n",
    "                                     np.nan)))))))))\n",
    "    \n",
    "\n",
    "    return admin_diag\n",
    "\n",
    "\n",
    "\n",
    "# Function to categorize ICD codes\n",
    "def categorize_icd(icd):\n",
    "    try:\n",
    "        if 1 <= int(icd) <= 139:\n",
    "            return 'Infectious and Parasitic Diseases'\n",
    "        elif 140 <= int(icd) <= 239:\n",
    "            return 'Neoplasms'\n",
    "        elif 240 <= int(icd) <= 279:\n",
    "            return 'Endocrine, Nutritional, and Metabolic Diseases'\n",
    "        elif 280 <= int(icd) <= 289:\n",
    "            return 'Diseases of the Blood and Blood-forming Organs'\n",
    "        elif 290 <= int(icd) <= 319:\n",
    "            return 'Mental Disorders'\n",
    "        elif 320 <= int(icd) <= 389:\n",
    "            return 'Diseases of the Nervous System and Sense Organs'\n",
    "        elif 390 <= int(icd) <= 459:\n",
    "            return 'Diseases of the Circulatory System'\n",
    "        elif 460 <= int(icd) <= 519:\n",
    "            return 'Diseases of the Respiratory System'\n",
    "        elif 520 <= int(icd) <= 579:\n",
    "            return 'Diseases of the Digestive System'\n",
    "        elif 580 <= int(icd) <= 629:\n",
    "            return 'Diseases of the Genitourinary System'\n",
    "        elif 630 <= int(icd) <= 679:\n",
    "            return 'Complications of Pregnancy, Childbirth, and the Puerperium'\n",
    "        elif 680 <= int(icd) <= 709:\n",
    "            return 'Diseases of the Skin and Subcutaneous Tissue'\n",
    "        elif 710 <= int(icd) <= 739:\n",
    "            return 'Diseases of the Musculoskeletal System and Connective Tissue'\n",
    "        elif 740 <= int(icd) <= 759:\n",
    "            return 'Congenital Anomalies'\n",
    "        elif 760 <= int(icd) <= 779:\n",
    "            return 'Certain Conditions Originating in the Perinatal Period'\n",
    "        elif 780 <= int(icd) <= 799:\n",
    "            return 'Symptoms, Signs, and Ill-defined Conditions'\n",
    "        elif 800 <= int(icd) <= 999:\n",
    "            return 'Injury and Poisoning'\n",
    "        \n",
    "    except ValueError:\n",
    "        if icd[0] == 'A' or icd[0] == 'B':\n",
    "            return 'Infectious and Parasitic Diseases'\n",
    "        elif icd[0] == 'C':\n",
    "            return 'Neoplasms'\n",
    "        elif icd[0] == 'D':\n",
    "            return 'Diseases of the Blood and Blood-forming Organs'\n",
    "        elif icd[0] == 'E':\n",
    "            return 'External causes of injury and supplemental classification'\n",
    "        elif icd[0] == 'F':\n",
    "            return 'Mental Disorders'\n",
    "        elif icd[0] == 'G':\n",
    "            return 'Diseases of the Nervous System and Sense Organs'\n",
    "        elif icd[0] == 'H':\n",
    "            return 'Diseases of the eye, adnexa and mastoid process'\n",
    "        elif icd[0] == 'I':\n",
    "            return 'Diseases of the Circulatory System'\n",
    "        elif icd[0] == 'J':\n",
    "            return 'Diseases of the Respiratory System'\n",
    "        elif icd[0] == 'K':\n",
    "            return 'Diseases of the Digestive System'\n",
    "        elif icd[0] == 'L':\n",
    "            return 'Diseases of the Skin and Subcutaneous Tissue'\n",
    "        elif icd[0] == 'M':\n",
    "            return 'Diseases of the Musculoskeletal System and Connective Tissue'\n",
    "        elif icd[0] == 'N':\n",
    "            return 'Diseases of the Genitourinary System'\n",
    "        elif icd[0] == 'O':\n",
    "            return 'Complications of Pregnancy, Childbirth, and the Puerperium'\n",
    "        elif icd[0] == 'P':\n",
    "            return 'Certain Conditions Originating in the Perinatal Period'\n",
    "        elif icd[0] == 'Q':\n",
    "            return 'Congenital Anomalies'\n",
    "        elif icd[0] == 'R':\n",
    "            return 'Symptoms, Signs, and Ill-defined Conditions'\n",
    "        elif icd[0] == 'S' or icd[0] == 'T' :\n",
    "            return 'Injury and Poisoning'\n",
    "        elif icd[0] == 'U':\n",
    "            return 'Codes for special purposes'\n",
    "        elif icd[0] in ['V', 'W', 'X' ,'Y']:\n",
    "            return 'External causes of injury and supplemental classification'\n",
    "        elif icd[0] == 'Z':\n",
    "            return 'Factors influencing health status and contact with health services'\n",
    "  \n"
   ]
  },
  {
   "cell_type": "code",
   "execution_count": 15,
   "id": "19ca372b",
   "metadata": {},
   "outputs": [],
   "source": [
    "diagnosis_icd_df['icd'] = diagnosis_icd_df.icd_code.str[:3]\n",
    "diagnosis_icd_df['diagnosis'] = diagnosis_icd_df['icd'].apply(categorize_icd)\n",
    "diagnosis_icd_df = diagnosis_icd_df[['subject_id', 'hadm_id', 'diagnosis']]"
   ]
  },
  {
   "cell_type": "code",
   "execution_count": 16,
   "id": "42d8113f",
   "metadata": {},
   "outputs": [],
   "source": [
    "## Merge Diagnosis Data with Diagnosis Code(ICD)\n",
    "patients_df = patients_df[['subject_id', 'gender', 'anchor_age']]\n",
    "pat_diagn_data = pd.merge(diagnosis_icd_df, patients_df, on='subject_id', how='left')\n",
    "pat_diagn_data.drop_duplicates(inplace=True)"
   ]
  },
  {
   "cell_type": "code",
   "execution_count": 17,
   "id": "dab38b44",
   "metadata": {},
   "outputs": [],
   "source": [
    "admin_diag = pd.merge(admissions_df, pat_diagn_data, on=['subject_id','hadm_id'], \n",
    "                          how='left')\n",
    "\n",
    "## Select the required Columns\n",
    "admin_diag = admin_diag[['subject_id', 'hadm_id', 'admittime','admission_type',\n",
    "                         'admission_location','discharge_location', 'insurance', \n",
    "                         'language', 'marital_status', 'race',\n",
    "                         'gender', 'anchor_age', 'diagnosis']]"
   ]
  },
  {
   "cell_type": "code",
   "execution_count": 18,
   "id": "05a4846d",
   "metadata": {},
   "outputs": [],
   "source": [
    "## Convert Time to Date\n",
    "admin_diag['admittime'] = pd.to_datetime(admin_diag['admittime'])\n",
    "admin_diag['admitdate'] = admin_diag['admittime'].dt.date\n",
    "\n",
    "# Sort Values on the admin time\n",
    "admin_diag.sort_values(['subject_id', 'admittime'], inplace=True)\n",
    "\n",
    "## Get the time difference\n",
    "admin_diag['admitdate_diff'] = admin_diag.groupby('subject_id')['admittime'].diff()\n",
    "\n",
    "# Replace 0s with NaN\n",
    "admin_diag['admitdate_diff'] = admin_diag['admitdate_diff'].replace(pd.Timedelta(0), np.nan)\n",
    "\n",
    "# Forward fill NaN values\n",
    "admin_diag['admitdate_diff'] = admin_diag['admitdate_diff'].fillna(method='ffill')\n"
   ]
  },
  {
   "cell_type": "code",
   "execution_count": 19,
   "id": "264a73eb",
   "metadata": {},
   "outputs": [],
   "source": [
    "# Define boolean conditions for each range\n",
    "admin_diag['<30'] = admin_diag['admitdate_diff'] <= pd.Timedelta(days=30)\n",
    "admin_diag['<60'] = (admin_diag['admitdate_diff'] <= pd.Timedelta(days=60))\n",
    "admin_diag['>365'] = admin_diag['admitdate_diff'] > pd.Timedelta(days=365)\n",
    "\n",
    "# Convert boolean values to integers (0 and 1)\n",
    "admin_diag['<30'] = admin_diag['<30'].astype(int)\n",
    "admin_diag['<60'] = admin_diag['<60'].astype(int)\n",
    "admin_diag['>365'] = admin_diag['>365'].astype(int)\n",
    "## Convert to Days\n",
    "admin_diag['admitdate_diff'] = admin_diag['admitdate_diff'].dt.days"
   ]
  },
  {
   "cell_type": "code",
   "execution_count": 20,
   "id": "7e176c2d",
   "metadata": {},
   "outputs": [],
   "source": [
    "## Recategorize Admission Type\n",
    "conditions = admin_diag['admission_type'].isin(['EW EMER.', 'URGENT', 'DIRECT EMER.'])\n",
    "admin_diag['admission_type'] = np.where(conditions, 'Emergency', admin_diag['admission_type'])\n",
    "\n",
    "conditions = admin_diag['admission_type'].isin(['OBSERVATION ADMIT', 'EU OBSERVATION', 'DIRECT OBSERVATION', 'AMBULATORY OBSERVATION'])\n",
    "admin_diag['admission_type'] = np.where(conditions, 'Observation', admin_diag['admission_type'])\n",
    "\n",
    "conditions = admin_diag['admission_type'].isin(['SURGICAL SAME DAY ADMISSION'])\n",
    "admin_diag['admission_type'] = np.where(conditions, 'Surgical Same Day Admission', admin_diag['admission_type'])\n",
    "\n",
    "conditions = admin_diag['admission_type'].isin(['ELECTIVE'])\n",
    "admin_diag['admission_type'] = np.where(conditions, 'Elective', admin_diag['admission_type'])\n",
    "\n",
    "# =============================================================================\n",
    "#     CATEGPROIZE RACES\n",
    "# =============================================================================\n",
    "admin_diag = categorize_race(admin_diag)"
   ]
  },
  {
   "cell_type": "code",
   "execution_count": 21,
   "id": "713d54d6",
   "metadata": {},
   "outputs": [
    {
     "data": {
      "text/plain": [
       "150"
      ]
     },
     "execution_count": 21,
     "metadata": {},
     "output_type": "execute_result"
    }
   ],
   "source": [
    "# =============================================================================\n",
    "#     Merge Admission Data with Chart events\n",
    "# =============================================================================\n",
    "master_merged = pd.merge(admin_diag, chartevents_df, on=['hadm_id','subject_id'], how='left')\n",
    "master_merged = master_merged.fillna(0)\n",
    "\n",
    "## Select the required columns\n",
    "columns= ['subject_id', 'hadm_id', 'admittime', 'admission_type', 'admission_location',\n",
    "          'insurance', 'language', 'marital_status', 'race','diagnosis', 'gender',\n",
    "          'anchor_age','admitdate', 'admitdate_diff','valuenum', 'valueuom', \n",
    "          '<30', '<60', '>365']\n",
    "master_merged = master_merged[columns]\n",
    "\n",
    "\n",
    "master_merged.subject_id.nunique()\n",
    "master_merged.hadm_id.nunique()"
   ]
  },
  {
   "cell_type": "code",
   "execution_count": 22,
   "id": "c444e91d",
   "metadata": {},
   "outputs": [],
   "source": [
    "## Explode the columns which have the same values\n",
    "\n",
    "explode_colomns = ['anchor_age', 'admission_type','gender','admission_location', \n",
    "                   'insurance', 'language', 'marital_status', 'race', 'diagnosis', 'admitdate_diff', '<30', '<60', '>365']\n",
    "master_merged_df = master_merged.groupby(['subject_id', 'hadm_id','valuenum', 'valueuom'])[explode_colomns].agg(list).reset_index()\n",
    "\n",
    "## Convert 'Nan' to NaN\n",
    "master_merged_df['race'] = master_merged_df['race'].replace('nan', np.nan)"
   ]
  },
  {
   "cell_type": "code",
   "execution_count": 23,
   "id": "8e592a66",
   "metadata": {},
   "outputs": [],
   "source": [
    "# Apply the lambda function to each specified columnto get the unique value in the list\n",
    "## This is to ensure same column have the unique value. eg. [EMERGENCY ROOM, EMERGENCY ROOM,....] to EMERGENCY ROOM\n",
    "## Diagnosis is been considered because it may or may not have unique values.\n",
    "\n",
    "for col in explode_colomns:\n",
    "    if col!= 'diagnosis':\n",
    "        master_merged_df[col] = master_merged_df[col].apply(lambda x: x[0] if isinstance(x, list) and len(x) > 0 else None)\n",
    "\n",
    "## Convert 'Nan' to NaN\n",
    "master_merged_df['race'] = master_merged_df['race'].replace('nan', np.nan)"
   ]
  },
  {
   "cell_type": "code",
   "execution_count": 24,
   "id": "064b7b37",
   "metadata": {},
   "outputs": [
    {
     "name": "stdout",
     "output_type": "stream",
     "text": [
      "(8941, 35)\n"
     ]
    }
   ],
   "source": [
    "# =============================================================================\n",
    "#     Create Dummies\n",
    "# =============================================================================\n",
    "# Perform one-hot encoding for nominal categorical variables\n",
    "cat_columns=['admission_type', 'admission_location', 'insurance', 'language',\n",
    "             'marital_status', 'race', 'gender', 'valueuom']\n",
    "\n",
    "master_data = pd.get_dummies(master_merged_df, columns=cat_columns)\n",
    "\n",
    "dummy_df = pd.get_dummies(master_merged_df['diagnosis'].explode(), prefix='diagnosis')\n",
    "master_data = pd.concat([master_merged_df, dummy_df.groupby(level=0).max()], axis=1)\n",
    "master_data.drop(columns=['diagnosis'], inplace=True)\n",
    "print(master_data.shape)"
   ]
  },
  {
   "cell_type": "code",
   "execution_count": 25,
   "id": "39355c28",
   "metadata": {},
   "outputs": [
    {
     "name": "stdout",
     "output_type": "stream",
     "text": [
      "(8941, 80)\n",
      "(8941, 80)\n"
     ]
    }
   ],
   "source": [
    "\n",
    "cat_columns=['valueuom', 'admission_type', 'gender', 'admission_location', \n",
    "         'insurance', 'language', 'marital_status', 'race'  ]\n",
    "\n",
    "\n",
    "master_data = pd.get_dummies(master_data, columns=cat_columns, drop_first=True)\n",
    "print(master_data.shape)\n",
    "master_data.dropna(inplace=True)\n",
    "print(master_data.shape)"
   ]
  },
  {
   "cell_type": "code",
   "execution_count": 26,
   "id": "daa176d6",
   "metadata": {},
   "outputs": [],
   "source": [
    "# =============================================================================\n",
    "#     Create the exact same no of columns as present in the Model Building\n",
    "# =============================================================================\n",
    "all_columns = ['subject_id', 'hadm_id', 'valuenum', 'anchor_age', 'admitdate_diff',\n",
    "               '<30', '<60', '>365',\n",
    "               'diagnosis_Certain Conditions Originating in the Perinatal Period',\n",
    "               'diagnosis_Complications of Pregnancy, Childbirth, and the Puerperium',\n",
    "               'diagnosis_Congenital Anomalies',\n",
    "               'diagnosis_Diseases of the Blood and Blood-forming Organs',\n",
    "               'diagnosis_Diseases of the Circulatory System',\n",
    "               'diagnosis_Diseases of the Digestive System',\n",
    "               'diagnosis_Diseases of the Genitourinary System',\n",
    "               'diagnosis_Diseases of the Musculoskeletal System and Connective Tissue',\n",
    "               'diagnosis_Diseases of the Nervous System and Sense Organs',\n",
    "               'diagnosis_Diseases of the Respiratory System',\n",
    "               'diagnosis_Diseases of the Skin and Subcutaneous Tissue',\n",
    "               'diagnosis_Diseases of the eye, adnexa and mastoid process',\n",
    "               'diagnosis_Endocrine, Nutritional, and Metabolic Diseases',\n",
    "               'diagnosis_External causes of injury and supplemental classification',\n",
    "               'diagnosis_Factors influencing health status and contact with health services',\n",
    "               'diagnosis_Infectious and Parasitic Diseases',\n",
    "               'diagnosis_Injury and Poisoning', 'diagnosis_Mental Disorders',\n",
    "               'diagnosis_Neoplasms',\n",
    "               'diagnosis_Symptoms, Signs, and Ill-defined Conditions', 'valueuom_bpm',\n",
    "               'valueuom_insp/min', 'valueuom_kg', 'valueuom_mg/dL', 'valueuom_mmHg',\n",
    "               'valueuom_units', 'valueuom_°F', 'admission_type_Emergency',\n",
    "               'admission_type_Observation',\n",
    "               'admission_type_Surgical Same Day Admission', 'gender_M',\n",
    "               'admission_location_CLINIC REFERRAL',\n",
    "               'admission_location_EMERGENCY ROOM',\n",
    "               'admission_location_INFORMATION NOT AVAILABLE',\n",
    "               'admission_location_INTERNAL TRANSFER TO OR FROM PSYCH',\n",
    "               'admission_location_PACU', 'admission_location_PHYSICIAN REFERRAL',\n",
    "               'admission_location_PROCEDURE SITE',\n",
    "               'admission_location_TRANSFER FROM HOSPITAL',\n",
    "               'admission_location_TRANSFER FROM SKILLED NURSING FACILITY',\n",
    "               'admission_location_WALK-IN/SELF REFERRAL', 'insurance_Medicare',\n",
    "               'insurance_Other', 'language_ENGLISH', 'marital_status_MARRIED',\n",
    "               'marital_status_SINGLE', 'marital_status_WIDOWED', 'race_ASIAN',\n",
    "               'race_BLACK/AFRICAN', 'race_HISPANIC OR LATINO',\n",
    "               'race_NATIVE HAWAIIAN OR OTHER PACIFIC ISLANDER', 'race_OTHER',\n",
    "               'race_PORTUGUESE', 'race_SOUTH AMERICAN', 'race_WHITE']\n",
    "\n",
    "master_columns = master_data.columns"
   ]
  },
  {
   "cell_type": "code",
   "execution_count": 27,
   "id": "4517927e",
   "metadata": {},
   "outputs": [
    {
     "data": {
      "text/plain": [
       "((8941, 17), (8941, 80))"
      ]
     },
     "execution_count": 27,
     "metadata": {},
     "output_type": "execute_result"
    }
   ],
   "source": [
    "master_merged_df.shape, master_data.shape"
   ]
  },
  {
   "cell_type": "code",
   "execution_count": 28,
   "id": "61b37318",
   "metadata": {},
   "outputs": [],
   "source": [
    "# Filter out columns from all_columns that are not present in master_columns\n",
    "missing_columns = [column for column in all_columns if column not in master_columns]\n",
    "# Fill missing columns with False\n",
    "for column in missing_columns:\n",
    "    master_data[column] = False\n",
    "\n",
    "## Rearrange the columns\n",
    "master_data = master_data[all_columns]\n",
    "demo_data_df = master_data.drop(['subject_id', 'hadm_id', 'admitdate_diff',\n",
    "                                '<30', '<60', '>365'], axis=1)\n",
    "\n",
    "# demo_data.drop_duplicates(inplace=True)"
   ]
  },
  {
   "cell_type": "code",
   "execution_count": 29,
   "id": "7f6df64f",
   "metadata": {},
   "outputs": [
    {
     "data": {
      "text/plain": [
       "((8941, 17), (8941, 63), (8941, 57))"
      ]
     },
     "execution_count": 29,
     "metadata": {},
     "output_type": "execute_result"
    }
   ],
   "source": [
    "master_merged_df.shape, master_data.shape, demo_data_df.shape"
   ]
  },
  {
   "cell_type": "code",
   "execution_count": 30,
   "id": "acae1b1b",
   "metadata": {},
   "outputs": [
    {
     "data": {
      "text/html": [
       "<div>\n",
       "<style scoped>\n",
       "    .dataframe tbody tr th:only-of-type {\n",
       "        vertical-align: middle;\n",
       "    }\n",
       "\n",
       "    .dataframe tbody tr th {\n",
       "        vertical-align: top;\n",
       "    }\n",
       "\n",
       "    .dataframe thead th {\n",
       "        text-align: right;\n",
       "    }\n",
       "</style>\n",
       "<table border=\"1\" class=\"dataframe\">\n",
       "  <thead>\n",
       "    <tr style=\"text-align: right;\">\n",
       "      <th></th>\n",
       "      <th>30_days</th>\n",
       "      <th>60_days</th>\n",
       "      <th>365_days</th>\n",
       "    </tr>\n",
       "  </thead>\n",
       "  <tbody>\n",
       "    <tr>\n",
       "      <th>0</th>\n",
       "      <td>0</td>\n",
       "      <td>0</td>\n",
       "      <td>1</td>\n",
       "    </tr>\n",
       "    <tr>\n",
       "      <th>1</th>\n",
       "      <td>0</td>\n",
       "      <td>0</td>\n",
       "      <td>0</td>\n",
       "    </tr>\n",
       "    <tr>\n",
       "      <th>2</th>\n",
       "      <td>0</td>\n",
       "      <td>0</td>\n",
       "      <td>0</td>\n",
       "    </tr>\n",
       "    <tr>\n",
       "      <th>3</th>\n",
       "      <td>0</td>\n",
       "      <td>0</td>\n",
       "      <td>0</td>\n",
       "    </tr>\n",
       "    <tr>\n",
       "      <th>4</th>\n",
       "      <td>0</td>\n",
       "      <td>0</td>\n",
       "      <td>1</td>\n",
       "    </tr>\n",
       "    <tr>\n",
       "      <th>...</th>\n",
       "      <td>...</td>\n",
       "      <td>...</td>\n",
       "      <td>...</td>\n",
       "    </tr>\n",
       "    <tr>\n",
       "      <th>8936</th>\n",
       "      <td>0</td>\n",
       "      <td>0</td>\n",
       "      <td>0</td>\n",
       "    </tr>\n",
       "    <tr>\n",
       "      <th>8937</th>\n",
       "      <td>0</td>\n",
       "      <td>0</td>\n",
       "      <td>0</td>\n",
       "    </tr>\n",
       "    <tr>\n",
       "      <th>8938</th>\n",
       "      <td>0</td>\n",
       "      <td>0</td>\n",
       "      <td>0</td>\n",
       "    </tr>\n",
       "    <tr>\n",
       "      <th>8939</th>\n",
       "      <td>0</td>\n",
       "      <td>0</td>\n",
       "      <td>0</td>\n",
       "    </tr>\n",
       "    <tr>\n",
       "      <th>8940</th>\n",
       "      <td>0</td>\n",
       "      <td>0</td>\n",
       "      <td>0</td>\n",
       "    </tr>\n",
       "  </tbody>\n",
       "</table>\n",
       "<p>8941 rows × 3 columns</p>\n",
       "</div>"
      ],
      "text/plain": [
       "      30_days  60_days  365_days\n",
       "0           0        0         1\n",
       "1           0        0         0\n",
       "2           0        0         0\n",
       "3           0        0         0\n",
       "4           0        0         1\n",
       "...       ...      ...       ...\n",
       "8936        0        0         0\n",
       "8937        0        0         0\n",
       "8938        0        0         0\n",
       "8939        0        0         0\n",
       "8940        0        0         0\n",
       "\n",
       "[8941 rows x 3 columns]"
      ]
     },
     "execution_count": 30,
     "metadata": {},
     "output_type": "execute_result"
    }
   ],
   "source": [
    "\n",
    "def load_model(master_data):\n",
    "    # Load the pickled model\n",
    "    \n",
    "    forecasts = pd.DataFrame()\n",
    "    with open('Models/readmission_model.pkl', 'rb') as file:\n",
    "        loaded_model = pickle.load(file)\n",
    "        \n",
    "    for key, model_path in loaded_model.items():\n",
    "        forecasts[key] = model_path.predict(master_data)\n",
    "        \n",
    "    return forecasts\n",
    " \n",
    "forecasts = load_model(demo_data_df)\n",
    "forecasts"
   ]
  },
  {
   "cell_type": "code",
   "execution_count": 31,
   "id": "979fa974",
   "metadata": {},
   "outputs": [
    {
     "data": {
      "text/plain": [
       "((8941, 3), (150, 10))"
      ]
     },
     "execution_count": 31,
     "metadata": {},
     "output_type": "execute_result"
    }
   ],
   "source": [
    "forecasts.shape, demo_data.shape"
   ]
  },
  {
   "cell_type": "code",
   "execution_count": 37,
   "id": "afe98612",
   "metadata": {},
   "outputs": [
    {
     "data": {
      "text/plain": [
       "Index(['subject_id', 'hadm_id', 'valuenum', 'valueuom', 'anchor_age',\n",
       "       'admission_type', 'gender', 'admission_location', 'insurance',\n",
       "       'language', 'marital_status', 'race', 'diagnosis', 'admitdate_diff',\n",
       "       '<30', '<60', '>365'],\n",
       "      dtype='object')"
      ]
     },
     "execution_count": 37,
     "metadata": {},
     "output_type": "execute_result"
    }
   ],
   "source": [
    "master_merged_df.columns"
   ]
  },
  {
   "cell_type": "code",
   "execution_count": 32,
   "id": "1ce88a6d",
   "metadata": {},
   "outputs": [
    {
     "data": {
      "text/html": [
       "<div>\n",
       "<style scoped>\n",
       "    .dataframe tbody tr th:only-of-type {\n",
       "        vertical-align: middle;\n",
       "    }\n",
       "\n",
       "    .dataframe tbody tr th {\n",
       "        vertical-align: top;\n",
       "    }\n",
       "\n",
       "    .dataframe thead th {\n",
       "        text-align: right;\n",
       "    }\n",
       "</style>\n",
       "<table border=\"1\" class=\"dataframe\">\n",
       "  <thead>\n",
       "    <tr style=\"text-align: right;\">\n",
       "      <th></th>\n",
       "      <th>subject_id</th>\n",
       "      <th>hadm_id</th>\n",
       "      <th>anchor_age</th>\n",
       "      <th>admission_type</th>\n",
       "      <th>gender</th>\n",
       "      <th>admission_location</th>\n",
       "      <th>marital_status</th>\n",
       "      <th>race</th>\n",
       "      <th>30_days</th>\n",
       "      <th>60_days</th>\n",
       "      <th>365_days</th>\n",
       "    </tr>\n",
       "  </thead>\n",
       "  <tbody>\n",
       "    <tr>\n",
       "      <th>0</th>\n",
       "      <td>10169750</td>\n",
       "      <td>21487351</td>\n",
       "      <td>31</td>\n",
       "      <td>Emergency</td>\n",
       "      <td>F</td>\n",
       "      <td>PHYSICIAN REFERRAL</td>\n",
       "      <td>MARRIED</td>\n",
       "      <td>WHITE</td>\n",
       "      <td>0</td>\n",
       "      <td>0</td>\n",
       "      <td>1</td>\n",
       "    </tr>\n",
       "    <tr>\n",
       "      <th>1</th>\n",
       "      <td>10297112</td>\n",
       "      <td>23661596</td>\n",
       "      <td>67</td>\n",
       "      <td>Emergency</td>\n",
       "      <td>M</td>\n",
       "      <td>PHYSICIAN REFERRAL</td>\n",
       "      <td>MARRIED</td>\n",
       "      <td>WHITE</td>\n",
       "      <td>0</td>\n",
       "      <td>0</td>\n",
       "      <td>0</td>\n",
       "    </tr>\n",
       "    <tr>\n",
       "      <th>2</th>\n",
       "      <td>10297112</td>\n",
       "      <td>24851763</td>\n",
       "      <td>67</td>\n",
       "      <td>Surgical Same Day Admission</td>\n",
       "      <td>M</td>\n",
       "      <td>PHYSICIAN REFERRAL</td>\n",
       "      <td>MARRIED</td>\n",
       "      <td>WHITE</td>\n",
       "      <td>0</td>\n",
       "      <td>0</td>\n",
       "      <td>0</td>\n",
       "    </tr>\n",
       "    <tr>\n",
       "      <th>3</th>\n",
       "      <td>10297112</td>\n",
       "      <td>24851763</td>\n",
       "      <td>67</td>\n",
       "      <td>Surgical Same Day Admission</td>\n",
       "      <td>M</td>\n",
       "      <td>PHYSICIAN REFERRAL</td>\n",
       "      <td>MARRIED</td>\n",
       "      <td>WHITE</td>\n",
       "      <td>0</td>\n",
       "      <td>0</td>\n",
       "      <td>0</td>\n",
       "    </tr>\n",
       "    <tr>\n",
       "      <th>4</th>\n",
       "      <td>10297112</td>\n",
       "      <td>24851763</td>\n",
       "      <td>67</td>\n",
       "      <td>Surgical Same Day Admission</td>\n",
       "      <td>M</td>\n",
       "      <td>PHYSICIAN REFERRAL</td>\n",
       "      <td>MARRIED</td>\n",
       "      <td>WHITE</td>\n",
       "      <td>0</td>\n",
       "      <td>0</td>\n",
       "      <td>1</td>\n",
       "    </tr>\n",
       "    <tr>\n",
       "      <th>5</th>\n",
       "      <td>10297112</td>\n",
       "      <td>24851763</td>\n",
       "      <td>67</td>\n",
       "      <td>Surgical Same Day Admission</td>\n",
       "      <td>M</td>\n",
       "      <td>PHYSICIAN REFERRAL</td>\n",
       "      <td>MARRIED</td>\n",
       "      <td>WHITE</td>\n",
       "      <td>0</td>\n",
       "      <td>0</td>\n",
       "      <td>1</td>\n",
       "    </tr>\n",
       "    <tr>\n",
       "      <th>6</th>\n",
       "      <td>10297112</td>\n",
       "      <td>24851763</td>\n",
       "      <td>67</td>\n",
       "      <td>Surgical Same Day Admission</td>\n",
       "      <td>M</td>\n",
       "      <td>PHYSICIAN REFERRAL</td>\n",
       "      <td>MARRIED</td>\n",
       "      <td>WHITE</td>\n",
       "      <td>0</td>\n",
       "      <td>0</td>\n",
       "      <td>1</td>\n",
       "    </tr>\n",
       "    <tr>\n",
       "      <th>7</th>\n",
       "      <td>10297112</td>\n",
       "      <td>24851763</td>\n",
       "      <td>67</td>\n",
       "      <td>Surgical Same Day Admission</td>\n",
       "      <td>M</td>\n",
       "      <td>PHYSICIAN REFERRAL</td>\n",
       "      <td>MARRIED</td>\n",
       "      <td>WHITE</td>\n",
       "      <td>0</td>\n",
       "      <td>0</td>\n",
       "      <td>1</td>\n",
       "    </tr>\n",
       "    <tr>\n",
       "      <th>8</th>\n",
       "      <td>10297112</td>\n",
       "      <td>24851763</td>\n",
       "      <td>67</td>\n",
       "      <td>Surgical Same Day Admission</td>\n",
       "      <td>M</td>\n",
       "      <td>PHYSICIAN REFERRAL</td>\n",
       "      <td>MARRIED</td>\n",
       "      <td>WHITE</td>\n",
       "      <td>0</td>\n",
       "      <td>0</td>\n",
       "      <td>0</td>\n",
       "    </tr>\n",
       "    <tr>\n",
       "      <th>9</th>\n",
       "      <td>10297112</td>\n",
       "      <td>24851763</td>\n",
       "      <td>67</td>\n",
       "      <td>Surgical Same Day Admission</td>\n",
       "      <td>M</td>\n",
       "      <td>PHYSICIAN REFERRAL</td>\n",
       "      <td>MARRIED</td>\n",
       "      <td>WHITE</td>\n",
       "      <td>0</td>\n",
       "      <td>0</td>\n",
       "      <td>1</td>\n",
       "    </tr>\n",
       "  </tbody>\n",
       "</table>\n",
       "</div>"
      ],
      "text/plain": [
       "   subject_id   hadm_id  anchor_age               admission_type gender  \\\n",
       "0    10169750  21487351          31                    Emergency      F   \n",
       "1    10297112  23661596          67                    Emergency      M   \n",
       "2    10297112  24851763          67  Surgical Same Day Admission      M   \n",
       "3    10297112  24851763          67  Surgical Same Day Admission      M   \n",
       "4    10297112  24851763          67  Surgical Same Day Admission      M   \n",
       "5    10297112  24851763          67  Surgical Same Day Admission      M   \n",
       "6    10297112  24851763          67  Surgical Same Day Admission      M   \n",
       "7    10297112  24851763          67  Surgical Same Day Admission      M   \n",
       "8    10297112  24851763          67  Surgical Same Day Admission      M   \n",
       "9    10297112  24851763          67  Surgical Same Day Admission      M   \n",
       "\n",
       "   admission_location marital_status   race  30_days  60_days  365_days  \n",
       "0  PHYSICIAN REFERRAL        MARRIED  WHITE        0        0         1  \n",
       "1  PHYSICIAN REFERRAL        MARRIED  WHITE        0        0         0  \n",
       "2  PHYSICIAN REFERRAL        MARRIED  WHITE        0        0         0  \n",
       "3  PHYSICIAN REFERRAL        MARRIED  WHITE        0        0         0  \n",
       "4  PHYSICIAN REFERRAL        MARRIED  WHITE        0        0         1  \n",
       "5  PHYSICIAN REFERRAL        MARRIED  WHITE        0        0         1  \n",
       "6  PHYSICIAN REFERRAL        MARRIED  WHITE        0        0         1  \n",
       "7  PHYSICIAN REFERRAL        MARRIED  WHITE        0        0         1  \n",
       "8  PHYSICIAN REFERRAL        MARRIED  WHITE        0        0         0  \n",
       "9  PHYSICIAN REFERRAL        MARRIED  WHITE        0        0         1  "
      ]
     },
     "execution_count": 32,
     "metadata": {},
     "output_type": "execute_result"
    }
   ],
   "source": [
    "final = pd.concat([master_merged_df[['subject_id', 'hadm_id', 'anchor_age',\n",
    "                                             'admission_type', 'gender', 'admission_location',\n",
    "                                             'marital_status', 'race']], \n",
    "                           forecasts], axis=1)\n",
    "final.head(10)"
   ]
  },
  {
   "cell_type": "code",
   "execution_count": 33,
   "id": "af781c77",
   "metadata": {},
   "outputs": [
    {
     "data": {
      "text/plain": [
       "(8941, 11)"
      ]
     },
     "execution_count": 33,
     "metadata": {},
     "output_type": "execute_result"
    }
   ],
   "source": [
    "final.shape"
   ]
  },
  {
   "cell_type": "code",
   "execution_count": 66,
   "id": "0d7f11b1",
   "metadata": {},
   "outputs": [
    {
     "data": {
      "text/html": [
       "<div>\n",
       "<style scoped>\n",
       "    .dataframe tbody tr th:only-of-type {\n",
       "        vertical-align: middle;\n",
       "    }\n",
       "\n",
       "    .dataframe tbody tr th {\n",
       "        vertical-align: top;\n",
       "    }\n",
       "\n",
       "    .dataframe thead th {\n",
       "        text-align: right;\n",
       "    }\n",
       "</style>\n",
       "<table border=\"1\" class=\"dataframe\">\n",
       "  <thead>\n",
       "    <tr style=\"text-align: right;\">\n",
       "      <th></th>\n",
       "      <th>subject_id</th>\n",
       "      <th>hadm_id</th>\n",
       "      <th>anchor_age</th>\n",
       "      <th>admission_type</th>\n",
       "      <th>gender</th>\n",
       "      <th>admission_location</th>\n",
       "      <th>marital_status</th>\n",
       "      <th>race</th>\n",
       "      <th>30_days</th>\n",
       "      <th>60_days</th>\n",
       "      <th>365_days</th>\n",
       "    </tr>\n",
       "  </thead>\n",
       "  <tbody>\n",
       "    <tr>\n",
       "      <th>0</th>\n",
       "      <td>10169750</td>\n",
       "      <td>21487351</td>\n",
       "      <td>31</td>\n",
       "      <td>Emergency</td>\n",
       "      <td>F</td>\n",
       "      <td>PHYSICIAN REFERRAL</td>\n",
       "      <td>MARRIED</td>\n",
       "      <td>WHITE</td>\n",
       "      <td>0</td>\n",
       "      <td>0</td>\n",
       "      <td>1</td>\n",
       "    </tr>\n",
       "    <tr>\n",
       "      <th>1</th>\n",
       "      <td>10297112</td>\n",
       "      <td>23661596</td>\n",
       "      <td>67</td>\n",
       "      <td>Emergency</td>\n",
       "      <td>M</td>\n",
       "      <td>PHYSICIAN REFERRAL</td>\n",
       "      <td>MARRIED</td>\n",
       "      <td>WHITE</td>\n",
       "      <td>0</td>\n",
       "      <td>0</td>\n",
       "      <td>0</td>\n",
       "    </tr>\n",
       "    <tr>\n",
       "      <th>2</th>\n",
       "      <td>10297112</td>\n",
       "      <td>24851763</td>\n",
       "      <td>67</td>\n",
       "      <td>Surgical Same Day Admission</td>\n",
       "      <td>M</td>\n",
       "      <td>PHYSICIAN REFERRAL</td>\n",
       "      <td>MARRIED</td>\n",
       "      <td>WHITE</td>\n",
       "      <td>0</td>\n",
       "      <td>0</td>\n",
       "      <td>1</td>\n",
       "    </tr>\n",
       "    <tr>\n",
       "      <th>3</th>\n",
       "      <td>10355373</td>\n",
       "      <td>23079531</td>\n",
       "      <td>60</td>\n",
       "      <td>Observation</td>\n",
       "      <td>M</td>\n",
       "      <td>PHYSICIAN REFERRAL</td>\n",
       "      <td>MARRIED</td>\n",
       "      <td>OTHER</td>\n",
       "      <td>1</td>\n",
       "      <td>1</td>\n",
       "      <td>0</td>\n",
       "    </tr>\n",
       "    <tr>\n",
       "      <th>4</th>\n",
       "      <td>10367532</td>\n",
       "      <td>23086146</td>\n",
       "      <td>60</td>\n",
       "      <td>Emergency</td>\n",
       "      <td>F</td>\n",
       "      <td>TRANSFER FROM HOSPITAL</td>\n",
       "      <td>MARRIED</td>\n",
       "      <td>WHITE</td>\n",
       "      <td>0</td>\n",
       "      <td>0</td>\n",
       "      <td>0</td>\n",
       "    </tr>\n",
       "  </tbody>\n",
       "</table>\n",
       "</div>"
      ],
      "text/plain": [
       "   subject_id   hadm_id  anchor_age               admission_type gender  \\\n",
       "0    10169750  21487351          31                    Emergency      F   \n",
       "1    10297112  23661596          67                    Emergency      M   \n",
       "2    10297112  24851763          67  Surgical Same Day Admission      M   \n",
       "3    10355373  23079531          60                  Observation      M   \n",
       "4    10367532  23086146          60                    Emergency      F   \n",
       "\n",
       "       admission_location marital_status   race  30_days  60_days  365_days  \n",
       "0      PHYSICIAN REFERRAL        MARRIED  WHITE        0        0         1  \n",
       "1      PHYSICIAN REFERRAL        MARRIED  WHITE        0        0         0  \n",
       "2      PHYSICIAN REFERRAL        MARRIED  WHITE        0        0         1  \n",
       "3      PHYSICIAN REFERRAL        MARRIED  OTHER        1        1         0  \n",
       "4  TRANSFER FROM HOSPITAL        MARRIED  WHITE        0        0         0  "
      ]
     },
     "execution_count": 66,
     "metadata": {},
     "output_type": "execute_result"
    }
   ],
   "source": [
    "df = final.groupby(['subject_id', 'hadm_id', 'anchor_age',\n",
    "                        'admission_type', 'gender', 'admission_location',\n",
    "                        'marital_status', 'race'])[['30_days','60_days','365_days']].max().reset_index()\n",
    "df.head()"
   ]
  },
  {
   "cell_type": "code",
   "execution_count": 67,
   "id": "f354c144",
   "metadata": {},
   "outputs": [
    {
     "data": {
      "text/plain": [
       "(150, 11)"
      ]
     },
     "execution_count": 67,
     "metadata": {},
     "output_type": "execute_result"
    }
   ],
   "source": [
    "df.shape"
   ]
  },
  {
   "cell_type": "code",
   "execution_count": 101,
   "id": "846098d0",
   "metadata": {},
   "outputs": [
    {
     "data": {
      "text/html": [
       "<div>\n",
       "<style scoped>\n",
       "    .dataframe tbody tr th:only-of-type {\n",
       "        vertical-align: middle;\n",
       "    }\n",
       "\n",
       "    .dataframe tbody tr th {\n",
       "        vertical-align: top;\n",
       "    }\n",
       "\n",
       "    .dataframe thead th {\n",
       "        text-align: right;\n",
       "    }\n",
       "</style>\n",
       "<table border=\"1\" class=\"dataframe\">\n",
       "  <thead>\n",
       "    <tr style=\"text-align: right;\">\n",
       "      <th></th>\n",
       "      <th>subject_id</th>\n",
       "      <th>hadm_id</th>\n",
       "      <th>dischtime</th>\n",
       "      <th>anchor_age</th>\n",
       "      <th>admission_type</th>\n",
       "      <th>race</th>\n",
       "      <th>gender</th>\n",
       "      <th>admission_location</th>\n",
       "      <th>marital_status</th>\n",
       "      <th>30_days</th>\n",
       "      <th>60_days</th>\n",
       "      <th>365_days</th>\n",
       "    </tr>\n",
       "  </thead>\n",
       "  <tbody>\n",
       "    <tr>\n",
       "      <th>0</th>\n",
       "      <td>12202842</td>\n",
       "      <td>26238645</td>\n",
       "      <td>2/5/2024</td>\n",
       "      <td>72</td>\n",
       "      <td>Surgical Same Day Admission</td>\n",
       "      <td>OTHER</td>\n",
       "      <td>F</td>\n",
       "      <td>PHYSICIAN REFERRAL</td>\n",
       "      <td>MARRIED</td>\n",
       "      <td>0</td>\n",
       "      <td>0</td>\n",
       "      <td>0</td>\n",
       "    </tr>\n",
       "    <tr>\n",
       "      <th>1</th>\n",
       "      <td>13700862</td>\n",
       "      <td>26342274</td>\n",
       "      <td>2/6/2024</td>\n",
       "      <td>57</td>\n",
       "      <td>Elective</td>\n",
       "      <td>WHITE</td>\n",
       "      <td>F</td>\n",
       "      <td>PHYSICIAN REFERRAL</td>\n",
       "      <td>MARRIED</td>\n",
       "      <td>0</td>\n",
       "      <td>0</td>\n",
       "      <td>0</td>\n",
       "    </tr>\n",
       "    <tr>\n",
       "      <th>2</th>\n",
       "      <td>12827707</td>\n",
       "      <td>28832353</td>\n",
       "      <td>2/3/2024</td>\n",
       "      <td>33</td>\n",
       "      <td>Observation</td>\n",
       "      <td>WHITE</td>\n",
       "      <td>M</td>\n",
       "      <td>PHYSICIAN REFERRAL</td>\n",
       "      <td>SINGLE</td>\n",
       "      <td>0</td>\n",
       "      <td>0</td>\n",
       "      <td>0</td>\n",
       "    </tr>\n",
       "    <tr>\n",
       "      <th>3</th>\n",
       "      <td>13662342</td>\n",
       "      <td>23248569</td>\n",
       "      <td>2/8/2024</td>\n",
       "      <td>60</td>\n",
       "      <td>Elective</td>\n",
       "      <td>ASIAN</td>\n",
       "      <td>M</td>\n",
       "      <td>PHYSICIAN REFERRAL</td>\n",
       "      <td>MARRIED</td>\n",
       "      <td>0</td>\n",
       "      <td>1</td>\n",
       "      <td>0</td>\n",
       "    </tr>\n",
       "    <tr>\n",
       "      <th>4</th>\n",
       "      <td>17467543</td>\n",
       "      <td>20514821</td>\n",
       "      <td>2/7/2024</td>\n",
       "      <td>38</td>\n",
       "      <td>Surgical Same Day Admission</td>\n",
       "      <td>ASIAN</td>\n",
       "      <td>F</td>\n",
       "      <td>PHYSICIAN REFERRAL</td>\n",
       "      <td>SINGLE</td>\n",
       "      <td>0</td>\n",
       "      <td>0</td>\n",
       "      <td>0</td>\n",
       "    </tr>\n",
       "  </tbody>\n",
       "</table>\n",
       "</div>"
      ],
      "text/plain": [
       "   subject_id   hadm_id dischtime  anchor_age               admission_type  \\\n",
       "0    12202842  26238645  2/5/2024          72  Surgical Same Day Admission   \n",
       "1    13700862  26342274  2/6/2024          57                     Elective   \n",
       "2    12827707  28832353  2/3/2024          33                  Observation   \n",
       "3    13662342  23248569  2/8/2024          60                     Elective   \n",
       "4    17467543  20514821  2/7/2024          38  Surgical Same Day Admission   \n",
       "\n",
       "    race gender  admission_location marital_status  30_days  60_days  365_days  \n",
       "0  OTHER      F  PHYSICIAN REFERRAL        MARRIED        0        0         0  \n",
       "1  WHITE      F  PHYSICIAN REFERRAL        MARRIED        0        0         0  \n",
       "2  WHITE      M  PHYSICIAN REFERRAL         SINGLE        0        0         0  \n",
       "3  ASIAN      M  PHYSICIAN REFERRAL        MARRIED        0        1         0  \n",
       "4  ASIAN      F  PHYSICIAN REFERRAL         SINGLE        0        0         0  "
      ]
     },
     "execution_count": 101,
     "metadata": {},
     "output_type": "execute_result"
    }
   ],
   "source": [
    "final_demo_st = pd.merge(demo_data, df, on=['hadm_id', 'admission_location', 'marital_status'], how='left')\n",
    "final_demo_st = final_demo_st[['subject_id_x', 'hadm_id', 'dischtime', 'anchor_age', 'admission_type_y', 'race_y', 'gender',\n",
    "                               'admission_location', 'marital_status', '30_days', '60_days', '365_days']]\n",
    "final_demo_st.rename(columns={'admission_type_y': 'admission_type',\n",
    "                              'subject_id_x': 'subject_id',\n",
    "                              'race_y': 'race'}, inplace=True)\n",
    "\n",
    "final_demo_st.head()"
   ]
  },
  {
   "cell_type": "code",
   "execution_count": 108,
   "id": "fd6bafe3",
   "metadata": {},
   "outputs": [
    {
     "data": {
      "text/html": [
       "<div>\n",
       "<style scoped>\n",
       "    .dataframe tbody tr th:only-of-type {\n",
       "        vertical-align: middle;\n",
       "    }\n",
       "\n",
       "    .dataframe tbody tr th {\n",
       "        vertical-align: top;\n",
       "    }\n",
       "\n",
       "    .dataframe thead th {\n",
       "        text-align: right;\n",
       "    }\n",
       "</style>\n",
       "<table border=\"1\" class=\"dataframe\">\n",
       "  <thead>\n",
       "    <tr style=\"text-align: right;\">\n",
       "      <th></th>\n",
       "      <th>subject_id</th>\n",
       "      <th>hadm_id</th>\n",
       "      <th>dischtime</th>\n",
       "      <th>anchor_age</th>\n",
       "      <th>admission_type</th>\n",
       "      <th>race</th>\n",
       "      <th>gender</th>\n",
       "      <th>admission_location</th>\n",
       "      <th>marital_status</th>\n",
       "      <th>30_days</th>\n",
       "      <th>60_days</th>\n",
       "      <th>365_days</th>\n",
       "    </tr>\n",
       "  </thead>\n",
       "  <tbody>\n",
       "    <tr>\n",
       "      <th>0</th>\n",
       "      <td>12202842</td>\n",
       "      <td>26238645</td>\n",
       "      <td>05/02/2024</td>\n",
       "      <td>72</td>\n",
       "      <td>Surgical Same Day Admission</td>\n",
       "      <td>OTHER</td>\n",
       "      <td>F</td>\n",
       "      <td>PHYSICIAN REFERRAL</td>\n",
       "      <td>MARRIED</td>\n",
       "      <td>0</td>\n",
       "      <td>0</td>\n",
       "      <td>0</td>\n",
       "    </tr>\n",
       "    <tr>\n",
       "      <th>1</th>\n",
       "      <td>13700862</td>\n",
       "      <td>26342274</td>\n",
       "      <td>06/02/2024</td>\n",
       "      <td>57</td>\n",
       "      <td>Elective</td>\n",
       "      <td>WHITE</td>\n",
       "      <td>F</td>\n",
       "      <td>PHYSICIAN REFERRAL</td>\n",
       "      <td>MARRIED</td>\n",
       "      <td>0</td>\n",
       "      <td>0</td>\n",
       "      <td>0</td>\n",
       "    </tr>\n",
       "    <tr>\n",
       "      <th>2</th>\n",
       "      <td>12827707</td>\n",
       "      <td>28832353</td>\n",
       "      <td>03/02/2024</td>\n",
       "      <td>33</td>\n",
       "      <td>Observation</td>\n",
       "      <td>WHITE</td>\n",
       "      <td>M</td>\n",
       "      <td>PHYSICIAN REFERRAL</td>\n",
       "      <td>SINGLE</td>\n",
       "      <td>0</td>\n",
       "      <td>0</td>\n",
       "      <td>0</td>\n",
       "    </tr>\n",
       "    <tr>\n",
       "      <th>3</th>\n",
       "      <td>13662342</td>\n",
       "      <td>23248569</td>\n",
       "      <td>08/02/2024</td>\n",
       "      <td>60</td>\n",
       "      <td>Elective</td>\n",
       "      <td>ASIAN</td>\n",
       "      <td>M</td>\n",
       "      <td>PHYSICIAN REFERRAL</td>\n",
       "      <td>MARRIED</td>\n",
       "      <td>0</td>\n",
       "      <td>1</td>\n",
       "      <td>0</td>\n",
       "    </tr>\n",
       "    <tr>\n",
       "      <th>4</th>\n",
       "      <td>17467543</td>\n",
       "      <td>20514821</td>\n",
       "      <td>07/02/2024</td>\n",
       "      <td>38</td>\n",
       "      <td>Surgical Same Day Admission</td>\n",
       "      <td>ASIAN</td>\n",
       "      <td>F</td>\n",
       "      <td>PHYSICIAN REFERRAL</td>\n",
       "      <td>SINGLE</td>\n",
       "      <td>0</td>\n",
       "      <td>0</td>\n",
       "      <td>0</td>\n",
       "    </tr>\n",
       "  </tbody>\n",
       "</table>\n",
       "</div>"
      ],
      "text/plain": [
       "   subject_id   hadm_id   dischtime  anchor_age               admission_type  \\\n",
       "0    12202842  26238645  05/02/2024          72  Surgical Same Day Admission   \n",
       "1    13700862  26342274  06/02/2024          57                     Elective   \n",
       "2    12827707  28832353  03/02/2024          33                  Observation   \n",
       "3    13662342  23248569  08/02/2024          60                     Elective   \n",
       "4    17467543  20514821  07/02/2024          38  Surgical Same Day Admission   \n",
       "\n",
       "    race gender  admission_location marital_status  30_days  60_days  365_days  \n",
       "0  OTHER      F  PHYSICIAN REFERRAL        MARRIED        0        0         0  \n",
       "1  WHITE      F  PHYSICIAN REFERRAL        MARRIED        0        0         0  \n",
       "2  WHITE      M  PHYSICIAN REFERRAL         SINGLE        0        0         0  \n",
       "3  ASIAN      M  PHYSICIAN REFERRAL        MARRIED        0        1         0  \n",
       "4  ASIAN      F  PHYSICIAN REFERRAL         SINGLE        0        0         0  "
      ]
     },
     "execution_count": 108,
     "metadata": {},
     "output_type": "execute_result"
    }
   ],
   "source": [
    "final_demo_st['dischtime'] = pd.to_datetime(final_demo_st['dischtime']).dt.strftime('%d/%m/%Y')\n",
    "final_demo_st.head()\n"
   ]
  },
  {
   "cell_type": "code",
   "execution_count": 109,
   "id": "385eef5f",
   "metadata": {},
   "outputs": [
    {
     "data": {
      "text/plain": [
       "(150, 12)"
      ]
     },
     "execution_count": 109,
     "metadata": {},
     "output_type": "execute_result"
    }
   ],
   "source": [
    "final_demo_st.shape"
   ]
  },
  {
   "cell_type": "code",
   "execution_count": 110,
   "id": "17723d24",
   "metadata": {},
   "outputs": [],
   "source": [
    "final_demo_st.to_csv('Data/Readmission_static.csv', index=False)"
   ]
  },
  {
   "cell_type": "code",
   "execution_count": 111,
   "id": "79e99f26",
   "metadata": {
    "scrolled": true
   },
   "outputs": [
    {
     "data": {
      "text/plain": [
       "(150, 150, 150)"
      ]
     },
     "execution_count": 111,
     "metadata": {},
     "output_type": "execute_result"
    }
   ],
   "source": [
    "final_demo_st.hadm_id.nunique(), df.hadm_id.nunique(), demo_data.hadm_id.nunique(),"
   ]
  },
  {
   "cell_type": "code",
   "execution_count": null,
   "id": "e2a8979a",
   "metadata": {},
   "outputs": [],
   "source": []
  },
  {
   "cell_type": "code",
   "execution_count": null,
   "id": "084e65ec",
   "metadata": {},
   "outputs": [],
   "source": []
  }
 ],
 "metadata": {
  "kernelspec": {
   "display_name": "Python 3 (ipykernel)",
   "language": "python",
   "name": "python3"
  },
  "language_info": {
   "codemirror_mode": {
    "name": "ipython",
    "version": 3
   },
   "file_extension": ".py",
   "mimetype": "text/x-python",
   "name": "python",
   "nbconvert_exporter": "python",
   "pygments_lexer": "ipython3",
   "version": "3.11.5"
  }
 },
 "nbformat": 4,
 "nbformat_minor": 5
}
