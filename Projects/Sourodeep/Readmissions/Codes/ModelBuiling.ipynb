{
 "cells": [
  {
   "cell_type": "markdown",
   "id": "a8785e03",
   "metadata": {},
   "source": [
    "# Library"
   ]
  },
  {
   "cell_type": "code",
   "execution_count": 1,
   "id": "92cf8c35",
   "metadata": {},
   "outputs": [],
   "source": [
    "import os\n",
    "import pandas as pd\n",
    "import numpy as np\n",
    "import matplotlib.pyplot as plt\n",
    "import seaborn as sns\n",
    "import psycopg2\n",
    "import warnings\n",
    "import time\n",
    "pd.set_option('display.max_columns', None)\n",
    "# Suppress Matplotlib warnings\n",
    "warnings.filterwarnings(\"ignore\")\n",
    "\n",
    "\n",
    "from sklearn.model_selection import train_test_split\n",
    "from sklearn.preprocessing import LabelEncoder\n",
    "from sklearn.ensemble import RandomForestClassifier\n",
    "from sklearn.ensemble import RandomForestRegressor\n",
    "from xgboost import XGBClassifier\n",
    "from sklearn.metrics import accuracy_score\n",
    "from sklearn.metrics import confusion_matrix\n",
    "from sklearn.metrics import classification_report\n",
    "from sklearn.metrics import mean_squared_error, mean_absolute_error, r2_score\n",
    "\n"
   ]
  },
  {
   "cell_type": "code",
   "execution_count": 2,
   "id": "6599cff8",
   "metadata": {},
   "outputs": [],
   "source": [
    "start = time.time()"
   ]
  },
  {
   "cell_type": "code",
   "execution_count": 3,
   "id": "a3b8a920",
   "metadata": {},
   "outputs": [],
   "source": [
    "master_data = pd.read_csv('Data/master_data.csv')"
   ]
  },
  {
   "cell_type": "code",
   "execution_count": 4,
   "id": "2fdc2c69",
   "metadata": {},
   "outputs": [
    {
     "data": {
      "text/plain": [
       "((2216714, 66), (2216714,))"
      ]
     },
     "execution_count": 4,
     "metadata": {},
     "output_type": "execute_result"
    }
   ],
   "source": [
    "X = master_data.drop(['subject_id', 'hadm_id', 'admittime','admitdate',\n",
    "                      'admitdate_diff','<30', '<60', '>365'], axis=1)\n",
    "\n",
    "Y_30 = master_data['<30']\n",
    "Y_60 = master_data['<60']\n",
    "Y_365 = master_data['>365']\n",
    "X.shape, Y_30.shape\n"
   ]
  },
  {
   "cell_type": "markdown",
   "id": "3fc72857",
   "metadata": {},
   "source": [
    "## For 30 days"
   ]
  },
  {
   "cell_type": "markdown",
   "id": "dc7c0919",
   "metadata": {},
   "source": [
    "# Random Forrest"
   ]
  },
  {
   "cell_type": "code",
   "execution_count": 5,
   "id": "98ea1008",
   "metadata": {},
   "outputs": [
    {
     "name": "stdout",
     "output_type": "stream",
     "text": [
      "Accuracy: 0.9175942780195019\n",
      "Time:  9.9\n",
      "Classification Report:\n",
      "               precision    recall  f1-score   support\n",
      "\n",
      "           0       0.93      0.95      0.94    310170\n",
      "           1       0.88      0.84      0.86    133173\n",
      "\n",
      "    accuracy                           0.92    443343\n",
      "   macro avg       0.91      0.89      0.90    443343\n",
      "weighted avg       0.92      0.92      0.92    443343\n",
      "\n",
      "Time:  9.916666666666666\n"
     ]
    }
   ],
   "source": [
    "t1= time.time()\n",
    "\n",
    "# Splitting the data into training and testing sets\n",
    "X_train, X_test, y_train, y_test = train_test_split(X, Y_30, test_size=0.2, random_state=42)\n",
    "\n",
    "# Initialize the Random Forest Classifier\n",
    "clf = RandomForestClassifier(n_estimators=100, random_state=42)  # You can adjust the number of estimators as needed\n",
    "\n",
    "# Train the model\n",
    "clf.fit(X_train, y_train)\n",
    "\n",
    "# Predict on the test set\n",
    "predictions = clf.predict(X_test)\n",
    "\n",
    "# Evaluate the model\n",
    "accuracy = accuracy_score(y_test, predictions)\n",
    "print(f\"Accuracy: {accuracy}\")\n",
    "print('Time: ', round(time.time()-t1)/60)\n",
    "\n",
    "# Print the classification report\n",
    "report = classification_report(y_test, predictions)\n",
    "print(\"Classification Report:\\n\", report)\n",
    "\n",
    "print('Time: ', round(time.time()-t1)/60)"
   ]
  },
  {
   "cell_type": "code",
   "execution_count": 6,
   "id": "cbcef5ef",
   "metadata": {
    "scrolled": true
   },
   "outputs": [
    {
     "data": {
      "image/png": "[encoded data removed]",
      "text/plain": [
       "<Figure size 400x200 with 2 Axes>"
      ]
     },
     "metadata": {},
     "output_type": "display_data"
    }
   ],
   "source": [
    "cm = confusion_matrix(y_test, predictions)\n",
    "\n",
    "# Display confusion matrix as a heatmap\n",
    "plt.figure(figsize=(4, 2))\n",
    "sns.heatmap(cm, annot=True, cmap='Blues', fmt='d', \n",
    "            xticklabels=['Predicted 0', 'Predicted 1'], \n",
    "            yticklabels=['Actual 0', 'Actual 1'])\n",
    "plt.xlabel('Predicted labels')\n",
    "plt.ylabel('True labels')\n",
    "plt.title('Confusion Matrix')\n",
    "plt.show()\n"
   ]
  },
  {
   "cell_type": "markdown",
   "id": "62bc6cd1",
   "metadata": {},
   "source": [
    "## PCA "
   ]
  },
  {
   "cell_type": "code",
   "execution_count": 7,
   "id": "9a222024",
   "metadata": {},
   "outputs": [],
   "source": [
    "from sklearn.decomposition import PCA\n",
    "\n",
    "# Apply PCA to reduce dimensions\n",
    "pca = PCA(n_components=40)  # Set the number of components/dimensions\n",
    "X_reduced = pca.fit_transform(X)\n"
   ]
  },
  {
   "cell_type": "raw",
   "id": "72766c8d",
   "metadata": {},
   "source": [
    "explained_variance = pca.explained_variance_ratio_\n",
    "print(\"Explained variance ratio:\", explained_variance)\n",
    "\n",
    "# Get the components\n",
    "components = pd.DataFrame(pca.components_, columns=X_reduced.columns)\n"
   ]
  },
  {
   "cell_type": "raw",
   "id": "a1b91199",
   "metadata": {},
   "source": [
    "t1= time.time()\n",
    "# Splitting the data into training and testing sets\n",
    "X_train, X_test, y_train, y_test = train_test_split(X_reduced, Y_30, test_size=0.2, random_state=42)\n",
    "\n",
    "# Initialize the Random Forest Classifier\n",
    "clf = RandomForestClassifier(n_estimators=100, random_state=42)  # You can adjust the number of estimators as needed\n",
    "\n",
    "# Train the model\n",
    "clf.fit(X_train, y_train)\n",
    "\n",
    "# Predict on the test set\n",
    "predictions = clf.predict(X_test)\n",
    "\n",
    "# Evaluate the model\n",
    "accuracy = accuracy_score(y_test, predictions)\n",
    "print(f\"Accuracy: {accuracy}\")\n",
    "print('Time: ', round(time.time()-t1)/60)\n",
    "\n",
    "# Print the classification report\n",
    "report = classification_report(y_test, predictions)\n",
    "print(\"Classification Report:\\n\", report)\n",
    "\n",
    "print('Time: ', round(time.time()-t1)/60)"
   ]
  },
  {
   "cell_type": "markdown",
   "id": "b3dbe188",
   "metadata": {},
   "source": [
    "# XG BOOST"
   ]
  },
  {
   "cell_type": "code",
   "execution_count": 8,
   "id": "19d280f1",
   "metadata": {},
   "outputs": [
    {
     "data": {
      "text/plain": [
       "((2216714, 66), (2216714,))"
      ]
     },
     "execution_count": 8,
     "metadata": {},
     "output_type": "execute_result"
    }
   ],
   "source": [
    "X = master_data.drop(['subject_id', 'hadm_id', 'admittime','admitdate',\n",
    "                      'admitdate_diff','<30', '<60', '>365'], axis=1)\n",
    "\n",
    "Y_30 = master_data['<30']\n",
    "Y_60 = master_data['<60']\n",
    "Y_365 = master_data['>365']\n",
    "X.shape, Y_30.shape\n"
   ]
  },
  {
   "cell_type": "code",
   "execution_count": 9,
   "id": "82cb5f91",
   "metadata": {},
   "outputs": [
    {
     "data": {
      "text/plain": [
       "array([1, 0], dtype=int64)"
      ]
     },
     "execution_count": 9,
     "metadata": {},
     "output_type": "execute_result"
    }
   ],
   "source": [
    "Y_30.unique()"
   ]
  },
  {
   "cell_type": "code",
   "execution_count": 10,
   "id": "f88d5327",
   "metadata": {
    "scrolled": true
   },
   "outputs": [
    {
     "name": "stdout",
     "output_type": "stream",
     "text": [
      "Accuracy: 0.7004441256544031\n",
      "Classification Report:\n",
      "               precision    recall  f1-score   support\n",
      "\n",
      "           0       0.70      1.00      0.82    310170\n",
      "           1       0.96      0.00      0.01    133173\n",
      "\n",
      "    accuracy                           0.70    443343\n",
      "   macro avg       0.83      0.50      0.41    443343\n",
      "weighted avg       0.78      0.70      0.58    443343\n",
      "\n",
      "Time:  0.6\n"
     ]
    }
   ],
   "source": [
    "t1= time.time()\n",
    "# Split the data into train and test sets\n",
    "X_train, X_test, y_train, y_test = train_test_split(X, Y_30, test_size=0.2, random_state=42)\n",
    "\n",
    "# Initialize the XGBoost classifier from sklearn interface\n",
    "model_30 = XGBClassifier(objective='multi:softmax', num_class=3, learning_rate=0.1,\n",
    "                          max_depth=3, n_estimators=100, eval_metric='mlogloss')\n",
    "# Train the model\n",
    "model_30.fit(X_train, y_train)\n",
    "# Make predictions on the test set\n",
    "y_pred = model_30.predict(X_test)\n",
    "\n",
    "# Evaluate the model\n",
    "accuracy = accuracy_score(y_test, y_pred)\n",
    "report = classification_report(y_test, y_pred)\n",
    "\n",
    "print(\"Accuracy:\", accuracy)\n",
    "print(\"Classification Report:\\n\", report)\n",
    "\n",
    "print('Time: ', round(time.time()-t1)/60)"
   ]
  },
  {
   "cell_type": "markdown",
   "id": "b10a8d09",
   "metadata": {},
   "source": [
    "## For 60 days"
   ]
  },
  {
   "cell_type": "code",
   "execution_count": null,
   "id": "9a37a7da",
   "metadata": {},
   "outputs": [],
   "source": [
    "t1= time.time()\n",
    "\n",
    "# Splitting the data into training and testing sets\n",
    "X_train, X_test, y_train, y_test = train_test_split(X_reduced, Y_60, test_size=0.2, random_state=42)\n",
    "\n",
    "# Initialize the Random Forest Classifier\n",
    "model_60 = RandomForestClassifier(n_estimators=100, random_state=42)  # You can adjust the number of estimators as needed\n",
    "\n",
    "# Train the model\n",
    "model_60.fit(X_train, y_train)\n",
    "\n",
    "# Predict on the test set\n",
    "predictions = model_60.predict(X_test)\n",
    "\n",
    "# Evaluate the model\n",
    "accuracy = accuracy_score(y_test, predictions)\n",
    "print(f\"Accuracy: {accuracy}\")\n",
    "\n",
    "# Print the classification report\n",
    "report = classification_report(y_test, predictions)\n",
    "print(\"Classification Report:\\n\", report)\n",
    "\n",
    "print('Time: ', round(time.time()-t1)/60)"
   ]
  },
  {
   "cell_type": "code",
   "execution_count": 11,
   "id": "769d6ef7",
   "metadata": {},
   "outputs": [
    {
     "name": "stdout",
     "output_type": "stream",
     "text": [
      "Accuracy: 0.9008645676146911\n",
      "Classification Report:\n",
      "               precision    recall  f1-score   support\n",
      "\n",
      "           0       0.91      0.92      0.91    250979\n",
      "           1       0.89      0.88      0.88    192364\n",
      "\n",
      "    accuracy                           0.90    443343\n",
      "   macro avg       0.90      0.90      0.90    443343\n",
      "weighted avg       0.90      0.90      0.90    443343\n",
      "\n",
      "Time:  12.1\n"
     ]
    }
   ],
   "source": [
    "t1= time.time()\n",
    "\n",
    "# Splitting the data into training and testing sets\n",
    "X_train, X_test, y_train, y_test = train_test_split(X, Y_60, test_size=0.2, random_state=42)\n",
    "\n",
    "# Initialize the Random Forest Classifier\n",
    "model_60 = RandomForestClassifier(n_estimators=100, random_state=42)  # You can adjust the number of estimators as needed\n",
    "\n",
    "# Train the model\n",
    "model_60.fit(X_train, y_train)\n",
    "\n",
    "# Predict on the test set\n",
    "predictions = model_60.predict(X_test)\n",
    "\n",
    "# Evaluate the model\n",
    "accuracy = accuracy_score(y_test, predictions)\n",
    "print(f\"Accuracy: {accuracy}\")\n",
    "\n",
    "# Print the classification report\n",
    "report = classification_report(y_test, predictions)\n",
    "print(\"Classification Report:\\n\", report)\n",
    "\n",
    "print('Time: ', round(time.time()-t1)/60)"
   ]
  },
  {
   "cell_type": "code",
   "execution_count": 12,
   "id": "cfd981f9",
   "metadata": {},
   "outputs": [
    {
     "name": "stdout",
     "output_type": "stream",
     "text": [
      "Accuracy: 0.5765851722030121\n",
      "Classification Report:\n",
      "               precision    recall  f1-score   support\n",
      "\n",
      "           0       0.57      0.98      0.72    250979\n",
      "           1       0.64      0.06      0.10    192364\n",
      "\n",
      "    accuracy                           0.58    443343\n",
      "   macro avg       0.61      0.52      0.41    443343\n",
      "weighted avg       0.60      0.58      0.45    443343\n",
      "\n",
      "Time:  0.6833333333333333\n"
     ]
    }
   ],
   "source": [
    "t1= time.time()\n",
    "# Split the data into train and test sets\n",
    "X_train, X_test, y_train, y_test = train_test_split(X, Y_60, test_size=0.2, random_state=42)\n",
    "\n",
    "# Initialize the XGBoost classifier from sklearn interface\n",
    "model_60 = XGBClassifier(objective='multi:softmax', num_class=3, learning_rate=0.1,\n",
    "                         max_depth=3, n_estimators=100, eval_metric='mlogloss')\n",
    "# Train the model\n",
    "model_60.fit(X_train, y_train)\n",
    "\n",
    "# Make predictions on the test set\n",
    "y_pred = model_60.predict(X_test)\n",
    "\n",
    "# Evaluate the model\n",
    "accuracy = accuracy_score(y_test, y_pred)\n",
    "report = classification_report(y_test, y_pred)\n",
    "\n",
    "print(\"Accuracy:\", accuracy)\n",
    "print(\"Classification Report:\\n\", report)\n",
    "\n",
    "print('Time: ', round(time.time()-t1)/60)"
   ]
  },
  {
   "cell_type": "markdown",
   "id": "64968d59",
   "metadata": {},
   "source": [
    "## For 365 days"
   ]
  },
  {
   "cell_type": "code",
   "execution_count": 13,
   "id": "7086f485",
   "metadata": {},
   "outputs": [
    {
     "name": "stdout",
     "output_type": "stream",
     "text": [
      "Accuracy: 0.9245820955783671\n",
      "Classification Report:\n",
      "               precision    recall  f1-score   support\n",
      "\n",
      "           0       0.94      0.96      0.95    321034\n",
      "           1       0.89      0.83      0.86    122309\n",
      "\n",
      "    accuracy                           0.92    443343\n",
      "   macro avg       0.91      0.90      0.90    443343\n",
      "weighted avg       0.92      0.92      0.92    443343\n",
      "\n",
      "Time:  11.583333333333334\n"
     ]
    }
   ],
   "source": [
    "t1= time.time()\n",
    "\n",
    "# Splitting the data into training and testing sets\n",
    "X_train, X_test, y_train, y_test = train_test_split(X, Y_365, test_size=0.2, random_state=42)\n",
    "\n",
    "# Initialize the Random Forest Classifier\n",
    "model_365 = RandomForestClassifier(n_estimators=100, random_state=42)  # You can adjust the number of estimators as needed\n",
    "\n",
    "# Train the model\n",
    "model_365.fit(X_train, y_train)\n",
    "\n",
    "# Predict on the test set\n",
    "predictions = model_365.predict(X_test)\n",
    "\n",
    "# Evaluate the model\n",
    "accuracy = accuracy_score(y_test, predictions)\n",
    "print(f\"Accuracy: {accuracy}\")\n",
    "\n",
    "# Print the classification report\n",
    "report = classification_report(y_test, predictions)\n",
    "print(\"Classification Report:\\n\", report)\n",
    "\n",
    "print('Time: ', round(time.time()-t1)/60)"
   ]
  },
  {
   "cell_type": "code",
   "execution_count": 14,
   "id": "36ee1fca",
   "metadata": {},
   "outputs": [
    {
     "name": "stdout",
     "output_type": "stream",
     "text": [
      "Accuracy: 0.7245360815440867\n",
      "Classification Report:\n",
      "               precision    recall  f1-score   support\n",
      "\n",
      "           0       0.72      1.00      0.84    321034\n",
      "           1       0.93      0.00      0.00    122309\n",
      "\n",
      "    accuracy                           0.72    443343\n",
      "   macro avg       0.83      0.50      0.42    443343\n",
      "weighted avg       0.78      0.72      0.61    443343\n",
      "\n",
      "Time:  0.6333333333333333\n"
     ]
    }
   ],
   "source": [
    "t1= time.time()\n",
    "# Split the data into train and test sets\n",
    "X_train, X_test, y_train, y_test = train_test_split(X, Y_365, test_size=0.2, random_state=42)\n",
    "\n",
    "# Initialize the XGBoost classifier from sklearn interface\n",
    "model_365 = XGBClassifier(objective='multi:softmax', num_class=3, learning_rate=0.1,\n",
    "                          max_depth=3, n_estimators=100, eval_metric='mlogloss')\n",
    "# Train the model\n",
    "model_365.fit(X_train, y_train)\n",
    "\n",
    "# Make predictions on the test set\n",
    "y_pred = model_365.predict(X_test)\n",
    "\n",
    "# Evaluate the model\n",
    "accuracy = accuracy_score(y_test, y_pred)\n",
    "report = classification_report(y_test, y_pred)\n",
    "\n",
    "print(\"Accuracy:\", accuracy)\n",
    "print(\"Classification Report:\\n\", report)\n",
    "\n",
    "print('Time: ', round(time.time()-t1)/60)"
   ]
  },
  {
   "cell_type": "code",
   "execution_count": null,
   "id": "363b7cd8",
   "metadata": {},
   "outputs": [],
   "source": []
  },
  {
   "cell_type": "markdown",
   "id": "fea595a1",
   "metadata": {},
   "source": [
    "## Use as a Regressor"
   ]
  },
  {
   "cell_type": "code",
   "execution_count": 15,
   "id": "0385eaad",
   "metadata": {},
   "outputs": [
    {
     "data": {
      "text/plain": [
       "((2216714, 66), (2216714,))"
      ]
     },
     "execution_count": 15,
     "metadata": {},
     "output_type": "execute_result"
    }
   ],
   "source": [
    "X = master_data.drop(['subject_id', 'hadm_id', 'admittime','admitdate',\n",
    "                      'admitdate_diff','<30', '<60', '>365'], axis=1)\n",
    "\n",
    "Y = master_data['admitdate_diff']\n",
    "X.shape, Y_30.shape\n"
   ]
  },
  {
   "cell_type": "code",
   "execution_count": null,
   "id": "63e8c2c0",
   "metadata": {},
   "outputs": [],
   "source": [
    "# Split the data into train and test sets\n",
    "X_train, X_test, y_train, y_test = train_test_split(X, Y, test_size=0.2, random_state=42)\n",
    "\n",
    "# Initialize the Random Forest Regressor\n",
    "model = RandomForestRegressor(n_estimators=100, random_state=42)\n",
    "\n",
    "# Train the model\n",
    "model.fit(X_train, y_train)\n",
    "\n",
    "# Make predictions on the test set\n",
    "y_pred = model.predict(X_test)\n"
   ]
  },
  {
   "cell_type": "code",
   "execution_count": null,
   "id": "4f7ea996",
   "metadata": {},
   "outputs": [],
   "source": [
    "\n",
    "# Assuming y_test contains true target values and y_pred contains predicted values\n",
    "# Calculate various regression evaluation metrics\n",
    "mse = mean_squared_error(y_test, y_pred)\n",
    "rmse = np.sqrt(mse)\n",
    "mae = mean_absolute_error(y_test, y_pred)\n",
    "r2 = r2_score(y_test, y_pred)\n",
    "\n",
    "print(\"Mean Squared Error (MSE):\", mse)\n",
    "print(\"Root Mean Squared Error (RMSE):\", rmse)\n",
    "print(\"Mean Absolute Error (MAE):\", mae)\n",
    "print(\"R-squared (R2):\", r2)"
   ]
  },
  {
   "cell_type": "code",
   "execution_count": null,
   "id": "81bc6e82",
   "metadata": {},
   "outputs": [],
   "source": [
    "print('Time: ', round(time.time()-start)/60)"
   ]
  },
  {
   "cell_type": "code",
   "execution_count": null,
   "id": "c8c0e419",
   "metadata": {},
   "outputs": [],
   "source": []
  },
  {
   "cell_type": "code",
   "execution_count": null,
   "id": "6186602e",
   "metadata": {},
   "outputs": [],
   "source": []
  }
 ],
 "metadata": {
  "kernelspec": {
   "display_name": "Python 3 (ipykernel)",
   "language": "python",
   "name": "python3"
  },
  "language_info": {
   "codemirror_mode": {
    "name": "ipython",
    "version": 3
   },
   "file_extension": ".py",
   "mimetype": "text/x-python",
   "name": "python",
   "nbconvert_exporter": "python",
   "pygments_lexer": "ipython3",
   "version": "3.11.5"
  }
 },
 "nbformat": 4,
 "nbformat_minor": 5
}
