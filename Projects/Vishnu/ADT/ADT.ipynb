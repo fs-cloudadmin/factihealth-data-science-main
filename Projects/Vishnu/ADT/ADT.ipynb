{
 "cells": [
  {
   "cell_type": "code",
   "execution_count": 284,
   "metadata": {},
   "outputs": [
    {
     "name": "stdout",
     "output_type": "stream",
     "text": [
      "Dataset stored as ..\\data\\patient_admissions.csv\n"
     ]
    }
   ],
   "source": [
    "import random\n",
    "import pandas as pd\n",
    "import matplotlib.pyplot as plt\n",
    "from datetime import datetime, timedelta\n",
    "\n",
    "# Set the start and end date for the dataset (5 years from today)\n",
    "start_date = datetime.now()\n",
    "end_date = start_date + timedelta(days=10 * 365)\n",
    "\n",
    "# Define the hospital, department, and admission count patterns\n",
    "hospitals = ['St. Mary Hospital', 'General Medical Center', 'City Health Center', 'Hope Medical Center']\n",
    "departments = ['Pediatrics', 'General', 'Cardiology', 'Oncology', 'Neurology']\n",
    "\n",
    "HW = [5,10,15,20,25]\n",
    "\n",
    "HospitalWeight = {i:j for i,j in zip(hospitals,HW)}\n",
    "\n",
    "\n",
    "# Generate the dataset\n",
    "dataset = []\n",
    "current_date = start_date\n",
    "\n",
    "\n",
    "while current_date <= end_date:\n",
    "    for hospital in hospitals:\n",
    "        for department in departments:\n",
    "            day_of_week = current_date.weekday()  # 0 = Monday, 6 = Sunday\n",
    "            day_of_month = current_date.day\n",
    "            \n",
    "            if department == \"General\":\n",
    "                \n",
    "                # Apply pattern based on day of the week and day of the month\n",
    "                admission_count = (60 + 10 * day_of_week - day_of_month) + HospitalWeight[hospital]\n",
    "                admission_count = max(0, admission_count)  # Ensure non-negative values\n",
    "                \n",
    "                \n",
    "            if department == \"Pediatrics\":\n",
    "                \n",
    "                # Apply pattern based on day of the week and day of the month\n",
    "                admission_count = (40 + 10 * day_of_week - (day_of_month)/2) + HospitalWeight[hospital]\n",
    "                admission_count = max(0, admission_count)  # Ensure non-negative values\n",
    "                \n",
    "            if department == \"Cardiology\":\n",
    "                \n",
    "                # Apply pattern based on day of the week and day of the month\n",
    "                admission_count = (25 + 10 * day_of_week - (day_of_month)/3)+ HospitalWeight[hospital]\n",
    "                admission_count = max(0, admission_count)  # Ensure non-negative values\n",
    "                \n",
    "            if department == \"Oncology\":\n",
    "                \n",
    "                # Apply pattern based on day of the week and day of the month\n",
    "                admission_count = (15 + 10 * day_of_week - (day_of_month)/4) + HospitalWeight[hospital]\n",
    "                admission_count = max(0, admission_count)  # Ensure non-negative values\n",
    "                \n",
    "            if department == \"Oncology\":\n",
    "                \n",
    "                # Apply pattern based on day of the week and day of the month\n",
    "                admission_count = (5 + 10 * day_of_week - (day_of_month/5)) + HospitalWeight[hospital]\n",
    "                admission_count = max(0, admission_count)  # Ensure non-negative values\n",
    "                \n",
    "            discharge_count = int(admission_count/2)\n",
    "            \n",
    "            transfer_count = int(admission_count/6)\n",
    "            \n",
    "            dataset.append({\n",
    "                'Date': current_date,\n",
    "                'Hospital': hospital,\n",
    "                'Department': department,\n",
    "                'AdmissionCount': admission_count,\n",
    "                'DischargeCount': discharge_count,\n",
    "                'TransferCount': transfer_count\n",
    "            })\n",
    "\n",
    "    current_date += timedelta(days=1)\n",
    "\n",
    "# Create pandas DataFrame from the dataset\n",
    "df = pd.DataFrame(dataset)\n",
    "\n",
    "\n",
    "# Save the dataset as CSV\n",
    "filename = '..\\data\\patient_admissions.csv'\n",
    "df.to_csv(filename, index=False)\n",
    "print(f\"Dataset stored as {filename}\")\n"
   ]
  },
  {
   "cell_type": "code",
   "execution_count": 1,
   "metadata": {},
   "outputs": [],
   "source": [
    "import pandas as pd\n",
    "\n",
    "data = pd.read_csv(\"..\\data\\patient_admissions.csv\")"
   ]
  },
  {
   "cell_type": "code",
   "execution_count": 2,
   "metadata": {},
   "outputs": [
    {
     "data": {
      "text/plain": [
       "Index(['Date', 'Hospital', 'Department', 'AdmissionCount', 'DischargeCount',\n",
       "       'TransferCount'],\n",
       "      dtype='object')"
      ]
     },
     "execution_count": 2,
     "metadata": {},
     "output_type": "execute_result"
    }
   ],
   "source": [
    "data.columns"
   ]
  },
  {
   "cell_type": "code",
   "execution_count": 286,
   "metadata": {},
   "outputs": [],
   "source": [
    "import pandas as pd\n",
    "\n",
    "def create_date_features(dataframe, date_column):\n",
    "    # Convert the date column to datetime type\n",
    "    dataframe[date_column] = pd.to_datetime(dataframe[date_column],dayfirst=True)\n",
    "    \n",
    "    dataframe['day_of_week'] = dataframe[date_column].dt.weekday\n",
    "    dataframe['Day'] = dataframe[date_column].dt.day\n",
    "    \n",
    "    return dataframe\n"
   ]
  },
  {
   "cell_type": "code",
   "execution_count": 291,
   "metadata": {},
   "outputs": [],
   "source": [
    "data = create_date_features(data,\"Date\")"
   ]
  },
  {
   "cell_type": "code",
   "execution_count": 292,
   "metadata": {},
   "outputs": [
    {
     "data": {
      "text/html": [
       "<div>\n",
       "<style scoped>\n",
       "    .dataframe tbody tr th:only-of-type {\n",
       "        vertical-align: middle;\n",
       "    }\n",
       "\n",
       "    .dataframe tbody tr th {\n",
       "        vertical-align: top;\n",
       "    }\n",
       "\n",
       "    .dataframe thead th {\n",
       "        text-align: right;\n",
       "    }\n",
       "</style>\n",
       "<table border=\"1\" class=\"dataframe\">\n",
       "  <thead>\n",
       "    <tr style=\"text-align: right;\">\n",
       "      <th></th>\n",
       "      <th>Date</th>\n",
       "      <th>Hospital</th>\n",
       "      <th>Department</th>\n",
       "      <th>AdmissionCount</th>\n",
       "      <th>DischargeCount</th>\n",
       "      <th>TransferCount</th>\n",
       "      <th>day_of_week</th>\n",
       "      <th>Day</th>\n",
       "    </tr>\n",
       "  </thead>\n",
       "  <tbody>\n",
       "    <tr>\n",
       "      <th>0</th>\n",
       "      <td>2023-07-10 11:22:37.241052</td>\n",
       "      <td>St. Mary Hospital</td>\n",
       "      <td>Pediatrics</td>\n",
       "      <td>40.000000</td>\n",
       "      <td>20</td>\n",
       "      <td>6</td>\n",
       "      <td>0</td>\n",
       "      <td>10</td>\n",
       "    </tr>\n",
       "    <tr>\n",
       "      <th>1</th>\n",
       "      <td>2023-07-10 11:22:37.241052</td>\n",
       "      <td>St. Mary Hospital</td>\n",
       "      <td>General</td>\n",
       "      <td>55.000000</td>\n",
       "      <td>27</td>\n",
       "      <td>9</td>\n",
       "      <td>0</td>\n",
       "      <td>10</td>\n",
       "    </tr>\n",
       "    <tr>\n",
       "      <th>2</th>\n",
       "      <td>2023-07-10 11:22:37.241052</td>\n",
       "      <td>St. Mary Hospital</td>\n",
       "      <td>Cardiology</td>\n",
       "      <td>26.666667</td>\n",
       "      <td>13</td>\n",
       "      <td>4</td>\n",
       "      <td>0</td>\n",
       "      <td>10</td>\n",
       "    </tr>\n",
       "    <tr>\n",
       "      <th>3</th>\n",
       "      <td>2023-07-10 11:22:37.241052</td>\n",
       "      <td>St. Mary Hospital</td>\n",
       "      <td>Oncology</td>\n",
       "      <td>8.000000</td>\n",
       "      <td>4</td>\n",
       "      <td>1</td>\n",
       "      <td>0</td>\n",
       "      <td>10</td>\n",
       "    </tr>\n",
       "    <tr>\n",
       "      <th>4</th>\n",
       "      <td>2023-07-10 11:22:37.241052</td>\n",
       "      <td>St. Mary Hospital</td>\n",
       "      <td>Neurology</td>\n",
       "      <td>8.000000</td>\n",
       "      <td>4</td>\n",
       "      <td>1</td>\n",
       "      <td>0</td>\n",
       "      <td>10</td>\n",
       "    </tr>\n",
       "    <tr>\n",
       "      <th>...</th>\n",
       "      <td>...</td>\n",
       "      <td>...</td>\n",
       "      <td>...</td>\n",
       "      <td>...</td>\n",
       "      <td>...</td>\n",
       "      <td>...</td>\n",
       "      <td>...</td>\n",
       "      <td>...</td>\n",
       "    </tr>\n",
       "    <tr>\n",
       "      <th>73015</th>\n",
       "      <td>2033-07-07 11:22:37.241052</td>\n",
       "      <td>Hope Medical Center</td>\n",
       "      <td>Pediatrics</td>\n",
       "      <td>86.500000</td>\n",
       "      <td>43</td>\n",
       "      <td>14</td>\n",
       "      <td>3</td>\n",
       "      <td>7</td>\n",
       "    </tr>\n",
       "    <tr>\n",
       "      <th>73016</th>\n",
       "      <td>2033-07-07 11:22:37.241052</td>\n",
       "      <td>Hope Medical Center</td>\n",
       "      <td>General</td>\n",
       "      <td>103.000000</td>\n",
       "      <td>51</td>\n",
       "      <td>17</td>\n",
       "      <td>3</td>\n",
       "      <td>7</td>\n",
       "    </tr>\n",
       "    <tr>\n",
       "      <th>73017</th>\n",
       "      <td>2033-07-07 11:22:37.241052</td>\n",
       "      <td>Hope Medical Center</td>\n",
       "      <td>Cardiology</td>\n",
       "      <td>72.666667</td>\n",
       "      <td>36</td>\n",
       "      <td>12</td>\n",
       "      <td>3</td>\n",
       "      <td>7</td>\n",
       "    </tr>\n",
       "    <tr>\n",
       "      <th>73018</th>\n",
       "      <td>2033-07-07 11:22:37.241052</td>\n",
       "      <td>Hope Medical Center</td>\n",
       "      <td>Oncology</td>\n",
       "      <td>53.600000</td>\n",
       "      <td>26</td>\n",
       "      <td>8</td>\n",
       "      <td>3</td>\n",
       "      <td>7</td>\n",
       "    </tr>\n",
       "    <tr>\n",
       "      <th>73019</th>\n",
       "      <td>2033-07-07 11:22:37.241052</td>\n",
       "      <td>Hope Medical Center</td>\n",
       "      <td>Neurology</td>\n",
       "      <td>53.600000</td>\n",
       "      <td>26</td>\n",
       "      <td>8</td>\n",
       "      <td>3</td>\n",
       "      <td>7</td>\n",
       "    </tr>\n",
       "  </tbody>\n",
       "</table>\n",
       "<p>73020 rows × 8 columns</p>\n",
       "</div>"
      ],
      "text/plain": [
       "                            Date             Hospital  Department  \\\n",
       "0     2023-07-10 11:22:37.241052    St. Mary Hospital  Pediatrics   \n",
       "1     2023-07-10 11:22:37.241052    St. Mary Hospital     General   \n",
       "2     2023-07-10 11:22:37.241052    St. Mary Hospital  Cardiology   \n",
       "3     2023-07-10 11:22:37.241052    St. Mary Hospital    Oncology   \n",
       "4     2023-07-10 11:22:37.241052    St. Mary Hospital   Neurology   \n",
       "...                          ...                  ...         ...   \n",
       "73015 2033-07-07 11:22:37.241052  Hope Medical Center  Pediatrics   \n",
       "73016 2033-07-07 11:22:37.241052  Hope Medical Center     General   \n",
       "73017 2033-07-07 11:22:37.241052  Hope Medical Center  Cardiology   \n",
       "73018 2033-07-07 11:22:37.241052  Hope Medical Center    Oncology   \n",
       "73019 2033-07-07 11:22:37.241052  Hope Medical Center   Neurology   \n",
       "\n",
       "       AdmissionCount  DischargeCount  TransferCount  day_of_week  Day  \n",
       "0           40.000000              20              6            0   10  \n",
       "1           55.000000              27              9            0   10  \n",
       "2           26.666667              13              4            0   10  \n",
       "3            8.000000               4              1            0   10  \n",
       "4            8.000000               4              1            0   10  \n",
       "...               ...             ...            ...          ...  ...  \n",
       "73015       86.500000              43             14            3    7  \n",
       "73016      103.000000              51             17            3    7  \n",
       "73017       72.666667              36             12            3    7  \n",
       "73018       53.600000              26              8            3    7  \n",
       "73019       53.600000              26              8            3    7  \n",
       "\n",
       "[73020 rows x 8 columns]"
      ]
     },
     "execution_count": 292,
     "metadata": {},
     "output_type": "execute_result"
    }
   ],
   "source": [
    "data"
   ]
  },
  {
   "cell_type": "code",
   "execution_count": 293,
   "metadata": {},
   "outputs": [],
   "source": [
    "cat_coumns = [\"Hospital\",\"Department\"]\n",
    "\n",
    "num_column =[\"day_of_week\",\"Day\",\"AdmissionCount\",\"DischargeCount\",\"TransferCount\"]\n",
    "\n",
    "dummies = pd.get_dummies(data[cat_coumns],drop_first=True)\n",
    "\n",
    "data_new = pd.concat([dummies,data[num_column]],axis=1)"
   ]
  },
  {
   "cell_type": "code",
   "execution_count": 294,
   "metadata": {},
   "outputs": [
    {
     "data": {
      "text/plain": [
       "Index(['Hospital_General Medical Center', 'Hospital_Hope Medical Center',\n",
       "       'Hospital_St. Mary Hospital', 'Department_General',\n",
       "       'Department_Neurology', 'Department_Oncology', 'Department_Pediatrics',\n",
       "       'day_of_week', 'Day', 'AdmissionCount', 'DischargeCount',\n",
       "       'TransferCount'],\n",
       "      dtype='object')"
      ]
     },
     "execution_count": 294,
     "metadata": {},
     "output_type": "execute_result"
    }
   ],
   "source": [
    "data_new.columns"
   ]
  },
  {
   "cell_type": "code",
   "execution_count": 295,
   "metadata": {},
   "outputs": [
    {
     "name": "stdout",
     "output_type": "stream",
     "text": [
      "R2 Score is :  0.99942818880822\n",
      "Mean Squared Error is :  0.03702559104263121\n",
      "Mean Absolute Error is :  0.13717511907771904\n"
     ]
    }
   ],
   "source": [
    "from sklearn.model_selection import train_test_split\n",
    "from xgboost import XGBRegressor\n",
    "import pandas as pd\n",
    "from sklearn.ensemble import RandomForestRegressor\n",
    "\n",
    "# Splitting data into train test split\n",
    "\n",
    "target,features = data_new[[\"AdmissionCount\",\"DischargeCount\",\"TransferCount\"]],data_new.drop([\"AdmissionCount\",\"DischargeCount\",\"TransferCount\"],axis=1)\n",
    "\n",
    "features = features.astype(\"int\")\n",
    "\n",
    "x_train, x_test, y_train, y_test = train_test_split(features, target)\n",
    "\n",
    "model = XGBRegressor()\n",
    "\n",
    "model.fit(x_train,y_train)\n",
    "\n",
    "### Evaluating the model\n",
    "\n",
    "from sklearn.metrics import mean_absolute_error, r2_score,mean_squared_error\n",
    "\n",
    "predicted = model.predict(x_test)\n",
    "\n",
    "print(\"R2 Score is : \",r2_score(predicted,y_test))\n",
    "\n",
    "print(\"Mean Squared Error is : \",mean_squared_error(predicted,y_test))\n",
    "\n",
    "print(\"Mean Absolute Error is : \",mean_absolute_error(predicted,y_test))\n",
    "\n",
    "model.save_model(r\"..\\models\\admission_model.model\")"
   ]
  },
  {
   "cell_type": "code",
   "execution_count": 296,
   "metadata": {},
   "outputs": [
    {
     "data": {
      "text/plain": [
       "array([[87.25014 , 43.47673 , 14.062789]], dtype=float32)"
      ]
     },
     "execution_count": 296,
     "metadata": {},
     "output_type": "execute_result"
    }
   ],
   "source": [
    "model.predict(x_train.iloc[15:16])"
   ]
  },
  {
   "cell_type": "code",
   "execution_count": 297,
   "metadata": {},
   "outputs": [
    {
     "data": {
      "text/html": [
       "<div>\n",
       "<style scoped>\n",
       "    .dataframe tbody tr th:only-of-type {\n",
       "        vertical-align: middle;\n",
       "    }\n",
       "\n",
       "    .dataframe tbody tr th {\n",
       "        vertical-align: top;\n",
       "    }\n",
       "\n",
       "    .dataframe thead th {\n",
       "        text-align: right;\n",
       "    }\n",
       "</style>\n",
       "<table border=\"1\" class=\"dataframe\">\n",
       "  <thead>\n",
       "    <tr style=\"text-align: right;\">\n",
       "      <th></th>\n",
       "      <th>Hospital_General Medical Center</th>\n",
       "      <th>Hospital_Hope Medical Center</th>\n",
       "      <th>Hospital_St. Mary Hospital</th>\n",
       "      <th>Department_General</th>\n",
       "      <th>Department_Neurology</th>\n",
       "      <th>Department_Oncology</th>\n",
       "      <th>Department_Pediatrics</th>\n",
       "      <th>day_of_week</th>\n",
       "      <th>Day</th>\n",
       "    </tr>\n",
       "  </thead>\n",
       "  <tbody>\n",
       "    <tr>\n",
       "      <th>20376</th>\n",
       "      <td>0</td>\n",
       "      <td>1</td>\n",
       "      <td>0</td>\n",
       "      <td>1</td>\n",
       "      <td>0</td>\n",
       "      <td>0</td>\n",
       "      <td>0</td>\n",
       "      <td>3</td>\n",
       "      <td>23</td>\n",
       "    </tr>\n",
       "  </tbody>\n",
       "</table>\n",
       "</div>"
      ],
      "text/plain": [
       "       Hospital_General Medical Center  Hospital_Hope Medical Center  \\\n",
       "20376                                0                             1   \n",
       "\n",
       "       Hospital_St. Mary Hospital  Department_General  Department_Neurology  \\\n",
       "20376                           0                   1                     0   \n",
       "\n",
       "       Department_Oncology  Department_Pediatrics  day_of_week  Day  \n",
       "20376                    0                      0            3   23  "
      ]
     },
     "execution_count": 297,
     "metadata": {},
     "output_type": "execute_result"
    }
   ],
   "source": [
    "x_train.iloc[15:16:]"
   ]
  },
  {
   "cell_type": "code",
   "execution_count": 298,
   "metadata": {},
   "outputs": [
    {
     "data": {
      "text/html": [
       "<div>\n",
       "<style scoped>\n",
       "    .dataframe tbody tr th:only-of-type {\n",
       "        vertical-align: middle;\n",
       "    }\n",
       "\n",
       "    .dataframe tbody tr th {\n",
       "        vertical-align: top;\n",
       "    }\n",
       "\n",
       "    .dataframe thead th {\n",
       "        text-align: right;\n",
       "    }\n",
       "</style>\n",
       "<table border=\"1\" class=\"dataframe\">\n",
       "  <thead>\n",
       "    <tr style=\"text-align: right;\">\n",
       "      <th></th>\n",
       "      <th>AdmissionCount</th>\n",
       "      <th>DischargeCount</th>\n",
       "      <th>TransferCount</th>\n",
       "    </tr>\n",
       "  </thead>\n",
       "  <tbody>\n",
       "    <tr>\n",
       "      <th>20376</th>\n",
       "      <td>87.0</td>\n",
       "      <td>43</td>\n",
       "      <td>14</td>\n",
       "    </tr>\n",
       "  </tbody>\n",
       "</table>\n",
       "</div>"
      ],
      "text/plain": [
       "       AdmissionCount  DischargeCount  TransferCount\n",
       "20376            87.0              43             14"
      ]
     },
     "execution_count": 298,
     "metadata": {},
     "output_type": "execute_result"
    }
   ],
   "source": [
    "y_train.iloc[15:16,:]"
   ]
  },
  {
   "cell_type": "code",
   "execution_count": 299,
   "metadata": {},
   "outputs": [
    {
     "data": {
      "text/plain": [
       "count    73020.000000\n",
       "mean        62.455081\n",
       "std         27.056767\n",
       "min          3.800000\n",
       "25%         42.666667\n",
       "50%         62.333333\n",
       "75%         81.333333\n",
       "max        139.000000\n",
       "Name: AdmissionCount, dtype: float64"
      ]
     },
     "execution_count": 299,
     "metadata": {},
     "output_type": "execute_result"
    }
   ],
   "source": [
    "data[\"AdmissionCount\"].describe()\n"
   ]
  },
  {
   "cell_type": "code",
   "execution_count": 300,
   "metadata": {},
   "outputs": [
    {
     "data": {
      "text/plain": [
       "count    73020.000000\n",
       "mean        30.836127\n",
       "std         13.574277\n",
       "min          1.000000\n",
       "25%         21.000000\n",
       "50%         31.000000\n",
       "75%         40.000000\n",
       "max         69.000000\n",
       "Name: DischargeCount, dtype: float64"
      ]
     },
     "execution_count": 300,
     "metadata": {},
     "output_type": "execute_result"
    }
   ],
   "source": [
    "data[\"DischargeCount\"].describe()"
   ]
  },
  {
   "cell_type": "code",
   "execution_count": 301,
   "metadata": {},
   "outputs": [
    {
     "data": {
      "text/plain": [
       "count    73020.000000\n",
       "mean         9.945714\n",
       "std          4.533006\n",
       "min          0.000000\n",
       "25%          7.000000\n",
       "50%         10.000000\n",
       "75%         13.000000\n",
       "max         23.000000\n",
       "Name: TransferCount, dtype: float64"
      ]
     },
     "execution_count": 301,
     "metadata": {},
     "output_type": "execute_result"
    }
   ],
   "source": [
    "data[\"TransferCount\"].describe()"
   ]
  },
  {
   "cell_type": "code",
   "execution_count": 302,
   "metadata": {},
   "outputs": [
    {
     "data": {
      "text/plain": [
       "(73020, 8)"
      ]
     },
     "execution_count": 302,
     "metadata": {},
     "output_type": "execute_result"
    }
   ],
   "source": [
    "data.shape"
   ]
  },
  {
   "cell_type": "code",
   "execution_count": 303,
   "metadata": {},
   "outputs": [],
   "source": [
    "# Making prediction"
   ]
  },
  {
   "cell_type": "code",
   "execution_count": 347,
   "metadata": {},
   "outputs": [],
   "source": [
    "def get_admission_sample():\n",
    "\n",
    "    sample_admission ={'Hospital_General Medical Center': [0],\n",
    "     'Hospital_Hope Medical Center': [0],\n",
    "     'Hospital_St. Mary Hospital': [0],\n",
    "     'Department_General': [0],\n",
    "     'Department_Neurology': [0],\n",
    "     'Department_Oncology': [0],\n",
    "     'Department_Pediatrics': [0],\n",
    "     'day_of_week': [0],\n",
    "     'Day': [0]}\n",
    "    \n",
    "    return sample_admission"
   ]
  },
  {
   "cell_type": "code",
   "execution_count": 348,
   "metadata": {},
   "outputs": [
    {
     "data": {
      "text/plain": [
       "dict_keys(['Hospital_General Medical Center', 'Hospital_Hope Medical Center', 'Hospital_St. Mary Hospital', 'Department_General', 'Department_Neurology', 'Department_Oncology', 'Department_Pediatrics', 'day_of_week', 'Day'])"
      ]
     },
     "execution_count": 348,
     "metadata": {},
     "output_type": "execute_result"
    }
   ],
   "source": [
    "sample_admission.keys()"
   ]
  },
  {
   "cell_type": "code",
   "execution_count": 376,
   "metadata": {},
   "outputs": [],
   "source": []
  },
  {
   "cell_type": "code",
   "execution_count": 392,
   "metadata": {},
   "outputs": [],
   "source": [
    "def prepare_admission_sample(current_date,department):\n",
    "    \n",
    "    sample_admission = get_admission_sample()\n",
    "    \n",
    "    sample_admission['day_of_week'] = current_date.weekday() \n",
    "    sample_admission['Day'] = current_date.day\n",
    "    if department ==\"Department_Cardiology\":\n",
    "        \n",
    "        pass\n",
    "        \n",
    "    else:\n",
    "            \n",
    "        sample_admission[department] = [1]\n",
    "\n",
    "        \n",
    "    return pd.DataFrame(sample_admission)\n"
   ]
  },
  {
   "cell_type": "code",
   "execution_count": 393,
   "metadata": {},
   "outputs": [],
   "source": [
    "admission_input = prepare_admission_sample(next_few_days[0],departments[0])"
   ]
  },
  {
   "cell_type": "code",
   "execution_count": 394,
   "metadata": {},
   "outputs": [
    {
     "data": {
      "text/plain": [
       "array([73.77909 , 36.880325, 11.728316], dtype=float32)"
      ]
     },
     "execution_count": 394,
     "metadata": {},
     "output_type": "execute_result"
    }
   ],
   "source": [
    "model.predict(admission_input)[0]"
   ]
  },
  {
   "cell_type": "code",
   "execution_count": 424,
   "metadata": {},
   "outputs": [],
   "source": [
    "def get_next_fewdays_ADT():\n",
    "\n",
    "    admission_output ={\n",
    "\n",
    "        \"Next day\":{\n",
    "        \"Department_General\":0,\n",
    "        \"Department_Neurology\":0,\n",
    "        \"Department_Oncology\":0,\n",
    "        \"Department_Pediatrics\":0,\n",
    "                    },\n",
    "        \"Next 2 days\":{\n",
    "        \"Department_General\":0,\n",
    "        \"Department_Neurology\":0,\n",
    "        \"Department_Oncology\":0,\n",
    "        \"Department_Pediatrics\":0,\n",
    "                    },\n",
    "        \"Next 3 days\":{\n",
    "        \"Department_General\":0,\n",
    "        \"Department_Neurology\":0,\n",
    "        \"Department_Oncology\":0,\n",
    "        \"Department_Pediatrics\":0,\n",
    "                    }\n",
    "    }\n",
    "\n",
    "    discharge_output ={\n",
    "\n",
    "        \"Next day\":{\n",
    "        \"Department_General\":0,\n",
    "        \"Department_Neurology\":0,\n",
    "        \"Department_Oncology\":0,\n",
    "        \"Department_Pediatrics\":0,\n",
    "                    },\n",
    "        \"Next 2 days\":{\n",
    "        \"Department_General\":0,\n",
    "        \"Department_Neurology\":0,\n",
    "        \"Department_Oncology\":0,\n",
    "        \"Department_Pediatrics\":0,\n",
    "                    },\n",
    "        \"Next 3 days\":{\n",
    "        \"Department_General\":0,\n",
    "        \"Department_Neurology\":0,\n",
    "        \"Department_Oncology\":0,\n",
    "        \"Department_Pediatrics\":0,\n",
    "                    }\n",
    "    }\n",
    "\n",
    "    transfer_output ={\n",
    "\n",
    "        \"Next day\":{\n",
    "        \"Department_General\":0,\n",
    "        \"Department_Neurology\":0,\n",
    "        \"Department_Oncology\":0,\n",
    "        \"Department_Pediatrics\":0,\n",
    "                    },\n",
    "        \"Next 2 days\":{\n",
    "        \"Department_General\":0,\n",
    "        \"Department_Neurology\":0,\n",
    "        \"Department_Oncology\":0,\n",
    "        \"Department_Pediatrics\":0,\n",
    "                    },\n",
    "        \"Next 3 days\":{\n",
    "        \"Department_General\":0,\n",
    "        \"Department_Neurology\":0,\n",
    "        \"Department_Oncology\":0,\n",
    "        \"Department_Pediatrics\":0,\n",
    "                    }\n",
    "    }\n",
    "\n",
    "\n",
    "    from datetime import datetime\n",
    "\n",
    "    from datetime import timedelta\n",
    "\n",
    "    today = datetime.today()\n",
    "\n",
    "    tomorrow = today+timedelta(days=1)\n",
    "\n",
    "    day_after_tomorrow = today+timedelta(days=2)\n",
    "\n",
    "    next_to_DFT = today+timedelta(days=3)\n",
    "\n",
    "    departments = ['Department_General', 'Department_Neurology', 'Department_Oncology', 'Department_Pediatrics','Department_Cardiology']\n",
    "\n",
    "    next_few_days = [tomorrow,day_after_tomorrow,next_to_DFT]\n",
    "\n",
    "\n",
    "    for ind,date in enumerate(next_few_days):\n",
    "\n",
    "        for department in departments:\n",
    "\n",
    "            admission_input = prepare_admission_sample(date,department)\n",
    "\n",
    "            Admission,Discharge,Transfer = [int(i) for i in model.predict(admission_input)[0]]\n",
    "\n",
    "            for output,prediction in zip([admission_output,discharge_output,transfer_output],[Admission,Discharge,Transfer]):\n",
    "\n",
    "                if department in output[list(output.keys())[ind]].keys():\n",
    "\n",
    "                    output[list(output.keys())[ind]][department] = prediction\n",
    "\n",
    "                else:\n",
    "\n",
    "                    output[list(output.keys())[ind]]['Department_Cardiology'] = prediction\n",
    "                    \n",
    "    return admission_output,discharge_output,transfer_output\n"
   ]
  },
  {
   "cell_type": "code",
   "execution_count": 416,
   "metadata": {},
   "outputs": [],
   "source": [
    "def get_total_admission(admission_output):\n",
    "    \n",
    "    output = {}\n",
    "    \n",
    "    for day in admission_output.keys():\n",
    "        \n",
    "        total = 0\n",
    "        \n",
    "        for department in admission_output[day].keys():\n",
    "            \n",
    "            total+=admission_output[day][department]\n",
    "            \n",
    "        output[day] = total\n",
    "        \n",
    "    return output"
   ]
  },
  {
   "cell_type": "code",
   "execution_count": 422,
   "metadata": {},
   "outputs": [
    {
     "data": {
      "text/plain": [
       "{'Next day': 33, 'Next 2 days': 41, 'Next 3 days': 50}"
      ]
     },
     "execution_count": 422,
     "metadata": {},
     "output_type": "execute_result"
    }
   ],
   "source": [
    "get_total_admission(transfer_output)"
   ]
  },
  {
   "cell_type": "code",
   "execution_count": null,
   "metadata": {},
   "outputs": [],
   "source": []
  },
  {
   "cell_type": "code",
   "execution_count": null,
   "metadata": {},
   "outputs": [],
   "source": []
  }
 ],
 "metadata": {
  "kernelspec": {
   "display_name": "Python 3 (ipykernel)",
   "language": "python",
   "name": "python3"
  },
  "language_info": {
   "codemirror_mode": {
    "name": "ipython",
    "version": 3
   },
   "file_extension": ".py",
   "mimetype": "text/x-python",
   "name": "python",
   "nbconvert_exporter": "python",
   "pygments_lexer": "ipython3",
   "version": "3.11.3"
  }
 },
 "nbformat": 4,
 "nbformat_minor": 2
}
