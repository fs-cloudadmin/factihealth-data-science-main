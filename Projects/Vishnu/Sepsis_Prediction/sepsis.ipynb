{
 "cells": [
  {
   "cell_type": "code",
   "execution_count": 6,
   "metadata": {},
   "outputs": [
    {
     "name": "stdout",
     "output_type": "stream",
     "text": [
      "Dataset created and saved as sepsis_dataset.csv.\n"
     ]
    }
   ],
   "source": [
    "import csv\n",
    "import random\n",
    "\n",
    "def generate_dataset(filename):\n",
    "    features = ['Body Temperature', 'Heart Rate', 'Respiratory Rate', 'White Blood Cell Count', 'Lactate Levels',\n",
    "                'Blood Pressure', 'Oxygen Saturation', 'Organ Dysfunction', 'Inflammatory Markers', 'Microbiological Cultures']\n",
    "    \n",
    "    with open(filename, mode='w', newline='') as file:\n",
    "        writer = csv.writer(file)\n",
    "        writer.writerow(features + ['Sepsis'])\n",
    "        \n",
    "        for _ in range(50000):\n",
    "            sample = []\n",
    "            \n",
    "            # Generate random values for the features\n",
    "            body_temp = round(random.uniform(36.5, 39.5), 1)\n",
    "            heart_rate = random.randint(60, 120)\n",
    "            resp_rate = random.randint(12, 25)\n",
    "            wbc_count = random.randint(4000, 15000)\n",
    "            lactate_levels = round(random.uniform(0.5, 4.0), 1)\n",
    "            blood_pressure = random.randint(80, 130)\n",
    "            oxygen_saturation = random.randint(90, 100)\n",
    "            organ_dysfunction = random.randint(0, 1)\n",
    "            inflammatory_markers = round(random.uniform(0.1, 10.0), 1)\n",
    "            microbiology_cultures = random.randint(0, 1)\n",
    "            \n",
    "            # Assign sepsis based on the relationship with the features\n",
    "            if (body_temp > 39.0 or body_temp < 36.0) and heart_rate > 100 and resp_rate > 20 and (wbc_count > 12000 or wbc_count < 4000) and lactate_levels > 2.0:\n",
    "                sepsis = 1\n",
    "            elif organ_dysfunction == 1:\n",
    "                sepsis = 1\n",
    "            elif microbiology_cultures == 1:\n",
    "                sepsis = 1\n",
    "            else:\n",
    "                sepsis = 0\n",
    "            \n",
    "            # Append the values to the sample list\n",
    "            sample.extend([body_temp, heart_rate, resp_rate, wbc_count, lactate_levels, blood_pressure,\n",
    "                           oxygen_saturation, organ_dysfunction, inflammatory_markers, microbiology_cultures, sepsis])\n",
    "            \n",
    "            writer.writerow(sample)\n",
    "\n",
    "# Generate the dataset and save it as a CSV file\n",
    "filename = 'sepsis_dataset.csv'\n",
    "generate_dataset(filename)\n",
    "print(f\"Dataset created and saved as {filename}.\")\n"
   ]
  },
  {
   "cell_type": "code",
   "execution_count": 390,
   "metadata": {},
   "outputs": [
    {
     "name": "stdout",
     "output_type": "stream",
     "text": [
      "Dataset created and saved as ..\\data\\sepsis_dataset.csv.\n"
     ]
    }
   ],
   "source": [
    "import csv\n",
    "import random\n",
    "from datetime import datetime, timedelta\n",
    "from faker import Faker\n",
    "import pandas as pd\n",
    "\n",
    "def generate_dataset(filename):\n",
    "    fake = Faker()\n",
    "    \n",
    "    features = ['Patient ID', 'Name', 'Date', 'Time', 'Body Temperature', 'Heart Rate', 'Respiratory Rate',\n",
    "                'White Blood Cell Count', 'Lactate Levels', 'Blood Pressure', 'Oxygen Saturation',\n",
    "                'Organ Dysfunction', 'Inflammatory Markers', 'Microbiological Cultures', 'Sepsis']\n",
    "    \n",
    "    with open(filename, mode='w', newline='') as file:\n",
    "        writer = csv.writer(file)\n",
    "        writer.writerow(features)\n",
    "        \n",
    "        start_date = datetime(2022, 7, 5)  # Starting date for test\n",
    "        patient_id = 10000\n",
    "        \n",
    "        for _ in range(50000):\n",
    "            sample = []\n",
    "            \n",
    "            # Generate random values for the features\n",
    "            body_temp = round(random.uniform(36.5, 39.5), 1)\n",
    "            heart_rate = random.randint(60, 120)\n",
    "            resp_rate = random.randint(12, 25)\n",
    "            wbc_count = random.randint(4000, 15000)\n",
    "            lactate_levels = round(random.uniform(0.5, 4.0), 1)\n",
    "            blood_pressure = random.randint(80, 130)\n",
    "            oxygen_saturation = random.randint(90, 100)\n",
    "            organ_dysfunction = random.randint(0, 1)\n",
    "            inflammatory_markers = round(random.uniform(0.1, 10.0), 1)\n",
    "            microbiology_cultures = random.randint(0, 1)\n",
    "            \n",
    "            # Assign sepsis based on the relationship with the features\n",
    "            if (body_temp > 39.0 or body_temp < 36.0) and heart_rate > 100 and resp_rate > 20 and \\\n",
    "               (wbc_count > 12000 or wbc_count < 4000) and lactate_levels > 2.0:\n",
    "                sepsis = 1\n",
    "            elif organ_dysfunction == 1:\n",
    "                sepsis = 1\n",
    "            elif microbiology_cultures == 1:\n",
    "                sepsis = 1\n",
    "            else:\n",
    "                sepsis = 0\n",
    "            \n",
    "            # Generate patient ID, name, date, and time\n",
    "            patient_id += 1\n",
    "            name = fake.name()\n",
    "            test_date = start_date + timedelta(days=random.randint(0, 365))\n",
    "            test_time = random.randint(0, 23), random.randint(0, 59)\n",
    "            \n",
    "            # Append the values to the sample list\n",
    "            sample.extend([patient_id, name, pd.to_datetime(test_date.strftime(\"%Y-%m-%d\")).date(), f\"{test_time[0]:02d}:{test_time[1]:02d}\",\n",
    "                           body_temp, heart_rate, resp_rate, wbc_count, lactate_levels, blood_pressure,\n",
    "                           oxygen_saturation, organ_dysfunction, inflammatory_markers, microbiology_cultures, sepsis])\n",
    "            \n",
    "            writer.writerow(sample)\n",
    "\n",
    "# Generate the dataset and save it as a CSV file\n",
    "filename = '..\\data\\sepsis_dataset.csv'\n",
    "generate_dataset(filename)\n",
    "print(f\"Dataset created and saved as {filename}.\")\n"
   ]
  },
  {
   "cell_type": "code",
   "execution_count": 391,
   "metadata": {},
   "outputs": [
    {
     "data": {
      "text/plain": [
       "Index(['Body Temperature', 'Heart Rate', 'Respiratory Rate',\n",
       "       'White Blood Cell Count', 'Lactate Levels', 'Blood Pressure',\n",
       "       'Oxygen Saturation', 'Organ Dysfunction', 'Inflammatory Markers',\n",
       "       'Microbiological Cultures', 'Sepsis'],\n",
       "      dtype='object')"
      ]
     },
     "execution_count": 391,
     "metadata": {},
     "output_type": "execute_result"
    }
   ],
   "source": [
    "import pandas as pd\n",
    "data = pd.read_csv(\"..\\data\\sepsis_dataset.csv\")\n",
    "\n",
    "new_data = data[['Body Temperature', 'Heart Rate',\n",
    "       'Respiratory Rate', 'White Blood Cell Count', 'Lactate Levels',\n",
    "       'Blood Pressure', 'Oxygen Saturation', 'Organ Dysfunction',\n",
    "       'Inflammatory Markers', 'Microbiological Cultures', 'Sepsis']]\n",
    "\n",
    "new_data.columns"
   ]
  },
  {
   "cell_type": "code",
   "execution_count": 392,
   "metadata": {},
   "outputs": [
    {
     "name": "stdout",
     "output_type": "stream",
     "text": [
      "accuracy_score Score is :  0.99952\n",
      "confusion_matrix is :  [[3136    6]\n",
      " [   0 9358]]\n"
     ]
    }
   ],
   "source": [
    "# Training the model\n",
    "\n",
    "from sklearn.model_selection import train_test_split\n",
    "from xgboost import XGBRegressor\n",
    "from sklearn.ensemble import RandomForestClassifier\n",
    "\n",
    "target,features = new_data[\"Sepsis\"],new_data.drop([\"Sepsis\"],axis=1)\n",
    "\n",
    "x_train, x_test, y_train, y_test = train_test_split(features, target)\n",
    "\n",
    "model = RandomForestClassifier(n_estimators=200)\n",
    "\n",
    "model.fit(x_train,y_train)\n",
    "\n",
    "### Evaluating the model\n",
    "\n",
    "from sklearn.metrics import accuracy_score, confusion_matrix\n",
    "\n",
    "predicted = model.predict(x_test)\n",
    "\n",
    "print(\"accuracy_score Score is : \",accuracy_score(predicted,y_test))\n",
    "\n",
    "print(\"confusion_matrix is : \",confusion_matrix(predicted,y_test))\n",
    "\n",
    "import pickle\n",
    "\n",
    "pickle.dump(model,open(\"..\\models\\Sepsis_Model.pickle\",\"wb\"))"
   ]
  },
  {
   "cell_type": "code",
   "execution_count": 393,
   "metadata": {},
   "outputs": [],
   "source": [
    "# Making Prediction\n",
    "sample = {i:j for i, j  in zip(x_train.columns,[0 for _ in range(len(x_train.columns))])}"
   ]
  },
  {
   "cell_type": "code",
   "execution_count": 396,
   "metadata": {},
   "outputs": [],
   "source": [
    "from datetime import datetime\n",
    "import numpy as np\n",
    "\n",
    "def add_sample():\n",
    "\n",
    "    samples = []\n",
    "\n",
    "    condition_met = {\"Sepsis\":0,\"Non-Sepsis\":0}\n",
    "\n",
    "    while (condition_met[\"Sepsis\"]!=1 or  condition_met[\"Non-Sepsis\"]!=1):\n",
    "\n",
    "        existing_data  = pd.read_csv(\"..\\data\\sepsis_dataset.csv\")\n",
    "\n",
    "        fake = Faker()\n",
    "        \n",
    "        features = ['Patient ID', 'Name', 'Date', 'Time', 'Body Temperature', 'Heart Rate', 'Respiratory Rate',\n",
    "                    'White Blood Cell Count', 'Lactate Levels', 'Blood Pressure', 'Oxygen Saturation',\n",
    "                    'Organ Dysfunction', 'Inflammatory Markers', 'Microbiological Cultures', 'Sepsis']\n",
    "        \n",
    "            \n",
    "        start_date = datetime.today().date()\n",
    "        patient_id = existing_data[\"Patient ID\"].max()+1\n",
    "        \n",
    "\n",
    "        sample = []\n",
    "        \n",
    "        # Generate random values for the features\n",
    "        body_temp = round(random.uniform(36.5, 39.5), 1)\n",
    "        heart_rate = random.randint(60, 120)\n",
    "        resp_rate = random.randint(12, 25)\n",
    "        wbc_count = random.randint(4000, 15000)\n",
    "        lactate_levels = round(random.uniform(0.5, 4.0), 1)\n",
    "        blood_pressure = random.randint(80, 130)\n",
    "        oxygen_saturation = random.randint(90, 100)\n",
    "        organ_dysfunction = random.randint(0, 1)\n",
    "        inflammatory_markers = round(random.uniform(0.1, 10.0), 1)\n",
    "        microbiology_cultures = random.randint(0, 1)\n",
    "        \n",
    "        # Assign sepsis based on the relationship with the features\n",
    "        if (body_temp > 39.0 or body_temp < 36.0) and heart_rate > 100 and resp_rate > 20 and \\\n",
    "            (wbc_count > 12000 or wbc_count < 4000) and lactate_levels > 2.0:\n",
    "            sepsis = 1\n",
    "        elif organ_dysfunction == 1:\n",
    "            sepsis = 1\n",
    "        elif microbiology_cultures == 1:\n",
    "            sepsis = 1\n",
    "        else:\n",
    "            sepsis = 0\n",
    "        \n",
    "        # Generate patient ID, name, date, and time\n",
    "        patient_id += 1\n",
    "        name = fake.name()\n",
    "        test_date = start_date\n",
    "        test_time = datetime.today().time().hour, datetime.today().time().minute\n",
    "        \n",
    "        # Append the values to the sample list\n",
    "        sample.extend([patient_id, name, test_date.strftime(\"%Y-%m-%d\"), f\"{test_time[0]:02d}:{test_time[1]:02d}\",\n",
    "                        body_temp, heart_rate, resp_rate, wbc_count, lactate_levels, blood_pressure,\n",
    "                        oxygen_saturation, organ_dysfunction, inflammatory_markers, microbiology_cultures, sepsis])\n",
    "        \n",
    "        final_sample = {i:j for i , j in zip(features,sample)}\n",
    "\n",
    "        if condition_met[\"Sepsis\"]!=1 and final_sample[\"Sepsis\"] == 1:\n",
    "\n",
    "            condition_met[\"Sepsis\"] = 1\n",
    "\n",
    "            samples.append(final_sample)\n",
    "\n",
    "        elif condition_met[\"Non-Sepsis\"]!=1 and final_sample[\"Sepsis\"] == 0:\n",
    "\n",
    "            condition_met[\"Non-Sepsis\"] = 1\n",
    "\n",
    "            samples.append(final_sample)\n",
    "\n",
    "        else:\n",
    "            pass\n",
    "\n",
    "    \n",
    "    final_sample = list(random.choices(samples,weights=[2,1])[0].values())\n",
    "\n",
    "    existing_data.loc[len(existing_data)] = final_sample\n",
    "\n",
    "    existing_data.to_csv('..\\data\\sepsis_dataset.csv',index=False)\n",
    "\n",
    "    return {\"Added new test result\":final_sample}"
   ]
  },
  {
   "cell_type": "code",
   "execution_count": 405,
   "metadata": {},
   "outputs": [
    {
     "data": {
      "text/plain": [
       "{'Added new test result': [60006,\n",
       "  'Sarah Douglas',\n",
       "  '2023-07-06',\n",
       "  '14:29',\n",
       "  39.0,\n",
       "  116,\n",
       "  24,\n",
       "  12056,\n",
       "  2.2,\n",
       "  113,\n",
       "  99,\n",
       "  0,\n",
       "  7.4,\n",
       "  0,\n",
       "  0]}"
      ]
     },
     "execution_count": 405,
     "metadata": {},
     "output_type": "execute_result"
    }
   ],
   "source": [
    "add_sample()"
   ]
  },
  {
   "cell_type": "code",
   "execution_count": 406,
   "metadata": {},
   "outputs": [],
   "source": [
    "def get_sepsis_alert():\n",
    "\n",
    "    existing_data  = pd.read_csv(\"..\\data\\sepsis_dataset.csv\")\n",
    "    existing_data[\"Date\"] = pd.to_datetime(existing_data[\"Date\"])\n",
    "    existing_data[\"Date\"] = existing_data[\"Date\"].apply(lambda x: x.date())\n",
    "    todays_data = existing_data[existing_data[\"Date\"]>=datetime.today().date()]\n",
    "\n",
    "    return todays_data"
   ]
  },
  {
   "cell_type": "code",
   "execution_count": 418,
   "metadata": {},
   "outputs": [
    {
     "name": "stderr",
     "output_type": "stream",
     "text": [
      "C:\\Users\\vishnu.d\\AppData\\Local\\Temp\\ipykernel_3208\\4191270080.py:17: SettingWithCopyWarning: \n",
      "A value is trying to be set on a copy of a slice from a DataFrame.\n",
      "Try using .loc[row_indexer,col_indexer] = value instead\n",
      "\n",
      "See the caveats in the documentation: https://pandas.pydata.org/pandas-docs/stable/user_guide/indexing.html#returning-a-view-versus-a-copy\n",
      "  alert.loc[alert.index,\"Alert\"] = prediction\n"
     ]
    },
    {
     "data": {
      "text/plain": [
       "{'Total Tests': 3, 'No of Sepsis Alert': 2, 'Patient Id': [60002, 60004]}"
      ]
     },
     "execution_count": 418,
     "metadata": {},
     "output_type": "execute_result"
    }
   ],
   "source": [
    "import pickle\n",
    "model = pickle.load(open(\"..\\models\\Sepsis_Model.pickle\",\"rb\"))\n",
    "\n",
    "def make_sepsis_prediction(data):\n",
    "    \n",
    "\n",
    "    new_data = data[['Body Temperature', 'Heart Rate',\n",
    "       'Respiratory Rate', 'White Blood Cell Count', 'Lactate Levels',\n",
    "       'Blood Pressure', 'Oxygen Saturation', 'Organ Dysfunction',\n",
    "       'Inflammatory Markers', 'Microbiological Cultures', 'Sepsis']]\n",
    "    \n",
    "    target,features = new_data[\"Sepsis\"],new_data.drop([\"Sepsis\"],axis=1)\n",
    "\n",
    "    prediction = model.predict(features)\n",
    "\n",
    "    alert = data[[\"Patient ID\",\"Name\",\"Date\",\"Time\"]]\n",
    "\n",
    "    alert.loc[alert.index,\"Alert\"] = prediction\n",
    "\n",
    "    final_alert = {\"Total Tests\":len(alert),\"No of Sepsis Alert\":len(alert[alert[\"Alert\"]==1.0]),\"Patient Id\":list(alert[alert[\"Alert\"]==1.0][\"Patient ID\"])}\n",
    "\n",
    "    return final_alert\n",
    "\n",
    "make_sepsis_prediction(d)\n"
   ]
  },
  {
   "cell_type": "code",
   "execution_count": null,
   "metadata": {},
   "outputs": [],
   "source": []
  }
 ],
 "metadata": {
  "kernelspec": {
   "display_name": "LOS",
   "language": "python",
   "name": "python3"
  },
  "language_info": {
   "codemirror_mode": {
    "name": "ipython",
    "version": 3
   },
   "file_extension": ".py",
   "mimetype": "text/x-python",
   "name": "python",
   "nbconvert_exporter": "python",
   "pygments_lexer": "ipython3",
   "version": "3.11.3"
  },
  "orig_nbformat": 4
 },
 "nbformat": 4,
 "nbformat_minor": 2
}
