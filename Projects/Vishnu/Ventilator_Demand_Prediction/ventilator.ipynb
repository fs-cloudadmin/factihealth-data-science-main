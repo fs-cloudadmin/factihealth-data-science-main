{
 "cells": [
  {
   "cell_type": "code",
   "execution_count": 1,
   "metadata": {},
   "outputs": [],
   "source": []
  },
  {
   "cell_type": "code",
   "execution_count": 20,
   "metadata": {},
   "outputs": [
    {
     "name": "stdout",
     "output_type": "stream",
     "text": [
      "Dataset stored as ..\\data\\ventilator_demand.csv\n"
     ]
    }
   ],
   "source": [
    "import random\n",
    "import pandas as pd\n",
    "import matplotlib.pyplot as plt\n",
    "from datetime import datetime, timedelta\n",
    "\n",
    "# Set the start and end date for the dataset (5 years from today)\n",
    "start_date = datetime.now()\n",
    "end_date = start_date + timedelta(days=10 * 365)\n",
    "\n",
    "# Define the hospital, department, and admission count patterns\n",
    "hospitals = ['St. Mary Hospital', 'General Medical Center', 'City Health Center', 'Hope Medical Center']\n",
    "\n",
    "departments = ['ICU', 'Emergency Department', 'Operating Rooms', 'Respiratory Therapy Units', 'NICU']\n",
    "\n",
    "\n",
    "HW = [5,10,15,20,25]\n",
    "\n",
    "HospitalWeight = {i:j for i,j in zip(hospitals,HW)}\n",
    "\n",
    "\n",
    "# Generate the dataset\n",
    "dataset = []\n",
    "current_date = start_date\n",
    "\n",
    "\n",
    "while current_date <= end_date:\n",
    "    for hospital in hospitals:\n",
    "        for department in departments:\n",
    "            day_of_week = current_date.weekday()  # 0 = Monday, 6 = Sunday\n",
    "            day_of_month = current_date.day\n",
    "            \n",
    "            if department == \"ICU\":\n",
    "                \n",
    "                # Apply pattern based on day of the week and day of the month\n",
    "                ventilator_count = (100 + 10 * day_of_week - day_of_month) + HospitalWeight[hospital]\n",
    "                ventilator_count = max(0, ventilator_count)  # Ensure non-negative values\n",
    "                \n",
    "                \n",
    "            if department == \"Emergency Department\":\n",
    "                \n",
    "                # Apply pattern based on day of the week and day of the month\n",
    "                ventilator_count = (80 + 10 * day_of_week - (day_of_month)/2) + HospitalWeight[hospital]\n",
    "                ventilator_count = max(0, ventilator_count)  # Ensure non-negative values\n",
    "                \n",
    "            if department == \"Operating Rooms\":\n",
    "                \n",
    "                # Apply pattern based on day of the week and day of the month\n",
    "                ventilator_count = (60 + 10 * day_of_week - (day_of_month)/3)+ HospitalWeight[hospital]\n",
    "                ventilator_count = max(0, ventilator_count)  # Ensure non-negative values\n",
    "                \n",
    "            if department == \"Respiratory Therapy Units\":\n",
    "                \n",
    "                # Apply pattern based on day of the week and day of the month\n",
    "                ventilator_count = (40 + 10 * day_of_week - (day_of_month)/4) + HospitalWeight[hospital]\n",
    "                ventilator_count = max(0, ventilator_count)  # Ensure non-negative values\n",
    "                \n",
    "            if department == \"NICU\":\n",
    "                \n",
    "                # Apply pattern based on day of the week and day of the month\n",
    "                ventilator_count = (20 + 10 * day_of_week - (day_of_month/5)) + HospitalWeight[hospital]\n",
    "                ventilator_count = max(0, ventilator_count)  # Ensure non-negative values\n",
    "                \n",
    "            \n",
    "            dataset.append({\n",
    "                'Date': current_date,\n",
    "                'Hospital': hospital,\n",
    "                'Department': department,\n",
    "                'VentilatorCount': int(ventilator_count),\n",
    "            })\n",
    "\n",
    "    current_date += timedelta(days=1)\n",
    "\n",
    "# Create pandas DataFrame from the dataset\n",
    "df = pd.DataFrame(dataset)\n",
    "\n",
    "\n",
    "# Save the dataset as CSV\n",
    "filename = r'..\\data\\ventilator_demand.csv'\n",
    "df.to_csv(filename, index=False)\n",
    "print(f\"Dataset stored as {filename}\")\n"
   ]
  },
  {
   "cell_type": "code",
   "execution_count": 1,
   "metadata": {},
   "outputs": [],
   "source": [
    "import pandas as pd\n",
    "\n",
    "data = pd.read_csv(r\"..\\data\\ventilator_demand.csv\")"
   ]
  },
  {
   "cell_type": "code",
   "execution_count": 2,
   "metadata": {},
   "outputs": [
    {
     "data": {
      "text/plain": [
       "Index(['Date', 'Hospital', 'Department', 'VentilatorCount'], dtype='object')"
      ]
     },
     "execution_count": 2,
     "metadata": {},
     "output_type": "execute_result"
    }
   ],
   "source": [
    "data.columns"
   ]
  },
  {
   "cell_type": "code",
   "execution_count": 22,
   "metadata": {},
   "outputs": [],
   "source": [
    "import pandas as pd\n",
    "\n",
    "def create_date_features(dataframe, date_column):\n",
    "    # Convert the date column to datetime type\n",
    "    dataframe[date_column] = pd.to_datetime(dataframe[date_column],dayfirst=True)\n",
    "    \n",
    "    dataframe['day_of_week'] = dataframe[date_column].dt.weekday\n",
    "    dataframe['Day'] = dataframe[date_column].dt.day\n",
    "    \n",
    "    return dataframe\n",
    "\n",
    "data = create_date_features(data,\"Date\")\n"
   ]
  },
  {
   "cell_type": "code",
   "execution_count": 23,
   "metadata": {},
   "outputs": [
    {
     "data": {
      "text/plain": [
       "Index(['Date', 'Hospital', 'Department', 'VentilatorCount', 'day_of_week',\n",
       "       'Day'],\n",
       "      dtype='object')"
      ]
     },
     "execution_count": 23,
     "metadata": {},
     "output_type": "execute_result"
    }
   ],
   "source": [
    "data.columns"
   ]
  },
  {
   "cell_type": "code",
   "execution_count": 24,
   "metadata": {},
   "outputs": [],
   "source": [
    "cat_coumns = [\"Hospital\",\"Department\"]\n",
    "\n",
    "num_column =[\"day_of_week\",\"Day\",\"VentilatorCount\"]\n",
    "\n",
    "dummies = pd.get_dummies(data[cat_coumns],drop_first=True)\n",
    "\n",
    "data_new = pd.concat([dummies,data[num_column]],axis=1)"
   ]
  },
  {
   "cell_type": "code",
   "execution_count": 25,
   "metadata": {},
   "outputs": [
    {
     "data": {
      "text/plain": [
       "Index(['Hospital_General Medical Center', 'Hospital_Hope Medical Center',\n",
       "       'Hospital_St. Mary Hospital', 'Department_ICU', 'Department_NICU',\n",
       "       'Department_Operating Rooms', 'Department_Respiratory Therapy Units',\n",
       "       'day_of_week', 'Day', 'VentilatorCount'],\n",
       "      dtype='object')"
      ]
     },
     "execution_count": 25,
     "metadata": {},
     "output_type": "execute_result"
    }
   ],
   "source": [
    "data_new.columns"
   ]
  },
  {
   "cell_type": "code",
   "execution_count": 62,
   "metadata": {},
   "outputs": [
    {
     "name": "stdout",
     "output_type": "stream",
     "text": [
      "R2 Score is :  0.9999474310396553\n",
      "Mean Squared Error is :  0.05609753258716827\n",
      "Mean Absolute Error is :  0.1693974687445167\n"
     ]
    }
   ],
   "source": [
    "from sklearn.model_selection import train_test_split\n",
    "from xgboost import XGBRegressor\n",
    "import pandas as pd\n",
    "from sklearn.ensemble import RandomForestRegressor\n",
    "\n",
    "# Splitting data into train test split\n",
    "\n",
    "target,features = data_new[\"VentilatorCount\"],data_new.drop(\"VentilatorCount\",axis=1)\n",
    "\n",
    "features = features.astype(\"int\")\n",
    "\n",
    "x_train, x_test, y_train, y_test = train_test_split(features, target)\n",
    "\n",
    "model = XGBRegressor()\n",
    "\n",
    "model.fit(x_train,y_train)\n",
    "\n",
    "### Evaluating the model\n",
    "\n",
    "from sklearn.metrics import mean_absolute_error, r2_score,mean_squared_error\n",
    "\n",
    "predicted = model.predict(x_test)\n",
    "\n",
    "print(\"R2 Score is : \",r2_score(predicted,y_test))\n",
    "\n",
    "print(\"Mean Squared Error is : \",mean_squared_error(predicted,y_test))\n",
    "\n",
    "print(\"Mean Absolute Error is : \",mean_absolute_error(predicted,y_test))\n",
    "\n",
    "model.save_model(r\"..\\models\\ventilator_model.model\")"
   ]
  },
  {
   "cell_type": "code",
   "execution_count": 40,
   "metadata": {},
   "outputs": [
    {
     "data": {
      "text/plain": [
       "96.74022"
      ]
     },
     "execution_count": 40,
     "metadata": {},
     "output_type": "execute_result"
    }
   ],
   "source": [
    "model.predict(x_train.iloc[15:16])[0]"
   ]
  },
  {
   "cell_type": "code",
   "execution_count": 28,
   "metadata": {},
   "outputs": [
    {
     "data": {
      "text/plain": [
       "71820    96\n",
       "Name: VentilatorCount, dtype: int64"
      ]
     },
     "execution_count": 28,
     "metadata": {},
     "output_type": "execute_result"
    }
   ],
   "source": [
    "y_train.iloc[15:16:]\n"
   ]
  },
  {
   "cell_type": "code",
   "execution_count": 56,
   "metadata": {},
   "outputs": [],
   "source": [
    "def get_ventilator_sample():\n",
    "\n",
    "    ventilator_sample = {'Hospital_General Medical Center': [0],\n",
    "    'Hospital_Hope Medical Center': [0],\n",
    "    'Hospital_St. Mary Hospital': [0],\n",
    "    'Department_ICU': [0],\n",
    "    'Department_NICU': [0],\n",
    "    'Department_Operating Rooms': [0],\n",
    "    'Department_Respiratory Therapy Units': [0],\n",
    "    'day_of_week': [0],\n",
    "    'Day': [0]}\n",
    "\n",
    "    return ventilator_sample"
   ]
  },
  {
   "cell_type": "code",
   "execution_count": 57,
   "metadata": {},
   "outputs": [],
   "source": [
    "def prepare_ventilator_sample(current_date,department):\n",
    "    \n",
    "    sample_admission = get_ventilator_sample()\n",
    "    \n",
    "    sample_admission['day_of_week'] = current_date.weekday() \n",
    "    sample_admission['Day'] = current_date.day\n",
    "    if department ==\"Department_Emergency Department\":\n",
    "        \n",
    "        pass\n",
    "        \n",
    "    else:\n",
    "            \n",
    "        sample_admission[department] = [1]\n",
    "\n",
    "        \n",
    "    return pd.DataFrame(sample_admission)\n"
   ]
  },
  {
   "cell_type": "code",
   "execution_count": 58,
   "metadata": {},
   "outputs": [],
   "source": [
    "def get_next_fewdays_ventilator_demand():\n",
    "\n",
    "    ventilator_output ={\n",
    "\n",
    "        \"Next day\":{\n",
    "        \"Department_ICU\":0,\n",
    "        \"Department_NICU\":0,\n",
    "        \"Department_Operating Rooms\":0,\n",
    "        \"Department_Respiratory Therapy Units\":0,\n",
    "                    },\n",
    "        \"Next 2 days\":{\n",
    "        \"Department_ICU\":0,\n",
    "        \"Department_NICU\":0,\n",
    "        \"Department_Operating Rooms\":0,\n",
    "        \"Department_Respiratory Therapy Units\":0,\n",
    "                    },\n",
    "        \"Next 3 days\":{\n",
    "        \"Department_ICU\":0,\n",
    "        \"Department_NICU\":0,\n",
    "        \"Department_Operating Rooms\":0,\n",
    "        \"Department_Respiratory Therapy Units\":0,\n",
    "                    }\n",
    "    }\n",
    "\n",
    "\n",
    "    from datetime import datetime\n",
    "\n",
    "    from datetime import timedelta\n",
    "\n",
    "    today = datetime.today()\n",
    "\n",
    "    tomorrow = today+timedelta(days=1)\n",
    "\n",
    "    day_after_tomorrow = today+timedelta(days=2)\n",
    "\n",
    "    next_to_DFT = today+timedelta(days=3)\n",
    "\n",
    "    departments = ['Department_ICU', 'Department_NICU', 'Department_Operating Rooms', 'Department_Respiratory Therapy Units','Department_Emergency Department']\n",
    "\n",
    "    next_few_days = [tomorrow,day_after_tomorrow,next_to_DFT]\n",
    "\n",
    "\n",
    "    for ind,date in enumerate(next_few_days):\n",
    "\n",
    "        for department in departments:\n",
    "\n",
    "            admission_input = prepare_ventilator_sample(date,department)\n",
    "\n",
    "            ventolator_count = int(model.predict(admission_input)[0])\n",
    "\n",
    "            if department in ventilator_output[list(ventilator_output.keys())[ind]].keys():\n",
    "\n",
    "                ventilator_output[list(ventilator_output.keys())[ind]][department] = ventolator_count\n",
    "\n",
    "            else:\n",
    "\n",
    "                ventilator_output[list(ventilator_output.keys())[ind]]['Department_Emergency Department'] = ventolator_count\n",
    "                    \n",
    "    return ventilator_output\n"
   ]
  },
  {
   "cell_type": "code",
   "execution_count": 59,
   "metadata": {},
   "outputs": [],
   "source": [
    "out = get_next_fewdays_ventilator_demand()"
   ]
  },
  {
   "cell_type": "code",
   "execution_count": 60,
   "metadata": {},
   "outputs": [],
   "source": [
    "def get_total_ventilator(admission_output):\n",
    "    \n",
    "    output = {}\n",
    "    \n",
    "    for day in admission_output.keys():\n",
    "        \n",
    "        total = 0\n",
    "        \n",
    "        for department in admission_output[day].keys():\n",
    "            \n",
    "            total+=admission_output[day][department]\n",
    "            \n",
    "        output[day] = total\n",
    "        \n",
    "    return output"
   ]
  },
  {
   "cell_type": "code",
   "execution_count": 61,
   "metadata": {},
   "outputs": [
    {
     "data": {
      "text/plain": [
       "{'Next day': 395, 'Next 2 days': 444, 'Next 3 days': 491}"
      ]
     },
     "execution_count": 61,
     "metadata": {},
     "output_type": "execute_result"
    }
   ],
   "source": [
    "get_total_ventilator(out) "
   ]
  },
  {
   "cell_type": "code",
   "execution_count": null,
   "metadata": {},
   "outputs": [],
   "source": []
  }
 ],
 "metadata": {
  "kernelspec": {
   "display_name": "LOS",
   "language": "python",
   "name": "python3"
  },
  "language_info": {
   "codemirror_mode": {
    "name": "ipython",
    "version": 3
   },
   "file_extension": ".py",
   "mimetype": "text/x-python",
   "name": "python",
   "nbconvert_exporter": "python",
   "pygments_lexer": "ipython3",
   "version": "3.11.3"
  },
  "orig_nbformat": 4
 },
 "nbformat": 4,
 "nbformat_minor": 2
}
